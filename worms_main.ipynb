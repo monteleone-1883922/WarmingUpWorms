{
  "cells": [
    {
      "cell_type": "markdown",
      "source": [
        "# **SETUP**"
      ],
      "metadata": {
        "id": "JlXSQpAMME6g"
      },
      "id": "JlXSQpAMME6g"
    },
    {
      "cell_type": "code",
      "execution_count": 1,
      "id": "initial_id",
      "metadata": {
        "collapsed": true,
        "id": "initial_id",
        "colab": {
          "base_uri": "https://localhost:8080/"
        },
        "outputId": "d65fec1e-e8d7-4784-b155-cdb947ad45f1"
      },
      "outputs": [
        {
          "output_type": "stream",
          "name": "stdout",
          "text": [
            "Collecting torch-geometric\n",
            "  Downloading torch_geometric-2.5.0-py3-none-any.whl (1.1 MB)\n",
            "\u001b[2K     \u001b[90m━━━━━━━━━━━━━━━━━━━━━━━━━━━━━━━━━━━━━━━━\u001b[0m \u001b[32m1.1/1.1 MB\u001b[0m \u001b[31m10.5 MB/s\u001b[0m eta \u001b[36m0:00:00\u001b[0m\n",
            "\u001b[?25hCollecting lightning\n",
            "  Downloading lightning-2.2.0.post0-py3-none-any.whl (2.1 MB)\n",
            "\u001b[2K     \u001b[90m━━━━━━━━━━━━━━━━━━━━━━━━━━━━━━━━━━━━━━━━\u001b[0m \u001b[32m2.1/2.1 MB\u001b[0m \u001b[31m20.9 MB/s\u001b[0m eta \u001b[36m0:00:00\u001b[0m\n",
            "\u001b[?25hCollecting wandb\n",
            "  Downloading wandb-0.16.3-py3-none-any.whl (2.2 MB)\n",
            "\u001b[2K     \u001b[90m━━━━━━━━━━━━━━━━━━━━━━━━━━━━━━━━━━━━━━━━\u001b[0m \u001b[32m2.2/2.2 MB\u001b[0m \u001b[31m29.6 MB/s\u001b[0m eta \u001b[36m0:00:00\u001b[0m\n",
            "\u001b[?25hCollecting gymnasium\n",
            "  Downloading gymnasium-0.29.1-py3-none-any.whl (953 kB)\n",
            "\u001b[2K     \u001b[90m━━━━━━━━━━━━━━━━━━━━━━━━━━━━━━━━━━━━━━━━\u001b[0m \u001b[32m953.9/953.9 kB\u001b[0m \u001b[31m31.3 MB/s\u001b[0m eta \u001b[36m0:00:00\u001b[0m\n",
            "\u001b[?25hRequirement already satisfied: tqdm in /usr/local/lib/python3.10/dist-packages (from torch-geometric) (4.66.2)\n",
            "Requirement already satisfied: numpy in /usr/local/lib/python3.10/dist-packages (from torch-geometric) (1.25.2)\n",
            "Requirement already satisfied: scipy in /usr/local/lib/python3.10/dist-packages (from torch-geometric) (1.11.4)\n",
            "Requirement already satisfied: fsspec in /usr/local/lib/python3.10/dist-packages (from torch-geometric) (2023.6.0)\n",
            "Requirement already satisfied: jinja2 in /usr/local/lib/python3.10/dist-packages (from torch-geometric) (3.1.3)\n",
            "Requirement already satisfied: aiohttp in /usr/local/lib/python3.10/dist-packages (from torch-geometric) (3.9.3)\n",
            "Requirement already satisfied: requests in /usr/local/lib/python3.10/dist-packages (from torch-geometric) (2.31.0)\n",
            "Requirement already satisfied: pyparsing in /usr/local/lib/python3.10/dist-packages (from torch-geometric) (3.1.1)\n",
            "Requirement already satisfied: scikit-learn in /usr/local/lib/python3.10/dist-packages (from torch-geometric) (1.2.2)\n",
            "Requirement already satisfied: psutil>=5.8.0 in /usr/local/lib/python3.10/dist-packages (from torch-geometric) (5.9.5)\n",
            "Requirement already satisfied: PyYAML<8.0,>=5.4 in /usr/local/lib/python3.10/dist-packages (from lightning) (6.0.1)\n",
            "Collecting lightning-utilities<2.0,>=0.8.0 (from lightning)\n",
            "  Downloading lightning_utilities-0.10.1-py3-none-any.whl (24 kB)\n",
            "Requirement already satisfied: packaging<25.0,>=20.0 in /usr/local/lib/python3.10/dist-packages (from lightning) (23.2)\n",
            "Requirement already satisfied: torch<4.0,>=1.13.0 in /usr/local/lib/python3.10/dist-packages (from lightning) (2.1.0+cu121)\n",
            "Collecting torchmetrics<3.0,>=0.7.0 (from lightning)\n",
            "  Downloading torchmetrics-1.3.1-py3-none-any.whl (840 kB)\n",
            "\u001b[2K     \u001b[90m━━━━━━━━━━━━━━━━━━━━━━━━━━━━━━━━━━━━━━━━\u001b[0m \u001b[32m840.4/840.4 kB\u001b[0m \u001b[31m35.1 MB/s\u001b[0m eta \u001b[36m0:00:00\u001b[0m\n",
            "\u001b[?25hRequirement already satisfied: typing-extensions<6.0,>=4.4.0 in /usr/local/lib/python3.10/dist-packages (from lightning) (4.9.0)\n",
            "Collecting pytorch-lightning (from lightning)\n",
            "  Downloading pytorch_lightning-2.2.0.post0-py3-none-any.whl (800 kB)\n",
            "\u001b[2K     \u001b[90m━━━━━━━━━━━━━━━━━━━━━━━━━━━━━━━━━━━━━━━━\u001b[0m \u001b[32m800.9/800.9 kB\u001b[0m \u001b[31m35.1 MB/s\u001b[0m eta \u001b[36m0:00:00\u001b[0m\n",
            "\u001b[?25hRequirement already satisfied: Click!=8.0.0,>=7.1 in /usr/local/lib/python3.10/dist-packages (from wandb) (8.1.7)\n",
            "Collecting GitPython!=3.1.29,>=1.0.0 (from wandb)\n",
            "  Downloading GitPython-3.1.42-py3-none-any.whl (195 kB)\n",
            "\u001b[2K     \u001b[90m━━━━━━━━━━━━━━━━━━━━━━━━━━━━━━━━━━━━━━━━\u001b[0m \u001b[32m195.4/195.4 kB\u001b[0m \u001b[31m21.7 MB/s\u001b[0m eta \u001b[36m0:00:00\u001b[0m\n",
            "\u001b[?25hCollecting sentry-sdk>=1.0.0 (from wandb)\n",
            "  Downloading sentry_sdk-1.40.5-py2.py3-none-any.whl (258 kB)\n",
            "\u001b[2K     \u001b[90m━━━━━━━━━━━━━━━━━━━━━━━━━━━━━━━━━━━━━━━━\u001b[0m \u001b[32m258.5/258.5 kB\u001b[0m \u001b[31m28.7 MB/s\u001b[0m eta \u001b[36m0:00:00\u001b[0m\n",
            "\u001b[?25hCollecting docker-pycreds>=0.4.0 (from wandb)\n",
            "  Downloading docker_pycreds-0.4.0-py2.py3-none-any.whl (9.0 kB)\n",
            "Collecting setproctitle (from wandb)\n",
            "  Downloading setproctitle-1.3.3-cp310-cp310-manylinux_2_5_x86_64.manylinux1_x86_64.manylinux_2_17_x86_64.manylinux2014_x86_64.whl (30 kB)\n",
            "Requirement already satisfied: setuptools in /usr/local/lib/python3.10/dist-packages (from wandb) (67.7.2)\n",
            "Requirement already satisfied: appdirs>=1.4.3 in /usr/local/lib/python3.10/dist-packages (from wandb) (1.4.4)\n",
            "Requirement already satisfied: protobuf!=4.21.0,<5,>=3.19.0 in /usr/local/lib/python3.10/dist-packages (from wandb) (3.20.3)\n",
            "Requirement already satisfied: cloudpickle>=1.2.0 in /usr/local/lib/python3.10/dist-packages (from gymnasium) (2.2.1)\n",
            "Collecting farama-notifications>=0.0.1 (from gymnasium)\n",
            "  Downloading Farama_Notifications-0.0.4-py3-none-any.whl (2.5 kB)\n",
            "Requirement already satisfied: six>=1.4.0 in /usr/local/lib/python3.10/dist-packages (from docker-pycreds>=0.4.0->wandb) (1.16.0)\n",
            "Requirement already satisfied: aiosignal>=1.1.2 in /usr/local/lib/python3.10/dist-packages (from aiohttp->torch-geometric) (1.3.1)\n",
            "Requirement already satisfied: attrs>=17.3.0 in /usr/local/lib/python3.10/dist-packages (from aiohttp->torch-geometric) (23.2.0)\n",
            "Requirement already satisfied: frozenlist>=1.1.1 in /usr/local/lib/python3.10/dist-packages (from aiohttp->torch-geometric) (1.4.1)\n",
            "Requirement already satisfied: multidict<7.0,>=4.5 in /usr/local/lib/python3.10/dist-packages (from aiohttp->torch-geometric) (6.0.5)\n",
            "Requirement already satisfied: yarl<2.0,>=1.0 in /usr/local/lib/python3.10/dist-packages (from aiohttp->torch-geometric) (1.9.4)\n",
            "Requirement already satisfied: async-timeout<5.0,>=4.0 in /usr/local/lib/python3.10/dist-packages (from aiohttp->torch-geometric) (4.0.3)\n",
            "Collecting gitdb<5,>=4.0.1 (from GitPython!=3.1.29,>=1.0.0->wandb)\n",
            "  Downloading gitdb-4.0.11-py3-none-any.whl (62 kB)\n",
            "\u001b[2K     \u001b[90m━━━━━━━━━━━━━━━━━━━━━━━━━━━━━━━━━━━━━━━━\u001b[0m \u001b[32m62.7/62.7 kB\u001b[0m \u001b[31m7.6 MB/s\u001b[0m eta \u001b[36m0:00:00\u001b[0m\n",
            "\u001b[?25hRequirement already satisfied: charset-normalizer<4,>=2 in /usr/local/lib/python3.10/dist-packages (from requests->torch-geometric) (3.3.2)\n",
            "Requirement already satisfied: idna<4,>=2.5 in /usr/local/lib/python3.10/dist-packages (from requests->torch-geometric) (3.6)\n",
            "Requirement already satisfied: urllib3<3,>=1.21.1 in /usr/local/lib/python3.10/dist-packages (from requests->torch-geometric) (2.0.7)\n",
            "Requirement already satisfied: certifi>=2017.4.17 in /usr/local/lib/python3.10/dist-packages (from requests->torch-geometric) (2024.2.2)\n",
            "Requirement already satisfied: filelock in /usr/local/lib/python3.10/dist-packages (from torch<4.0,>=1.13.0->lightning) (3.13.1)\n",
            "Requirement already satisfied: sympy in /usr/local/lib/python3.10/dist-packages (from torch<4.0,>=1.13.0->lightning) (1.12)\n",
            "Requirement already satisfied: networkx in /usr/local/lib/python3.10/dist-packages (from torch<4.0,>=1.13.0->lightning) (3.2.1)\n",
            "Requirement already satisfied: triton==2.1.0 in /usr/local/lib/python3.10/dist-packages (from torch<4.0,>=1.13.0->lightning) (2.1.0)\n",
            "Requirement already satisfied: MarkupSafe>=2.0 in /usr/local/lib/python3.10/dist-packages (from jinja2->torch-geometric) (2.1.5)\n",
            "Requirement already satisfied: joblib>=1.1.1 in /usr/local/lib/python3.10/dist-packages (from scikit-learn->torch-geometric) (1.3.2)\n",
            "Requirement already satisfied: threadpoolctl>=2.0.0 in /usr/local/lib/python3.10/dist-packages (from scikit-learn->torch-geometric) (3.3.0)\n",
            "Collecting smmap<6,>=3.0.1 (from gitdb<5,>=4.0.1->GitPython!=3.1.29,>=1.0.0->wandb)\n",
            "  Downloading smmap-5.0.1-py3-none-any.whl (24 kB)\n",
            "Requirement already satisfied: mpmath>=0.19 in /usr/local/lib/python3.10/dist-packages (from sympy->torch<4.0,>=1.13.0->lightning) (1.3.0)\n",
            "Installing collected packages: farama-notifications, smmap, setproctitle, sentry-sdk, lightning-utilities, gymnasium, docker-pycreds, gitdb, torchmetrics, torch-geometric, GitPython, wandb, pytorch-lightning, lightning\n",
            "Successfully installed GitPython-3.1.42 docker-pycreds-0.4.0 farama-notifications-0.0.4 gitdb-4.0.11 gymnasium-0.29.1 lightning-2.2.0.post0 lightning-utilities-0.10.1 pytorch-lightning-2.2.0.post0 sentry-sdk-1.40.5 setproctitle-1.3.3 smmap-5.0.1 torch-geometric-2.5.0 torchmetrics-1.3.1 wandb-0.16.3\n",
            "Requirement already satisfied: plotly in /usr/local/lib/python3.10/dist-packages (5.15.0)\n",
            "Collecting plotly\n",
            "  Downloading plotly-5.19.0-py3-none-any.whl (15.7 MB)\n",
            "\u001b[2K     \u001b[90m━━━━━━━━━━━━━━━━━━━━━━━━━━━━━━━━━━━━━━━━\u001b[0m \u001b[32m15.7/15.7 MB\u001b[0m \u001b[31m48.8 MB/s\u001b[0m eta \u001b[36m0:00:00\u001b[0m\n",
            "\u001b[?25hRequirement already satisfied: tenacity>=6.2.0 in /usr/local/lib/python3.10/dist-packages (from plotly) (8.2.3)\n",
            "Requirement already satisfied: packaging in /usr/local/lib/python3.10/dist-packages (from plotly) (23.2)\n",
            "Installing collected packages: plotly\n",
            "  Attempting uninstall: plotly\n",
            "    Found existing installation: plotly 5.15.0\n",
            "    Uninstalling plotly-5.15.0:\n",
            "      Successfully uninstalled plotly-5.15.0\n",
            "Successfully installed plotly-5.19.0\n",
            "Requirement already satisfied: scikit-learn in /usr/local/lib/python3.10/dist-packages (1.2.2)\n",
            "Collecting scikit-learn\n",
            "  Downloading scikit_learn-1.4.1.post1-cp310-cp310-manylinux_2_17_x86_64.manylinux2014_x86_64.whl (12.1 MB)\n",
            "\u001b[2K     \u001b[90m━━━━━━━━━━━━━━━━━━━━━━━━━━━━━━━━━━━━━━━━\u001b[0m \u001b[32m12.1/12.1 MB\u001b[0m \u001b[31m32.8 MB/s\u001b[0m eta \u001b[36m0:00:00\u001b[0m\n",
            "\u001b[?25hRequirement already satisfied: numpy<2.0,>=1.19.5 in /usr/local/lib/python3.10/dist-packages (from scikit-learn) (1.25.2)\n",
            "Requirement already satisfied: scipy>=1.6.0 in /usr/local/lib/python3.10/dist-packages (from scikit-learn) (1.11.4)\n",
            "Requirement already satisfied: joblib>=1.2.0 in /usr/local/lib/python3.10/dist-packages (from scikit-learn) (1.3.2)\n",
            "Requirement already satisfied: threadpoolctl>=2.0.0 in /usr/local/lib/python3.10/dist-packages (from scikit-learn) (3.3.0)\n",
            "Installing collected packages: scikit-learn\n",
            "  Attempting uninstall: scikit-learn\n",
            "    Found existing installation: scikit-learn 1.2.2\n",
            "    Uninstalling scikit-learn-1.2.2:\n",
            "      Successfully uninstalled scikit-learn-1.2.2\n",
            "Successfully installed scikit-learn-1.4.1.post1\n",
            "Collecting kaleido\n",
            "  Downloading kaleido-0.2.1-py2.py3-none-manylinux1_x86_64.whl (79.9 MB)\n",
            "\u001b[2K     \u001b[90m━━━━━━━━━━━━━━━━━━━━━━━━━━━━━━━━━━━━━━━━\u001b[0m \u001b[32m79.9/79.9 MB\u001b[0m \u001b[31m8.9 MB/s\u001b[0m eta \u001b[36m0:00:00\u001b[0m\n",
            "\u001b[?25hInstalling collected packages: kaleido\n",
            "Successfully installed kaleido-0.2.1\n",
            "Requirement already satisfied: notebook>=5.3 in /usr/local/lib/python3.10/dist-packages (6.5.5)\n",
            "Requirement already satisfied: ipywidgets>=7.5 in /usr/local/lib/python3.10/dist-packages (7.7.1)\n",
            "Requirement already satisfied: jinja2 in /usr/local/lib/python3.10/dist-packages (from notebook>=5.3) (3.1.3)\n",
            "Requirement already satisfied: tornado>=6.1 in /usr/local/lib/python3.10/dist-packages (from notebook>=5.3) (6.3.2)\n",
            "Requirement already satisfied: pyzmq<25,>=17 in /usr/local/lib/python3.10/dist-packages (from notebook>=5.3) (23.2.1)\n",
            "Requirement already satisfied: argon2-cffi in /usr/local/lib/python3.10/dist-packages (from notebook>=5.3) (23.1.0)\n",
            "Requirement already satisfied: traitlets>=4.2.1 in /usr/local/lib/python3.10/dist-packages (from notebook>=5.3) (5.7.1)\n",
            "Requirement already satisfied: jupyter-core>=4.6.1 in /usr/local/lib/python3.10/dist-packages (from notebook>=5.3) (5.7.1)\n",
            "Requirement already satisfied: jupyter-client<8,>=5.3.4 in /usr/local/lib/python3.10/dist-packages (from notebook>=5.3) (6.1.12)\n",
            "Requirement already satisfied: ipython-genutils in /usr/local/lib/python3.10/dist-packages (from notebook>=5.3) (0.2.0)\n",
            "Requirement already satisfied: nbformat in /usr/local/lib/python3.10/dist-packages (from notebook>=5.3) (5.9.2)\n",
            "Requirement already satisfied: nbconvert>=5 in /usr/local/lib/python3.10/dist-packages (from notebook>=5.3) (6.5.4)\n",
            "Requirement already satisfied: nest-asyncio>=1.5 in /usr/local/lib/python3.10/dist-packages (from notebook>=5.3) (1.6.0)\n",
            "Requirement already satisfied: ipykernel in /usr/local/lib/python3.10/dist-packages (from notebook>=5.3) (5.5.6)\n",
            "Requirement already satisfied: Send2Trash>=1.8.0 in /usr/local/lib/python3.10/dist-packages (from notebook>=5.3) (1.8.2)\n",
            "Requirement already satisfied: terminado>=0.8.3 in /usr/local/lib/python3.10/dist-packages (from notebook>=5.3) (0.18.0)\n",
            "Requirement already satisfied: prometheus-client in /usr/local/lib/python3.10/dist-packages (from notebook>=5.3) (0.20.0)\n",
            "Requirement already satisfied: nbclassic>=0.4.7 in /usr/local/lib/python3.10/dist-packages (from notebook>=5.3) (1.0.0)\n",
            "Requirement already satisfied: widgetsnbextension~=3.6.0 in /usr/local/lib/python3.10/dist-packages (from ipywidgets>=7.5) (3.6.6)\n",
            "Requirement already satisfied: ipython>=4.0.0 in /usr/local/lib/python3.10/dist-packages (from ipywidgets>=7.5) (7.34.0)\n",
            "Requirement already satisfied: jupyterlab-widgets>=1.0.0 in /usr/local/lib/python3.10/dist-packages (from ipywidgets>=7.5) (3.0.10)\n",
            "Requirement already satisfied: setuptools>=18.5 in /usr/local/lib/python3.10/dist-packages (from ipython>=4.0.0->ipywidgets>=7.5) (67.7.2)\n",
            "Collecting jedi>=0.16 (from ipython>=4.0.0->ipywidgets>=7.5)\n",
            "  Downloading jedi-0.19.1-py2.py3-none-any.whl (1.6 MB)\n",
            "\u001b[2K     \u001b[90m━━━━━━━━━━━━━━━━━━━━━━━━━━━━━━━━━━━━━━━━\u001b[0m \u001b[32m1.6/1.6 MB\u001b[0m \u001b[31m16.5 MB/s\u001b[0m eta \u001b[36m0:00:00\u001b[0m\n",
            "\u001b[?25hRequirement already satisfied: decorator in /usr/local/lib/python3.10/dist-packages (from ipython>=4.0.0->ipywidgets>=7.5) (4.4.2)\n",
            "Requirement already satisfied: pickleshare in /usr/local/lib/python3.10/dist-packages (from ipython>=4.0.0->ipywidgets>=7.5) (0.7.5)\n",
            "Requirement already satisfied: prompt-toolkit!=3.0.0,!=3.0.1,<3.1.0,>=2.0.0 in /usr/local/lib/python3.10/dist-packages (from ipython>=4.0.0->ipywidgets>=7.5) (3.0.43)\n",
            "Requirement already satisfied: pygments in /usr/local/lib/python3.10/dist-packages (from ipython>=4.0.0->ipywidgets>=7.5) (2.16.1)\n",
            "Requirement already satisfied: backcall in /usr/local/lib/python3.10/dist-packages (from ipython>=4.0.0->ipywidgets>=7.5) (0.2.0)\n",
            "Requirement already satisfied: matplotlib-inline in /usr/local/lib/python3.10/dist-packages (from ipython>=4.0.0->ipywidgets>=7.5) (0.1.6)\n",
            "Requirement already satisfied: pexpect>4.3 in /usr/local/lib/python3.10/dist-packages (from ipython>=4.0.0->ipywidgets>=7.5) (4.9.0)\n",
            "Requirement already satisfied: python-dateutil>=2.1 in /usr/local/lib/python3.10/dist-packages (from jupyter-client<8,>=5.3.4->notebook>=5.3) (2.8.2)\n",
            "Requirement already satisfied: platformdirs>=2.5 in /usr/local/lib/python3.10/dist-packages (from jupyter-core>=4.6.1->notebook>=5.3) (4.2.0)\n",
            "Requirement already satisfied: jupyter-server>=1.8 in /usr/local/lib/python3.10/dist-packages (from nbclassic>=0.4.7->notebook>=5.3) (1.24.0)\n",
            "Requirement already satisfied: notebook-shim>=0.2.3 in /usr/local/lib/python3.10/dist-packages (from nbclassic>=0.4.7->notebook>=5.3) (0.2.4)\n",
            "Requirement already satisfied: lxml in /usr/local/lib/python3.10/dist-packages (from nbconvert>=5->notebook>=5.3) (4.9.4)\n",
            "Requirement already satisfied: beautifulsoup4 in /usr/local/lib/python3.10/dist-packages (from nbconvert>=5->notebook>=5.3) (4.12.3)\n",
            "Requirement already satisfied: bleach in /usr/local/lib/python3.10/dist-packages (from nbconvert>=5->notebook>=5.3) (6.1.0)\n",
            "Requirement already satisfied: defusedxml in /usr/local/lib/python3.10/dist-packages (from nbconvert>=5->notebook>=5.3) (0.7.1)\n",
            "Requirement already satisfied: entrypoints>=0.2.2 in /usr/local/lib/python3.10/dist-packages (from nbconvert>=5->notebook>=5.3) (0.4)\n",
            "Requirement already satisfied: jupyterlab-pygments in /usr/local/lib/python3.10/dist-packages (from nbconvert>=5->notebook>=5.3) (0.3.0)\n",
            "Requirement already satisfied: MarkupSafe>=2.0 in /usr/local/lib/python3.10/dist-packages (from nbconvert>=5->notebook>=5.3) (2.1.5)\n",
            "Requirement already satisfied: mistune<2,>=0.8.1 in /usr/local/lib/python3.10/dist-packages (from nbconvert>=5->notebook>=5.3) (0.8.4)\n",
            "Requirement already satisfied: nbclient>=0.5.0 in /usr/local/lib/python3.10/dist-packages (from nbconvert>=5->notebook>=5.3) (0.9.0)\n",
            "Requirement already satisfied: packaging in /usr/local/lib/python3.10/dist-packages (from nbconvert>=5->notebook>=5.3) (23.2)\n",
            "Requirement already satisfied: pandocfilters>=1.4.1 in /usr/local/lib/python3.10/dist-packages (from nbconvert>=5->notebook>=5.3) (1.5.1)\n",
            "Requirement already satisfied: tinycss2 in /usr/local/lib/python3.10/dist-packages (from nbconvert>=5->notebook>=5.3) (1.2.1)\n",
            "Requirement already satisfied: fastjsonschema in /usr/local/lib/python3.10/dist-packages (from nbformat->notebook>=5.3) (2.19.1)\n",
            "Requirement already satisfied: jsonschema>=2.6 in /usr/local/lib/python3.10/dist-packages (from nbformat->notebook>=5.3) (4.19.2)\n",
            "Requirement already satisfied: ptyprocess in /usr/local/lib/python3.10/dist-packages (from terminado>=0.8.3->notebook>=5.3) (0.7.0)\n",
            "Requirement already satisfied: argon2-cffi-bindings in /usr/local/lib/python3.10/dist-packages (from argon2-cffi->notebook>=5.3) (21.2.0)\n",
            "Requirement already satisfied: parso<0.9.0,>=0.8.3 in /usr/local/lib/python3.10/dist-packages (from jedi>=0.16->ipython>=4.0.0->ipywidgets>=7.5) (0.8.3)\n",
            "Requirement already satisfied: attrs>=22.2.0 in /usr/local/lib/python3.10/dist-packages (from jsonschema>=2.6->nbformat->notebook>=5.3) (23.2.0)\n",
            "Requirement already satisfied: jsonschema-specifications>=2023.03.6 in /usr/local/lib/python3.10/dist-packages (from jsonschema>=2.6->nbformat->notebook>=5.3) (2023.12.1)\n",
            "Requirement already satisfied: referencing>=0.28.4 in /usr/local/lib/python3.10/dist-packages (from jsonschema>=2.6->nbformat->notebook>=5.3) (0.33.0)\n",
            "Requirement already satisfied: rpds-py>=0.7.1 in /usr/local/lib/python3.10/dist-packages (from jsonschema>=2.6->nbformat->notebook>=5.3) (0.18.0)\n",
            "Requirement already satisfied: anyio<4,>=3.1.0 in /usr/local/lib/python3.10/dist-packages (from jupyter-server>=1.8->nbclassic>=0.4.7->notebook>=5.3) (3.7.1)\n",
            "Requirement already satisfied: websocket-client in /usr/local/lib/python3.10/dist-packages (from jupyter-server>=1.8->nbclassic>=0.4.7->notebook>=5.3) (1.7.0)\n",
            "Requirement already satisfied: wcwidth in /usr/local/lib/python3.10/dist-packages (from prompt-toolkit!=3.0.0,!=3.0.1,<3.1.0,>=2.0.0->ipython>=4.0.0->ipywidgets>=7.5) (0.2.13)\n",
            "Requirement already satisfied: six>=1.5 in /usr/local/lib/python3.10/dist-packages (from python-dateutil>=2.1->jupyter-client<8,>=5.3.4->notebook>=5.3) (1.16.0)\n",
            "Requirement already satisfied: cffi>=1.0.1 in /usr/local/lib/python3.10/dist-packages (from argon2-cffi-bindings->argon2-cffi->notebook>=5.3) (1.16.0)\n",
            "Requirement already satisfied: soupsieve>1.2 in /usr/local/lib/python3.10/dist-packages (from beautifulsoup4->nbconvert>=5->notebook>=5.3) (2.5)\n",
            "Requirement already satisfied: webencodings in /usr/local/lib/python3.10/dist-packages (from bleach->nbconvert>=5->notebook>=5.3) (0.5.1)\n",
            "Requirement already satisfied: idna>=2.8 in /usr/local/lib/python3.10/dist-packages (from anyio<4,>=3.1.0->jupyter-server>=1.8->nbclassic>=0.4.7->notebook>=5.3) (3.6)\n",
            "Requirement already satisfied: sniffio>=1.1 in /usr/local/lib/python3.10/dist-packages (from anyio<4,>=3.1.0->jupyter-server>=1.8->nbclassic>=0.4.7->notebook>=5.3) (1.3.0)\n",
            "Requirement already satisfied: exceptiongroup in /usr/local/lib/python3.10/dist-packages (from anyio<4,>=3.1.0->jupyter-server>=1.8->nbclassic>=0.4.7->notebook>=5.3) (1.2.0)\n",
            "Requirement already satisfied: pycparser in /usr/local/lib/python3.10/dist-packages (from cffi>=1.0.1->argon2-cffi-bindings->argon2-cffi->notebook>=5.3) (2.21)\n",
            "Installing collected packages: jedi\n",
            "Successfully installed jedi-0.19.1\n",
            "mkdir: cannot create directory ‘Data’: File exists\n"
          ]
        }
      ],
      "source": [
        "\n",
        "!pip install torch-geometric lightning wandb gymnasium\n",
        "!pip install -U plotly\n",
        "!pip install -U scikit-learn\n",
        "!pip install -U kaleido\n",
        "!pip install \"notebook>=5.3\" \"ipywidgets>=7.5\"\n",
        "!mkdir Data\n",
        "!mkdir Plots"
      ]
    },
    {
      "cell_type": "code",
      "source": [
        "from torch.utils.data import Dataset, DataLoader\n",
        "from torch_geometric.data import Data\n",
        "import lightning as L\n",
        "import torch\n",
        "import torch.nn as nn\n",
        "import wandb as wndb\n",
        "from torch_geometric.nn import GATConv\n",
        "from sklearn.metrics import r2_score, mean_absolute_error, root_mean_squared_error\n",
        "import numpy as np\n",
        "from sklearn.model_selection import train_test_split\n",
        "from lightning.pytorch.callbacks import ModelCheckpoint\n",
        "from lightning.pytorch.callbacks.early_stopping import EarlyStopping\n",
        "import gymnasium as gym\n",
        "from gymnasium.envs.registration import register\n",
        "import pdb\n",
        "import plotly.graph_objects as go\n",
        "import plotly.express as px\n",
        "from plotly.subplots import make_subplots"
      ],
      "metadata": {
        "id": "TBf6OzRISHY3"
      },
      "id": "TBf6OzRISHY3",
      "execution_count": 2,
      "outputs": []
    },
    {
      "cell_type": "markdown",
      "source": [
        "# **MODEL AND RELATED STUFF**"
      ],
      "metadata": {
        "collapsed": false,
        "id": "4bf1f40cd3ec9c0"
      },
      "id": "4bf1f40cd3ec9c0"
    },
    {
      "cell_type": "code",
      "execution_count": 3,
      "outputs": [],
      "source": [
        "class GreedyWorm(nn.Module):\n",
        "\n",
        "    def __init__(self):\n",
        "        super(GreedyWorm, self).__init__()\n",
        "\n",
        "    def forward(self, data):\n",
        "        graphs, positions = data\n",
        "        return [graphs[i].x[positions[i]] for i in range(len(positions))]\n"
      ],
      "metadata": {
        "id": "2a703591e88d0fae"
      },
      "id": "2a703591e88d0fae"
    },
    {
      "cell_type": "code",
      "source": [
        "\n",
        "class WormUpExamplesDataset(Dataset):\n",
        "\n",
        "    def __init__(self, graphs: list[Data], actions: list[int], rewards: list[int]):\n",
        "        self.data = list(zip(graphs, actions, rewards))\n",
        "\n",
        "    def __getitem__(self, idx: int):\n",
        "        return self.data[idx]\n",
        "\n",
        "    def __len__(self):\n",
        "        return len(self.data)\n",
        "\n",
        "    def collate(self, data: list):\n",
        "        graphs = []\n",
        "        actions = []\n",
        "        rewards = []\n",
        "        for el in data:\n",
        "            graphs.append(el[0])\n",
        "            actions.append(el[1])\n",
        "            rewards.append(el[2])\n",
        "        return graphs, actions, torch.tensor(rewards, dtype=torch.float)\n",
        "\n",
        "    def get_dataloader(self, batch_size: int, shuffle: bool = False):\n",
        "        return DataLoader(self, batch_size=batch_size, shuffle=shuffle, collate_fn=self.collate)\n",
        "\n",
        "\n"
      ],
      "metadata": {
        "id": "RGjiW4gISNyY"
      },
      "id": "RGjiW4gISNyY",
      "execution_count": 4,
      "outputs": []
    },
    {
      "cell_type": "code",
      "execution_count": 5,
      "outputs": [],
      "source": [
        "class GraphNN(nn.Module):\n",
        "\n",
        "    def __init__(self, in_size, out_size, h_size, deep, activation, device=\"cpu\"):\n",
        "        super(GraphNN, self).__init__()\n",
        "        self.activation = activation\n",
        "        if deep == 1:\n",
        "            self.layers = [GATConv(in_size, out_size)]  #.to(device)]\n",
        "        else:\n",
        "            self.layers = [GATConv(in_size, h_size)]  #.to(device)]\n",
        "            for _ in range(deep - 2):\n",
        "                self.layers.append(GATConv(h_size, h_size))  #.to(device))\n",
        "            self.layers.append(GATConv(h_size, out_size))  #.to(device))\n",
        "\n",
        "    def forward(self, data):\n",
        "        edge_index = data[1]\n",
        "        x = data[0]\n",
        "        for layer in self.layers[:-1]:\n",
        "            x = self.activation(layer(x, edge_index))\n",
        "        #breakpoint()\n",
        "        return self.layers[-1](x, edge_index)\n",
        "\n"
      ],
      "metadata": {
        "id": "a7077f94db9f1513"
      },
      "id": "a7077f94db9f1513"
    },
    {
      "cell_type": "code",
      "execution_count": 6,
      "outputs": [],
      "source": [
        "class LinearNN(nn.Module):\n",
        "    def __init__(self, in_size, out_size, h_size, deep, activation):\n",
        "        super(LinearNN, self).__init__()\n",
        "        if deep == 1:\n",
        "            layers = [nn.Linear(in_size, out_size), activation]\n",
        "        else:\n",
        "            layers = [nn.Linear(in_size, h_size), activation]\n",
        "            for _ in range(deep - 2):\n",
        "                layers.append(nn.Linear(h_size, h_size))\n",
        "                layers.append(activation)\n",
        "            layers.append(nn.Linear(h_size, out_size))\n",
        "        self.linear = nn.Sequential(*layers)\n",
        "\n",
        "    def forward(self, data):\n",
        "        return self.linear(data)"
      ],
      "metadata": {
        "id": "2e04dccdc0f056e0"
      },
      "id": "2e04dccdc0f056e0"
    },
    {
      "cell_type": "code",
      "execution_count": 17,
      "outputs": [],
      "source": [
        "\n",
        "class IntelligentWorm(L.LightningModule):\n",
        "\n",
        "    def __init__(self, linear: nn.Module, gnn: nn.Module, lr: float = 1e-3):\n",
        "        super(IntelligentWorm, self).__init__()\n",
        "        self.encoder = gnn\n",
        "        self.decoder = linear\n",
        "        self.loss = nn.MSELoss()\n",
        "        self.validation_predictions = []\n",
        "        self.validation_targets = []\n",
        "        self.validation_loss = []\n",
        "        self.train_loss = []\n",
        "        self.best_val_loss = 100000000\n",
        "        self.best_mae = 100000000\n",
        "        self.best_rmse = 1000000000\n",
        "        self.best_r2 = -10000000\n",
        "        self.best_model = 0\n",
        "        self.lr = lr\n",
        "\n",
        "    def update_best_stats(self, val_loss, mae, rmse, r2):\n",
        "        self.best_val_loss = val_loss\n",
        "        self.best_mae = mae\n",
        "        self.best_rmse = rmse\n",
        "        self.best_r2 = r2\n",
        "\n",
        "    def forward(self, data):\n",
        "        actions = data[1]\n",
        "        graphs = data[0]\n",
        "        embeddings = []\n",
        "        for i in range(len(graphs)):\n",
        "            g = graphs[i]\n",
        "            x = self.encoder((g.x, g.edge_index))\n",
        "            embeddings.append(x[actions[i]])\n",
        "        embeddings = torch.stack(embeddings)\n",
        "        pred = self.decoder(embeddings)\n",
        "        return pred.squeeze()\n",
        "\n",
        "    def training_step(self, batch, batch_idx):\n",
        "        graphs, actions, rewards = batch\n",
        "        predictions = self.forward((graphs, actions))\n",
        "        train_loss = self.loss(predictions, rewards)\n",
        "        self.train_loss.append(train_loss)\n",
        "\n",
        "        return train_loss\n",
        "\n",
        "    def validation_step(self, batch, batch_idx):\n",
        "        graphs, actions, rewards = batch\n",
        "        #breakpoint()\n",
        "        if rewards == []:\n",
        "          print(\"ERROR!!!!!!\")\n",
        "        self.validation_targets.append(rewards)\n",
        "        predictions = self.forward((graphs, actions))\n",
        "        validation_loss = self.loss(predictions, rewards)\n",
        "        self.validation_predictions.append(predictions)\n",
        "        self.validation_loss.append(validation_loss)\n",
        "\n",
        "    def configure_optimizers(self):\n",
        "        optimizer = torch.optim.Adam(self.parameters(), lr=self.lr)\n",
        "        return optimizer\n",
        "\n"
      ],
      "metadata": {
        "id": "19fe1a895b6ecda6"
      },
      "id": "19fe1a895b6ecda6"
    },
    {
      "cell_type": "code",
      "execution_count": 8,
      "outputs": [],
      "source": [
        "class WormCallback(L.Callback):\n",
        "\n",
        "    def on_train_epoch_end(self, trainer, pl_module):\n",
        "\n",
        "        epoch_mean = float(torch.stack(pl_module.train_loss).mean())\n",
        "        print(\"training_epoch_mean loss = \", epoch_mean)\n",
        "        # free up the memory\n",
        "        pl_module.train_loss.clear()\n",
        "        try:\n",
        "            wndb.log({\"train_loss\": epoch_mean})\n",
        "        except:\n",
        "            pass\n",
        "\n",
        "    def on_validation_epoch_end(self, trainer, pl_module: IntelligentWorm):\n",
        "        #breakpoint()\n",
        "        predictions = torch.cat(pl_module.validation_predictions, dim=0).squeeze()\n",
        "        targets = torch.cat(pl_module.validation_targets, dim=0).squeeze()\n",
        "        #\n",
        "        r2 = r2_score(predictions, targets)\n",
        "        mae = mean_absolute_error(predictions, targets)\n",
        "        rmse = root_mean_squared_error(predictions, targets)\n",
        "        mean_loss = float(torch.stack(pl_module.validation_loss).mean())\n",
        "\n",
        "        pl_module.validation_loss.clear()\n",
        "        pl_module.validation_predictions.clear()\n",
        "        pl_module.validation_targets.clear()\n",
        "\n",
        "        print(\"val_loss = \", mean_loss)\n",
        "        print(\"mean_absolute_error = \", mae)\n",
        "        print(\"root_mean_squared_error = \", rmse)\n",
        "        print(\"r2 = \", r2)\n",
        "        count = 0\n",
        "        count += 1 if mean_loss < pl_module.best_val_loss else 0\n",
        "        count += 1 if mae < pl_module.best_mae else 0\n",
        "        count += 1 if rmse < pl_module.best_rmse else 0\n",
        "        count += 1 if r2 > pl_module.best_r2 else 0\n",
        "        if count >= 3 or count == 2 and mean_loss < pl_module.best_val_loss:\n",
        "            pl_module.update_best_stats(mean_loss, mae, rmse, r2)\n",
        "            pl_module.best_model -= 1\n",
        "            pl_module.log(\"best_model\", pl_module.best_model)\n",
        "            gnn_state_dict = pl_module.encoder.state_dict()\n",
        "            linear_state_dict = pl_module.decoder.state_dict()\n",
        "\n",
        "            # Salva gli state dict su file\n",
        "            torch.save(gnn_state_dict, \"Model/gnn_checkpoint.pth\")\n",
        "            torch.save(linear_state_dict, \"Model/linear_checkpoint.pth\")\n",
        "        else:\n",
        "            pl_module.log(\"best_model\", pl_module.best_model + 1)\n",
        "\n",
        "        wndb.log({\"val_loss\": mean_loss, \"mean_absolute_error\": mae, \"root_mean_squared_error\": rmse, \"r2\": r2})\n",
        "\n",
        "\n"
      ],
      "metadata": {
        "id": "dcd567e72bf3219b"
      },
      "id": "dcd567e72bf3219b"
    },
    {
      "cell_type": "markdown",
      "source": [
        "# **AGENT**"
      ],
      "metadata": {
        "id": "zeEN5X3hOH3D"
      },
      "id": "zeEN5X3hOH3D"
    },
    {
      "cell_type": "code",
      "source": [
        "MODEL_VERSION = \"model_V1_\"\n",
        "USE_SINGLE_WORM = False\n",
        "USE_WORMHOLES = False\n",
        "\n",
        "WORMHOLES = \"wormholes_enabled_\" if USE_WORMHOLES else \"wormholes_disabled_\"\n",
        "WORMS = \"single_worm_\" if USE_SINGLE_WORM else \"multi_worms_\"\n",
        "\n",
        "\n",
        "\n",
        "class WormsMasterAgent:\n",
        "\n",
        "    def __init__(\n",
        "            self,\n",
        "            linear_part: nn.Module,\n",
        "            gnn_part: nn.Module,\n",
        "            initial_epsilon: float,\n",
        "            epsilon_decay: float,\n",
        "            final_epsilon: float,\n",
        "            learning_rate: float = 1,\n",
        "            discount_factor: float = 0.95,\n",
        "            decay_after: int = 1,\n",
        "            #trainer params\n",
        "            batch_size: int = 8,\n",
        "            episodes_for_batch: int = 20,\n",
        "            trainer_deterministic: bool = True,\n",
        "            trainer_max_epochs: int = 20,\n",
        "            trainer_accelerator: str = \"cpu\"\n",
        "\n",
        "    ):\n",
        "        self.batch_size = batch_size\n",
        "        self.episodes_for_batch = episodes_for_batch\n",
        "        self.episode = 0\n",
        "        self.linear = linear_part\n",
        "        self.gnn = gnn_part\n",
        "        self.learning_model = IntelligentWorm(linear_part, gnn_part)\n",
        "        self.model = GreedyWorm()\n",
        "        self.lr = learning_rate\n",
        "        self.discount_factor = discount_factor\n",
        "        self.epsilon = initial_epsilon\n",
        "        self.epsilon_decay = epsilon_decay\n",
        "        self.final_epsilon = final_epsilon\n",
        "        self.decay_after = decay_after\n",
        "        self.checkpoint_callback = ModelCheckpoint(dirpath=\"Model/\", filename=\"worms_model\", save_top_k=1,\n",
        "                                                   mode='min', monitor='best_model')\n",
        "        self.worm_callback = WormCallback()\n",
        "        self.early_stopping_callback = EarlyStopping(monitor='best_model', mode='min', patience=3)\n",
        "        self.trainer = L.Trainer(deterministic=trainer_deterministic,\n",
        "                                 max_epochs=trainer_max_epochs, accelerator=trainer_accelerator,\n",
        "                                 callbacks=[self.checkpoint_callback, self.worm_callback, self.early_stopping_callback])\n",
        "        self.actual_rewards = np.array([])\n",
        "        self.actual_observations = []\n",
        "        self.actual_actions = []\n",
        "        self.model_training_data = {\n",
        "            \"actions\": [],\n",
        "            \"observations\": [],\n",
        "            \"rewards\": []\n",
        "        }\n",
        "\n",
        "    def get_action(self, observation, available_actions: list[int]) -> int:\n",
        "        graph = observation[\"field\"]\n",
        "        worms = observation[\"worms\"]\n",
        "\n",
        "        self.actual_rewards = np.append(self.actual_rewards, 0)\n",
        "        if len(available_actions) == 1:\n",
        "          return available_actions[0]\n",
        "        # with probability epsilon return a random action to explore the environment\n",
        "        if np.random.random() < self.epsilon:\n",
        "            i = np.random.randint(0, high=len(available_actions))\n",
        "            return available_actions[i]\n",
        "\n",
        "        # with probability (1 - epsilon) act greedily (exploit)\n",
        "        else:\n",
        "            self.model.eval()\n",
        "            with torch.no_grad():\n",
        "                idx = np.argmax(self.model(([graph] * len(available_actions), available_actions)))\n",
        "                return available_actions[idx]\n",
        "\n",
        "    def update(self, observation, action: int, reward: int, terminated: bool):\n",
        "        #breakpoint()\n",
        "        graph = observation[\"field\"]\n",
        "        worms = observation[\"worms\"]\n",
        "        self.actual_observations.append(graph)\n",
        "        self.actual_actions.append(action)\n",
        "        self.actual_rewards += self.lr * reward\n",
        "        episode_reward = 0.0\n",
        "        len_worms_placed = 0.0\n",
        "        if terminated:\n",
        "            episode_reward = float(self.actual_rewards[0])\n",
        "            len_worms_placed = len(self.actual_actions)\n",
        "            print(f\"total reward = {episode_reward}, actions list = {self.actual_actions}\")\n",
        "            self.episode += 1\n",
        "            self.model_training_data[\"actions\"] += self.actual_actions.copy()\n",
        "            self.actual_actions = []\n",
        "            self.model_training_data[\"observations\"] += self.actual_observations.copy()\n",
        "            self.actual_observations = []\n",
        "            self.model_training_data[\"rewards\"] += self.actual_rewards.tolist()\n",
        "            self.actual_rewards = np.array([])\n",
        "            if self.episode % self.decay_after == 0:\n",
        "                self.decay_epsilon()\n",
        "            print(f\"starting episode {self.episode}, epsilon = {self.epsilon}\")\n",
        "            if self.episode % self.episodes_for_batch == 0:\n",
        "                self.train_model()\n",
        "                self.model = self.learning_model\n",
        "        return episode_reward, len_worms_placed\n",
        "\n",
        "    def decay_epsilon(self):\n",
        "        self.epsilon = max(self.final_epsilon, self.epsilon - self.epsilon_decay)\n",
        "\n",
        "    def prepare_data(self):\n",
        "        #breakpoint()\n",
        "        print(\"preparing data to train\")\n",
        "        x = list(zip(self.model_training_data[\"observations\"], self.model_training_data[\"actions\"]))\n",
        "        y = self.model_training_data[\"rewards\"]\n",
        "        x_train, x_val, train_rewards, val_rewards = train_test_split(x, y, test_size=0.2)\n",
        "        del x, y\n",
        "        train_graphs = []\n",
        "        train_actions = []\n",
        "        for el in x_train:\n",
        "            train_graphs.append(el[0])\n",
        "            train_actions.append(el[1])\n",
        "        val_graphs = []\n",
        "        val_actions = []\n",
        "        for el in x_val:\n",
        "            val_graphs.append(el[0])\n",
        "            val_actions.append(el[1])\n",
        "        train_dataset = WormUpExamplesDataset(train_graphs, train_actions, train_rewards)\n",
        "        val_dataset = WormUpExamplesDataset(val_graphs, val_actions, val_rewards)\n",
        "        train_dataloader = train_dataset.get_dataloader(self.batch_size, shuffle=True)\n",
        "        val_dataloader = val_dataset.get_dataloader(self.batch_size, shuffle=False)\n",
        "        return train_dataloader, val_dataloader\n",
        "\n",
        "    def train_model(self):\n",
        "        print(\"begin training\")\n",
        "        train_dataloader, val_dataloader = self.prepare_data()\n",
        "        wndb.init(\n",
        "            # set the wandb project where this run will be logged\n",
        "            project=\"WormsWarmingUp\",\n",
        "            name= MODEL_VERSION + WORMHOLES + WORMS +  \"training_ep_\" + str(self.episode),\n",
        "            # track hyperparameters and run metadata\n",
        "            config={\n",
        "                \"learning_rate\": self.learning_model.lr,\n",
        "                \"architecture\": str(self.learning_model),\n",
        "                \"batch\": self.episode // self.episodes_for_batch\n",
        "            }\n",
        "        )\n",
        "        self.trainer.fit(self.learning_model, train_dataloader, val_dataloader)\n",
        "        wndb.finish()\n",
        "        gnn_state_dict = torch.load(\"Model/gnn_checkpoint.pth\")\n",
        "        linear_state_dict = torch.load(\"Model/linear_checkpoint.pth\")\n",
        "        self.linear.load_state_dict(linear_state_dict)\n",
        "        self.gnn.load_state_dict(gnn_state_dict)\n",
        "        self.learning_model = IntelligentWorm.load_from_checkpoint(checkpoint_path=\"Model/worms_model.ckpt\", linear=self.linear, gnn=self.gnn)\n",
        "        print(\"finished training\")\n"
      ],
      "metadata": {
        "id": "_fvC294wOPdn"
      },
      "id": "_fvC294wOPdn",
      "execution_count": 18,
      "outputs": []
    },
    {
      "cell_type": "markdown",
      "source": [
        "# **INITIALIZE MODEL, AGENT AND ENVIRONMENT**"
      ],
      "metadata": {
        "collapsed": false,
        "id": "3f6e6bda5945ae4"
      },
      "id": "3f6e6bda5945ae4"
    },
    {
      "cell_type": "code",
      "execution_count": 25,
      "outputs": [],
      "source": [
        "\n",
        "# device = \"gpu\" if\n",
        "gnn_part = GraphNN(1,64,0,1,nn.ReLU())\n",
        "linear_part = LinearNN(64,1,128,2, nn.ReLU())\n",
        "\n",
        "\n"
      ],
      "metadata": {
        "id": "c6922d2fab98a0dd"
      },
      "id": "c6922d2fab98a0dd"
    },
    {
      "cell_type": "code",
      "execution_count": 26,
      "outputs": [
        {
          "output_type": "stream",
          "name": "stderr",
          "text": [
            "INFO: GPU available: False, used: False\n",
            "INFO:lightning.pytorch.utilities.rank_zero:GPU available: False, used: False\n",
            "INFO: TPU available: False, using: 0 TPU cores\n",
            "INFO:lightning.pytorch.utilities.rank_zero:TPU available: False, using: 0 TPU cores\n",
            "INFO: IPU available: False, using: 0 IPUs\n",
            "INFO:lightning.pytorch.utilities.rank_zero:IPU available: False, using: 0 IPUs\n",
            "INFO: HPU available: False, using: 0 HPUs\n",
            "INFO:lightning.pytorch.utilities.rank_zero:HPU available: False, using: 0 HPUs\n"
          ]
        }
      ],
      "source": [
        "\n",
        "agent = WormsMasterAgent(linear_part, gnn_part,0.95,0.005,0.1)\n"
      ],
      "metadata": {
        "colab": {
          "base_uri": "https://localhost:8080/"
        },
        "id": "f26f8e0665e69cf4",
        "outputId": "76965e5c-ebad-4f75-dd1c-1969bf658cba"
      },
      "id": "f26f8e0665e69cf4"
    },
    {
      "cell_type": "code",
      "execution_count": 27,
      "outputs": [
        {
          "output_type": "stream",
          "name": "stderr",
          "text": [
            "/usr/local/lib/python3.10/dist-packages/gymnasium/envs/registration.py:694: UserWarning:\n",
            "\n",
            "\u001b[33mWARN: Overriding environment worms_env already in registry.\u001b[0m\n",
            "\n"
          ]
        }
      ],
      "source": [
        "TABLE=\"00-example.txt\"\n",
        "\n",
        "register(\n",
        "    id=\"worms_env\",\n",
        "    entry_point=\"worms_env:WormsEnv\",\n",
        "    max_episode_steps=300,\n",
        ")\n",
        "environment = gym.make('worms_env', env_file=\"Data/\" + TABLE, render_mode=\"human\", use_single_worm=USE_SINGLE_WORM, enable_wormholes=USE_WORMHOLES)\n",
        "\n"
      ],
      "metadata": {
        "id": "3bda1e5e577c3a3",
        "colab": {
          "base_uri": "https://localhost:8080/"
        },
        "outputId": "a0c8fd87-5763-4c81-c2e6-4ec150cdd7c5"
      },
      "id": "3bda1e5e577c3a3"
    },
    {
      "cell_type": "code",
      "source": [
        "wndb.login()"
      ],
      "metadata": {
        "colab": {
          "base_uri": "https://localhost:8080/",
          "height": 121
        },
        "id": "vYA3eKzEyBaD",
        "outputId": "41fedaa7-a50f-499a-de9c-c87f5ed42954"
      },
      "id": "vYA3eKzEyBaD",
      "execution_count": 13,
      "outputs": [
        {
          "output_type": "display_data",
          "data": {
            "text/plain": [
              "<IPython.core.display.Javascript object>"
            ],
            "application/javascript": [
              "\n",
              "        window._wandbApiKey = new Promise((resolve, reject) => {\n",
              "            function loadScript(url) {\n",
              "            return new Promise(function(resolve, reject) {\n",
              "                let newScript = document.createElement(\"script\");\n",
              "                newScript.onerror = reject;\n",
              "                newScript.onload = resolve;\n",
              "                document.body.appendChild(newScript);\n",
              "                newScript.src = url;\n",
              "            });\n",
              "            }\n",
              "            loadScript(\"https://cdn.jsdelivr.net/npm/postmate/build/postmate.min.js\").then(() => {\n",
              "            const iframe = document.createElement('iframe')\n",
              "            iframe.style.cssText = \"width:0;height:0;border:none\"\n",
              "            document.body.appendChild(iframe)\n",
              "            const handshake = new Postmate({\n",
              "                container: iframe,\n",
              "                url: 'https://wandb.ai/authorize'\n",
              "            });\n",
              "            const timeout = setTimeout(() => reject(\"Couldn't auto authenticate\"), 5000)\n",
              "            handshake.then(function(child) {\n",
              "                child.on('authorize', data => {\n",
              "                    clearTimeout(timeout)\n",
              "                    resolve(data)\n",
              "                });\n",
              "            });\n",
              "            })\n",
              "        });\n",
              "    "
            ]
          },
          "metadata": {}
        },
        {
          "output_type": "stream",
          "name": "stderr",
          "text": [
            "\u001b[34m\u001b[1mwandb\u001b[0m: Logging into wandb.ai. (Learn how to deploy a W&B server locally: https://wandb.me/wandb-server)\n",
            "\u001b[34m\u001b[1mwandb\u001b[0m: You can find your API key in your browser here: https://wandb.ai/authorize\n",
            "wandb: Paste an API key from your profile and hit enter, or press ctrl+c to quit:"
          ]
        },
        {
          "name": "stdout",
          "output_type": "stream",
          "text": [
            " ··········\n"
          ]
        },
        {
          "output_type": "stream",
          "name": "stderr",
          "text": [
            "\u001b[34m\u001b[1mwandb\u001b[0m: Appending key for api.wandb.ai to your netrc file: /root/.netrc\n"
          ]
        },
        {
          "output_type": "execute_result",
          "data": {
            "text/plain": [
              "True"
            ]
          },
          "metadata": {},
          "execution_count": 13
        }
      ]
    },
    {
      "cell_type": "code",
      "source": [
        "!rm -r Model\n",
        "!mkdir Model"
      ],
      "metadata": {
        "id": "N83styNbky2n"
      },
      "id": "N83styNbky2n",
      "execution_count": 28,
      "outputs": []
    },
    {
      "cell_type": "code",
      "source": [
        "def compute_mean_rewards_to_print(rewards):\n",
        "  #for x in rewards:\n",
        "    # if x < 0:\n",
        "    #   return 0\n",
        "  return sum(rewards) / len(rewards)\n"
      ],
      "metadata": {
        "id": "UGlL-ZciO_27"
      },
      "id": "UGlL-ZciO_27",
      "execution_count": 15,
      "outputs": []
    },
    {
      "cell_type": "markdown",
      "source": [
        "# **TRAINING**"
      ],
      "metadata": {
        "collapsed": false,
        "id": "dbda59ebd2b5a824"
      },
      "id": "dbda59ebd2b5a824"
    },
    {
      "cell_type": "code",
      "execution_count": 29,
      "outputs": [
        {
          "output_type": "stream",
          "name": "stderr",
          "text": [
            "/usr/local/lib/python3.10/dist-packages/gymnasium/utils/passive_env_checker.py:131: UserWarning:\n",
            "\n",
            "\u001b[33mWARN: The obs returned by the `reset()` method was expecting a numpy array, actual type: <class 'gymnasium.spaces.box.Box'>\u001b[0m\n",
            "\n",
            "/usr/local/lib/python3.10/dist-packages/gymnasium/spaces/box.py:240: UserWarning:\n",
            "\n",
            "\u001b[33mWARN: Casting input x to numpy array.\u001b[0m\n",
            "\n",
            "/usr/local/lib/python3.10/dist-packages/gymnasium/utils/passive_env_checker.py:159: UserWarning:\n",
            "\n",
            "\u001b[33mWARN: The obs returned by the `reset()` method is not within the observation space.\u001b[0m\n",
            "\n"
          ]
        },
        {
          "output_type": "stream",
          "name": "stdout",
          "text": [
            "starting episode 0, epsilon = 0.95\n"
          ]
        },
        {
          "output_type": "stream",
          "name": "stderr",
          "text": [
            "/usr/local/lib/python3.10/dist-packages/gymnasium/utils/passive_env_checker.py:131: UserWarning:\n",
            "\n",
            "\u001b[33mWARN: The obs returned by the `step()` method was expecting a numpy array, actual type: <class 'gymnasium.spaces.box.Box'>\u001b[0m\n",
            "\n",
            "/usr/local/lib/python3.10/dist-packages/gymnasium/utils/passive_env_checker.py:159: UserWarning:\n",
            "\n",
            "\u001b[33mWARN: The obs returned by the `step()` method is not within the observation space.\u001b[0m\n",
            "\n"
          ]
        },
        {
          "output_type": "stream",
          "name": "stdout",
          "text": [
            "total reward = 116.0, actions list = [2, 3, 4, 5, 6, 7, 47, 57, 58, 59, 49, 48, 38, 39, 29, 28, 27, 37, 19, 9, 8, 0, 1, 11]\n",
            "starting episode 1, epsilon = 0.945\n",
            "total reward = 111.0, actions list = [31, 32, 22, 23, 24, 14, 28, 18, 19, 9, 8, 7, 17, 50, 40, 30, 20, 10, 3, 2, 12, 6, 5, 15]\n",
            "starting episode 2, epsilon = 0.94\n",
            "total reward = 111.0, actions list = [15, 5, 4, 14, 24, 34, 37, 36, 46, 47, 57, 56, 55, 32, 31, 21, 22, 12, 29, 19, 9, 44, 43, 42]\n",
            "starting episode 3, epsilon = 0.9349999999999999\n",
            "total reward = 101.0, actions list = [39, 38, 28, 29, 19, 9, 35, 45, 44, 34, 33, 32, 42, 50, 51, 52, 53, 54, 55, 56, 57, 22, 23, 13]\n",
            "starting episode 4, epsilon = 0.9299999999999999\n",
            "total reward = 108.0, actions list = [17, 18, 8, 9, 19, 29, 26, 16, 15, 14, 24, 34, 33, 5, 4, 3, 13, 23, 2, 12, 22, 48, 49, 59]\n",
            "starting episode 5, epsilon = 0.9249999999999999\n",
            "total reward = -128.0, actions list = [23, 22, 12, 2, 1, 11, 28, 29, 39, 38, 37, 36, 46, 10, 0]\n",
            "starting episode 6, epsilon = 0.9199999999999999\n",
            "total reward = 114.0, actions list = [38, 48, 49, 59, 58, 57, 32, 42, 52, 51, 41, 31, 30, 3, 13, 23, 33, 43, 1, 11, 12, 20, 21, 22]\n",
            "starting episode 7, epsilon = 0.9149999999999999\n",
            "total reward = 106.0, actions list = [59, 49, 39, 38, 48, 47, 26, 27, 17, 16, 6, 5, 4, 0, 1, 2, 12, 13, 40, 50, 51, 18, 8, 9]\n",
            "starting episode 8, epsilon = 0.9099999999999999\n",
            "total reward = 104.0, actions list = [11, 1, 2, 3, 4, 5, 9, 8, 7, 6, 16, 26, 27, 31, 21, 22, 23, 33, 0, 10, 20, 15, 25, 24]\n",
            "starting episode 9, epsilon = 0.9049999999999999\n",
            "total reward = 105.0, actions list = [31, 30, 20, 21, 22, 23, 17, 18, 28, 27, 37, 38, 48, 1, 0, 10, 11, 12, 5, 4, 14, 42, 43, 53]\n",
            "starting episode 10, epsilon = 0.8999999999999999\n",
            "total reward = 100.0, actions list = [42, 52, 53, 54, 44, 45, 8, 7, 6, 5, 15, 16, 26, 12, 2, 3, 4, 14, 56, 46, 47, 35, 36, 37]\n",
            "starting episode 11, epsilon = 0.8949999999999999\n",
            "total reward = -75.0, actions list = [52, 53, 43, 42, 32, 22, 39, 29, 28, 18, 8, 7, 17, 5, 15, 16, 26, 27, 35, 36, 46, 9, 19]\n",
            "starting episode 12, epsilon = 0.8899999999999999\n",
            "total reward = -157.0, actions list = [5, 6, 7, 17, 18, 28, 9, 8]\n",
            "starting episode 13, epsilon = 0.8849999999999999\n",
            "total reward = 114.0, actions list = [59, 49, 39, 38, 37, 36, 7, 6, 5, 4, 3, 2, 12, 46, 47, 57, 56, 55, 9, 19, 18, 29, 28, 27]\n",
            "starting episode 14, epsilon = 0.8799999999999999\n",
            "total reward = 104.0, actions list = [36, 46, 56, 57, 58, 48, 32, 33, 43, 42, 41, 31, 21, 26, 25, 35, 34, 24, 6, 5, 4, 12, 13, 3]\n",
            "starting episode 15, epsilon = 0.8749999999999999\n",
            "total reward = 122.0, actions list = [41, 42, 52, 51, 50, 40, 49, 39, 38, 37, 36, 46, 47, 53, 43, 44, 54, 55, 7, 6, 16, 5, 4, 3]\n",
            "starting episode 16, epsilon = 0.8699999999999999\n",
            "total reward = 112.0, actions list = [20, 30, 31, 41, 40, 50, 27, 17, 7, 8, 9, 19, 29, 34, 44, 43, 42, 32, 5, 4, 14, 11, 10, 0]\n",
            "starting episode 17, epsilon = 0.8649999999999999\n",
            "total reward = 89.0, actions list = [13, 3, 2, 12, 11, 1, 41, 40, 30, 20, 21, 22, 23, 57, 56, 55, 45, 44, 48, 49, 39, 9, 8, 7]\n",
            "starting episode 18, epsilon = 0.8599999999999999\n",
            "total reward = 115.0, actions list = [5, 15, 14, 24, 25, 26, 11, 12, 2, 3, 13, 23, 33, 9, 8, 18, 28, 38, 19, 29, 39, 52, 51, 50]\n",
            "starting episode 19, epsilon = 0.8549999999999999\n",
            "total reward = 115.0, actions list = [5, 6, 7, 17, 16, 15, 22, 12, 13, 3, 4, 14, 24, 39, 49, 48, 47, 46, 51, 52, 42, 50, 40, 30]\n",
            "starting episode 20, epsilon = 0.8499999999999999\n",
            "begin training\n",
            "preparing data to train\n"
          ]
        },
        {
          "output_type": "display_data",
          "data": {
            "text/plain": [
              "<IPython.core.display.HTML object>"
            ],
            "text/html": [
              "Tracking run with wandb version 0.16.3"
            ]
          },
          "metadata": {}
        },
        {
          "output_type": "display_data",
          "data": {
            "text/plain": [
              "<IPython.core.display.HTML object>"
            ],
            "text/html": [
              "Run data is saved locally in <code>/content/wandb/run-20240226_094015-igqivfgk</code>"
            ]
          },
          "metadata": {}
        },
        {
          "output_type": "display_data",
          "data": {
            "text/plain": [
              "<IPython.core.display.HTML object>"
            ],
            "text/html": [
              "Syncing run <strong><a href='https://wandb.ai/monteleone/WormsWarmingUp/runs/igqivfgk' target=\"_blank\">model_V1_wormholes_disabled_multi_worms_training_ep_20</a></strong> to <a href='https://wandb.ai/monteleone/WormsWarmingUp' target=\"_blank\">Weights & Biases</a> (<a href='https://wandb.me/run' target=\"_blank\">docs</a>)<br/>"
            ]
          },
          "metadata": {}
        },
        {
          "output_type": "display_data",
          "data": {
            "text/plain": [
              "<IPython.core.display.HTML object>"
            ],
            "text/html": [
              " View project at <a href='https://wandb.ai/monteleone/WormsWarmingUp' target=\"_blank\">https://wandb.ai/monteleone/WormsWarmingUp</a>"
            ]
          },
          "metadata": {}
        },
        {
          "output_type": "display_data",
          "data": {
            "text/plain": [
              "<IPython.core.display.HTML object>"
            ],
            "text/html": [
              " View run at <a href='https://wandb.ai/monteleone/WormsWarmingUp/runs/igqivfgk' target=\"_blank\">https://wandb.ai/monteleone/WormsWarmingUp/runs/igqivfgk</a>"
            ]
          },
          "metadata": {}
        },
        {
          "output_type": "stream",
          "name": "stderr",
          "text": [
            "INFO: \n",
            "  | Name    | Type     | Params\n",
            "-------------------------------------\n",
            "0 | encoder | GraphNN  | 0     \n",
            "1 | decoder | LinearNN | 8.4 K \n",
            "2 | loss    | MSELoss  | 0     \n",
            "-------------------------------------\n",
            "8.4 K     Trainable params\n",
            "0         Non-trainable params\n",
            "8.4 K     Total params\n",
            "0.034     Total estimated model params size (MB)\n",
            "INFO:lightning.pytorch.callbacks.model_summary:\n",
            "  | Name    | Type     | Params\n",
            "-------------------------------------\n",
            "0 | encoder | GraphNN  | 0     \n",
            "1 | decoder | LinearNN | 8.4 K \n",
            "2 | loss    | MSELoss  | 0     \n",
            "-------------------------------------\n",
            "8.4 K     Trainable params\n",
            "0         Non-trainable params\n",
            "8.4 K     Total params\n",
            "0.034     Total estimated model params size (MB)\n"
          ]
        },
        {
          "output_type": "display_data",
          "data": {
            "text/plain": [
              "Sanity Checking: |          | 0/? [00:00<?, ?it/s]"
            ],
            "application/vnd.jupyter.widget-view+json": {
              "version_major": 2,
              "version_minor": 0,
              "model_id": "3b8e641aae4e4b72bc776c62c06c9d78"
            }
          },
          "metadata": {}
        },
        {
          "output_type": "stream",
          "name": "stderr",
          "text": [
            "/usr/local/lib/python3.10/dist-packages/lightning/pytorch/loops/fit_loop.py:298: PossibleUserWarning:\n",
            "\n",
            "The number of training batches (46) is smaller than the logging interval Trainer(log_every_n_steps=50). Set a lower value for log_every_n_steps if you want to see logs for the training epoch.\n",
            "\n"
          ]
        },
        {
          "output_type": "stream",
          "name": "stdout",
          "text": [
            "val_loss =  2846.92431640625\n",
            "mean_absolute_error =  41.49134\n",
            "root_mean_squared_error =  53.35658\n",
            "r2 =  -198350.01911724702\n"
          ]
        },
        {
          "output_type": "display_data",
          "data": {
            "text/plain": [
              "Training: |          | 0/? [00:00<?, ?it/s]"
            ],
            "application/vnd.jupyter.widget-view+json": {
              "version_major": 2,
              "version_minor": 0,
              "model_id": "667302529ed645f69be11ae02e0d25c3"
            }
          },
          "metadata": {}
        },
        {
          "output_type": "display_data",
          "data": {
            "text/plain": [
              "Validation: |          | 0/? [00:00<?, ?it/s]"
            ],
            "application/vnd.jupyter.widget-view+json": {
              "version_major": 2,
              "version_minor": 0,
              "model_id": "4b3fd33108cd417b808f59e52574813b"
            }
          },
          "metadata": {}
        },
        {
          "output_type": "stream",
          "name": "stdout",
          "text": [
            "val_loss =  6190.19580078125\n",
            "mean_absolute_error =  62.348373\n",
            "root_mean_squared_error =  78.11247\n",
            "r2 =  -84.1594716330309\n",
            "training_epoch_mean loss =  5741.07421875\n"
          ]
        },
        {
          "output_type": "display_data",
          "data": {
            "text/plain": [
              "Validation: |          | 0/? [00:00<?, ?it/s]"
            ],
            "application/vnd.jupyter.widget-view+json": {
              "version_major": 2,
              "version_minor": 0,
              "model_id": "d98bf6d903084aa0bd9eaa654ef9f6f5"
            }
          },
          "metadata": {}
        },
        {
          "output_type": "stream",
          "name": "stdout",
          "text": [
            "val_loss =  5851.158203125\n",
            "mean_absolute_error =  57.43225\n",
            "root_mean_squared_error =  76.26617\n",
            "r2 =  -24.42462300255729\n",
            "training_epoch_mean loss =  5382.31396484375\n"
          ]
        },
        {
          "output_type": "display_data",
          "data": {
            "text/plain": [
              "Validation: |          | 0/? [00:00<?, ?it/s]"
            ],
            "application/vnd.jupyter.widget-view+json": {
              "version_major": 2,
              "version_minor": 0,
              "model_id": "f3ca7cde1f6a471db4b5ebe17acaafcf"
            }
          },
          "metadata": {}
        },
        {
          "output_type": "stream",
          "name": "stdout",
          "text": [
            "val_loss =  5323.349609375\n",
            "mean_absolute_error =  53.901108\n",
            "root_mean_squared_error =  72.52229\n",
            "r2 =  -74.29461310579826\n",
            "training_epoch_mean loss =  5172.1044921875\n"
          ]
        },
        {
          "output_type": "display_data",
          "data": {
            "text/plain": [
              "Validation: |          | 0/? [00:00<?, ?it/s]"
            ],
            "application/vnd.jupyter.widget-view+json": {
              "version_major": 2,
              "version_minor": 0,
              "model_id": "61333644231742749a0f811e372181c5"
            }
          },
          "metadata": {}
        },
        {
          "output_type": "stream",
          "name": "stdout",
          "text": [
            "val_loss =  5204.271484375\n",
            "mean_absolute_error =  52.08854\n",
            "root_mean_squared_error =  71.85873\n",
            "r2 =  -49.43483209811927\n",
            "training_epoch_mean loss =  5143.31884765625\n"
          ]
        },
        {
          "output_type": "display_data",
          "data": {
            "text/plain": [
              "VBox(children=(Label(value='0.001 MB of 0.001 MB uploaded\\r'), FloatProgress(value=1.0, max=1.0)))"
            ],
            "application/vnd.jupyter.widget-view+json": {
              "version_major": 2,
              "version_minor": 0,
              "model_id": "70474c5e4b1b4abe8fc078a0ebcdc974"
            }
          },
          "metadata": {}
        },
        {
          "output_type": "display_data",
          "data": {
            "text/plain": [
              "<IPython.core.display.HTML object>"
            ],
            "text/html": [
              "<style>\n",
              "    table.wandb td:nth-child(1) { padding: 0 10px; text-align: left ; width: auto;} td:nth-child(2) {text-align: left ; width: 100%}\n",
              "    .wandb-row { display: flex; flex-direction: row; flex-wrap: wrap; justify-content: flex-start; width: 100% }\n",
              "    .wandb-col { display: flex; flex-direction: column; flex-basis: 100%; flex: 1; padding: 10px; }\n",
              "    </style>\n",
              "<div class=\"wandb-row\"><div class=\"wandb-col\"><h3>Run history:</h3><br/><table class=\"wandb\"><tr><td>mean_absolute_error</td><td>▁█▆▅▅</td></tr><tr><td>r2</td><td>▁████</td></tr><tr><td>root_mean_squared_error</td><td>▁█▇▆▆</td></tr><tr><td>train_loss</td><td>█▄▁▁</td></tr><tr><td>val_loss</td><td>▁█▇▆▆</td></tr></table><br/></div><div class=\"wandb-col\"><h3>Run summary:</h3><br/><table class=\"wandb\"><tr><td>mean_absolute_error</td><td>52.08854</td></tr><tr><td>r2</td><td>-49.43483</td></tr><tr><td>root_mean_squared_error</td><td>71.85873</td></tr><tr><td>train_loss</td><td>5143.31885</td></tr><tr><td>val_loss</td><td>5204.27148</td></tr></table><br/></div></div>"
            ]
          },
          "metadata": {}
        },
        {
          "output_type": "display_data",
          "data": {
            "text/plain": [
              "<IPython.core.display.HTML object>"
            ],
            "text/html": [
              " View run <strong style=\"color:#cdcd00\">model_V1_wormholes_disabled_multi_worms_training_ep_20</strong> at: <a href='https://wandb.ai/monteleone/WormsWarmingUp/runs/igqivfgk' target=\"_blank\">https://wandb.ai/monteleone/WormsWarmingUp/runs/igqivfgk</a><br/>Synced 5 W&B file(s), 0 media file(s), 0 artifact file(s) and 0 other file(s)"
            ]
          },
          "metadata": {}
        },
        {
          "output_type": "display_data",
          "data": {
            "text/plain": [
              "<IPython.core.display.HTML object>"
            ],
            "text/html": [
              "Find logs at: <code>./wandb/run-20240226_094015-igqivfgk/logs</code>"
            ]
          },
          "metadata": {}
        },
        {
          "output_type": "stream",
          "name": "stdout",
          "text": [
            "finished training\n"
          ]
        },
        {
          "output_type": "stream",
          "name": "stderr",
          "text": [
            "/usr/local/lib/python3.10/dist-packages/gymnasium/core.py:311: UserWarning:\n",
            "\n",
            "\u001b[33mWARN: env.available_movements to get variables from other wrappers is deprecated and will be removed in v1.0, to get this variable you can do `env.unwrapped.available_movements` for environment variables or `env.get_wrapper_attr('available_movements')` that will search the reminding wrappers.\u001b[0m\n",
            "\n"
          ]
        },
        {
          "output_type": "stream",
          "name": "stdout",
          "text": [
            "total reward = 122.0, actions list = [43, 53, 52, 42, 32, 22, 3, 13, 12, 2, 1, 0, 10, 8, 9, 19, 18, 28, 26, 27, 17, 50, 51, 41]\n",
            "starting episode 21, epsilon = 0.8449999999999999\n",
            "total reward = -81.0, actions list = [50, 51, 52, 42, 43, 33, 58, 59, 49, 39, 29, 28, 38, 54, 55, 45, 35, 36, 19, 9, 8, 53]\n",
            "starting episode 22, epsilon = 0.8399999999999999\n",
            "total reward = 114.0, actions list = [31, 41, 51, 52, 42, 32, 48, 49, 59, 58, 57, 56, 46, 43, 33, 23, 24, 14, 9, 8, 18, 20, 21, 22]\n",
            "starting episode 23, epsilon = 0.8349999999999999\n",
            "total reward = -109.0, actions list = [48, 58, 57, 47, 37, 36, 46, 56, 55, 54, 53, 43, 42, 51, 41, 31, 21, 22, 52]\n",
            "starting episode 24, epsilon = 0.8299999999999998\n",
            "total reward = 114.0, actions list = [28, 29, 19, 18, 8, 7, 17, 16, 26, 27, 37, 47, 57, 48, 58, 59, 49, 39, 2, 12, 22, 4, 3, 13]\n",
            "starting episode 25, epsilon = 0.8249999999999998\n",
            "total reward = -156.0, actions list = [3, 4, 14, 13, 12, 2, 21, 20, 10, 0, 1, 11]\n",
            "starting episode 26, epsilon = 0.8199999999999998\n",
            "total reward = -95.0, actions list = [9, 19, 29, 28, 38, 48, 30, 20, 21, 11, 10, 0, 1, 52, 51, 41, 42, 32, 31]\n",
            "starting episode 27, epsilon = 0.8149999999999998\n",
            "total reward = 109.0, actions list = [2, 3, 13, 14, 15, 5, 11, 10, 20, 21, 31, 30, 40, 52, 42, 41, 51, 50, 18, 28, 29, 17, 27, 26]\n",
            "starting episode 28, epsilon = 0.8099999999999998\n",
            "total reward = 111.0, actions list = [36, 35, 34, 24, 25, 26, 9, 8, 18, 17, 27, 28, 38, 44, 43, 33, 32, 22, 58, 59, 49, 19, 29, 39]\n",
            "starting episode 29, epsilon = 0.8049999999999998\n",
            "total reward = 98.0, actions list = [16, 26, 25, 24, 23, 13, 36, 37, 47, 46, 56, 57, 58, 12, 2, 3, 4, 5, 30, 31, 41, 6, 7, 8]\n",
            "starting episode 30, epsilon = 0.7999999999999998\n",
            "total reward = 100.0, actions list = [2, 12, 11, 10, 20, 21, 46, 56, 55, 45, 44, 34, 35, 4, 5, 15, 16, 17, 9, 19, 29, 50, 40, 41]\n",
            "starting episode 31, epsilon = 0.7949999999999998\n",
            "total reward = 113.0, actions list = [50, 51, 52, 53, 54, 55, 23, 13, 12, 22, 32, 31, 41, 9, 19, 29, 39, 38, 18, 17, 27, 20, 21, 11]\n",
            "starting episode 32, epsilon = 0.7899999999999998\n",
            "total reward = 98.0, actions list = [14, 4, 5, 6, 7, 8, 11, 12, 13, 3, 2, 1, 0, 9, 19, 29, 28, 27, 45, 35, 36, 22, 23, 33]\n",
            "starting episode 33, epsilon = 0.7849999999999998\n",
            "total reward = 119.0, actions list = [51, 41, 42, 52, 53, 43, 49, 48, 47, 46, 56, 57, 58, 9, 19, 18, 8, 7, 6, 16, 15, 28, 27, 37]\n",
            "starting episode 34, epsilon = 0.7799999999999998\n",
            "total reward = 117.0, actions list = [14, 4, 5, 6, 16, 26, 38, 48, 49, 39, 29, 19, 9, 2, 1, 0, 10, 11, 15, 25, 35, 18, 17, 7]\n",
            "starting episode 35, epsilon = 0.7749999999999998\n",
            "total reward = 114.0, actions list = [34, 44, 43, 42, 41, 31, 48, 49, 39, 38, 37, 47, 57, 0, 1, 2, 3, 13, 46, 36, 26, 9, 19, 29]\n",
            "starting episode 36, epsilon = 0.7699999999999998\n",
            "total reward = -91.0, actions list = [32, 31, 41, 40, 30, 20, 9, 19, 18, 17, 27, 28, 38, 42, 43, 33, 34, 44, 37, 47, 48, 51, 50]\n",
            "starting episode 37, epsilon = 0.7649999999999998\n",
            "total reward = 110.0, actions list = [53, 52, 42, 43, 33, 32, 9, 8, 18, 28, 27, 37, 38, 1, 2, 12, 11, 21, 17, 16, 26, 36, 35, 34]\n",
            "starting episode 38, epsilon = 0.7599999999999998\n",
            "total reward = 120.0, actions list = [9, 8, 18, 19, 29, 39, 11, 21, 20, 10, 0, 1, 2, 52, 42, 41, 40, 30, 37, 27, 26, 25, 15, 5]\n",
            "starting episode 39, epsilon = 0.7549999999999998\n",
            "total reward = 108.0, actions list = [23, 22, 12, 13, 3, 2, 9, 19, 18, 28, 27, 37, 38, 52, 51, 41, 42, 32, 36, 35, 34, 4, 14, 24]\n",
            "starting episode 40, epsilon = 0.7499999999999998\n",
            "begin training\n",
            "preparing data to train\n"
          ]
        },
        {
          "output_type": "display_data",
          "data": {
            "text/plain": [
              "<IPython.core.display.HTML object>"
            ],
            "text/html": [
              "Tracking run with wandb version 0.16.3"
            ]
          },
          "metadata": {}
        },
        {
          "output_type": "display_data",
          "data": {
            "text/plain": [
              "<IPython.core.display.HTML object>"
            ],
            "text/html": [
              "Run data is saved locally in <code>/content/wandb/run-20240226_094226-5y7ft59m</code>"
            ]
          },
          "metadata": {}
        },
        {
          "output_type": "display_data",
          "data": {
            "text/plain": [
              "<IPython.core.display.HTML object>"
            ],
            "text/html": [
              "Syncing run <strong><a href='https://wandb.ai/monteleone/WormsWarmingUp/runs/5y7ft59m' target=\"_blank\">model_V1_wormholes_disabled_multi_worms_training_ep_40</a></strong> to <a href='https://wandb.ai/monteleone/WormsWarmingUp' target=\"_blank\">Weights & Biases</a> (<a href='https://wandb.me/run' target=\"_blank\">docs</a>)<br/>"
            ]
          },
          "metadata": {}
        },
        {
          "output_type": "display_data",
          "data": {
            "text/plain": [
              "<IPython.core.display.HTML object>"
            ],
            "text/html": [
              " View project at <a href='https://wandb.ai/monteleone/WormsWarmingUp' target=\"_blank\">https://wandb.ai/monteleone/WormsWarmingUp</a>"
            ]
          },
          "metadata": {}
        },
        {
          "output_type": "display_data",
          "data": {
            "text/plain": [
              "<IPython.core.display.HTML object>"
            ],
            "text/html": [
              " View run at <a href='https://wandb.ai/monteleone/WormsWarmingUp/runs/5y7ft59m' target=\"_blank\">https://wandb.ai/monteleone/WormsWarmingUp/runs/5y7ft59m</a>"
            ]
          },
          "metadata": {}
        },
        {
          "output_type": "stream",
          "name": "stderr",
          "text": [
            "/usr/local/lib/python3.10/dist-packages/lightning/pytorch/callbacks/model_checkpoint.py:652: UserWarning:\n",
            "\n",
            "Checkpoint directory /content/Model exists and is not empty.\n",
            "\n",
            "INFO: \n",
            "  | Name    | Type     | Params\n",
            "-------------------------------------\n",
            "0 | encoder | GraphNN  | 0     \n",
            "1 | decoder | LinearNN | 8.4 K \n",
            "2 | loss    | MSELoss  | 0     \n",
            "-------------------------------------\n",
            "8.4 K     Trainable params\n",
            "0         Non-trainable params\n",
            "8.4 K     Total params\n",
            "0.034     Total estimated model params size (MB)\n",
            "INFO:lightning.pytorch.callbacks.model_summary:\n",
            "  | Name    | Type     | Params\n",
            "-------------------------------------\n",
            "0 | encoder | GraphNN  | 0     \n",
            "1 | decoder | LinearNN | 8.4 K \n",
            "2 | loss    | MSELoss  | 0     \n",
            "-------------------------------------\n",
            "8.4 K     Trainable params\n",
            "0         Non-trainable params\n",
            "8.4 K     Total params\n",
            "0.034     Total estimated model params size (MB)\n"
          ]
        },
        {
          "output_type": "display_data",
          "data": {
            "text/plain": [
              "Sanity Checking: |          | 0/? [00:00<?, ?it/s]"
            ],
            "application/vnd.jupyter.widget-view+json": {
              "version_major": 2,
              "version_minor": 0,
              "model_id": "9c51155edec041078f166e521f01f79d"
            }
          },
          "metadata": {}
        },
        {
          "output_type": "stream",
          "name": "stdout",
          "text": [
            "val_loss =  8548.6865234375\n",
            "mean_absolute_error =  74.985725\n",
            "root_mean_squared_error =  92.45911\n",
            "r2 =  -124.92848259936673\n"
          ]
        },
        {
          "output_type": "display_data",
          "data": {
            "text/plain": [
              "VBox(children=(Label(value='0.001 MB of 0.001 MB uploaded\\r'), FloatProgress(value=1.0, max=1.0)))"
            ],
            "application/vnd.jupyter.widget-view+json": {
              "version_major": 2,
              "version_minor": 0,
              "model_id": "93318c6664874f25a69adfb0cd09fdad"
            }
          },
          "metadata": {}
        },
        {
          "output_type": "display_data",
          "data": {
            "text/plain": [
              "<IPython.core.display.HTML object>"
            ],
            "text/html": [
              "<style>\n",
              "    table.wandb td:nth-child(1) { padding: 0 10px; text-align: left ; width: auto;} td:nth-child(2) {text-align: left ; width: 100%}\n",
              "    .wandb-row { display: flex; flex-direction: row; flex-wrap: wrap; justify-content: flex-start; width: 100% }\n",
              "    .wandb-col { display: flex; flex-direction: column; flex-basis: 100%; flex: 1; padding: 10px; }\n",
              "    </style>\n",
              "<div class=\"wandb-row\"><div class=\"wandb-col\"><h3>Run history:</h3><br/><table class=\"wandb\"><tr><td>mean_absolute_error</td><td>▁</td></tr><tr><td>r2</td><td>▁</td></tr><tr><td>root_mean_squared_error</td><td>▁</td></tr><tr><td>val_loss</td><td>▁</td></tr></table><br/></div><div class=\"wandb-col\"><h3>Run summary:</h3><br/><table class=\"wandb\"><tr><td>mean_absolute_error</td><td>74.98573</td></tr><tr><td>r2</td><td>-124.92848</td></tr><tr><td>root_mean_squared_error</td><td>92.45911</td></tr><tr><td>val_loss</td><td>8548.68652</td></tr></table><br/></div></div>"
            ]
          },
          "metadata": {}
        },
        {
          "output_type": "display_data",
          "data": {
            "text/plain": [
              "<IPython.core.display.HTML object>"
            ],
            "text/html": [
              " View run <strong style=\"color:#cdcd00\">model_V1_wormholes_disabled_multi_worms_training_ep_40</strong> at: <a href='https://wandb.ai/monteleone/WormsWarmingUp/runs/5y7ft59m' target=\"_blank\">https://wandb.ai/monteleone/WormsWarmingUp/runs/5y7ft59m</a><br/>Synced 5 W&B file(s), 0 media file(s), 0 artifact file(s) and 0 other file(s)"
            ]
          },
          "metadata": {}
        },
        {
          "output_type": "display_data",
          "data": {
            "text/plain": [
              "<IPython.core.display.HTML object>"
            ],
            "text/html": [
              "Find logs at: <code>./wandb/run-20240226_094226-5y7ft59m/logs</code>"
            ]
          },
          "metadata": {}
        },
        {
          "output_type": "stream",
          "name": "stdout",
          "text": [
            "finished training\n"
          ]
        },
        {
          "output_type": "stream",
          "name": "stderr",
          "text": [
            "/usr/local/lib/python3.10/dist-packages/gymnasium/core.py:311: UserWarning:\n",
            "\n",
            "\u001b[33mWARN: env.available_movements to get variables from other wrappers is deprecated and will be removed in v1.0, to get this variable you can do `env.unwrapped.available_movements` for environment variables or `env.get_wrapper_attr('available_movements')` that will search the reminding wrappers.\u001b[0m\n",
            "\n"
          ]
        },
        {
          "output_type": "stream",
          "name": "stdout",
          "text": [
            "total reward = 108.0, actions list = [3, 4, 5, 15, 16, 17, 44, 43, 33, 34, 35, 36, 26, 52, 53, 54, 55, 45, 51, 41, 31, 56, 46, 47]\n",
            "starting episode 41, epsilon = 0.7449999999999998\n",
            "total reward = 109.0, actions list = [9, 8, 7, 6, 16, 15, 20, 10, 11, 12, 22, 23, 33, 47, 46, 56, 55, 54, 49, 39, 29, 38, 48, 58]\n",
            "starting episode 42, epsilon = 0.7399999999999998\n",
            "total reward = 114.0, actions list = [5, 15, 14, 13, 23, 24, 52, 51, 41, 42, 32, 33, 43, 37, 38, 39, 29, 19, 35, 45, 55, 6, 16, 26]\n",
            "starting episode 43, epsilon = 0.7349999999999998\n",
            "total reward = 103.0, actions list = [9, 19, 18, 17, 27, 28, 35, 45, 44, 43, 53, 52, 51, 22, 23, 13, 3, 2, 4, 5, 15, 38, 39, 49]\n",
            "starting episode 44, epsilon = 0.7299999999999998\n",
            "total reward = 116.0, actions list = [22, 12, 2, 3, 4, 14, 9, 8, 18, 19, 29, 28, 27, 45, 35, 34, 33, 32, 52, 51, 50, 5, 15, 16]\n",
            "starting episode 45, epsilon = 0.7249999999999998\n",
            "total reward = 134.0, actions list = [37, 27, 28, 38, 39, 29, 19, 9, 8, 7, 6, 16, 26, 25, 15, 5, 4, 14, 42, 52, 51, 49, 48, 58]\n",
            "starting episode 46, epsilon = 0.7199999999999998\n",
            "total reward = 120.0, actions list = [1, 0, 10, 20, 21, 22, 13, 14, 4, 5, 15, 25, 26, 9, 19, 29, 39, 49, 12, 2, 3, 52, 51, 50]\n",
            "starting episode 47, epsilon = 0.7149999999999997\n",
            "total reward = -154.0, actions list = [10, 0, 1, 2, 3, 13, 49, 48, 58, 59]\n",
            "starting episode 48, epsilon = 0.7099999999999997\n",
            "total reward = 125.0, actions list = [53, 54, 44, 43, 42, 52, 9, 8, 18, 19, 29, 39, 38, 6, 5, 15, 25, 35, 3, 2, 1, 10, 20, 30]\n",
            "starting episode 49, epsilon = 0.7049999999999997\n",
            "total reward = 108.0, actions list = [12, 13, 3, 4, 14, 24, 45, 55, 56, 46, 36, 37, 27, 58, 57, 47, 48, 49, 9, 8, 7, 53, 52, 42]\n",
            "starting episode 50, epsilon = 0.6999999999999997\n",
            "total reward = 103.0, actions list = [22, 12, 2, 1, 0, 10, 20, 21, 31, 41, 51, 50, 40, 24, 23, 33, 43, 42, 48, 58, 59, 9, 19, 18]\n",
            "starting episode 51, epsilon = 0.6949999999999997\n",
            "total reward = -137.0, actions list = [9, 8, 18, 17, 27, 26, 19, 29, 39, 38, 28]\n",
            "starting episode 52, epsilon = 0.6899999999999997\n",
            "total reward = 112.0, actions list = [50, 51, 41, 42, 32, 31, 8, 18, 17, 7, 6, 5, 4, 44, 34, 35, 45, 46, 54, 53, 52, 27, 28, 29]\n",
            "starting episode 53, epsilon = 0.6849999999999997\n",
            "total reward = 110.0, actions list = [44, 45, 35, 25, 15, 16, 9, 8, 18, 28, 38, 48, 47, 23, 22, 32, 42, 41, 19, 29, 39, 2, 3, 13]\n",
            "starting episode 54, epsilon = 0.6799999999999997\n",
            "total reward = -127.0, actions list = [1, 0, 10, 20, 30, 40, 24, 14, 13, 23, 22, 12, 2, 9, 8, 18, 28, 29, 19]\n",
            "starting episode 55, epsilon = 0.6749999999999997\n",
            "total reward = -152.0, actions list = [35, 34, 44, 54, 53, 43, 52, 51, 41, 40, 50]\n",
            "starting episode 56, epsilon = 0.6699999999999997\n",
            "total reward = -102.0, actions list = [39, 29, 28, 18, 17, 27, 53, 52, 42, 32, 33, 43, 44, 56, 55, 45, 46, 47, 9, 19]\n",
            "starting episode 57, epsilon = 0.6649999999999997\n",
            "total reward = 132.0, actions list = [9, 19, 29, 39, 49, 59, 52, 51, 50, 40, 41, 31, 32, 26, 16, 15, 14, 4, 48, 47, 46, 5, 6, 7]\n",
            "starting episode 58, epsilon = 0.6599999999999997\n",
            "total reward = -113.0, actions list = [27, 28, 38, 39, 29, 19, 6, 5, 15, 16, 26, 25, 35, 8, 18, 17, 7]\n",
            "starting episode 59, epsilon = 0.6549999999999997\n",
            "total reward = 135.0, actions list = [9, 19, 29, 39, 49, 59, 11, 10, 0, 1, 2, 3, 4, 52, 42, 32, 31, 41, 5, 6, 16, 51, 50, 40]\n",
            "starting episode 60, epsilon = 0.6499999999999997\n",
            "begin training\n",
            "preparing data to train\n"
          ]
        },
        {
          "output_type": "display_data",
          "data": {
            "text/plain": [
              "<IPython.core.display.HTML object>"
            ],
            "text/html": [
              "Tracking run with wandb version 0.16.3"
            ]
          },
          "metadata": {}
        },
        {
          "output_type": "display_data",
          "data": {
            "text/plain": [
              "<IPython.core.display.HTML object>"
            ],
            "text/html": [
              "Run data is saved locally in <code>/content/wandb/run-20240226_094424-9k9dr76r</code>"
            ]
          },
          "metadata": {}
        },
        {
          "output_type": "display_data",
          "data": {
            "text/plain": [
              "<IPython.core.display.HTML object>"
            ],
            "text/html": [
              "Syncing run <strong><a href='https://wandb.ai/monteleone/WormsWarmingUp/runs/9k9dr76r' target=\"_blank\">model_V1_wormholes_disabled_multi_worms_training_ep_60</a></strong> to <a href='https://wandb.ai/monteleone/WormsWarmingUp' target=\"_blank\">Weights & Biases</a> (<a href='https://wandb.me/run' target=\"_blank\">docs</a>)<br/>"
            ]
          },
          "metadata": {}
        },
        {
          "output_type": "display_data",
          "data": {
            "text/plain": [
              "<IPython.core.display.HTML object>"
            ],
            "text/html": [
              " View project at <a href='https://wandb.ai/monteleone/WormsWarmingUp' target=\"_blank\">https://wandb.ai/monteleone/WormsWarmingUp</a>"
            ]
          },
          "metadata": {}
        },
        {
          "output_type": "display_data",
          "data": {
            "text/plain": [
              "<IPython.core.display.HTML object>"
            ],
            "text/html": [
              " View run at <a href='https://wandb.ai/monteleone/WormsWarmingUp/runs/9k9dr76r' target=\"_blank\">https://wandb.ai/monteleone/WormsWarmingUp/runs/9k9dr76r</a>"
            ]
          },
          "metadata": {}
        },
        {
          "output_type": "stream",
          "name": "stderr",
          "text": [
            "/usr/local/lib/python3.10/dist-packages/lightning/pytorch/callbacks/model_checkpoint.py:652: UserWarning:\n",
            "\n",
            "Checkpoint directory /content/Model exists and is not empty.\n",
            "\n",
            "INFO: \n",
            "  | Name    | Type     | Params\n",
            "-------------------------------------\n",
            "0 | encoder | GraphNN  | 0     \n",
            "1 | decoder | LinearNN | 8.4 K \n",
            "2 | loss    | MSELoss  | 0     \n",
            "-------------------------------------\n",
            "8.4 K     Trainable params\n",
            "0         Non-trainable params\n",
            "8.4 K     Total params\n",
            "0.034     Total estimated model params size (MB)\n",
            "INFO:lightning.pytorch.callbacks.model_summary:\n",
            "  | Name    | Type     | Params\n",
            "-------------------------------------\n",
            "0 | encoder | GraphNN  | 0     \n",
            "1 | decoder | LinearNN | 8.4 K \n",
            "2 | loss    | MSELoss  | 0     \n",
            "-------------------------------------\n",
            "8.4 K     Trainable params\n",
            "0         Non-trainable params\n",
            "8.4 K     Total params\n",
            "0.034     Total estimated model params size (MB)\n"
          ]
        },
        {
          "output_type": "display_data",
          "data": {
            "text/plain": [
              "Sanity Checking: |          | 0/? [00:00<?, ?it/s]"
            ],
            "application/vnd.jupyter.widget-view+json": {
              "version_major": 2,
              "version_minor": 0,
              "model_id": "bd578a51b7be4fd5b6208066aec8c971"
            }
          },
          "metadata": {}
        },
        {
          "output_type": "stream",
          "name": "stdout",
          "text": [
            "val_loss =  11714.6171875\n",
            "mean_absolute_error =  87.32051\n",
            "root_mean_squared_error =  108.234085\n",
            "r2 =  -115.10893342749638\n"
          ]
        },
        {
          "output_type": "display_data",
          "data": {
            "text/plain": [
              "VBox(children=(Label(value='0.001 MB of 0.001 MB uploaded\\r'), FloatProgress(value=1.0, max=1.0)))"
            ],
            "application/vnd.jupyter.widget-view+json": {
              "version_major": 2,
              "version_minor": 0,
              "model_id": "7705876105a7435fb981de7544228ce4"
            }
          },
          "metadata": {}
        },
        {
          "output_type": "display_data",
          "data": {
            "text/plain": [
              "<IPython.core.display.HTML object>"
            ],
            "text/html": [
              "<style>\n",
              "    table.wandb td:nth-child(1) { padding: 0 10px; text-align: left ; width: auto;} td:nth-child(2) {text-align: left ; width: 100%}\n",
              "    .wandb-row { display: flex; flex-direction: row; flex-wrap: wrap; justify-content: flex-start; width: 100% }\n",
              "    .wandb-col { display: flex; flex-direction: column; flex-basis: 100%; flex: 1; padding: 10px; }\n",
              "    </style>\n",
              "<div class=\"wandb-row\"><div class=\"wandb-col\"><h3>Run history:</h3><br/><table class=\"wandb\"><tr><td>mean_absolute_error</td><td>▁</td></tr><tr><td>r2</td><td>▁</td></tr><tr><td>root_mean_squared_error</td><td>▁</td></tr><tr><td>val_loss</td><td>▁</td></tr></table><br/></div><div class=\"wandb-col\"><h3>Run summary:</h3><br/><table class=\"wandb\"><tr><td>mean_absolute_error</td><td>87.32051</td></tr><tr><td>r2</td><td>-115.10893</td></tr><tr><td>root_mean_squared_error</td><td>108.23409</td></tr><tr><td>val_loss</td><td>11714.61719</td></tr></table><br/></div></div>"
            ]
          },
          "metadata": {}
        },
        {
          "output_type": "display_data",
          "data": {
            "text/plain": [
              "<IPython.core.display.HTML object>"
            ],
            "text/html": [
              " View run <strong style=\"color:#cdcd00\">model_V1_wormholes_disabled_multi_worms_training_ep_60</strong> at: <a href='https://wandb.ai/monteleone/WormsWarmingUp/runs/9k9dr76r' target=\"_blank\">https://wandb.ai/monteleone/WormsWarmingUp/runs/9k9dr76r</a><br/>Synced 5 W&B file(s), 0 media file(s), 0 artifact file(s) and 0 other file(s)"
            ]
          },
          "metadata": {}
        },
        {
          "output_type": "display_data",
          "data": {
            "text/plain": [
              "<IPython.core.display.HTML object>"
            ],
            "text/html": [
              "Find logs at: <code>./wandb/run-20240226_094424-9k9dr76r/logs</code>"
            ]
          },
          "metadata": {}
        },
        {
          "output_type": "stream",
          "name": "stdout",
          "text": [
            "finished training\n"
          ]
        },
        {
          "output_type": "stream",
          "name": "stderr",
          "text": [
            "/usr/local/lib/python3.10/dist-packages/gymnasium/core.py:311: UserWarning:\n",
            "\n",
            "\u001b[33mWARN: env.available_movements to get variables from other wrappers is deprecated and will be removed in v1.0, to get this variable you can do `env.unwrapped.available_movements` for environment variables or `env.get_wrapper_attr('available_movements')` that will search the reminding wrappers.\u001b[0m\n",
            "\n"
          ]
        },
        {
          "output_type": "stream",
          "name": "stdout",
          "text": [
            "total reward = -113.0, actions list = [9, 8, 18, 17, 16, 15, 19, 29, 28, 38, 39, 49, 59, 6, 7]\n",
            "starting episode 61, epsilon = 0.6449999999999997\n",
            "total reward = 109.0, actions list = [42, 52, 51, 50, 40, 30, 9, 19, 18, 28, 38, 39, 49, 23, 22, 12, 2, 3, 4, 14, 24, 6, 7, 17]\n",
            "starting episode 62, epsilon = 0.6399999999999997\n",
            "total reward = 111.0, actions list = [9, 19, 18, 17, 16, 26, 43, 44, 45, 35, 36, 46, 47, 6, 5, 4, 3, 2, 34, 33, 32, 42, 52, 51]\n",
            "starting episode 63, epsilon = 0.6349999999999997\n",
            "total reward = 128.0, actions list = [42, 43, 53, 52, 51, 41, 10, 0, 1, 11, 12, 22, 23, 39, 49, 59, 58, 48, 9, 8, 7, 19, 18, 17]\n",
            "starting episode 64, epsilon = 0.6299999999999997\n",
            "total reward = 127.0, actions list = [9, 19, 18, 28, 29, 39, 52, 42, 41, 51, 50, 40, 30, 6, 5, 15, 16, 26, 58, 48, 47, 44, 43, 33]\n",
            "starting episode 65, epsilon = 0.6249999999999997\n",
            "total reward = 129.0, actions list = [9, 19, 29, 28, 27, 26, 17, 7, 6, 5, 4, 3, 2, 40, 41, 31, 30, 20, 51, 52, 42, 16, 15, 14]\n",
            "starting episode 66, epsilon = 0.6199999999999997\n",
            "total reward = 120.0, actions list = [9, 19, 29, 28, 27, 26, 52, 51, 41, 40, 30, 31, 21, 32, 22, 12, 11, 1, 6, 5, 15, 7, 17, 18]\n",
            "starting episode 67, epsilon = 0.6149999999999997\n",
            "total reward = 136.0, actions list = [42, 52, 51, 41, 31, 21, 9, 19, 29, 28, 27, 26, 36, 15, 5, 6, 16, 17, 48, 58, 59, 33, 43, 53]\n",
            "starting episode 68, epsilon = 0.6099999999999997\n",
            "total reward = 134.0, actions list = [9, 19, 29, 39, 49, 59, 52, 53, 43, 42, 32, 22, 12, 6, 5, 15, 14, 4, 58, 48, 38, 11, 10, 0]\n",
            "starting episode 69, epsilon = 0.6049999999999996\n",
            "total reward = 112.0, actions list = [2, 1, 0, 10, 20, 30, 9, 8, 18, 19, 29, 28, 27, 52, 51, 41, 40, 50, 44, 54, 55, 37, 38, 48]\n",
            "starting episode 70, epsilon = 0.5999999999999996\n",
            "total reward = -115.0, actions list = [9, 19, 29, 28, 27, 17, 24, 25, 15, 14, 13, 12, 2, 6, 5, 4, 3]\n",
            "starting episode 71, epsilon = 0.5949999999999996\n",
            "total reward = 121.0, actions list = [10, 0, 1, 2, 3, 4, 23, 22, 32, 31, 41, 42, 52, 8, 7, 6, 5, 15, 9, 19, 29, 51, 50, 40]\n",
            "starting episode 72, epsilon = 0.5899999999999996\n",
            "total reward = 103.0, actions list = [9, 19, 29, 28, 27, 26, 23, 24, 14, 13, 12, 22, 21, 52, 42, 43, 33, 32, 4, 3, 2, 35, 45, 55]\n",
            "starting episode 73, epsilon = 0.5849999999999996\n",
            "total reward = 126.0, actions list = [31, 41, 42, 43, 53, 54, 37, 38, 39, 49, 59, 58, 48, 9, 19, 29, 28, 18, 52, 51, 50, 40, 30, 20]\n",
            "starting episode 74, epsilon = 0.5799999999999996\n",
            "total reward = 129.0, actions list = [9, 19, 18, 28, 29, 39, 52, 51, 41, 42, 32, 31, 21, 38, 48, 49, 59, 58, 35, 45, 46, 55, 54, 53]\n",
            "starting episode 75, epsilon = 0.5749999999999996\n",
            "total reward = 131.0, actions list = [50, 40, 41, 51, 52, 42, 9, 19, 29, 39, 49, 59, 58, 23, 33, 43, 53, 54, 48, 47, 46, 12, 22, 32]\n",
            "starting episode 76, epsilon = 0.5699999999999996\n",
            "total reward = 116.0, actions list = [44, 45, 35, 36, 26, 25, 29, 19, 9, 8, 7, 17, 27, 53, 52, 51, 41, 42, 38, 28, 18, 54, 55, 56]\n",
            "starting episode 77, epsilon = 0.5649999999999996\n",
            "total reward = 115.0, actions list = [44, 43, 53, 54, 55, 45, 9, 8, 7, 6, 5, 15, 16, 52, 42, 41, 51, 50, 19, 18, 17, 28, 38, 37]\n",
            "starting episode 78, epsilon = 0.5599999999999996\n",
            "total reward = 116.0, actions list = [10, 0, 1, 2, 12, 13, 59, 58, 48, 49, 39, 29, 19, 9, 8, 7, 17, 18, 6, 5, 4, 26, 36, 46]\n",
            "starting episode 79, epsilon = 0.5549999999999996\n",
            "total reward = 130.0, actions list = [50, 51, 52, 42, 41, 31, 9, 19, 29, 39, 38, 48, 49, 40, 30, 20, 21, 11, 6, 5, 4, 22, 12, 2]\n",
            "starting episode 80, epsilon = 0.5499999999999996\n",
            "begin training\n",
            "preparing data to train\n"
          ]
        },
        {
          "output_type": "display_data",
          "data": {
            "text/plain": [
              "<IPython.core.display.HTML object>"
            ],
            "text/html": [
              "Tracking run with wandb version 0.16.3"
            ]
          },
          "metadata": {}
        },
        {
          "output_type": "display_data",
          "data": {
            "text/plain": [
              "<IPython.core.display.HTML object>"
            ],
            "text/html": [
              "Run data is saved locally in <code>/content/wandb/run-20240226_094634-i58cafsk</code>"
            ]
          },
          "metadata": {}
        },
        {
          "output_type": "display_data",
          "data": {
            "text/plain": [
              "<IPython.core.display.HTML object>"
            ],
            "text/html": [
              "Syncing run <strong><a href='https://wandb.ai/monteleone/WormsWarmingUp/runs/i58cafsk' target=\"_blank\">model_V1_wormholes_disabled_multi_worms_training_ep_80</a></strong> to <a href='https://wandb.ai/monteleone/WormsWarmingUp' target=\"_blank\">Weights & Biases</a> (<a href='https://wandb.me/run' target=\"_blank\">docs</a>)<br/>"
            ]
          },
          "metadata": {}
        },
        {
          "output_type": "display_data",
          "data": {
            "text/plain": [
              "<IPython.core.display.HTML object>"
            ],
            "text/html": [
              " View project at <a href='https://wandb.ai/monteleone/WormsWarmingUp' target=\"_blank\">https://wandb.ai/monteleone/WormsWarmingUp</a>"
            ]
          },
          "metadata": {}
        },
        {
          "output_type": "display_data",
          "data": {
            "text/plain": [
              "<IPython.core.display.HTML object>"
            ],
            "text/html": [
              " View run at <a href='https://wandb.ai/monteleone/WormsWarmingUp/runs/i58cafsk' target=\"_blank\">https://wandb.ai/monteleone/WormsWarmingUp/runs/i58cafsk</a>"
            ]
          },
          "metadata": {}
        },
        {
          "output_type": "stream",
          "name": "stderr",
          "text": [
            "/usr/local/lib/python3.10/dist-packages/lightning/pytorch/callbacks/model_checkpoint.py:652: UserWarning:\n",
            "\n",
            "Checkpoint directory /content/Model exists and is not empty.\n",
            "\n",
            "INFO: \n",
            "  | Name    | Type     | Params\n",
            "-------------------------------------\n",
            "0 | encoder | GraphNN  | 0     \n",
            "1 | decoder | LinearNN | 8.4 K \n",
            "2 | loss    | MSELoss  | 0     \n",
            "-------------------------------------\n",
            "8.4 K     Trainable params\n",
            "0         Non-trainable params\n",
            "8.4 K     Total params\n",
            "0.034     Total estimated model params size (MB)\n",
            "INFO:lightning.pytorch.callbacks.model_summary:\n",
            "  | Name    | Type     | Params\n",
            "-------------------------------------\n",
            "0 | encoder | GraphNN  | 0     \n",
            "1 | decoder | LinearNN | 8.4 K \n",
            "2 | loss    | MSELoss  | 0     \n",
            "-------------------------------------\n",
            "8.4 K     Trainable params\n",
            "0         Non-trainable params\n",
            "8.4 K     Total params\n",
            "0.034     Total estimated model params size (MB)\n"
          ]
        },
        {
          "output_type": "display_data",
          "data": {
            "text/plain": [
              "Sanity Checking: |          | 0/? [00:00<?, ?it/s]"
            ],
            "application/vnd.jupyter.widget-view+json": {
              "version_major": 2,
              "version_minor": 0,
              "model_id": "d95e89c5d289417eb30625d731b1242c"
            }
          },
          "metadata": {}
        },
        {
          "output_type": "stream",
          "name": "stdout",
          "text": [
            "val_loss =  6325.8017578125\n",
            "mean_absolute_error =  58.946167\n",
            "root_mean_squared_error =  79.53491\n",
            "r2 =  -93.30464333353048\n"
          ]
        },
        {
          "output_type": "display_data",
          "data": {
            "text/plain": [
              "VBox(children=(Label(value='0.001 MB of 0.001 MB uploaded\\r'), FloatProgress(value=1.0, max=1.0)))"
            ],
            "application/vnd.jupyter.widget-view+json": {
              "version_major": 2,
              "version_minor": 0,
              "model_id": "b239d8165beb44c68374616d4486729d"
            }
          },
          "metadata": {}
        },
        {
          "output_type": "display_data",
          "data": {
            "text/plain": [
              "<IPython.core.display.HTML object>"
            ],
            "text/html": [
              "<style>\n",
              "    table.wandb td:nth-child(1) { padding: 0 10px; text-align: left ; width: auto;} td:nth-child(2) {text-align: left ; width: 100%}\n",
              "    .wandb-row { display: flex; flex-direction: row; flex-wrap: wrap; justify-content: flex-start; width: 100% }\n",
              "    .wandb-col { display: flex; flex-direction: column; flex-basis: 100%; flex: 1; padding: 10px; }\n",
              "    </style>\n",
              "<div class=\"wandb-row\"><div class=\"wandb-col\"><h3>Run history:</h3><br/><table class=\"wandb\"><tr><td>mean_absolute_error</td><td>▁</td></tr><tr><td>r2</td><td>▁</td></tr><tr><td>root_mean_squared_error</td><td>▁</td></tr><tr><td>val_loss</td><td>▁</td></tr></table><br/></div><div class=\"wandb-col\"><h3>Run summary:</h3><br/><table class=\"wandb\"><tr><td>mean_absolute_error</td><td>58.94617</td></tr><tr><td>r2</td><td>-93.30464</td></tr><tr><td>root_mean_squared_error</td><td>79.53491</td></tr><tr><td>val_loss</td><td>6325.80176</td></tr></table><br/></div></div>"
            ]
          },
          "metadata": {}
        },
        {
          "output_type": "display_data",
          "data": {
            "text/plain": [
              "<IPython.core.display.HTML object>"
            ],
            "text/html": [
              " View run <strong style=\"color:#cdcd00\">model_V1_wormholes_disabled_multi_worms_training_ep_80</strong> at: <a href='https://wandb.ai/monteleone/WormsWarmingUp/runs/i58cafsk' target=\"_blank\">https://wandb.ai/monteleone/WormsWarmingUp/runs/i58cafsk</a><br/>Synced 5 W&B file(s), 0 media file(s), 0 artifact file(s) and 0 other file(s)"
            ]
          },
          "metadata": {}
        },
        {
          "output_type": "display_data",
          "data": {
            "text/plain": [
              "<IPython.core.display.HTML object>"
            ],
            "text/html": [
              "Find logs at: <code>./wandb/run-20240226_094634-i58cafsk/logs</code>"
            ]
          },
          "metadata": {}
        },
        {
          "output_type": "stream",
          "name": "stdout",
          "text": [
            "finished training\n"
          ]
        },
        {
          "output_type": "stream",
          "name": "stderr",
          "text": [
            "/usr/local/lib/python3.10/dist-packages/gymnasium/core.py:311: UserWarning:\n",
            "\n",
            "\u001b[33mWARN: env.available_movements to get variables from other wrappers is deprecated and will be removed in v1.0, to get this variable you can do `env.unwrapped.available_movements` for environment variables or `env.get_wrapper_attr('available_movements')` that will search the reminding wrappers.\u001b[0m\n",
            "\n"
          ]
        },
        {
          "output_type": "stream",
          "name": "stdout",
          "text": [
            "total reward = -122.0, actions list = [0, 10, 20, 30, 31, 41, 9, 8, 18, 28, 27, 17, 16, 39, 29, 19]\n",
            "starting episode 81, epsilon = 0.5449999999999996\n",
            "total reward = 123.0, actions list = [9, 19, 29, 39, 38, 37, 1, 0, 10, 11, 21, 22, 32, 51, 41, 31, 30, 20, 52, 42, 43, 3, 13, 12]\n",
            "starting episode 82, epsilon = 0.5399999999999996\n",
            "total reward = 85.0, actions list = [15, 5, 4, 3, 2, 12, 31, 21, 22, 23, 24, 34, 33, 28, 38, 48, 47, 46, 58, 57, 56, 27, 26, 36]\n",
            "starting episode 83, epsilon = 0.5349999999999996\n",
            "total reward = 116.0, actions list = [46, 56, 55, 54, 53, 52, 9, 19, 29, 39, 49, 59, 58, 35, 25, 15, 16, 6, 26, 27, 37, 20, 10, 0]\n",
            "starting episode 84, epsilon = 0.5299999999999996\n",
            "total reward = 122.0, actions list = [9, 19, 29, 39, 49, 59, 52, 51, 41, 42, 43, 33, 32, 47, 37, 27, 26, 16, 6, 7, 8, 24, 25, 15]\n",
            "starting episode 85, epsilon = 0.5249999999999996\n",
            "total reward = 133.0, actions list = [9, 19, 29, 39, 49, 59, 52, 51, 50, 40, 41, 42, 32, 6, 5, 15, 16, 26, 25, 24, 34, 47, 46, 36]\n",
            "starting episode 86, epsilon = 0.5199999999999996\n",
            "total reward = -64.0, actions list = [40, 41, 42, 43, 53, 52, 9, 19, 29, 39, 49, 59, 58, 6, 5, 15, 16, 17, 35, 25, 26, 50, 51]\n",
            "starting episode 87, epsilon = 0.5149999999999996\n",
            "total reward = -74.0, actions list = [9, 19, 29, 39, 49, 59, 52, 51, 50, 40, 41, 31, 32, 48, 58, 57, 56, 46, 6, 16, 15, 4, 5]\n",
            "starting episode 88, epsilon = 0.5099999999999996\n",
            "total reward = 121.0, actions list = [9, 19, 29, 39, 49, 48, 52, 53, 43, 44, 45, 55, 54, 6, 5, 15, 16, 17, 56, 46, 36, 33, 32, 42]\n",
            "starting episode 89, epsilon = 0.5049999999999996\n",
            "total reward = -86.0, actions list = [9, 19, 29, 39, 49, 59, 57, 47, 46, 56, 55, 54, 53, 52, 42, 41, 51, 50, 48, 58]\n",
            "starting episode 90, epsilon = 0.49999999999999956\n",
            "total reward = 132.0, actions list = [9, 19, 29, 39, 49, 59, 53, 54, 44, 43, 42, 52, 51, 2, 3, 4, 5, 6, 17, 18, 28, 50, 40, 41]\n",
            "starting episode 91, epsilon = 0.49499999999999955\n",
            "total reward = 111.0, actions list = [10, 0, 1, 2, 3, 4, 9, 8, 7, 6, 5, 15, 25, 24, 34, 33, 43, 42, 19, 18, 17, 52, 51, 50]\n",
            "starting episode 92, epsilon = 0.48999999999999955\n",
            "total reward = 132.0, actions list = [9, 19, 18, 17, 16, 6, 5, 4, 3, 2, 12, 22, 21, 52, 51, 41, 31, 32, 42, 43, 53, 48, 49, 39]\n",
            "starting episode 93, epsilon = 0.48499999999999954\n",
            "total reward = 136.0, actions list = [9, 19, 29, 39, 49, 59, 52, 51, 50, 40, 41, 31, 32, 12, 13, 3, 4, 5, 42, 43, 53, 6, 16, 15]\n",
            "starting episode 94, epsilon = 0.47999999999999954\n",
            "total reward = 140.0, actions list = [43, 53, 52, 42, 41, 51, 24, 25, 15, 5, 6, 16, 17, 9, 19, 18, 28, 27, 29, 39, 49, 59, 58, 48]\n",
            "starting episode 95, epsilon = 0.47499999999999953\n",
            "total reward = 138.0, actions list = [9, 19, 29, 39, 49, 59, 53, 54, 44, 43, 42, 32, 22, 52, 51, 41, 31, 21, 6, 5, 15, 27, 26, 16]\n",
            "starting episode 96, epsilon = 0.46999999999999953\n",
            "total reward = 130.0, actions list = [9, 8, 18, 19, 29, 39, 52, 51, 41, 31, 32, 33, 43, 36, 26, 16, 17, 27, 20, 10, 0, 6, 5, 4]\n",
            "starting episode 97, epsilon = 0.4649999999999995\n",
            "total reward = -73.0, actions list = [50, 51, 52, 42, 41, 40, 9, 8, 18, 28, 38, 39, 29, 59, 49, 48, 58, 57, 5, 6, 16, 19]\n",
            "starting episode 98, epsilon = 0.4599999999999995\n",
            "total reward = 125.0, actions list = [9, 19, 29, 39, 49, 59, 23, 13, 3, 4, 14, 15, 5, 52, 51, 41, 42, 43, 6, 16, 26, 46, 56, 57]\n",
            "starting episode 99, epsilon = 0.4549999999999995\n",
            "total reward = -108.0, actions list = [13, 12, 11, 10, 0, 1, 18, 19, 29, 28, 38, 48, 49, 9, 8, 7, 6, 5, 39]\n",
            "starting episode 100, epsilon = 0.4499999999999995\n",
            "begin training\n",
            "preparing data to train\n"
          ]
        },
        {
          "output_type": "display_data",
          "data": {
            "text/plain": [
              "<IPython.core.display.HTML object>"
            ],
            "text/html": [
              "Tracking run with wandb version 0.16.3"
            ]
          },
          "metadata": {}
        },
        {
          "output_type": "display_data",
          "data": {
            "text/plain": [
              "<IPython.core.display.HTML object>"
            ],
            "text/html": [
              "Run data is saved locally in <code>/content/wandb/run-20240226_094847-kxuhbdkf</code>"
            ]
          },
          "metadata": {}
        },
        {
          "output_type": "display_data",
          "data": {
            "text/plain": [
              "<IPython.core.display.HTML object>"
            ],
            "text/html": [
              "Syncing run <strong><a href='https://wandb.ai/monteleone/WormsWarmingUp/runs/kxuhbdkf' target=\"_blank\">model_V1_wormholes_disabled_multi_worms_training_ep_100</a></strong> to <a href='https://wandb.ai/monteleone/WormsWarmingUp' target=\"_blank\">Weights & Biases</a> (<a href='https://wandb.me/run' target=\"_blank\">docs</a>)<br/>"
            ]
          },
          "metadata": {}
        },
        {
          "output_type": "display_data",
          "data": {
            "text/plain": [
              "<IPython.core.display.HTML object>"
            ],
            "text/html": [
              " View project at <a href='https://wandb.ai/monteleone/WormsWarmingUp' target=\"_blank\">https://wandb.ai/monteleone/WormsWarmingUp</a>"
            ]
          },
          "metadata": {}
        },
        {
          "output_type": "display_data",
          "data": {
            "text/plain": [
              "<IPython.core.display.HTML object>"
            ],
            "text/html": [
              " View run at <a href='https://wandb.ai/monteleone/WormsWarmingUp/runs/kxuhbdkf' target=\"_blank\">https://wandb.ai/monteleone/WormsWarmingUp/runs/kxuhbdkf</a>"
            ]
          },
          "metadata": {}
        },
        {
          "output_type": "stream",
          "name": "stderr",
          "text": [
            "/usr/local/lib/python3.10/dist-packages/lightning/pytorch/callbacks/model_checkpoint.py:652: UserWarning:\n",
            "\n",
            "Checkpoint directory /content/Model exists and is not empty.\n",
            "\n",
            "INFO: \n",
            "  | Name    | Type     | Params\n",
            "-------------------------------------\n",
            "0 | encoder | GraphNN  | 0     \n",
            "1 | decoder | LinearNN | 8.4 K \n",
            "2 | loss    | MSELoss  | 0     \n",
            "-------------------------------------\n",
            "8.4 K     Trainable params\n",
            "0         Non-trainable params\n",
            "8.4 K     Total params\n",
            "0.034     Total estimated model params size (MB)\n",
            "INFO:lightning.pytorch.callbacks.model_summary:\n",
            "  | Name    | Type     | Params\n",
            "-------------------------------------\n",
            "0 | encoder | GraphNN  | 0     \n",
            "1 | decoder | LinearNN | 8.4 K \n",
            "2 | loss    | MSELoss  | 0     \n",
            "-------------------------------------\n",
            "8.4 K     Trainable params\n",
            "0         Non-trainable params\n",
            "8.4 K     Total params\n",
            "0.034     Total estimated model params size (MB)\n"
          ]
        },
        {
          "output_type": "display_data",
          "data": {
            "text/plain": [
              "Sanity Checking: |          | 0/? [00:00<?, ?it/s]"
            ],
            "application/vnd.jupyter.widget-view+json": {
              "version_major": 2,
              "version_minor": 0,
              "model_id": "6ffad2c101fd43099d07b11c387b390a"
            }
          },
          "metadata": {}
        },
        {
          "output_type": "stream",
          "name": "stdout",
          "text": [
            "val_loss =  13190.3515625\n",
            "mean_absolute_error =  97.76258\n",
            "root_mean_squared_error =  114.84926\n",
            "r2 =  -190.87261400574033\n"
          ]
        },
        {
          "output_type": "display_data",
          "data": {
            "text/plain": [
              "VBox(children=(Label(value='0.001 MB of 0.001 MB uploaded\\r'), FloatProgress(value=1.0, max=1.0)))"
            ],
            "application/vnd.jupyter.widget-view+json": {
              "version_major": 2,
              "version_minor": 0,
              "model_id": "bb17685f8a9a4993a2cbc297af111d8a"
            }
          },
          "metadata": {}
        },
        {
          "output_type": "display_data",
          "data": {
            "text/plain": [
              "<IPython.core.display.HTML object>"
            ],
            "text/html": [
              "<style>\n",
              "    table.wandb td:nth-child(1) { padding: 0 10px; text-align: left ; width: auto;} td:nth-child(2) {text-align: left ; width: 100%}\n",
              "    .wandb-row { display: flex; flex-direction: row; flex-wrap: wrap; justify-content: flex-start; width: 100% }\n",
              "    .wandb-col { display: flex; flex-direction: column; flex-basis: 100%; flex: 1; padding: 10px; }\n",
              "    </style>\n",
              "<div class=\"wandb-row\"><div class=\"wandb-col\"><h3>Run history:</h3><br/><table class=\"wandb\"><tr><td>mean_absolute_error</td><td>▁</td></tr><tr><td>r2</td><td>▁</td></tr><tr><td>root_mean_squared_error</td><td>▁</td></tr><tr><td>val_loss</td><td>▁</td></tr></table><br/></div><div class=\"wandb-col\"><h3>Run summary:</h3><br/><table class=\"wandb\"><tr><td>mean_absolute_error</td><td>97.76258</td></tr><tr><td>r2</td><td>-190.87261</td></tr><tr><td>root_mean_squared_error</td><td>114.84926</td></tr><tr><td>val_loss</td><td>13190.35156</td></tr></table><br/></div></div>"
            ]
          },
          "metadata": {}
        },
        {
          "output_type": "display_data",
          "data": {
            "text/plain": [
              "<IPython.core.display.HTML object>"
            ],
            "text/html": [
              " View run <strong style=\"color:#cdcd00\">model_V1_wormholes_disabled_multi_worms_training_ep_100</strong> at: <a href='https://wandb.ai/monteleone/WormsWarmingUp/runs/kxuhbdkf' target=\"_blank\">https://wandb.ai/monteleone/WormsWarmingUp/runs/kxuhbdkf</a><br/>Synced 5 W&B file(s), 0 media file(s), 0 artifact file(s) and 0 other file(s)"
            ]
          },
          "metadata": {}
        },
        {
          "output_type": "display_data",
          "data": {
            "text/plain": [
              "<IPython.core.display.HTML object>"
            ],
            "text/html": [
              "Find logs at: <code>./wandb/run-20240226_094847-kxuhbdkf/logs</code>"
            ]
          },
          "metadata": {}
        },
        {
          "output_type": "stream",
          "name": "stdout",
          "text": [
            "finished training\n"
          ]
        },
        {
          "output_type": "stream",
          "name": "stderr",
          "text": [
            "/usr/local/lib/python3.10/dist-packages/gymnasium/core.py:311: UserWarning:\n",
            "\n",
            "\u001b[33mWARN: env.available_movements to get variables from other wrappers is deprecated and will be removed in v1.0, to get this variable you can do `env.unwrapped.available_movements` for environment variables or `env.get_wrapper_attr('available_movements')` that will search the reminding wrappers.\u001b[0m\n",
            "\n"
          ]
        },
        {
          "output_type": "stream",
          "name": "stdout",
          "text": [
            "total reward = 123.0, actions list = [19, 9, 8, 7, 6, 5, 38, 39, 49, 59, 58, 48, 47, 35, 34, 24, 14, 15, 52, 51, 41, 29, 28, 18]\n",
            "starting episode 101, epsilon = 0.4449999999999995\n",
            "total reward = 120.0, actions list = [44, 43, 33, 34, 35, 45, 9, 19, 29, 39, 49, 59, 58, 52, 42, 41, 51, 50, 11, 10, 0, 6, 5, 15]\n",
            "starting episode 102, epsilon = 0.4399999999999995\n",
            "total reward = 121.0, actions list = [51, 52, 53, 54, 55, 56, 9, 19, 29, 28, 27, 26, 16, 43, 44, 45, 46, 36, 50, 40, 41, 17, 18, 8]\n",
            "starting episode 103, epsilon = 0.4349999999999995\n",
            "total reward = 128.0, actions list = [9, 19, 29, 39, 38, 37, 58, 59, 49, 48, 47, 46, 56, 52, 51, 50, 40, 41, 6, 5, 15, 17, 16, 26]\n",
            "starting episode 104, epsilon = 0.4299999999999995\n",
            "total reward = 133.0, actions list = [9, 19, 29, 39, 38, 48, 52, 51, 41, 31, 30, 20, 10, 6, 7, 17, 16, 15, 5, 4, 3, 49, 59, 58]\n",
            "starting episode 105, epsilon = 0.4249999999999995\n",
            "total reward = 138.0, actions list = [9, 19, 29, 39, 49, 48, 52, 53, 43, 42, 41, 51, 50, 6, 5, 15, 16, 26, 2, 3, 4, 59, 58, 57]\n",
            "starting episode 106, epsilon = 0.4199999999999995\n",
            "total reward = 127.0, actions list = [9, 8, 18, 19, 29, 28, 52, 51, 50, 40, 41, 42, 32, 6, 5, 15, 16, 26, 59, 49, 39, 13, 23, 22]\n",
            "starting episode 107, epsilon = 0.4149999999999995\n",
            "total reward = 123.0, actions list = [5, 6, 16, 15, 25, 26, 13, 12, 2, 3, 4, 14, 24, 9, 19, 29, 28, 18, 52, 53, 43, 42, 41, 51]\n",
            "starting episode 108, epsilon = 0.4099999999999995\n",
            "total reward = 127.0, actions list = [29, 19, 9, 8, 18, 17, 13, 3, 4, 5, 15, 16, 6, 32, 42, 52, 53, 43, 51, 50, 40, 26, 25, 24]\n",
            "starting episode 109, epsilon = 0.40499999999999947\n",
            "total reward = 129.0, actions list = [9, 19, 29, 28, 18, 17, 40, 41, 51, 52, 42, 32, 31, 6, 5, 15, 16, 26, 59, 49, 39, 56, 46, 45]\n",
            "starting episode 110, epsilon = 0.39999999999999947\n",
            "total reward = 123.0, actions list = [45, 44, 43, 53, 52, 42, 9, 19, 29, 39, 38, 48, 49, 6, 16, 26, 36, 35, 33, 32, 22, 56, 55, 54]\n",
            "starting episode 111, epsilon = 0.39499999999999946\n",
            "total reward = 134.0, actions list = [9, 19, 29, 28, 38, 37, 41, 51, 52, 42, 32, 31, 21, 6, 7, 17, 16, 15, 5, 4, 3, 27, 26, 36]\n",
            "starting episode 112, epsilon = 0.38999999999999946\n",
            "total reward = 128.0, actions list = [9, 19, 29, 39, 38, 28, 52, 53, 43, 42, 41, 51, 50, 6, 5, 15, 16, 26, 13, 12, 2, 49, 59, 58]\n",
            "starting episode 113, epsilon = 0.38499999999999945\n",
            "total reward = 120.0, actions list = [26, 27, 17, 7, 6, 5, 9, 8, 18, 19, 29, 28, 38, 52, 53, 43, 44, 34, 51, 50, 40, 39, 49, 59]\n",
            "starting episode 114, epsilon = 0.37999999999999945\n",
            "total reward = 122.0, actions list = [9, 19, 29, 39, 49, 59, 41, 51, 52, 42, 32, 31, 21, 56, 46, 45, 35, 25, 44, 34, 24, 6, 5, 15]\n",
            "starting episode 115, epsilon = 0.37499999999999944\n",
            "total reward = 118.0, actions list = [21, 31, 41, 51, 52, 53, 9, 8, 18, 19, 29, 39, 49, 56, 46, 45, 55, 54, 36, 35, 34, 6, 5, 4]\n",
            "starting episode 116, epsilon = 0.36999999999999944\n",
            "total reward = 132.0, actions list = [9, 19, 29, 39, 49, 59, 53, 52, 51, 41, 42, 43, 44, 6, 5, 15, 16, 17, 45, 35, 36, 11, 1, 0]\n",
            "starting episode 117, epsilon = 0.36499999999999944\n",
            "total reward = -88.0, actions list = [56, 46, 45, 55, 54, 44, 9, 8, 18, 19, 29, 28, 38, 13, 3, 4, 5, 6, 52, 42, 41, 43, 53]\n",
            "starting episode 118, epsilon = 0.35999999999999943\n",
            "total reward = 141.0, actions list = [9, 8, 18, 19, 29, 28, 52, 51, 41, 42, 32, 31, 30, 36, 26, 27, 17, 16, 6, 5, 15, 59, 49, 39]\n",
            "starting episode 119, epsilon = 0.3549999999999994\n",
            "total reward = 122.0, actions list = [9, 19, 29, 28, 27, 17, 7, 6, 5, 15, 16, 26, 25, 58, 57, 56, 46, 45, 52, 53, 43, 59, 49, 48]\n",
            "starting episode 120, epsilon = 0.3499999999999994\n",
            "begin training\n",
            "preparing data to train\n"
          ]
        },
        {
          "output_type": "display_data",
          "data": {
            "text/plain": [
              "<IPython.core.display.HTML object>"
            ],
            "text/html": [
              "Tracking run with wandb version 0.16.3"
            ]
          },
          "metadata": {}
        },
        {
          "output_type": "display_data",
          "data": {
            "text/plain": [
              "<IPython.core.display.HTML object>"
            ],
            "text/html": [
              "Run data is saved locally in <code>/content/wandb/run-20240226_095102-hzkcxtj3</code>"
            ]
          },
          "metadata": {}
        },
        {
          "output_type": "display_data",
          "data": {
            "text/plain": [
              "<IPython.core.display.HTML object>"
            ],
            "text/html": [
              "Syncing run <strong><a href='https://wandb.ai/monteleone/WormsWarmingUp/runs/hzkcxtj3' target=\"_blank\">model_V1_wormholes_disabled_multi_worms_training_ep_120</a></strong> to <a href='https://wandb.ai/monteleone/WormsWarmingUp' target=\"_blank\">Weights & Biases</a> (<a href='https://wandb.me/run' target=\"_blank\">docs</a>)<br/>"
            ]
          },
          "metadata": {}
        },
        {
          "output_type": "display_data",
          "data": {
            "text/plain": [
              "<IPython.core.display.HTML object>"
            ],
            "text/html": [
              " View project at <a href='https://wandb.ai/monteleone/WormsWarmingUp' target=\"_blank\">https://wandb.ai/monteleone/WormsWarmingUp</a>"
            ]
          },
          "metadata": {}
        },
        {
          "output_type": "display_data",
          "data": {
            "text/plain": [
              "<IPython.core.display.HTML object>"
            ],
            "text/html": [
              " View run at <a href='https://wandb.ai/monteleone/WormsWarmingUp/runs/hzkcxtj3' target=\"_blank\">https://wandb.ai/monteleone/WormsWarmingUp/runs/hzkcxtj3</a>"
            ]
          },
          "metadata": {}
        },
        {
          "output_type": "stream",
          "name": "stderr",
          "text": [
            "/usr/local/lib/python3.10/dist-packages/lightning/pytorch/callbacks/model_checkpoint.py:652: UserWarning:\n",
            "\n",
            "Checkpoint directory /content/Model exists and is not empty.\n",
            "\n",
            "INFO: \n",
            "  | Name    | Type     | Params\n",
            "-------------------------------------\n",
            "0 | encoder | GraphNN  | 0     \n",
            "1 | decoder | LinearNN | 8.4 K \n",
            "2 | loss    | MSELoss  | 0     \n",
            "-------------------------------------\n",
            "8.4 K     Trainable params\n",
            "0         Non-trainable params\n",
            "8.4 K     Total params\n",
            "0.034     Total estimated model params size (MB)\n",
            "INFO:lightning.pytorch.callbacks.model_summary:\n",
            "  | Name    | Type     | Params\n",
            "-------------------------------------\n",
            "0 | encoder | GraphNN  | 0     \n",
            "1 | decoder | LinearNN | 8.4 K \n",
            "2 | loss    | MSELoss  | 0     \n",
            "-------------------------------------\n",
            "8.4 K     Trainable params\n",
            "0         Non-trainable params\n",
            "8.4 K     Total params\n",
            "0.034     Total estimated model params size (MB)\n"
          ]
        },
        {
          "output_type": "display_data",
          "data": {
            "text/plain": [
              "Sanity Checking: |          | 0/? [00:00<?, ?it/s]"
            ],
            "application/vnd.jupyter.widget-view+json": {
              "version_major": 2,
              "version_minor": 0,
              "model_id": "7ea91e87185f4bdd9d0fe59c1903d357"
            }
          },
          "metadata": {}
        },
        {
          "output_type": "stream",
          "name": "stdout",
          "text": [
            "val_loss =  7417.86669921875\n",
            "mean_absolute_error =  75.465576\n",
            "root_mean_squared_error =  86.12704\n",
            "r2 =  -106.99189675793109\n"
          ]
        },
        {
          "output_type": "display_data",
          "data": {
            "text/plain": [
              "VBox(children=(Label(value='0.001 MB of 0.001 MB uploaded\\r'), FloatProgress(value=1.0, max=1.0)))"
            ],
            "application/vnd.jupyter.widget-view+json": {
              "version_major": 2,
              "version_minor": 0,
              "model_id": "a21b56f522be4271bb816972d9c57c4d"
            }
          },
          "metadata": {}
        },
        {
          "output_type": "display_data",
          "data": {
            "text/plain": [
              "<IPython.core.display.HTML object>"
            ],
            "text/html": [
              "<style>\n",
              "    table.wandb td:nth-child(1) { padding: 0 10px; text-align: left ; width: auto;} td:nth-child(2) {text-align: left ; width: 100%}\n",
              "    .wandb-row { display: flex; flex-direction: row; flex-wrap: wrap; justify-content: flex-start; width: 100% }\n",
              "    .wandb-col { display: flex; flex-direction: column; flex-basis: 100%; flex: 1; padding: 10px; }\n",
              "    </style>\n",
              "<div class=\"wandb-row\"><div class=\"wandb-col\"><h3>Run history:</h3><br/><table class=\"wandb\"><tr><td>mean_absolute_error</td><td>▁</td></tr><tr><td>r2</td><td>▁</td></tr><tr><td>root_mean_squared_error</td><td>▁</td></tr><tr><td>val_loss</td><td>▁</td></tr></table><br/></div><div class=\"wandb-col\"><h3>Run summary:</h3><br/><table class=\"wandb\"><tr><td>mean_absolute_error</td><td>75.46558</td></tr><tr><td>r2</td><td>-106.9919</td></tr><tr><td>root_mean_squared_error</td><td>86.12704</td></tr><tr><td>val_loss</td><td>7417.8667</td></tr></table><br/></div></div>"
            ]
          },
          "metadata": {}
        },
        {
          "output_type": "display_data",
          "data": {
            "text/plain": [
              "<IPython.core.display.HTML object>"
            ],
            "text/html": [
              " View run <strong style=\"color:#cdcd00\">model_V1_wormholes_disabled_multi_worms_training_ep_120</strong> at: <a href='https://wandb.ai/monteleone/WormsWarmingUp/runs/hzkcxtj3' target=\"_blank\">https://wandb.ai/monteleone/WormsWarmingUp/runs/hzkcxtj3</a><br/>Synced 5 W&B file(s), 0 media file(s), 0 artifact file(s) and 0 other file(s)"
            ]
          },
          "metadata": {}
        },
        {
          "output_type": "display_data",
          "data": {
            "text/plain": [
              "<IPython.core.display.HTML object>"
            ],
            "text/html": [
              "Find logs at: <code>./wandb/run-20240226_095102-hzkcxtj3/logs</code>"
            ]
          },
          "metadata": {}
        },
        {
          "output_type": "stream",
          "name": "stdout",
          "text": [
            "finished training\n"
          ]
        },
        {
          "output_type": "stream",
          "name": "stderr",
          "text": [
            "/usr/local/lib/python3.10/dist-packages/gymnasium/core.py:311: UserWarning:\n",
            "\n",
            "\u001b[33mWARN: env.available_movements to get variables from other wrappers is deprecated and will be removed in v1.0, to get this variable you can do `env.unwrapped.available_movements` for environment variables or `env.get_wrapper_attr('available_movements')` that will search the reminding wrappers.\u001b[0m\n",
            "\n"
          ]
        },
        {
          "output_type": "stream",
          "name": "stdout",
          "text": [
            "total reward = 128.0, actions list = [8, 9, 19, 18, 17, 16, 57, 56, 46, 47, 37, 38, 39, 6, 5, 15, 25, 26, 48, 49, 59, 41, 51, 52]\n",
            "starting episode 121, epsilon = 0.3449999999999994\n",
            "total reward = 113.0, actions list = [9, 8, 18, 19, 29, 39, 52, 51, 41, 31, 21, 22, 32, 47, 37, 38, 28, 27, 45, 44, 43, 34, 35, 36]\n",
            "starting episode 122, epsilon = 0.3399999999999994\n",
            "total reward = 142.0, actions list = [9, 19, 29, 28, 27, 26, 5, 6, 16, 17, 7, 8, 18, 52, 51, 41, 42, 32, 59, 58, 48, 49, 39, 38]\n",
            "starting episode 123, epsilon = 0.3349999999999994\n",
            "total reward = 126.0, actions list = [9, 19, 29, 39, 49, 59, 52, 51, 41, 40, 30, 31, 32, 11, 12, 2, 1, 0, 6, 5, 15, 48, 38, 28]\n",
            "starting episode 124, epsilon = 0.3299999999999994\n",
            "total reward = 131.0, actions list = [9, 8, 18, 19, 29, 39, 49, 59, 58, 48, 47, 46, 56, 52, 51, 50, 40, 41, 6, 5, 15, 42, 32, 31]\n",
            "starting episode 125, epsilon = 0.3249999999999994\n",
            "total reward = 119.0, actions list = [26, 36, 37, 38, 28, 29, 19, 9, 8, 7, 6, 5, 4, 14, 24, 23, 13, 12, 18, 17, 16, 52, 51, 41]\n",
            "starting episode 126, epsilon = 0.3199999999999994\n",
            "total reward = 122.0, actions list = [9, 19, 18, 17, 16, 6, 5, 4, 3, 2, 1, 11, 12, 52, 53, 43, 42, 41, 10, 20, 21, 39, 29, 28]\n",
            "starting episode 127, epsilon = 0.3149999999999994\n",
            "total reward = -79.0, actions list = [9, 19, 29, 39, 38, 48, 32, 42, 41, 51, 52, 53, 54, 6, 5, 15, 16, 26, 59, 49]\n",
            "starting episode 128, epsilon = 0.3099999999999994\n",
            "total reward = 136.0, actions list = [9, 19, 29, 39, 49, 59, 52, 51, 41, 40, 30, 20, 10, 6, 5, 15, 14, 4, 53, 43, 42, 16, 26, 25]\n",
            "starting episode 129, epsilon = 0.3049999999999994\n",
            "total reward = 130.0, actions list = [9, 19, 29, 39, 49, 59, 8, 18, 17, 16, 6, 5, 15, 52, 51, 41, 31, 32, 42, 43, 53, 56, 46, 45]\n",
            "starting episode 130, epsilon = 0.2999999999999994\n",
            "total reward = 132.0, actions list = [9, 19, 29, 28, 27, 26, 48, 58, 57, 56, 55, 45, 46, 52, 51, 41, 42, 32, 6, 16, 15, 5, 4, 3]\n",
            "starting episode 131, epsilon = 0.2949999999999994\n",
            "total reward = 126.0, actions list = [9, 19, 29, 39, 49, 59, 28, 18, 17, 16, 6, 7, 8, 5, 4, 3, 2, 1, 52, 51, 50, 35, 45, 46]\n",
            "starting episode 132, epsilon = 0.28999999999999937\n",
            "total reward = 126.0, actions list = [9, 19, 29, 28, 27, 26, 52, 51, 41, 42, 32, 31, 21, 6, 5, 4, 3, 2, 59, 49, 39, 44, 45, 35]\n",
            "starting episode 133, epsilon = 0.28499999999999936\n",
            "total reward = 128.0, actions list = [9, 19, 29, 39, 38, 28, 52, 42, 41, 51, 50, 40, 30, 4, 5, 15, 25, 26, 17, 27, 37, 16, 6, 7]\n",
            "starting episode 134, epsilon = 0.27999999999999936\n",
            "total reward = 134.0, actions list = [56, 46, 45, 55, 54, 53, 9, 19, 29, 39, 49, 59, 58, 52, 51, 41, 42, 32, 6, 5, 15, 16, 17, 27]\n",
            "starting episode 135, epsilon = 0.27499999999999936\n",
            "total reward = 125.0, actions list = [9, 8, 18, 19, 29, 28, 52, 42, 43, 44, 45, 35, 36, 10, 11, 12, 2, 3, 40, 41, 51, 4, 5, 6]\n",
            "starting episode 136, epsilon = 0.26999999999999935\n",
            "total reward = 129.0, actions list = [21, 22, 32, 42, 52, 51, 9, 19, 29, 39, 49, 59, 58, 6, 7, 17, 16, 15, 5, 4, 3, 56, 46, 45]\n",
            "starting episode 137, epsilon = 0.26499999999999935\n",
            "total reward = 124.0, actions list = [3, 2, 1, 0, 10, 11, 9, 19, 29, 39, 49, 59, 58, 52, 51, 50, 40, 41, 4, 5, 6, 23, 24, 25]\n",
            "starting episode 138, epsilon = 0.25999999999999934\n",
            "total reward = 130.0, actions list = [9, 19, 29, 39, 49, 59, 52, 51, 41, 42, 32, 31, 21, 2, 3, 4, 5, 6, 15, 16, 26, 56, 46, 45]\n",
            "starting episode 139, epsilon = 0.25499999999999934\n",
            "total reward = 129.0, actions list = [9, 19, 29, 39, 49, 59, 52, 42, 41, 51, 50, 40, 30, 6, 5, 15, 16, 26, 35, 45, 46, 25, 24, 14]\n",
            "starting episode 140, epsilon = 0.24999999999999933\n",
            "begin training\n",
            "preparing data to train\n"
          ]
        },
        {
          "output_type": "display_data",
          "data": {
            "text/plain": [
              "<IPython.core.display.HTML object>"
            ],
            "text/html": [
              "Tracking run with wandb version 0.16.3"
            ]
          },
          "metadata": {}
        },
        {
          "output_type": "display_data",
          "data": {
            "text/plain": [
              "<IPython.core.display.HTML object>"
            ],
            "text/html": [
              "Run data is saved locally in <code>/content/wandb/run-20240226_095315-ba699lzq</code>"
            ]
          },
          "metadata": {}
        },
        {
          "output_type": "display_data",
          "data": {
            "text/plain": [
              "<IPython.core.display.HTML object>"
            ],
            "text/html": [
              "Syncing run <strong><a href='https://wandb.ai/monteleone/WormsWarmingUp/runs/ba699lzq' target=\"_blank\">model_V1_wormholes_disabled_multi_worms_training_ep_140</a></strong> to <a href='https://wandb.ai/monteleone/WormsWarmingUp' target=\"_blank\">Weights & Biases</a> (<a href='https://wandb.me/run' target=\"_blank\">docs</a>)<br/>"
            ]
          },
          "metadata": {}
        },
        {
          "output_type": "display_data",
          "data": {
            "text/plain": [
              "<IPython.core.display.HTML object>"
            ],
            "text/html": [
              " View project at <a href='https://wandb.ai/monteleone/WormsWarmingUp' target=\"_blank\">https://wandb.ai/monteleone/WormsWarmingUp</a>"
            ]
          },
          "metadata": {}
        },
        {
          "output_type": "display_data",
          "data": {
            "text/plain": [
              "<IPython.core.display.HTML object>"
            ],
            "text/html": [
              " View run at <a href='https://wandb.ai/monteleone/WormsWarmingUp/runs/ba699lzq' target=\"_blank\">https://wandb.ai/monteleone/WormsWarmingUp/runs/ba699lzq</a>"
            ]
          },
          "metadata": {}
        },
        {
          "output_type": "stream",
          "name": "stderr",
          "text": [
            "/usr/local/lib/python3.10/dist-packages/lightning/pytorch/callbacks/model_checkpoint.py:652: UserWarning:\n",
            "\n",
            "Checkpoint directory /content/Model exists and is not empty.\n",
            "\n",
            "INFO: \n",
            "  | Name    | Type     | Params\n",
            "-------------------------------------\n",
            "0 | encoder | GraphNN  | 0     \n",
            "1 | decoder | LinearNN | 8.4 K \n",
            "2 | loss    | MSELoss  | 0     \n",
            "-------------------------------------\n",
            "8.4 K     Trainable params\n",
            "0         Non-trainable params\n",
            "8.4 K     Total params\n",
            "0.034     Total estimated model params size (MB)\n",
            "INFO:lightning.pytorch.callbacks.model_summary:\n",
            "  | Name    | Type     | Params\n",
            "-------------------------------------\n",
            "0 | encoder | GraphNN  | 0     \n",
            "1 | decoder | LinearNN | 8.4 K \n",
            "2 | loss    | MSELoss  | 0     \n",
            "-------------------------------------\n",
            "8.4 K     Trainable params\n",
            "0         Non-trainable params\n",
            "8.4 K     Total params\n",
            "0.034     Total estimated model params size (MB)\n"
          ]
        },
        {
          "output_type": "display_data",
          "data": {
            "text/plain": [
              "Sanity Checking: |          | 0/? [00:00<?, ?it/s]"
            ],
            "application/vnd.jupyter.widget-view+json": {
              "version_major": 2,
              "version_minor": 0,
              "model_id": "a78817c116d24c5ea27bfc34ebadd7a9"
            }
          },
          "metadata": {}
        },
        {
          "output_type": "stream",
          "name": "stdout",
          "text": [
            "val_loss =  8026.4482421875\n",
            "mean_absolute_error =  73.19032\n",
            "root_mean_squared_error =  89.59045\n",
            "r2 =  -91.28323626418708\n"
          ]
        },
        {
          "output_type": "display_data",
          "data": {
            "text/plain": [
              "VBox(children=(Label(value='0.001 MB of 0.001 MB uploaded\\r'), FloatProgress(value=1.0, max=1.0)))"
            ],
            "application/vnd.jupyter.widget-view+json": {
              "version_major": 2,
              "version_minor": 0,
              "model_id": "0cb8d3244192485ea265464f5091aacf"
            }
          },
          "metadata": {}
        },
        {
          "output_type": "display_data",
          "data": {
            "text/plain": [
              "<IPython.core.display.HTML object>"
            ],
            "text/html": [
              "<style>\n",
              "    table.wandb td:nth-child(1) { padding: 0 10px; text-align: left ; width: auto;} td:nth-child(2) {text-align: left ; width: 100%}\n",
              "    .wandb-row { display: flex; flex-direction: row; flex-wrap: wrap; justify-content: flex-start; width: 100% }\n",
              "    .wandb-col { display: flex; flex-direction: column; flex-basis: 100%; flex: 1; padding: 10px; }\n",
              "    </style>\n",
              "<div class=\"wandb-row\"><div class=\"wandb-col\"><h3>Run history:</h3><br/><table class=\"wandb\"><tr><td>mean_absolute_error</td><td>▁</td></tr><tr><td>r2</td><td>▁</td></tr><tr><td>root_mean_squared_error</td><td>▁</td></tr><tr><td>val_loss</td><td>▁</td></tr></table><br/></div><div class=\"wandb-col\"><h3>Run summary:</h3><br/><table class=\"wandb\"><tr><td>mean_absolute_error</td><td>73.19032</td></tr><tr><td>r2</td><td>-91.28324</td></tr><tr><td>root_mean_squared_error</td><td>89.59045</td></tr><tr><td>val_loss</td><td>8026.44824</td></tr></table><br/></div></div>"
            ]
          },
          "metadata": {}
        },
        {
          "output_type": "display_data",
          "data": {
            "text/plain": [
              "<IPython.core.display.HTML object>"
            ],
            "text/html": [
              " View run <strong style=\"color:#cdcd00\">model_V1_wormholes_disabled_multi_worms_training_ep_140</strong> at: <a href='https://wandb.ai/monteleone/WormsWarmingUp/runs/ba699lzq' target=\"_blank\">https://wandb.ai/monteleone/WormsWarmingUp/runs/ba699lzq</a><br/>Synced 5 W&B file(s), 0 media file(s), 0 artifact file(s) and 0 other file(s)"
            ]
          },
          "metadata": {}
        },
        {
          "output_type": "display_data",
          "data": {
            "text/plain": [
              "<IPython.core.display.HTML object>"
            ],
            "text/html": [
              "Find logs at: <code>./wandb/run-20240226_095315-ba699lzq/logs</code>"
            ]
          },
          "metadata": {}
        },
        {
          "output_type": "stream",
          "name": "stdout",
          "text": [
            "finished training\n"
          ]
        },
        {
          "output_type": "stream",
          "name": "stderr",
          "text": [
            "/usr/local/lib/python3.10/dist-packages/gymnasium/core.py:311: UserWarning:\n",
            "\n",
            "\u001b[33mWARN: env.available_movements to get variables from other wrappers is deprecated and will be removed in v1.0, to get this variable you can do `env.unwrapped.available_movements` for environment variables or `env.get_wrapper_attr('available_movements')` that will search the reminding wrappers.\u001b[0m\n",
            "\n"
          ]
        },
        {
          "output_type": "stream",
          "name": "stdout",
          "text": [
            "total reward = 129.0, actions list = [8, 9, 19, 29, 39, 38, 53, 52, 51, 50, 40, 41, 42, 43, 33, 32, 22, 12, 6, 5, 15, 44, 45, 35]\n",
            "starting episode 141, epsilon = 0.24499999999999933\n",
            "total reward = 132.0, actions list = [9, 19, 18, 17, 16, 6, 5, 4, 3, 2, 1, 0, 10, 11, 21, 31, 41, 51, 52, 42, 32, 39, 29, 28]\n",
            "starting episode 142, epsilon = 0.23999999999999932\n",
            "total reward = 129.0, actions list = [9, 19, 29, 28, 18, 17, 52, 42, 41, 51, 50, 40, 30, 27, 26, 16, 6, 5, 59, 49, 39, 56, 46, 45]\n",
            "starting episode 143, epsilon = 0.23499999999999932\n",
            "total reward = 142.0, actions list = [9, 19, 29, 39, 49, 59, 13, 12, 2, 3, 4, 5, 6, 52, 51, 41, 42, 32, 17, 27, 26, 16, 15, 25]\n",
            "starting episode 144, epsilon = 0.22999999999999932\n",
            "total reward = 131.0, actions list = [9, 19, 29, 39, 38, 48, 41, 51, 52, 53, 43, 42, 32, 6, 5, 15, 16, 26, 49, 59, 58, 56, 46, 45]\n",
            "starting episode 145, epsilon = 0.2249999999999993\n",
            "total reward = 134.0, actions list = [9, 19, 29, 39, 49, 48, 52, 51, 41, 42, 32, 22, 12, 6, 5, 15, 16, 26, 59, 58, 57, 56, 46, 45]\n",
            "starting episode 146, epsilon = 0.2199999999999993\n",
            "total reward = 127.0, actions list = [56, 46, 45, 44, 43, 33, 9, 19, 29, 28, 27, 26, 16, 52, 42, 32, 31, 41, 6, 5, 4, 51, 50, 40]\n",
            "starting episode 147, epsilon = 0.2149999999999993\n",
            "total reward = 126.0, actions list = [9, 19, 29, 39, 49, 59, 53, 52, 42, 43, 33, 34, 35, 15, 5, 6, 7, 17, 16, 26, 25, 57, 56, 46]\n",
            "starting episode 148, epsilon = 0.2099999999999993\n",
            "total reward = 136.0, actions list = [9, 19, 29, 39, 38, 28, 52, 51, 41, 42, 32, 22, 12, 6, 5, 15, 16, 26, 49, 59, 58, 56, 46, 45]\n",
            "starting episode 149, epsilon = 0.2049999999999993\n",
            "total reward = 133.0, actions list = [50, 51, 52, 42, 41, 31, 40, 30, 20, 10, 11, 21, 22, 9, 19, 29, 39, 49, 6, 5, 15, 16, 26, 27]\n",
            "starting episode 150, epsilon = 0.1999999999999993\n",
            "total reward = 132.0, actions list = [9, 19, 29, 39, 49, 59, 25, 26, 16, 6, 5, 4, 3, 52, 51, 41, 42, 32, 56, 55, 45, 0, 10, 11]\n",
            "starting episode 151, epsilon = 0.19499999999999929\n",
            "total reward = 135.0, actions list = [9, 19, 29, 39, 49, 59, 52, 42, 41, 51, 50, 40, 30, 6, 5, 4, 14, 15, 53, 43, 33, 16, 26, 27]\n",
            "starting episode 152, epsilon = 0.18999999999999928\n",
            "total reward = 132.0, actions list = [9, 19, 29, 39, 49, 48, 53, 52, 51, 41, 40, 30, 31, 6, 5, 4, 3, 13, 2, 12, 22, 42, 32, 33]\n",
            "starting episode 153, epsilon = 0.18499999999999928\n",
            "total reward = 143.0, actions list = [39, 29, 19, 9, 8, 7, 6, 5, 15, 16, 17, 27, 26, 58, 59, 49, 48, 47, 52, 51, 41, 42, 32, 22]\n",
            "starting episode 154, epsilon = 0.17999999999999927\n",
            "total reward = 129.0, actions list = [9, 19, 29, 39, 49, 59, 52, 51, 41, 42, 32, 22, 21, 6, 5, 15, 16, 26, 56, 55, 45, 0, 10, 11]\n",
            "starting episode 155, epsilon = 0.17499999999999927\n",
            "total reward = -123.0, actions list = [9, 19, 29, 39, 49, 59, 52, 42, 41, 40, 50, 51]\n",
            "starting episode 156, epsilon = 0.16999999999999926\n",
            "total reward = 128.0, actions list = [9, 19, 29, 39, 49, 59, 52, 42, 41, 51, 50, 40, 30, 6, 5, 15, 16, 26, 56, 46, 47, 2, 3, 4]\n",
            "starting episode 157, epsilon = 0.16499999999999926\n",
            "total reward = 132.0, actions list = [9, 19, 29, 39, 49, 59, 8, 7, 6, 5, 15, 16, 26, 52, 51, 41, 42, 43, 13, 12, 2, 32, 31, 21]\n",
            "starting episode 158, epsilon = 0.15999999999999925\n",
            "total reward = 142.0, actions list = [9, 19, 29, 28, 27, 26, 52, 51, 41, 42, 32, 31, 21, 6, 5, 4, 3, 2, 59, 49, 39, 16, 15, 14]\n",
            "starting episode 159, epsilon = 0.15499999999999925\n",
            "total reward = 129.0, actions list = [9, 19, 29, 39, 49, 48, 52, 42, 41, 51, 50, 40, 30, 6, 5, 15, 16, 26, 53, 54, 55, 43, 33, 34]\n",
            "starting episode 160, epsilon = 0.14999999999999925\n",
            "begin training\n",
            "preparing data to train\n"
          ]
        },
        {
          "output_type": "display_data",
          "data": {
            "text/plain": [
              "<IPython.core.display.HTML object>"
            ],
            "text/html": [
              "Tracking run with wandb version 0.16.3"
            ]
          },
          "metadata": {}
        },
        {
          "output_type": "display_data",
          "data": {
            "text/plain": [
              "<IPython.core.display.HTML object>"
            ],
            "text/html": [
              "Run data is saved locally in <code>/content/wandb/run-20240226_095527-68hq8pv6</code>"
            ]
          },
          "metadata": {}
        },
        {
          "output_type": "display_data",
          "data": {
            "text/plain": [
              "<IPython.core.display.HTML object>"
            ],
            "text/html": [
              "Syncing run <strong><a href='https://wandb.ai/monteleone/WormsWarmingUp/runs/68hq8pv6' target=\"_blank\">model_V1_wormholes_disabled_multi_worms_training_ep_160</a></strong> to <a href='https://wandb.ai/monteleone/WormsWarmingUp' target=\"_blank\">Weights & Biases</a> (<a href='https://wandb.me/run' target=\"_blank\">docs</a>)<br/>"
            ]
          },
          "metadata": {}
        },
        {
          "output_type": "display_data",
          "data": {
            "text/plain": [
              "<IPython.core.display.HTML object>"
            ],
            "text/html": [
              " View project at <a href='https://wandb.ai/monteleone/WormsWarmingUp' target=\"_blank\">https://wandb.ai/monteleone/WormsWarmingUp</a>"
            ]
          },
          "metadata": {}
        },
        {
          "output_type": "display_data",
          "data": {
            "text/plain": [
              "<IPython.core.display.HTML object>"
            ],
            "text/html": [
              " View run at <a href='https://wandb.ai/monteleone/WormsWarmingUp/runs/68hq8pv6' target=\"_blank\">https://wandb.ai/monteleone/WormsWarmingUp/runs/68hq8pv6</a>"
            ]
          },
          "metadata": {}
        },
        {
          "output_type": "stream",
          "name": "stderr",
          "text": [
            "/usr/local/lib/python3.10/dist-packages/lightning/pytorch/callbacks/model_checkpoint.py:652: UserWarning:\n",
            "\n",
            "Checkpoint directory /content/Model exists and is not empty.\n",
            "\n",
            "INFO: \n",
            "  | Name    | Type     | Params\n",
            "-------------------------------------\n",
            "0 | encoder | GraphNN  | 0     \n",
            "1 | decoder | LinearNN | 8.4 K \n",
            "2 | loss    | MSELoss  | 0     \n",
            "-------------------------------------\n",
            "8.4 K     Trainable params\n",
            "0         Non-trainable params\n",
            "8.4 K     Total params\n",
            "0.034     Total estimated model params size (MB)\n",
            "INFO:lightning.pytorch.callbacks.model_summary:\n",
            "  | Name    | Type     | Params\n",
            "-------------------------------------\n",
            "0 | encoder | GraphNN  | 0     \n",
            "1 | decoder | LinearNN | 8.4 K \n",
            "2 | loss    | MSELoss  | 0     \n",
            "-------------------------------------\n",
            "8.4 K     Trainable params\n",
            "0         Non-trainable params\n",
            "8.4 K     Total params\n",
            "0.034     Total estimated model params size (MB)\n"
          ]
        },
        {
          "output_type": "display_data",
          "data": {
            "text/plain": [
              "Sanity Checking: |          | 0/? [00:00<?, ?it/s]"
            ],
            "application/vnd.jupyter.widget-view+json": {
              "version_major": 2,
              "version_minor": 0,
              "model_id": "4d3148e303e84ee0abf36a531aaad65d"
            }
          },
          "metadata": {}
        },
        {
          "output_type": "stream",
          "name": "stdout",
          "text": [
            "val_loss =  11553.9765625\n",
            "mean_absolute_error =  87.68582\n",
            "root_mean_squared_error =  107.48942\n",
            "r2 =  -133.57982155700108\n"
          ]
        },
        {
          "output_type": "display_data",
          "data": {
            "text/plain": [
              "VBox(children=(Label(value='0.001 MB of 0.001 MB uploaded\\r'), FloatProgress(value=1.0, max=1.0)))"
            ],
            "application/vnd.jupyter.widget-view+json": {
              "version_major": 2,
              "version_minor": 0,
              "model_id": "475c0535cbe34bbbb4d29523e8bb7519"
            }
          },
          "metadata": {}
        },
        {
          "output_type": "display_data",
          "data": {
            "text/plain": [
              "<IPython.core.display.HTML object>"
            ],
            "text/html": [
              "<style>\n",
              "    table.wandb td:nth-child(1) { padding: 0 10px; text-align: left ; width: auto;} td:nth-child(2) {text-align: left ; width: 100%}\n",
              "    .wandb-row { display: flex; flex-direction: row; flex-wrap: wrap; justify-content: flex-start; width: 100% }\n",
              "    .wandb-col { display: flex; flex-direction: column; flex-basis: 100%; flex: 1; padding: 10px; }\n",
              "    </style>\n",
              "<div class=\"wandb-row\"><div class=\"wandb-col\"><h3>Run history:</h3><br/><table class=\"wandb\"><tr><td>mean_absolute_error</td><td>▁</td></tr><tr><td>r2</td><td>▁</td></tr><tr><td>root_mean_squared_error</td><td>▁</td></tr><tr><td>val_loss</td><td>▁</td></tr></table><br/></div><div class=\"wandb-col\"><h3>Run summary:</h3><br/><table class=\"wandb\"><tr><td>mean_absolute_error</td><td>87.68582</td></tr><tr><td>r2</td><td>-133.57982</td></tr><tr><td>root_mean_squared_error</td><td>107.48942</td></tr><tr><td>val_loss</td><td>11553.97656</td></tr></table><br/></div></div>"
            ]
          },
          "metadata": {}
        },
        {
          "output_type": "display_data",
          "data": {
            "text/plain": [
              "<IPython.core.display.HTML object>"
            ],
            "text/html": [
              " View run <strong style=\"color:#cdcd00\">model_V1_wormholes_disabled_multi_worms_training_ep_160</strong> at: <a href='https://wandb.ai/monteleone/WormsWarmingUp/runs/68hq8pv6' target=\"_blank\">https://wandb.ai/monteleone/WormsWarmingUp/runs/68hq8pv6</a><br/>Synced 5 W&B file(s), 0 media file(s), 0 artifact file(s) and 0 other file(s)"
            ]
          },
          "metadata": {}
        },
        {
          "output_type": "display_data",
          "data": {
            "text/plain": [
              "<IPython.core.display.HTML object>"
            ],
            "text/html": [
              "Find logs at: <code>./wandb/run-20240226_095527-68hq8pv6/logs</code>"
            ]
          },
          "metadata": {}
        },
        {
          "output_type": "stream",
          "name": "stdout",
          "text": [
            "finished training\n"
          ]
        },
        {
          "output_type": "stream",
          "name": "stderr",
          "text": [
            "/usr/local/lib/python3.10/dist-packages/gymnasium/core.py:311: UserWarning:\n",
            "\n",
            "\u001b[33mWARN: env.available_movements to get variables from other wrappers is deprecated and will be removed in v1.0, to get this variable you can do `env.unwrapped.available_movements` for environment variables or `env.get_wrapper_attr('available_movements')` that will search the reminding wrappers.\u001b[0m\n",
            "\n"
          ]
        },
        {
          "output_type": "stream",
          "name": "stdout",
          "text": [
            "total reward = 128.0, actions list = [9, 19, 29, 39, 49, 59, 52, 53, 43, 42, 41, 51, 50, 6, 5, 15, 16, 26, 14, 4, 3, 56, 46, 45]\n",
            "starting episode 161, epsilon = 0.14499999999999924\n",
            "total reward = -72.0, actions list = [9, 19, 29, 39, 49, 59, 52, 51, 41, 42, 32, 31, 21, 18, 17, 16, 6, 5, 56, 46, 45, 7, 8]\n",
            "starting episode 162, epsilon = 0.13999999999999924\n",
            "total reward = 136.0, actions list = [9, 19, 29, 39, 49, 59, 52, 42, 41, 51, 50, 40, 30, 6, 5, 15, 16, 26, 53, 43, 33, 17, 27, 37]\n",
            "starting episode 163, epsilon = 0.13499999999999923\n",
            "total reward = 134.0, actions list = [9, 8, 18, 19, 29, 39, 52, 51, 41, 31, 32, 22, 21, 6, 5, 4, 3, 2, 26, 16, 15, 42, 43, 53]\n",
            "starting episode 164, epsilon = 0.12999999999999923\n",
            "total reward = 141.0, actions list = [9, 19, 29, 39, 49, 59, 53, 52, 42, 43, 33, 32, 22, 6, 5, 4, 3, 2, 51, 41, 31, 15, 16, 26]\n",
            "starting episode 165, epsilon = 0.12499999999999922\n",
            "total reward = 125.0, actions list = [9, 19, 29, 39, 49, 59, 52, 42, 41, 51, 50, 40, 30, 6, 16, 15, 5, 4, 22, 32, 33, 56, 46, 45]\n",
            "starting episode 166, epsilon = 0.11999999999999922\n",
            "total reward = 130.0, actions list = [9, 19, 29, 28, 18, 17, 52, 42, 41, 51, 50, 40, 30, 6, 5, 4, 3, 2, 59, 49, 39, 15, 16, 26]\n",
            "starting episode 167, epsilon = 0.11499999999999921\n",
            "total reward = 136.0, actions list = [9, 8, 18, 19, 29, 39, 52, 51, 41, 42, 32, 22, 21, 6, 5, 15, 16, 26, 31, 30, 20, 49, 59, 58]\n",
            "starting episode 168, epsilon = 0.10999999999999921\n",
            "total reward = 132.0, actions list = [9, 19, 29, 39, 49, 59, 52, 51, 41, 42, 43, 33, 32, 6, 5, 15, 16, 26, 56, 46, 45, 17, 7, 8]\n",
            "starting episode 169, epsilon = 0.1049999999999992\n",
            "total reward = 133.0, actions list = [9, 19, 29, 39, 49, 59, 52, 42, 41, 51, 50, 40, 30, 11, 10, 20, 21, 31, 6, 16, 15, 5, 4, 3]\n",
            "starting episode 170, epsilon = 0.1\n",
            "total reward = 123.0, actions list = [9, 19, 29, 39, 49, 59, 52, 42, 41, 51, 50, 40, 30, 6, 5, 15, 16, 26, 13, 12, 2, 56, 46, 45]\n",
            "starting episode 171, epsilon = 0.1\n",
            "total reward = 136.0, actions list = [51, 52, 42, 41, 31, 32, 9, 19, 29, 39, 49, 59, 58, 6, 5, 15, 16, 26, 17, 27, 28, 56, 46, 45]\n",
            "starting episode 172, epsilon = 0.1\n",
            "total reward = 132.0, actions list = [9, 19, 29, 28, 27, 26, 52, 51, 50, 40, 41, 42, 32, 6, 5, 15, 16, 17, 59, 49, 48, 56, 46, 45]\n",
            "starting episode 173, epsilon = 0.1\n",
            "total reward = 128.0, actions list = [9, 19, 29, 39, 49, 59, 52, 51, 41, 42, 32, 31, 30, 6, 5, 15, 16, 17, 56, 46, 45, 7, 8, 18]\n",
            "starting episode 174, epsilon = 0.1\n",
            "total reward = 132.0, actions list = [9, 19, 29, 39, 49, 48, 52, 51, 41, 42, 32, 31, 21, 6, 5, 15, 16, 26, 59, 58, 57, 56, 46, 45]\n",
            "starting episode 175, epsilon = 0.1\n",
            "total reward = 127.0, actions list = [9, 19, 29, 39, 49, 59, 52, 51, 41, 42, 43, 33, 32, 6, 5, 15, 14, 4, 16, 26, 25, 56, 46, 45]\n",
            "starting episode 176, epsilon = 0.1\n",
            "total reward = 126.0, actions list = [9, 19, 29, 39, 49, 59, 52, 51, 41, 42, 32, 33, 43, 6, 5, 15, 16, 26, 56, 46, 45, 55, 54, 44]\n",
            "starting episode 177, epsilon = 0.1\n",
            "total reward = 131.0, actions list = [9, 19, 29, 39, 49, 59, 52, 51, 41, 42, 43, 33, 32, 6, 5, 15, 16, 26, 17, 27, 28, 56, 46, 45]\n",
            "starting episode 178, epsilon = 0.1\n",
            "total reward = 126.0, actions list = [9, 19, 29, 39, 49, 59, 52, 51, 41, 42, 32, 22, 23, 6, 7, 17, 16, 15, 5, 4, 3, 56, 46, 45]\n",
            "starting episode 179, epsilon = 0.1\n",
            "total reward = 135.0, actions list = [9, 19, 29, 39, 49, 59, 52, 51, 41, 42, 32, 22, 21, 6, 5, 15, 16, 17, 26, 27, 28, 56, 46, 45]\n",
            "starting episode 180, epsilon = 0.1\n",
            "begin training\n",
            "preparing data to train\n"
          ]
        },
        {
          "output_type": "display_data",
          "data": {
            "text/plain": [
              "VBox(children=(Label(value='Waiting for wandb.init()...\\r'), FloatProgress(value=0.011113632655552565, max=1.0…"
            ],
            "application/vnd.jupyter.widget-view+json": {
              "version_major": 2,
              "version_minor": 0,
              "model_id": "87c8dbd58edb4f33ad708c5963a7fc29"
            }
          },
          "metadata": {}
        },
        {
          "output_type": "display_data",
          "data": {
            "text/plain": [
              "<IPython.core.display.HTML object>"
            ],
            "text/html": [
              "Tracking run with wandb version 0.16.3"
            ]
          },
          "metadata": {}
        },
        {
          "output_type": "display_data",
          "data": {
            "text/plain": [
              "<IPython.core.display.HTML object>"
            ],
            "text/html": [
              "Run data is saved locally in <code>/content/wandb/run-20240226_095741-ghoslhy1</code>"
            ]
          },
          "metadata": {}
        },
        {
          "output_type": "display_data",
          "data": {
            "text/plain": [
              "<IPython.core.display.HTML object>"
            ],
            "text/html": [
              "Syncing run <strong><a href='https://wandb.ai/monteleone/WormsWarmingUp/runs/ghoslhy1' target=\"_blank\">model_V1_wormholes_disabled_multi_worms_training_ep_180</a></strong> to <a href='https://wandb.ai/monteleone/WormsWarmingUp' target=\"_blank\">Weights & Biases</a> (<a href='https://wandb.me/run' target=\"_blank\">docs</a>)<br/>"
            ]
          },
          "metadata": {}
        },
        {
          "output_type": "display_data",
          "data": {
            "text/plain": [
              "<IPython.core.display.HTML object>"
            ],
            "text/html": [
              " View project at <a href='https://wandb.ai/monteleone/WormsWarmingUp' target=\"_blank\">https://wandb.ai/monteleone/WormsWarmingUp</a>"
            ]
          },
          "metadata": {}
        },
        {
          "output_type": "display_data",
          "data": {
            "text/plain": [
              "<IPython.core.display.HTML object>"
            ],
            "text/html": [
              " View run at <a href='https://wandb.ai/monteleone/WormsWarmingUp/runs/ghoslhy1' target=\"_blank\">https://wandb.ai/monteleone/WormsWarmingUp/runs/ghoslhy1</a>"
            ]
          },
          "metadata": {}
        },
        {
          "output_type": "stream",
          "name": "stderr",
          "text": [
            "/usr/local/lib/python3.10/dist-packages/lightning/pytorch/callbacks/model_checkpoint.py:652: UserWarning:\n",
            "\n",
            "Checkpoint directory /content/Model exists and is not empty.\n",
            "\n",
            "INFO: \n",
            "  | Name    | Type     | Params\n",
            "-------------------------------------\n",
            "0 | encoder | GraphNN  | 0     \n",
            "1 | decoder | LinearNN | 8.4 K \n",
            "2 | loss    | MSELoss  | 0     \n",
            "-------------------------------------\n",
            "8.4 K     Trainable params\n",
            "0         Non-trainable params\n",
            "8.4 K     Total params\n",
            "0.034     Total estimated model params size (MB)\n",
            "INFO:lightning.pytorch.callbacks.model_summary:\n",
            "  | Name    | Type     | Params\n",
            "-------------------------------------\n",
            "0 | encoder | GraphNN  | 0     \n",
            "1 | decoder | LinearNN | 8.4 K \n",
            "2 | loss    | MSELoss  | 0     \n",
            "-------------------------------------\n",
            "8.4 K     Trainable params\n",
            "0         Non-trainable params\n",
            "8.4 K     Total params\n",
            "0.034     Total estimated model params size (MB)\n"
          ]
        },
        {
          "output_type": "display_data",
          "data": {
            "text/plain": [
              "Sanity Checking: |          | 0/? [00:00<?, ?it/s]"
            ],
            "application/vnd.jupyter.widget-view+json": {
              "version_major": 2,
              "version_minor": 0,
              "model_id": "0e97271e2f524f75b1342e5f9d79157e"
            }
          },
          "metadata": {}
        },
        {
          "output_type": "stream",
          "name": "stdout",
          "text": [
            "val_loss =  3309.328125\n",
            "mean_absolute_error =  41.076973\n",
            "root_mean_squared_error =  57.52676\n",
            "r2 =  -49.41100215619215\n"
          ]
        },
        {
          "output_type": "display_data",
          "data": {
            "text/plain": [
              "VBox(children=(Label(value='0.001 MB of 0.001 MB uploaded\\r'), FloatProgress(value=1.0, max=1.0)))"
            ],
            "application/vnd.jupyter.widget-view+json": {
              "version_major": 2,
              "version_minor": 0,
              "model_id": "eb34b6c4dd194e52a063ee94da317fec"
            }
          },
          "metadata": {}
        },
        {
          "output_type": "display_data",
          "data": {
            "text/plain": [
              "<IPython.core.display.HTML object>"
            ],
            "text/html": [
              "<style>\n",
              "    table.wandb td:nth-child(1) { padding: 0 10px; text-align: left ; width: auto;} td:nth-child(2) {text-align: left ; width: 100%}\n",
              "    .wandb-row { display: flex; flex-direction: row; flex-wrap: wrap; justify-content: flex-start; width: 100% }\n",
              "    .wandb-col { display: flex; flex-direction: column; flex-basis: 100%; flex: 1; padding: 10px; }\n",
              "    </style>\n",
              "<div class=\"wandb-row\"><div class=\"wandb-col\"><h3>Run history:</h3><br/><table class=\"wandb\"><tr><td>mean_absolute_error</td><td>▁</td></tr><tr><td>r2</td><td>▁</td></tr><tr><td>root_mean_squared_error</td><td>▁</td></tr><tr><td>val_loss</td><td>▁</td></tr></table><br/></div><div class=\"wandb-col\"><h3>Run summary:</h3><br/><table class=\"wandb\"><tr><td>mean_absolute_error</td><td>41.07697</td></tr><tr><td>r2</td><td>-49.411</td></tr><tr><td>root_mean_squared_error</td><td>57.52676</td></tr><tr><td>val_loss</td><td>3309.32812</td></tr></table><br/></div></div>"
            ]
          },
          "metadata": {}
        },
        {
          "output_type": "display_data",
          "data": {
            "text/plain": [
              "<IPython.core.display.HTML object>"
            ],
            "text/html": [
              " View run <strong style=\"color:#cdcd00\">model_V1_wormholes_disabled_multi_worms_training_ep_180</strong> at: <a href='https://wandb.ai/monteleone/WormsWarmingUp/runs/ghoslhy1' target=\"_blank\">https://wandb.ai/monteleone/WormsWarmingUp/runs/ghoslhy1</a><br/>Synced 5 W&B file(s), 0 media file(s), 0 artifact file(s) and 0 other file(s)"
            ]
          },
          "metadata": {}
        },
        {
          "output_type": "display_data",
          "data": {
            "text/plain": [
              "<IPython.core.display.HTML object>"
            ],
            "text/html": [
              "Find logs at: <code>./wandb/run-20240226_095741-ghoslhy1/logs</code>"
            ]
          },
          "metadata": {}
        },
        {
          "output_type": "stream",
          "name": "stdout",
          "text": [
            "finished training\n"
          ]
        },
        {
          "output_type": "stream",
          "name": "stderr",
          "text": [
            "/usr/local/lib/python3.10/dist-packages/gymnasium/core.py:311: UserWarning:\n",
            "\n",
            "\u001b[33mWARN: env.available_movements to get variables from other wrappers is deprecated and will be removed in v1.0, to get this variable you can do `env.unwrapped.available_movements` for environment variables or `env.get_wrapper_attr('available_movements')` that will search the reminding wrappers.\u001b[0m\n",
            "\n"
          ]
        },
        {
          "output_type": "stream",
          "name": "stdout",
          "text": [
            "total reward = 139.0, actions list = [9, 19, 29, 39, 49, 59, 44, 43, 53, 52, 42, 41, 51, 32, 31, 21, 11, 10, 3, 4, 5, 6, 16, 15]\n",
            "starting episode 181, epsilon = 0.1\n",
            "total reward = 135.0, actions list = [9, 19, 29, 39, 49, 59, 52, 42, 32, 33, 43, 53, 54, 6, 5, 15, 16, 26, 51, 41, 31, 13, 3, 2]\n",
            "starting episode 182, epsilon = 0.1\n",
            "total reward = 132.0, actions list = [9, 19, 29, 39, 38, 48, 52, 51, 41, 42, 32, 31, 21, 6, 5, 15, 16, 26, 49, 59, 58, 56, 46, 45]\n",
            "starting episode 183, epsilon = 0.1\n",
            "total reward = 128.0, actions list = [9, 19, 29, 39, 49, 59, 13, 3, 4, 5, 6, 16, 15, 52, 51, 41, 42, 32, 56, 46, 45, 55, 54, 53]\n",
            "starting episode 184, epsilon = 0.1\n",
            "total reward = 147.0, actions list = [9, 19, 29, 28, 27, 26, 52, 51, 41, 42, 32, 22, 12, 6, 5, 4, 3, 2, 59, 49, 39, 16, 15, 25]\n",
            "starting episode 185, epsilon = 0.1\n",
            "total reward = 131.0, actions list = [9, 19, 29, 39, 49, 59, 52, 51, 41, 42, 32, 22, 21, 6, 5, 15, 25, 26, 16, 17, 7, 56, 46, 45]\n",
            "starting episode 186, epsilon = 0.1\n",
            "total reward = 132.0, actions list = [9, 19, 29, 39, 49, 59, 53, 43, 42, 52, 51, 41, 31, 6, 5, 15, 16, 26, 13, 12, 2, 56, 46, 45]\n",
            "starting episode 187, epsilon = 0.1\n",
            "total reward = 132.0, actions list = [9, 19, 29, 39, 49, 59, 52, 51, 41, 42, 32, 31, 21, 6, 5, 15, 16, 26, 56, 46, 45, 55, 54, 53]\n",
            "starting episode 188, epsilon = 0.1\n",
            "total reward = 126.0, actions list = [9, 19, 29, 39, 49, 59, 52, 42, 41, 51, 50, 40, 30, 6, 5, 15, 16, 26, 56, 46, 45, 55, 54, 53]\n",
            "starting episode 189, epsilon = 0.1\n",
            "total reward = 134.0, actions list = [9, 19, 29, 39, 38, 48, 52, 51, 41, 42, 32, 31, 30, 6, 5, 15, 16, 26, 49, 59, 58, 13, 3, 4]\n",
            "starting episode 190, epsilon = 0.1\n",
            "total reward = 131.0, actions list = [9, 19, 29, 39, 49, 48, 32, 42, 52, 51, 41, 40, 30, 43, 53, 54, 44, 34, 6, 5, 4, 17, 16, 26]\n",
            "starting episode 191, epsilon = 0.1\n",
            "total reward = 124.0, actions list = [9, 19, 29, 39, 49, 59, 52, 42, 41, 51, 50, 40, 30, 6, 5, 15, 16, 26, 13, 12, 22, 56, 46, 45]\n",
            "starting episode 192, epsilon = 0.1\n",
            "total reward = 129.0, actions list = [9, 19, 29, 28, 18, 17, 52, 51, 41, 42, 32, 22, 23, 6, 5, 15, 16, 26, 59, 49, 39, 13, 12, 2]\n",
            "starting episode 193, epsilon = 0.1\n",
            "total reward = 127.0, actions list = [9, 19, 29, 39, 49, 59, 52, 42, 41, 51, 50, 40, 30, 6, 5, 15, 16, 26, 53, 43, 33, 56, 46, 45]\n",
            "starting episode 194, epsilon = 0.1\n",
            "total reward = 129.0, actions list = [9, 19, 29, 39, 49, 59, 52, 51, 41, 31, 32, 42, 43, 6, 5, 15, 16, 26, 13, 12, 2, 56, 46, 45]\n",
            "starting episode 195, epsilon = 0.1\n",
            "total reward = 134.0, actions list = [9, 19, 29, 39, 49, 59, 52, 42, 41, 51, 50, 40, 30, 6, 5, 15, 16, 26, 17, 27, 28, 56, 46, 36]\n",
            "starting episode 196, epsilon = 0.1\n",
            "total reward = 132.0, actions list = [9, 19, 29, 39, 49, 59, 52, 51, 41, 42, 32, 22, 21, 6, 5, 15, 16, 26, 56, 46, 45, 55, 54, 53]\n",
            "starting episode 197, epsilon = 0.1\n",
            "total reward = 132.0, actions list = [9, 19, 29, 39, 49, 59, 52, 51, 41, 42, 32, 22, 21, 6, 5, 15, 16, 26, 56, 46, 45, 55, 54, 53]\n",
            "starting episode 198, epsilon = 0.1\n",
            "total reward = 139.0, actions list = [9, 19, 29, 39, 49, 59, 53, 52, 42, 43, 33, 32, 31, 6, 7, 17, 16, 15, 5, 4, 3, 51, 41, 40]\n",
            "starting episode 199, epsilon = 0.1\n",
            "total reward = -79.0, actions list = [18, 19, 9, 8, 7, 6, 5, 15, 16, 26, 25, 24, 14, 52, 42, 41, 51, 50, 39, 38, 28, 29]\n",
            "starting episode 200, epsilon = 0.1\n",
            "begin training\n",
            "preparing data to train\n"
          ]
        },
        {
          "output_type": "display_data",
          "data": {
            "text/plain": [
              "<IPython.core.display.HTML object>"
            ],
            "text/html": [
              "Tracking run with wandb version 0.16.3"
            ]
          },
          "metadata": {}
        },
        {
          "output_type": "display_data",
          "data": {
            "text/plain": [
              "<IPython.core.display.HTML object>"
            ],
            "text/html": [
              "Run data is saved locally in <code>/content/wandb/run-20240226_095958-g3h65qbj</code>"
            ]
          },
          "metadata": {}
        },
        {
          "output_type": "display_data",
          "data": {
            "text/plain": [
              "<IPython.core.display.HTML object>"
            ],
            "text/html": [
              "Syncing run <strong><a href='https://wandb.ai/monteleone/WormsWarmingUp/runs/g3h65qbj' target=\"_blank\">model_V1_wormholes_disabled_multi_worms_training_ep_200</a></strong> to <a href='https://wandb.ai/monteleone/WormsWarmingUp' target=\"_blank\">Weights & Biases</a> (<a href='https://wandb.me/run' target=\"_blank\">docs</a>)<br/>"
            ]
          },
          "metadata": {}
        },
        {
          "output_type": "display_data",
          "data": {
            "text/plain": [
              "<IPython.core.display.HTML object>"
            ],
            "text/html": [
              " View project at <a href='https://wandb.ai/monteleone/WormsWarmingUp' target=\"_blank\">https://wandb.ai/monteleone/WormsWarmingUp</a>"
            ]
          },
          "metadata": {}
        },
        {
          "output_type": "display_data",
          "data": {
            "text/plain": [
              "<IPython.core.display.HTML object>"
            ],
            "text/html": [
              " View run at <a href='https://wandb.ai/monteleone/WormsWarmingUp/runs/g3h65qbj' target=\"_blank\">https://wandb.ai/monteleone/WormsWarmingUp/runs/g3h65qbj</a>"
            ]
          },
          "metadata": {}
        },
        {
          "output_type": "stream",
          "name": "stderr",
          "text": [
            "/usr/local/lib/python3.10/dist-packages/lightning/pytorch/callbacks/model_checkpoint.py:652: UserWarning:\n",
            "\n",
            "Checkpoint directory /content/Model exists and is not empty.\n",
            "\n",
            "INFO: \n",
            "  | Name    | Type     | Params\n",
            "-------------------------------------\n",
            "0 | encoder | GraphNN  | 0     \n",
            "1 | decoder | LinearNN | 8.4 K \n",
            "2 | loss    | MSELoss  | 0     \n",
            "-------------------------------------\n",
            "8.4 K     Trainable params\n",
            "0         Non-trainable params\n",
            "8.4 K     Total params\n",
            "0.034     Total estimated model params size (MB)\n",
            "INFO:lightning.pytorch.callbacks.model_summary:\n",
            "  | Name    | Type     | Params\n",
            "-------------------------------------\n",
            "0 | encoder | GraphNN  | 0     \n",
            "1 | decoder | LinearNN | 8.4 K \n",
            "2 | loss    | MSELoss  | 0     \n",
            "-------------------------------------\n",
            "8.4 K     Trainable params\n",
            "0         Non-trainable params\n",
            "8.4 K     Total params\n",
            "0.034     Total estimated model params size (MB)\n"
          ]
        },
        {
          "output_type": "display_data",
          "data": {
            "text/plain": [
              "Sanity Checking: |          | 0/? [00:00<?, ?it/s]"
            ],
            "application/vnd.jupyter.widget-view+json": {
              "version_major": 2,
              "version_minor": 0,
              "model_id": "3216ce27740448ad8e1d09fc8a464bb2"
            }
          },
          "metadata": {}
        },
        {
          "output_type": "stream",
          "name": "stdout",
          "text": [
            "val_loss =  3385.259765625\n",
            "mean_absolute_error =  44.44587\n",
            "root_mean_squared_error =  58.182983\n",
            "r2 =  -40.733637339631024\n"
          ]
        },
        {
          "output_type": "display_data",
          "data": {
            "text/plain": [
              "VBox(children=(Label(value='0.001 MB of 0.001 MB uploaded\\r'), FloatProgress(value=1.0, max=1.0)))"
            ],
            "application/vnd.jupyter.widget-view+json": {
              "version_major": 2,
              "version_minor": 0,
              "model_id": "ee36048bf6f84060bcb131acd7461349"
            }
          },
          "metadata": {}
        },
        {
          "output_type": "display_data",
          "data": {
            "text/plain": [
              "<IPython.core.display.HTML object>"
            ],
            "text/html": [
              "<style>\n",
              "    table.wandb td:nth-child(1) { padding: 0 10px; text-align: left ; width: auto;} td:nth-child(2) {text-align: left ; width: 100%}\n",
              "    .wandb-row { display: flex; flex-direction: row; flex-wrap: wrap; justify-content: flex-start; width: 100% }\n",
              "    .wandb-col { display: flex; flex-direction: column; flex-basis: 100%; flex: 1; padding: 10px; }\n",
              "    </style>\n",
              "<div class=\"wandb-row\"><div class=\"wandb-col\"><h3>Run history:</h3><br/><table class=\"wandb\"><tr><td>mean_absolute_error</td><td>▁</td></tr><tr><td>r2</td><td>▁</td></tr><tr><td>root_mean_squared_error</td><td>▁</td></tr><tr><td>val_loss</td><td>▁</td></tr></table><br/></div><div class=\"wandb-col\"><h3>Run summary:</h3><br/><table class=\"wandb\"><tr><td>mean_absolute_error</td><td>44.44587</td></tr><tr><td>r2</td><td>-40.73364</td></tr><tr><td>root_mean_squared_error</td><td>58.18298</td></tr><tr><td>val_loss</td><td>3385.25977</td></tr></table><br/></div></div>"
            ]
          },
          "metadata": {}
        },
        {
          "output_type": "display_data",
          "data": {
            "text/plain": [
              "<IPython.core.display.HTML object>"
            ],
            "text/html": [
              " View run <strong style=\"color:#cdcd00\">model_V1_wormholes_disabled_multi_worms_training_ep_200</strong> at: <a href='https://wandb.ai/monteleone/WormsWarmingUp/runs/g3h65qbj' target=\"_blank\">https://wandb.ai/monteleone/WormsWarmingUp/runs/g3h65qbj</a><br/>Synced 5 W&B file(s), 0 media file(s), 0 artifact file(s) and 0 other file(s)"
            ]
          },
          "metadata": {}
        },
        {
          "output_type": "display_data",
          "data": {
            "text/plain": [
              "<IPython.core.display.HTML object>"
            ],
            "text/html": [
              "Find logs at: <code>./wandb/run-20240226_095958-g3h65qbj/logs</code>"
            ]
          },
          "metadata": {}
        },
        {
          "output_type": "stream",
          "name": "stdout",
          "text": [
            "finished training\n"
          ]
        }
      ],
      "source": [
        "MAX_EPISODES = 200\n",
        "\n",
        "ACCUMULATE = 5\n",
        "accumulate_reward_means = []\n",
        "accumulate_worm_len_means = []\n",
        "last_rewards = [0 for _ in range(ACCUMULATE)]\n",
        "last_len_worms_placed = [0 for _ in range(ACCUMULATE)]\n",
        "done = False\n",
        "obs, info = environment.reset()\n",
        "print(f\"starting episode {agent.episode}, epsilon = {agent.epsilon}\")\n",
        "# play one episode\n",
        "while agent.episode < MAX_EPISODES:\n",
        "\n",
        "    action = agent.get_action(info, environment.available_movements)\n",
        "    obs, reward, terminated, truncated, info = environment.step(action)\n",
        "    episode_reward, len_worms_placed = agent.update(info, action, reward, terminated)\n",
        "\n",
        "    if terminated:\n",
        "        obs, info = environment.reset()\n",
        "        last_rewards[agent.episode % ACCUMULATE] = episode_reward\n",
        "        last_len_worms_placed[agent.episode % ACCUMULATE] = len_worms_placed\n",
        "        if agent.episode > ACCUMULATE:\n",
        "\n",
        "          mean_reward = compute_mean_rewards_to_print(last_rewards)\n",
        "          mean_len_worms_placed = sum(last_len_worms_placed) / len(last_len_worms_placed)\n",
        "          accumulate_reward_means.append(mean_reward)\n",
        "          accumulate_worm_len_means.append(mean_len_worms_placed)\n",
        "\n"
      ],
      "metadata": {
        "id": "a9996703fbac80ef",
        "colab": {
          "base_uri": "https://localhost:8080/",
          "height": 1000,
          "referenced_widgets": [
            "3b8e641aae4e4b72bc776c62c06c9d78",
            "c536f4296e6c4e0caa697e9c41899eeb",
            "2a9bdf040d3147fcb02542eedbd0661f",
            "1ab6004294b649c8aecce33182211f71",
            "3c0bcc5cc51748b5af8af4bb707645e1",
            "6e6e1d13762e443eaacf6778dc514766",
            "77bebe82b8724ccdb7ec0157aa989071",
            "91fb4739c2f84a4d89d775363c87dd7e",
            "67d164782f5d4c31a7c3b0a89243906e",
            "a5ffc1b9b5c2425b916705ac28c761a0",
            "e67d37283ec6445aa96c29d6809672ca",
            "667302529ed645f69be11ae02e0d25c3",
            "5e6e8681f4b34d4b88aa47a784177df3",
            "f21fc48e53c442d6af689b22cabba312",
            "73bf4e732d524654a2461799f78434df",
            "1d08cbbeccdb4e1cb05afaf281f79602",
            "ac9661b0e1a94f81ac9a05b87d8974a9",
            "47c83fc3e4c749d7a0c6becd2293af22",
            "ad670339a2a948bb8a89cfeab61d2c76",
            "85915f0d20ec402ca1a751b79234b75d",
            "46335ff3882d4f619c9c67fff893df3c",
            "9674419cc9634e398a4939e23b1e551f",
            "4b3fd33108cd417b808f59e52574813b",
            "a2a8f85b685d4ac8965b7ff27562a0ff",
            "1fc78abd874f42e8a6bfc09417b54ac0",
            "0a8f03b1540b461e83ce288c1e98376a",
            "b396f001aedf4e9f898858cea923edf5",
            "7beecafa06e14312a82de535fd0f70f3",
            "66916fe72b724c15873e04cee7798e6e",
            "399762d9a0164e128351567b56a1f4fd",
            "d5d07e43067a43519e4f761611a99a11",
            "20b48099df014140bc67a6e7661fb6b0",
            "036e98d27db54502aa06798705ece369",
            "d98bf6d903084aa0bd9eaa654ef9f6f5",
            "9a23cdabcdfa48c0aa61f7f1742b924c",
            "81410d1a7f7844a3bc69f0ec92d60933",
            "88a202ac94ce464e983296090f05482a",
            "6df213515c464d53b0786239ec6881b2",
            "a8f0755e4a704e44a2f3ef236abc70a9",
            "4264b23f128e4611bde553dfb45c1e26",
            "1ebd9e3ef2eb4625ba2763c0d6bc25a5",
            "cd0d0e3c6e314588b91e343eab6650df",
            "6aedf9fb04d6481c970c0fe8f6ae0df5",
            "707db9fd3da448e3893ca8440933cf83",
            "f3ca7cde1f6a471db4b5ebe17acaafcf",
            "9018c94fa363493bb51de21cd8707d69",
            "5f7a9c214a18461cb24bc5c27a59483a",
            "d3459c19135a4ceb9d99c9b8a5279a07",
            "5f6ad417f5dd4d9e9eb517700ba1f02e",
            "98c5d3ebf1f645f6ab5f63bd78a430a4",
            "df932ae7d72044f098137a3a9b1de99d",
            "0893f014faee4c938dc2ff01aebda1bc",
            "307a3934d23749cd979b479fcf172cc3",
            "965b9e0f15e1400691f3a5e28a954134",
            "024ac57f722344cba7199e421b3b4be1",
            "61333644231742749a0f811e372181c5",
            "0503faab39fa4ce986336f60c3b780e3",
            "a7500df9a76546cc866c60b2df29862a",
            "8cf9c8e2d42045ccb9511b70459a678f",
            "85c935e5833e448e85d23f684aad6c79",
            "634637a793b944db8c98797c6d78490b",
            "9cf744af5f784a93bd72f4750c85e108",
            "e6dab9209c15475887f310617b0fb43f",
            "a32aeffb88cd4f90a71812be1e92bf16",
            "a7749360e1974a0dbd51b23c3de33e99",
            "e99f061613b4450ab45b33f1beb6b9ab",
            "70474c5e4b1b4abe8fc078a0ebcdc974",
            "1bf0e04efa2a48ad97d7913c677457b3",
            "82ab1272d04e4deab1d508e39f45ef0c",
            "8090487d244643c89eac97f9735eef21",
            "5789ded1903242e5976a1a6064734f39",
            "715a9cb6caaf452bb4e5486e9a88fee5",
            "b6489bd35c4b44ec849cef966c83a49e",
            "a6e6b0b1f16f4528a7097c9a4ac4eb50",
            "9c51155edec041078f166e521f01f79d",
            "2f2c36aaad0c4dd8b5ead20215fb95b8",
            "4ede8560b8a7425a97698a62dfc8d671",
            "36a17bb6f391477e8c733a690baeee78",
            "a68b35fbbf8445f49cd7e4e87bb8cacf",
            "d5c9787fca2e469f82628b566469d4d3",
            "97a0cd8805ec4bab8f0de15279c4ffa4",
            "5e8de12aa5534fa3a8261f9ceea0cbd6",
            "1de568c2b56142a69f16f33842f2ee67",
            "28678ccc171143adb6d97da8ea42dd19",
            "f5cd5787661147339559d3326bf8af5f",
            "93318c6664874f25a69adfb0cd09fdad",
            "361ca8c8e6254e5b923de9d8396515f1",
            "ae6a28eacea14a1ca8b73f21636f7fec",
            "2238dbf0685647aa86f2bcfc7a93d177",
            "1a6a6df6318e405fbafe592ac19a4123",
            "4c927da00ea14746b77a72d0dd909170",
            "a61b81be639940adadcad3b2eaabb12a",
            "88f5091153534a5aa1e97dad90f809f4",
            "bd578a51b7be4fd5b6208066aec8c971",
            "9e32e64e9d08405dad788f2ccaeafa53",
            "0fd0490377a541139e24ea20ab74004b",
            "85435d92d92e4660a392f145013477fe",
            "8814279b23084142a3501381651bfc8d",
            "1117094dc8734c15bda99d05470b2017",
            "52f9184ff2124b24a8bfec4aea20d491",
            "2bfb3fb109214a71a5057688b470f513",
            "65cbc43bae354e21bdc62c1bf357be50",
            "07f5d879314141fb8ee2ad82aaee3ab7",
            "363efeed99d54b91bd181390df6d04d4",
            "7705876105a7435fb981de7544228ce4",
            "1b878049b5e74f0b9dc637cf6dc9abf3",
            "c09c5ee5f45045e1b03b262ad0774b4e",
            "04fb689397564671b36a02415c472d20",
            "212f757f7c4e44f2ad5d3dcc45567c54",
            "1d31178bd8914010852d4942f1917173",
            "ac9f70a5a861489a916b01d45793a6ac",
            "a2854a2231174fd7b312ed4d5a74b3d0",
            "d95e89c5d289417eb30625d731b1242c",
            "bee3e2810fad41e8822d81f5b2cb0310",
            "05a28119658c496b9365ed80509d842e",
            "4b3478d9ade142b29b3414c5f85cbbfa",
            "43a5657ba6a24db788b46aed3a022448",
            "4783049863d54d2c949d96b29a409d4f",
            "8c10572ccdd144289c25644e0a7d3e68",
            "0c4a224cc2f74e7f91d5c56679fd72ce",
            "71c00d99e44b4243b1dec31e7066596b",
            "f586be2a5af14e31befa4a2452b424e1",
            "fd0d8c23d764450fadc3d8ce4c1a22d6",
            "b239d8165beb44c68374616d4486729d",
            "05cbc88264be4487872754bc914aa7c5",
            "f3577489bc9a4dda9411a5343d98b09e",
            "6da3547e18f746e998c5a194abb619f6",
            "202496c4a3d145dd8b43042e377a46e1",
            "5d4c6e6dce8343f1b96995c2c9bd4a00",
            "16d2aa43618b4a6f8931642c6c18f399",
            "86885f7c44804cbc86e14b398f54f5fe",
            "6ffad2c101fd43099d07b11c387b390a",
            "181b2abbab444cbbbc7a282f41189224",
            "528b8b08a3d54cc0a32bf82bd5bd5871",
            "c96839130b11454797c94ba40db83202",
            "273b1f0134714b9797bf24786c9f6b54",
            "a8b1e06171aa45cfa1a3e152e9ced126",
            "29d46807f06044649cfa023fc81e81ee",
            "953309590cde4c0d810aa78ff717bb8b",
            "751cc29026f34369b4eabf6649af585c",
            "41feb0eb503c4bbeacb094f7aa308c5d",
            "784ef6e3db8a4af58b403a43e5d351d9",
            "bb17685f8a9a4993a2cbc297af111d8a",
            "0a0eb28336d14088afd99f325ca6f2d8",
            "7d29c32d6f6849af81f53d891a2eefac",
            "413f1a1ad6ac471dba4eb5c0ab11b70e",
            "a0808732a12b4f00b5064a442a18eb7c",
            "a6aa73e7fd75440caa1fc37a21553fa2",
            "669d9285d7354b51a94fbe2a8c46a432",
            "dd665f1bc1264fc5ae42a04f18fe652e",
            "7ea91e87185f4bdd9d0fe59c1903d357",
            "a37d31961de64294a3a1d9cc25fa4c2b",
            "26f6ac4cd4874ea691195be7ce74464e",
            "3baf0fa3569b4fa2b11d419a340917d1",
            "3bd313beb7d246058495ef47bf5069f7",
            "f36b7f4ad04d4be88b2e11de2e906fbc",
            "bc4bed7ea7094700b719c4cbc8260a26",
            "e2e5e3b306e446c2935beba1e51cc5a2",
            "72ec44b469c9403d944bce4d6945f1d1",
            "dccd6347da1446be99a7925fc1785123",
            "0d07202daa034f6d97226dc1754254ec",
            "a21b56f522be4271bb816972d9c57c4d",
            "672d86841b4a4a19b52a9182e97390ac",
            "71d8f9e397ed4d28a39622056d448b32",
            "bee28a976f3e4400af7e71c80941af52",
            "ac77232d09be4680b86471573a822707",
            "d8b394326244404ea9118c479ed818e8",
            "8fe2a5d3e9f84b7bae1c5924c6846006",
            "87fd3645e0cb4d5db9a42901592fd8ce",
            "a78817c116d24c5ea27bfc34ebadd7a9",
            "fa779df905f54cb79ccffe02302db22e",
            "584aa806809b4e77917773806d3d70e8",
            "5a4ad75a0b154dd496359166fd65438c",
            "7b0fb539210b45ef807dd24f0e413676",
            "85f08537b5f144c3b8cbedf4e5ddcfd6",
            "5163e13034944845a4268fa43bb57e94",
            "fddf1647d1b54d3d9b7b64bb8e8a814f",
            "c96ee24889a342c3ab9088e1469dd308",
            "aa59b8c11c4d443f9cea8fe20bbca783",
            "702f457520cd47b29095f549605b17d9",
            "0cb8d3244192485ea265464f5091aacf",
            "e15dd6e4070149638f9d7d456f15134b",
            "4379bea5c5b640be87b26b48aed4865e",
            "a3c49c69acc64c9097ffa9add284ff93",
            "1c2f53aa958a456db27c1d067e0ffa03",
            "ac7c29b636dc46f58767de2d4a22a094",
            "9aa430109a5f4984842a7dee75b562f1",
            "87589f35b0a841c38885308ccc6de272",
            "4d3148e303e84ee0abf36a531aaad65d",
            "333a4e4e160147b1a4683a67fcd187bb",
            "e7be0eb758494b0d8f0674961d77775d",
            "d6a9a7c497434e5197ca78fd002f2acd",
            "525c2c92f70f42e6a11b98eb3522ab0c",
            "317d2339eadc46059bc58b2bdfd2308f",
            "6313b09cbc554ccf9d8fe0e6102ecfb2",
            "277b60e9508f4a17a93a95cda274a407",
            "b6ff5a7413344f1abef3cc6ded228026",
            "95bb4e39769f4ddaa383af27ea460e41",
            "5605602febd94012a8f69b6cc7c306c6",
            "475c0535cbe34bbbb4d29523e8bb7519",
            "389104a479f54b75ab174a6fb09cd562",
            "5217ccfd88fc4330ada79118468d6341",
            "24b4b3fff05643f0a37b394eb3ba9716",
            "44e9db102a484f478fe2ea48373d3e24",
            "43a18b38a72e4fc4b8e210879a549a5f",
            "c66ae2dd5fbd4d88b6efce7f723ad5e0",
            "65ee50e16fbe4089a815eebd623816e0",
            "87c8dbd58edb4f33ad708c5963a7fc29",
            "900ba453164c440587dc7988c6294fe3",
            "752b685ca22c4e8d87829bd52ad77881",
            "843a7b77d4a44eae9f8ea849bef4561e",
            "03bd0b54b04043d095291cb46a914ea9",
            "480b87b7b643453bad37b29f05a59881",
            "3dec286918244de2b8b64c0a25072b8e",
            "f42e80454849490a8c10afab4029abdc",
            "0e97271e2f524f75b1342e5f9d79157e",
            "b3b84e9e347346f4a726999fbccf98f9",
            "ba3342b4870041768e990d434aa5adfd",
            "b2327bd44d544c20bd1b2070835a8bf1",
            "fc4fbaa7c4cb4578a0dbdcf51f19ffa1",
            "e0c128fd1df9433b88fb416ddaee9d14",
            "a2aa5e7b91764788a376d13bf9443693",
            "10c07f897e8f4d72b4351cabcc2b1bbd",
            "061e64f0091746b4b09c0702c92b9758",
            "feb9610f71514072a786b4518fa415cc",
            "daea52be29984cb99cbb0a4b78f9c078",
            "eb34b6c4dd194e52a063ee94da317fec",
            "aaee83b3b0bc40e19861a27d852549a6",
            "8be941cbb750496290ef2891950deebd",
            "f2f2cf71239a41ae80e87ee3a4464485",
            "e291b0b232bb4f0ab122f3d225166e68",
            "1d63d9897372470e95151c93a434563d",
            "199dcef164844ac5a5b1c4cd750fc297",
            "e29f8ad0b7b84d13b0db281bec40c7a9",
            "3216ce27740448ad8e1d09fc8a464bb2",
            "e5be871665824223964a0fa31d7aa85e",
            "16cb8819bfdc4bb3b2baa55557be9593",
            "9a25fde7169d45e3962f75487fe8c073",
            "ed8f07867c144a4e80cf2d9b0deb00b1",
            "8133d454950a42d7b1afca41ef2bfc48",
            "2607ceed2f2d4d5e95722dd7ba5be0c9",
            "512dde3219de4d33833ed9f36e1fe2fd",
            "25b62d94877e4428ad3f4dabd7153a22",
            "caeca83b9fad4909977ad3b1af871b8f",
            "ba545336d0b04985ad1a161880e65f54",
            "ee36048bf6f84060bcb131acd7461349",
            "157ad9a13a8e4c9eb31a36f902ca80d4",
            "108000ef559c4bfd9db57db79c13dbab",
            "46ee0b99ec03433280e59b534ae2e797",
            "289f0bc72b964a32bdde5272689dd54a",
            "aa2d61e28cf0481b9ba2844e93b71862",
            "65100a4fcd1d49d6b5b2d771ebd3578d",
            "64a5989c74c04b50b81e82acc049890c"
          ]
        },
        "outputId": "b8fc317c-86b5-4728-b4ea-1f80c9f7d681"
      },
      "id": "a9996703fbac80ef"
    },
    {
      "cell_type": "markdown",
      "source": [
        "# **PLOT RESULTS OF TRAINING**"
      ],
      "metadata": {
        "id": "OZedAG2ulXgu"
      },
      "id": "OZedAG2ulXgu"
    },
    {
      "cell_type": "code",
      "source": [
        "\n",
        "\n",
        "trace1 = go.Scatter(x=[i for i in range(len(accumulate_reward_means))], y=accumulate_reward_means, mode='lines', name=\"mean_rewards\")\n",
        "\n",
        "\n",
        "trace2 = go.Scatter(x=[i for i in range(len(accumulate_worm_len_means))], y=accumulate_worm_len_means, mode='lines', name=\"mean_lengths\")\n",
        "\n",
        "fig1 = go.Figure(trace1)\n",
        "fig2 = go.Figure(trace2)\n",
        "\n",
        "\n",
        "\n",
        "\n",
        "\n",
        "\n",
        "# Aggiunta del layout (opzionale)\n",
        "fig1.update_layout(title='reward results', xaxis_title='X', yaxis_title='Y')\n",
        "\n",
        "\n",
        "\n",
        "# Aggiunta del layout (opzionale)\n",
        "fig2.update_layout(title='episode lengths results', xaxis_title='X', yaxis_title='Y')\n",
        "\n",
        "fig1.write_image(\"Plots/rewards_\" + MODEL_VERSION + WORMHOLES + WORMS[:-1] + \".png\")\n",
        "fig2.write_image(\"Plots/ep_lengths_\" + MODEL_VERSION + WORMHOLES + WORMS[:-1] + \".png\")\n",
        "\n",
        "# Visualizzazione del grafico\n",
        "fig1.show()\n",
        "\n",
        "fig2.show()"
      ],
      "metadata": {
        "colab": {
          "base_uri": "https://localhost:8080/",
          "height": 1000
        },
        "id": "nNtWoiflJEci",
        "outputId": "24e0b8a9-5810-425a-ea9f-76542ff1f5bc"
      },
      "id": "nNtWoiflJEci",
      "execution_count": 30,
      "outputs": [
        {
          "output_type": "display_data",
          "data": {
            "text/html": [
              "<html>\n",
              "<head><meta charset=\"utf-8\" /></head>\n",
              "<body>\n",
              "    <div>            <script src=\"https://cdnjs.cloudflare.com/ajax/libs/mathjax/2.7.5/MathJax.js?config=TeX-AMS-MML_SVG\"></script><script type=\"text/javascript\">if (window.MathJax && window.MathJax.Hub && window.MathJax.Hub.Config) {window.MathJax.Hub.Config({SVG: {font: \"STIX-Web\"}});}</script>                <script type=\"text/javascript\">window.PlotlyConfig = {MathJaxConfig: 'local'};</script>\n",
              "        <script charset=\"utf-8\" src=\"https://cdn.plot.ly/plotly-2.29.1.min.js\"></script>                <div id=\"5d253457-3e24-4867-a3c8-221c36c7073e\" class=\"plotly-graph-div\" style=\"height:525px; width:100%;\"></div>            <script type=\"text/javascript\">                                    window.PLOTLYENV=window.PLOTLYENV || {};                                    if (document.getElementById(\"5d253457-3e24-4867-a3c8-221c36c7073e\")) {                    Plotly.newPlot(                        \"5d253457-3e24-4867-a3c8-221c36c7073e\",                        [{\"mode\":\"lines\",\"name\":\"mean_rewards\",\"x\":[0,1,2,3,4,5,6,7,8,9,10,11,12,13,14,15,16,17,18,19,20,21,22,23,24,25,26,27,28,29,30,31,32,33,34,35,36,37,38,39,40,41,42,43,44,45,46,47,48,49,50,51,52,53,54,55,56,57,58,59,60,61,62,63,64,65,66,67,68,69,70,71,72,73,74,75,76,77,78,79,80,81,82,83,84,85,86,87,88,89,90,91,92,93,94,95,96,97,98,99,100,101,102,103,104,105,106,107,108,109,110,111,112,113,114,115,116,117,118,119,120,121,122,123,124,125,126,127,128,129,130,131,132,133,134,135,136,137,138,139,140,141,142,143,144,145,146,147,148,149,150,151,152,153,154,155,156,157,158,159,160,161,162,163,164,165,166,167,168,169,170,171,172,173,174,175,176,177,178,179,180,181,182,183,184,185,186,187,188,189,190,191,192,193,194],\"y\":[60.6,61.2,60.2,60.8,60.2,105.8,68.0,15.4,17.4,17.2,21.6,59.0,108.2,108.4,110.6,110.6,72.0,77.0,32.2,32.0,-23.6,-26.4,-27.4,16.6,13.4,64.6,106.2,104.0,105.6,109.4,112.2,71.4,73.8,74.0,72.2,71.0,111.0,111.8,108.4,110.0,115.2,117.4,63.8,68.2,66.6,60.4,9.0,62.2,59.2,12.2,-38.8,-31.8,-27.8,-72.4,-20.0,-12.2,30.0,25.8,74.0,72.4,120.8,123.0,128.0,129.2,126.2,77.4,77.6,71.0,69.4,72.8,122.0,121.0,123.4,121.4,121.6,71.0,72.4,66.4,66.4,64.8,115.8,78.4,46.6,47.6,6.0,5.8,40.8,82.0,85.0,130.2,131.4,135.2,94.2,92.0,42.4,39.4,37.4,76.2,76.8,125.0,128.0,129.4,129.8,129.6,128.8,125.8,127.2,128.2,126.8,125.4,124.4,124.0,80.8,85.0,85.0,87.0,83.2,129.2,126.2,128.0,126.2,128.0,83.8,85.8,85.6,88.2,89.0,130.0,128.4,129.2,127.8,128.4,128.0,128.4,127.4,128.2,128.8,129.8,132.2,132.6,133.6,132.6,132.0,130.8,131.2,130.8,132.4,133.6,135.0,134.2,83.2,81.8,81.8,81.6,81.6,131.8,91.8,92.6,91.0,93.4,92.8,133.2,133.2,132.8,131.2,130.8,132.0,131.2,130.4,130.2,131.0,129.0,128.8,128.4,129.0,131.4,133.2,133.4,133.8,136.2,134.6,134.0,134.0,133.6,131.0,131.0,129.4,128.8,129.0,128.0,128.6,130.2,130.8,133.2,91.6],\"type\":\"scatter\"}],                        {\"template\":{\"data\":{\"histogram2dcontour\":[{\"type\":\"histogram2dcontour\",\"colorbar\":{\"outlinewidth\":0,\"ticks\":\"\"},\"colorscale\":[[0.0,\"#0d0887\"],[0.1111111111111111,\"#46039f\"],[0.2222222222222222,\"#7201a8\"],[0.3333333333333333,\"#9c179e\"],[0.4444444444444444,\"#bd3786\"],[0.5555555555555556,\"#d8576b\"],[0.6666666666666666,\"#ed7953\"],[0.7777777777777778,\"#fb9f3a\"],[0.8888888888888888,\"#fdca26\"],[1.0,\"#f0f921\"]]}],\"choropleth\":[{\"type\":\"choropleth\",\"colorbar\":{\"outlinewidth\":0,\"ticks\":\"\"}}],\"histogram2d\":[{\"type\":\"histogram2d\",\"colorbar\":{\"outlinewidth\":0,\"ticks\":\"\"},\"colorscale\":[[0.0,\"#0d0887\"],[0.1111111111111111,\"#46039f\"],[0.2222222222222222,\"#7201a8\"],[0.3333333333333333,\"#9c179e\"],[0.4444444444444444,\"#bd3786\"],[0.5555555555555556,\"#d8576b\"],[0.6666666666666666,\"#ed7953\"],[0.7777777777777778,\"#fb9f3a\"],[0.8888888888888888,\"#fdca26\"],[1.0,\"#f0f921\"]]}],\"heatmap\":[{\"type\":\"heatmap\",\"colorbar\":{\"outlinewidth\":0,\"ticks\":\"\"},\"colorscale\":[[0.0,\"#0d0887\"],[0.1111111111111111,\"#46039f\"],[0.2222222222222222,\"#7201a8\"],[0.3333333333333333,\"#9c179e\"],[0.4444444444444444,\"#bd3786\"],[0.5555555555555556,\"#d8576b\"],[0.6666666666666666,\"#ed7953\"],[0.7777777777777778,\"#fb9f3a\"],[0.8888888888888888,\"#fdca26\"],[1.0,\"#f0f921\"]]}],\"heatmapgl\":[{\"type\":\"heatmapgl\",\"colorbar\":{\"outlinewidth\":0,\"ticks\":\"\"},\"colorscale\":[[0.0,\"#0d0887\"],[0.1111111111111111,\"#46039f\"],[0.2222222222222222,\"#7201a8\"],[0.3333333333333333,\"#9c179e\"],[0.4444444444444444,\"#bd3786\"],[0.5555555555555556,\"#d8576b\"],[0.6666666666666666,\"#ed7953\"],[0.7777777777777778,\"#fb9f3a\"],[0.8888888888888888,\"#fdca26\"],[1.0,\"#f0f921\"]]}],\"contourcarpet\":[{\"type\":\"contourcarpet\",\"colorbar\":{\"outlinewidth\":0,\"ticks\":\"\"}}],\"contour\":[{\"type\":\"contour\",\"colorbar\":{\"outlinewidth\":0,\"ticks\":\"\"},\"colorscale\":[[0.0,\"#0d0887\"],[0.1111111111111111,\"#46039f\"],[0.2222222222222222,\"#7201a8\"],[0.3333333333333333,\"#9c179e\"],[0.4444444444444444,\"#bd3786\"],[0.5555555555555556,\"#d8576b\"],[0.6666666666666666,\"#ed7953\"],[0.7777777777777778,\"#fb9f3a\"],[0.8888888888888888,\"#fdca26\"],[1.0,\"#f0f921\"]]}],\"surface\":[{\"type\":\"surface\",\"colorbar\":{\"outlinewidth\":0,\"ticks\":\"\"},\"colorscale\":[[0.0,\"#0d0887\"],[0.1111111111111111,\"#46039f\"],[0.2222222222222222,\"#7201a8\"],[0.3333333333333333,\"#9c179e\"],[0.4444444444444444,\"#bd3786\"],[0.5555555555555556,\"#d8576b\"],[0.6666666666666666,\"#ed7953\"],[0.7777777777777778,\"#fb9f3a\"],[0.8888888888888888,\"#fdca26\"],[1.0,\"#f0f921\"]]}],\"mesh3d\":[{\"type\":\"mesh3d\",\"colorbar\":{\"outlinewidth\":0,\"ticks\":\"\"}}],\"scatter\":[{\"fillpattern\":{\"fillmode\":\"overlay\",\"size\":10,\"solidity\":0.2},\"type\":\"scatter\"}],\"parcoords\":[{\"type\":\"parcoords\",\"line\":{\"colorbar\":{\"outlinewidth\":0,\"ticks\":\"\"}}}],\"scatterpolargl\":[{\"type\":\"scatterpolargl\",\"marker\":{\"colorbar\":{\"outlinewidth\":0,\"ticks\":\"\"}}}],\"bar\":[{\"error_x\":{\"color\":\"#2a3f5f\"},\"error_y\":{\"color\":\"#2a3f5f\"},\"marker\":{\"line\":{\"color\":\"#E5ECF6\",\"width\":0.5},\"pattern\":{\"fillmode\":\"overlay\",\"size\":10,\"solidity\":0.2}},\"type\":\"bar\"}],\"scattergeo\":[{\"type\":\"scattergeo\",\"marker\":{\"colorbar\":{\"outlinewidth\":0,\"ticks\":\"\"}}}],\"scatterpolar\":[{\"type\":\"scatterpolar\",\"marker\":{\"colorbar\":{\"outlinewidth\":0,\"ticks\":\"\"}}}],\"histogram\":[{\"marker\":{\"pattern\":{\"fillmode\":\"overlay\",\"size\":10,\"solidity\":0.2}},\"type\":\"histogram\"}],\"scattergl\":[{\"type\":\"scattergl\",\"marker\":{\"colorbar\":{\"outlinewidth\":0,\"ticks\":\"\"}}}],\"scatter3d\":[{\"type\":\"scatter3d\",\"line\":{\"colorbar\":{\"outlinewidth\":0,\"ticks\":\"\"}},\"marker\":{\"colorbar\":{\"outlinewidth\":0,\"ticks\":\"\"}}}],\"scattermapbox\":[{\"type\":\"scattermapbox\",\"marker\":{\"colorbar\":{\"outlinewidth\":0,\"ticks\":\"\"}}}],\"scatterternary\":[{\"type\":\"scatterternary\",\"marker\":{\"colorbar\":{\"outlinewidth\":0,\"ticks\":\"\"}}}],\"scattercarpet\":[{\"type\":\"scattercarpet\",\"marker\":{\"colorbar\":{\"outlinewidth\":0,\"ticks\":\"\"}}}],\"carpet\":[{\"aaxis\":{\"endlinecolor\":\"#2a3f5f\",\"gridcolor\":\"white\",\"linecolor\":\"white\",\"minorgridcolor\":\"white\",\"startlinecolor\":\"#2a3f5f\"},\"baxis\":{\"endlinecolor\":\"#2a3f5f\",\"gridcolor\":\"white\",\"linecolor\":\"white\",\"minorgridcolor\":\"white\",\"startlinecolor\":\"#2a3f5f\"},\"type\":\"carpet\"}],\"table\":[{\"cells\":{\"fill\":{\"color\":\"#EBF0F8\"},\"line\":{\"color\":\"white\"}},\"header\":{\"fill\":{\"color\":\"#C8D4E3\"},\"line\":{\"color\":\"white\"}},\"type\":\"table\"}],\"barpolar\":[{\"marker\":{\"line\":{\"color\":\"#E5ECF6\",\"width\":0.5},\"pattern\":{\"fillmode\":\"overlay\",\"size\":10,\"solidity\":0.2}},\"type\":\"barpolar\"}],\"pie\":[{\"automargin\":true,\"type\":\"pie\"}]},\"layout\":{\"autotypenumbers\":\"strict\",\"colorway\":[\"#636efa\",\"#EF553B\",\"#00cc96\",\"#ab63fa\",\"#FFA15A\",\"#19d3f3\",\"#FF6692\",\"#B6E880\",\"#FF97FF\",\"#FECB52\"],\"font\":{\"color\":\"#2a3f5f\"},\"hovermode\":\"closest\",\"hoverlabel\":{\"align\":\"left\"},\"paper_bgcolor\":\"white\",\"plot_bgcolor\":\"#E5ECF6\",\"polar\":{\"bgcolor\":\"#E5ECF6\",\"angularaxis\":{\"gridcolor\":\"white\",\"linecolor\":\"white\",\"ticks\":\"\"},\"radialaxis\":{\"gridcolor\":\"white\",\"linecolor\":\"white\",\"ticks\":\"\"}},\"ternary\":{\"bgcolor\":\"#E5ECF6\",\"aaxis\":{\"gridcolor\":\"white\",\"linecolor\":\"white\",\"ticks\":\"\"},\"baxis\":{\"gridcolor\":\"white\",\"linecolor\":\"white\",\"ticks\":\"\"},\"caxis\":{\"gridcolor\":\"white\",\"linecolor\":\"white\",\"ticks\":\"\"}},\"coloraxis\":{\"colorbar\":{\"outlinewidth\":0,\"ticks\":\"\"}},\"colorscale\":{\"sequential\":[[0.0,\"#0d0887\"],[0.1111111111111111,\"#46039f\"],[0.2222222222222222,\"#7201a8\"],[0.3333333333333333,\"#9c179e\"],[0.4444444444444444,\"#bd3786\"],[0.5555555555555556,\"#d8576b\"],[0.6666666666666666,\"#ed7953\"],[0.7777777777777778,\"#fb9f3a\"],[0.8888888888888888,\"#fdca26\"],[1.0,\"#f0f921\"]],\"sequentialminus\":[[0.0,\"#0d0887\"],[0.1111111111111111,\"#46039f\"],[0.2222222222222222,\"#7201a8\"],[0.3333333333333333,\"#9c179e\"],[0.4444444444444444,\"#bd3786\"],[0.5555555555555556,\"#d8576b\"],[0.6666666666666666,\"#ed7953\"],[0.7777777777777778,\"#fb9f3a\"],[0.8888888888888888,\"#fdca26\"],[1.0,\"#f0f921\"]],\"diverging\":[[0,\"#8e0152\"],[0.1,\"#c51b7d\"],[0.2,\"#de77ae\"],[0.3,\"#f1b6da\"],[0.4,\"#fde0ef\"],[0.5,\"#f7f7f7\"],[0.6,\"#e6f5d0\"],[0.7,\"#b8e186\"],[0.8,\"#7fbc41\"],[0.9,\"#4d9221\"],[1,\"#276419\"]]},\"xaxis\":{\"gridcolor\":\"white\",\"linecolor\":\"white\",\"ticks\":\"\",\"title\":{\"standoff\":15},\"zerolinecolor\":\"white\",\"automargin\":true,\"zerolinewidth\":2},\"yaxis\":{\"gridcolor\":\"white\",\"linecolor\":\"white\",\"ticks\":\"\",\"title\":{\"standoff\":15},\"zerolinecolor\":\"white\",\"automargin\":true,\"zerolinewidth\":2},\"scene\":{\"xaxis\":{\"backgroundcolor\":\"#E5ECF6\",\"gridcolor\":\"white\",\"linecolor\":\"white\",\"showbackground\":true,\"ticks\":\"\",\"zerolinecolor\":\"white\",\"gridwidth\":2},\"yaxis\":{\"backgroundcolor\":\"#E5ECF6\",\"gridcolor\":\"white\",\"linecolor\":\"white\",\"showbackground\":true,\"ticks\":\"\",\"zerolinecolor\":\"white\",\"gridwidth\":2},\"zaxis\":{\"backgroundcolor\":\"#E5ECF6\",\"gridcolor\":\"white\",\"linecolor\":\"white\",\"showbackground\":true,\"ticks\":\"\",\"zerolinecolor\":\"white\",\"gridwidth\":2}},\"shapedefaults\":{\"line\":{\"color\":\"#2a3f5f\"}},\"annotationdefaults\":{\"arrowcolor\":\"#2a3f5f\",\"arrowhead\":0,\"arrowwidth\":1},\"geo\":{\"bgcolor\":\"white\",\"landcolor\":\"#E5ECF6\",\"subunitcolor\":\"white\",\"showland\":true,\"showlakes\":true,\"lakecolor\":\"white\"},\"title\":{\"x\":0.05},\"mapbox\":{\"style\":\"light\"}}},\"title\":{\"text\":\"reward results\"},\"xaxis\":{\"title\":{\"text\":\"X\"}},\"yaxis\":{\"title\":{\"text\":\"Y\"}}},                        {\"responsive\": true}                    ).then(function(){\n",
              "                            \n",
              "var gd = document.getElementById('5d253457-3e24-4867-a3c8-221c36c7073e');\n",
              "var x = new MutationObserver(function (mutations, observer) {{\n",
              "        var display = window.getComputedStyle(gd).display;\n",
              "        if (!display || display === 'none') {{\n",
              "            console.log([gd, 'removed!']);\n",
              "            Plotly.purge(gd);\n",
              "            observer.disconnect();\n",
              "        }}\n",
              "}});\n",
              "\n",
              "// Listen for the removal of the full notebook cells\n",
              "var notebookContainer = gd.closest('#notebook-container');\n",
              "if (notebookContainer) {{\n",
              "    x.observe(notebookContainer, {childList: true});\n",
              "}}\n",
              "\n",
              "// Listen for the clearing of the current output cell\n",
              "var outputEl = gd.closest('.output');\n",
              "if (outputEl) {{\n",
              "    x.observe(outputEl, {childList: true});\n",
              "}}\n",
              "\n",
              "                        })                };                            </script>        </div>\n",
              "</body>\n",
              "</html>"
            ]
          },
          "metadata": {}
        },
        {
          "output_type": "display_data",
          "data": {
            "text/html": [
              "<html>\n",
              "<head><meta charset=\"utf-8\" /></head>\n",
              "<body>\n",
              "    <div>            <script src=\"https://cdnjs.cloudflare.com/ajax/libs/mathjax/2.7.5/MathJax.js?config=TeX-AMS-MML_SVG\"></script><script type=\"text/javascript\">if (window.MathJax && window.MathJax.Hub && window.MathJax.Hub.Config) {window.MathJax.Hub.Config({SVG: {font: \"STIX-Web\"}});}</script>                <script type=\"text/javascript\">window.PlotlyConfig = {MathJaxConfig: 'local'};</script>\n",
              "        <script charset=\"utf-8\" src=\"https://cdn.plot.ly/plotly-2.29.1.min.js\"></script>                <div id=\"ea1e7430-40f2-4446-abfa-5be98e949df7\" class=\"plotly-graph-div\" style=\"height:525px; width:100%;\"></div>            <script type=\"text/javascript\">                                    window.PLOTLYENV=window.PLOTLYENV || {};                                    if (document.getElementById(\"ea1e7430-40f2-4446-abfa-5be98e949df7\")) {                    Plotly.newPlot(                        \"ea1e7430-40f2-4446-abfa-5be98e949df7\",                        [{\"mode\":\"lines\",\"name\":\"mean_lengths\",\"x\":[0,1,2,3,4,5,6,7,8,9,10,11,12,13,14,15,16,17,18,19,20,21,22,23,24,25,26,27,28,29,30,31,32,33,34,35,36,37,38,39,40,41,42,43,44,45,46,47,48,49,50,51,52,53,54,55,56,57,58,59,60,61,62,63,64,65,66,67,68,69,70,71,72,73,74,75,76,77,78,79,80,81,82,83,84,85,86,87,88,89,90,91,92,93,94,95,96,97,98,99,100,101,102,103,104,105,106,107,108,109,110,111,112,113,114,115,116,117,118,119,120,121,122,123,124,125,126,127,128,129,130,131,132,133,134,135,136,137,138,139,140,141,142,143,144,145,146,147,148,149,150,151,152,153,154,155,156,157,158,159,160,161,162,163,164,165,166,167,168,169,170,171,172,173,174,175,176,177,178,179,180,181,182,183,184,185,186,187,188,189,190,191,192,193,194],\"y\":[22.2,22.2,22.2,22.2,22.2,24.0,23.8,20.6,20.6,20.6,20.6,20.8,24.0,24.0,24.0,24.0,23.6,23.6,22.6,22.6,20.2,19.6,19.6,20.6,20.6,23.0,24.0,24.0,24.0,24.0,24.0,23.8,23.8,23.8,23.8,23.8,24.0,24.0,24.0,24.0,24.0,24.0,21.2,21.2,21.2,21.2,18.6,21.4,21.4,20.4,17.8,19.6,19.6,18.2,19.2,20.0,20.8,20.8,22.2,22.2,24.0,24.0,24.0,24.0,24.0,22.6,22.6,22.6,22.6,22.6,24.0,24.0,24.0,24.0,24.0,22.4,22.4,22.4,22.4,22.4,24.0,23.8,23.6,23.6,22.8,22.8,23.0,23.2,23.2,24.0,24.0,24.0,23.6,23.6,22.6,22.6,22.6,23.0,23.0,24.0,24.0,24.0,24.0,24.0,24.0,24.0,24.0,24.0,24.0,24.0,24.0,24.0,23.8,23.8,23.8,23.8,23.8,24.0,24.0,24.0,24.0,24.0,23.2,23.2,23.2,23.2,23.2,24.0,24.0,24.0,24.0,24.0,24.0,24.0,24.0,24.0,24.0,24.0,24.0,24.0,24.0,24.0,24.0,24.0,24.0,24.0,24.0,24.0,24.0,24.0,21.6,21.6,21.6,21.6,21.6,24.0,23.8,23.8,23.8,23.8,23.8,24.0,24.0,24.0,24.0,24.0,24.0,24.0,24.0,24.0,24.0,24.0,24.0,24.0,24.0,24.0,24.0,24.0,24.0,24.0,24.0,24.0,24.0,24.0,24.0,24.0,24.0,24.0,24.0,24.0,24.0,24.0,24.0,24.0,23.6],\"type\":\"scatter\"}],                        {\"template\":{\"data\":{\"histogram2dcontour\":[{\"type\":\"histogram2dcontour\",\"colorbar\":{\"outlinewidth\":0,\"ticks\":\"\"},\"colorscale\":[[0.0,\"#0d0887\"],[0.1111111111111111,\"#46039f\"],[0.2222222222222222,\"#7201a8\"],[0.3333333333333333,\"#9c179e\"],[0.4444444444444444,\"#bd3786\"],[0.5555555555555556,\"#d8576b\"],[0.6666666666666666,\"#ed7953\"],[0.7777777777777778,\"#fb9f3a\"],[0.8888888888888888,\"#fdca26\"],[1.0,\"#f0f921\"]]}],\"choropleth\":[{\"type\":\"choropleth\",\"colorbar\":{\"outlinewidth\":0,\"ticks\":\"\"}}],\"histogram2d\":[{\"type\":\"histogram2d\",\"colorbar\":{\"outlinewidth\":0,\"ticks\":\"\"},\"colorscale\":[[0.0,\"#0d0887\"],[0.1111111111111111,\"#46039f\"],[0.2222222222222222,\"#7201a8\"],[0.3333333333333333,\"#9c179e\"],[0.4444444444444444,\"#bd3786\"],[0.5555555555555556,\"#d8576b\"],[0.6666666666666666,\"#ed7953\"],[0.7777777777777778,\"#fb9f3a\"],[0.8888888888888888,\"#fdca26\"],[1.0,\"#f0f921\"]]}],\"heatmap\":[{\"type\":\"heatmap\",\"colorbar\":{\"outlinewidth\":0,\"ticks\":\"\"},\"colorscale\":[[0.0,\"#0d0887\"],[0.1111111111111111,\"#46039f\"],[0.2222222222222222,\"#7201a8\"],[0.3333333333333333,\"#9c179e\"],[0.4444444444444444,\"#bd3786\"],[0.5555555555555556,\"#d8576b\"],[0.6666666666666666,\"#ed7953\"],[0.7777777777777778,\"#fb9f3a\"],[0.8888888888888888,\"#fdca26\"],[1.0,\"#f0f921\"]]}],\"heatmapgl\":[{\"type\":\"heatmapgl\",\"colorbar\":{\"outlinewidth\":0,\"ticks\":\"\"},\"colorscale\":[[0.0,\"#0d0887\"],[0.1111111111111111,\"#46039f\"],[0.2222222222222222,\"#7201a8\"],[0.3333333333333333,\"#9c179e\"],[0.4444444444444444,\"#bd3786\"],[0.5555555555555556,\"#d8576b\"],[0.6666666666666666,\"#ed7953\"],[0.7777777777777778,\"#fb9f3a\"],[0.8888888888888888,\"#fdca26\"],[1.0,\"#f0f921\"]]}],\"contourcarpet\":[{\"type\":\"contourcarpet\",\"colorbar\":{\"outlinewidth\":0,\"ticks\":\"\"}}],\"contour\":[{\"type\":\"contour\",\"colorbar\":{\"outlinewidth\":0,\"ticks\":\"\"},\"colorscale\":[[0.0,\"#0d0887\"],[0.1111111111111111,\"#46039f\"],[0.2222222222222222,\"#7201a8\"],[0.3333333333333333,\"#9c179e\"],[0.4444444444444444,\"#bd3786\"],[0.5555555555555556,\"#d8576b\"],[0.6666666666666666,\"#ed7953\"],[0.7777777777777778,\"#fb9f3a\"],[0.8888888888888888,\"#fdca26\"],[1.0,\"#f0f921\"]]}],\"surface\":[{\"type\":\"surface\",\"colorbar\":{\"outlinewidth\":0,\"ticks\":\"\"},\"colorscale\":[[0.0,\"#0d0887\"],[0.1111111111111111,\"#46039f\"],[0.2222222222222222,\"#7201a8\"],[0.3333333333333333,\"#9c179e\"],[0.4444444444444444,\"#bd3786\"],[0.5555555555555556,\"#d8576b\"],[0.6666666666666666,\"#ed7953\"],[0.7777777777777778,\"#fb9f3a\"],[0.8888888888888888,\"#fdca26\"],[1.0,\"#f0f921\"]]}],\"mesh3d\":[{\"type\":\"mesh3d\",\"colorbar\":{\"outlinewidth\":0,\"ticks\":\"\"}}],\"scatter\":[{\"fillpattern\":{\"fillmode\":\"overlay\",\"size\":10,\"solidity\":0.2},\"type\":\"scatter\"}],\"parcoords\":[{\"type\":\"parcoords\",\"line\":{\"colorbar\":{\"outlinewidth\":0,\"ticks\":\"\"}}}],\"scatterpolargl\":[{\"type\":\"scatterpolargl\",\"marker\":{\"colorbar\":{\"outlinewidth\":0,\"ticks\":\"\"}}}],\"bar\":[{\"error_x\":{\"color\":\"#2a3f5f\"},\"error_y\":{\"color\":\"#2a3f5f\"},\"marker\":{\"line\":{\"color\":\"#E5ECF6\",\"width\":0.5},\"pattern\":{\"fillmode\":\"overlay\",\"size\":10,\"solidity\":0.2}},\"type\":\"bar\"}],\"scattergeo\":[{\"type\":\"scattergeo\",\"marker\":{\"colorbar\":{\"outlinewidth\":0,\"ticks\":\"\"}}}],\"scatterpolar\":[{\"type\":\"scatterpolar\",\"marker\":{\"colorbar\":{\"outlinewidth\":0,\"ticks\":\"\"}}}],\"histogram\":[{\"marker\":{\"pattern\":{\"fillmode\":\"overlay\",\"size\":10,\"solidity\":0.2}},\"type\":\"histogram\"}],\"scattergl\":[{\"type\":\"scattergl\",\"marker\":{\"colorbar\":{\"outlinewidth\":0,\"ticks\":\"\"}}}],\"scatter3d\":[{\"type\":\"scatter3d\",\"line\":{\"colorbar\":{\"outlinewidth\":0,\"ticks\":\"\"}},\"marker\":{\"colorbar\":{\"outlinewidth\":0,\"ticks\":\"\"}}}],\"scattermapbox\":[{\"type\":\"scattermapbox\",\"marker\":{\"colorbar\":{\"outlinewidth\":0,\"ticks\":\"\"}}}],\"scatterternary\":[{\"type\":\"scatterternary\",\"marker\":{\"colorbar\":{\"outlinewidth\":0,\"ticks\":\"\"}}}],\"scattercarpet\":[{\"type\":\"scattercarpet\",\"marker\":{\"colorbar\":{\"outlinewidth\":0,\"ticks\":\"\"}}}],\"carpet\":[{\"aaxis\":{\"endlinecolor\":\"#2a3f5f\",\"gridcolor\":\"white\",\"linecolor\":\"white\",\"minorgridcolor\":\"white\",\"startlinecolor\":\"#2a3f5f\"},\"baxis\":{\"endlinecolor\":\"#2a3f5f\",\"gridcolor\":\"white\",\"linecolor\":\"white\",\"minorgridcolor\":\"white\",\"startlinecolor\":\"#2a3f5f\"},\"type\":\"carpet\"}],\"table\":[{\"cells\":{\"fill\":{\"color\":\"#EBF0F8\"},\"line\":{\"color\":\"white\"}},\"header\":{\"fill\":{\"color\":\"#C8D4E3\"},\"line\":{\"color\":\"white\"}},\"type\":\"table\"}],\"barpolar\":[{\"marker\":{\"line\":{\"color\":\"#E5ECF6\",\"width\":0.5},\"pattern\":{\"fillmode\":\"overlay\",\"size\":10,\"solidity\":0.2}},\"type\":\"barpolar\"}],\"pie\":[{\"automargin\":true,\"type\":\"pie\"}]},\"layout\":{\"autotypenumbers\":\"strict\",\"colorway\":[\"#636efa\",\"#EF553B\",\"#00cc96\",\"#ab63fa\",\"#FFA15A\",\"#19d3f3\",\"#FF6692\",\"#B6E880\",\"#FF97FF\",\"#FECB52\"],\"font\":{\"color\":\"#2a3f5f\"},\"hovermode\":\"closest\",\"hoverlabel\":{\"align\":\"left\"},\"paper_bgcolor\":\"white\",\"plot_bgcolor\":\"#E5ECF6\",\"polar\":{\"bgcolor\":\"#E5ECF6\",\"angularaxis\":{\"gridcolor\":\"white\",\"linecolor\":\"white\",\"ticks\":\"\"},\"radialaxis\":{\"gridcolor\":\"white\",\"linecolor\":\"white\",\"ticks\":\"\"}},\"ternary\":{\"bgcolor\":\"#E5ECF6\",\"aaxis\":{\"gridcolor\":\"white\",\"linecolor\":\"white\",\"ticks\":\"\"},\"baxis\":{\"gridcolor\":\"white\",\"linecolor\":\"white\",\"ticks\":\"\"},\"caxis\":{\"gridcolor\":\"white\",\"linecolor\":\"white\",\"ticks\":\"\"}},\"coloraxis\":{\"colorbar\":{\"outlinewidth\":0,\"ticks\":\"\"}},\"colorscale\":{\"sequential\":[[0.0,\"#0d0887\"],[0.1111111111111111,\"#46039f\"],[0.2222222222222222,\"#7201a8\"],[0.3333333333333333,\"#9c179e\"],[0.4444444444444444,\"#bd3786\"],[0.5555555555555556,\"#d8576b\"],[0.6666666666666666,\"#ed7953\"],[0.7777777777777778,\"#fb9f3a\"],[0.8888888888888888,\"#fdca26\"],[1.0,\"#f0f921\"]],\"sequentialminus\":[[0.0,\"#0d0887\"],[0.1111111111111111,\"#46039f\"],[0.2222222222222222,\"#7201a8\"],[0.3333333333333333,\"#9c179e\"],[0.4444444444444444,\"#bd3786\"],[0.5555555555555556,\"#d8576b\"],[0.6666666666666666,\"#ed7953\"],[0.7777777777777778,\"#fb9f3a\"],[0.8888888888888888,\"#fdca26\"],[1.0,\"#f0f921\"]],\"diverging\":[[0,\"#8e0152\"],[0.1,\"#c51b7d\"],[0.2,\"#de77ae\"],[0.3,\"#f1b6da\"],[0.4,\"#fde0ef\"],[0.5,\"#f7f7f7\"],[0.6,\"#e6f5d0\"],[0.7,\"#b8e186\"],[0.8,\"#7fbc41\"],[0.9,\"#4d9221\"],[1,\"#276419\"]]},\"xaxis\":{\"gridcolor\":\"white\",\"linecolor\":\"white\",\"ticks\":\"\",\"title\":{\"standoff\":15},\"zerolinecolor\":\"white\",\"automargin\":true,\"zerolinewidth\":2},\"yaxis\":{\"gridcolor\":\"white\",\"linecolor\":\"white\",\"ticks\":\"\",\"title\":{\"standoff\":15},\"zerolinecolor\":\"white\",\"automargin\":true,\"zerolinewidth\":2},\"scene\":{\"xaxis\":{\"backgroundcolor\":\"#E5ECF6\",\"gridcolor\":\"white\",\"linecolor\":\"white\",\"showbackground\":true,\"ticks\":\"\",\"zerolinecolor\":\"white\",\"gridwidth\":2},\"yaxis\":{\"backgroundcolor\":\"#E5ECF6\",\"gridcolor\":\"white\",\"linecolor\":\"white\",\"showbackground\":true,\"ticks\":\"\",\"zerolinecolor\":\"white\",\"gridwidth\":2},\"zaxis\":{\"backgroundcolor\":\"#E5ECF6\",\"gridcolor\":\"white\",\"linecolor\":\"white\",\"showbackground\":true,\"ticks\":\"\",\"zerolinecolor\":\"white\",\"gridwidth\":2}},\"shapedefaults\":{\"line\":{\"color\":\"#2a3f5f\"}},\"annotationdefaults\":{\"arrowcolor\":\"#2a3f5f\",\"arrowhead\":0,\"arrowwidth\":1},\"geo\":{\"bgcolor\":\"white\",\"landcolor\":\"#E5ECF6\",\"subunitcolor\":\"white\",\"showland\":true,\"showlakes\":true,\"lakecolor\":\"white\"},\"title\":{\"x\":0.05},\"mapbox\":{\"style\":\"light\"}}},\"title\":{\"text\":\"episode lengths results\"},\"xaxis\":{\"title\":{\"text\":\"X\"}},\"yaxis\":{\"title\":{\"text\":\"Y\"}}},                        {\"responsive\": true}                    ).then(function(){\n",
              "                            \n",
              "var gd = document.getElementById('ea1e7430-40f2-4446-abfa-5be98e949df7');\n",
              "var x = new MutationObserver(function (mutations, observer) {{\n",
              "        var display = window.getComputedStyle(gd).display;\n",
              "        if (!display || display === 'none') {{\n",
              "            console.log([gd, 'removed!']);\n",
              "            Plotly.purge(gd);\n",
              "            observer.disconnect();\n",
              "        }}\n",
              "}});\n",
              "\n",
              "// Listen for the removal of the full notebook cells\n",
              "var notebookContainer = gd.closest('#notebook-container');\n",
              "if (notebookContainer) {{\n",
              "    x.observe(notebookContainer, {childList: true});\n",
              "}}\n",
              "\n",
              "// Listen for the clearing of the current output cell\n",
              "var outputEl = gd.closest('.output');\n",
              "if (outputEl) {{\n",
              "    x.observe(outputEl, {childList: true});\n",
              "}}\n",
              "\n",
              "                        })                };                            </script>        </div>\n",
              "</body>\n",
              "</html>"
            ]
          },
          "metadata": {}
        }
      ]
    }
  ],
  "metadata": {
    "kernelspec": {
      "display_name": "Python 3",
      "language": "python",
      "name": "python3"
    },
    "language_info": {
      "codemirror_mode": {
        "name": "ipython",
        "version": 2
      },
      "file_extension": ".py",
      "mimetype": "text/x-python",
      "name": "python",
      "nbconvert_exporter": "python",
      "pygments_lexer": "ipython2",
      "version": "2.7.6"
    },
    "colab": {
      "provenance": []
    },
    "widgets": {
      "application/vnd.jupyter.widget-state+json": {
        "3b8e641aae4e4b72bc776c62c06c9d78": {
          "model_module": "@jupyter-widgets/controls",
          "model_name": "HBoxModel",
          "model_module_version": "1.5.0",
          "state": {
            "_dom_classes": [],
            "_model_module": "@jupyter-widgets/controls",
            "_model_module_version": "1.5.0",
            "_model_name": "HBoxModel",
            "_view_count": null,
            "_view_module": "@jupyter-widgets/controls",
            "_view_module_version": "1.5.0",
            "_view_name": "HBoxView",
            "box_style": "",
            "children": [
              "IPY_MODEL_c536f4296e6c4e0caa697e9c41899eeb",
              "IPY_MODEL_2a9bdf040d3147fcb02542eedbd0661f",
              "IPY_MODEL_1ab6004294b649c8aecce33182211f71"
            ],
            "layout": "IPY_MODEL_3c0bcc5cc51748b5af8af4bb707645e1"
          }
        },
        "c536f4296e6c4e0caa697e9c41899eeb": {
          "model_module": "@jupyter-widgets/controls",
          "model_name": "HTMLModel",
          "model_module_version": "1.5.0",
          "state": {
            "_dom_classes": [],
            "_model_module": "@jupyter-widgets/controls",
            "_model_module_version": "1.5.0",
            "_model_name": "HTMLModel",
            "_view_count": null,
            "_view_module": "@jupyter-widgets/controls",
            "_view_module_version": "1.5.0",
            "_view_name": "HTMLView",
            "description": "",
            "description_tooltip": null,
            "layout": "IPY_MODEL_6e6e1d13762e443eaacf6778dc514766",
            "placeholder": "​",
            "style": "IPY_MODEL_77bebe82b8724ccdb7ec0157aa989071",
            "value": "Sanity Checking DataLoader 0: 100%"
          }
        },
        "2a9bdf040d3147fcb02542eedbd0661f": {
          "model_module": "@jupyter-widgets/controls",
          "model_name": "FloatProgressModel",
          "model_module_version": "1.5.0",
          "state": {
            "_dom_classes": [],
            "_model_module": "@jupyter-widgets/controls",
            "_model_module_version": "1.5.0",
            "_model_name": "FloatProgressModel",
            "_view_count": null,
            "_view_module": "@jupyter-widgets/controls",
            "_view_module_version": "1.5.0",
            "_view_name": "ProgressView",
            "bar_style": "",
            "description": "",
            "description_tooltip": null,
            "layout": "IPY_MODEL_91fb4739c2f84a4d89d775363c87dd7e",
            "max": 2,
            "min": 0,
            "orientation": "horizontal",
            "style": "IPY_MODEL_67d164782f5d4c31a7c3b0a89243906e",
            "value": 2
          }
        },
        "1ab6004294b649c8aecce33182211f71": {
          "model_module": "@jupyter-widgets/controls",
          "model_name": "HTMLModel",
          "model_module_version": "1.5.0",
          "state": {
            "_dom_classes": [],
            "_model_module": "@jupyter-widgets/controls",
            "_model_module_version": "1.5.0",
            "_model_name": "HTMLModel",
            "_view_count": null,
            "_view_module": "@jupyter-widgets/controls",
            "_view_module_version": "1.5.0",
            "_view_name": "HTMLView",
            "description": "",
            "description_tooltip": null,
            "layout": "IPY_MODEL_a5ffc1b9b5c2425b916705ac28c761a0",
            "placeholder": "​",
            "style": "IPY_MODEL_e67d37283ec6445aa96c29d6809672ca",
            "value": " 2/2 [00:00&lt;00:00, 34.92it/s]"
          }
        },
        "3c0bcc5cc51748b5af8af4bb707645e1": {
          "model_module": "@jupyter-widgets/base",
          "model_name": "LayoutModel",
          "model_module_version": "1.2.0",
          "state": {
            "_model_module": "@jupyter-widgets/base",
            "_model_module_version": "1.2.0",
            "_model_name": "LayoutModel",
            "_view_count": null,
            "_view_module": "@jupyter-widgets/base",
            "_view_module_version": "1.2.0",
            "_view_name": "LayoutView",
            "align_content": null,
            "align_items": null,
            "align_self": null,
            "border": null,
            "bottom": null,
            "display": "inline-flex",
            "flex": null,
            "flex_flow": "row wrap",
            "grid_area": null,
            "grid_auto_columns": null,
            "grid_auto_flow": null,
            "grid_auto_rows": null,
            "grid_column": null,
            "grid_gap": null,
            "grid_row": null,
            "grid_template_areas": null,
            "grid_template_columns": null,
            "grid_template_rows": null,
            "height": null,
            "justify_content": null,
            "justify_items": null,
            "left": null,
            "margin": null,
            "max_height": null,
            "max_width": null,
            "min_height": null,
            "min_width": null,
            "object_fit": null,
            "object_position": null,
            "order": null,
            "overflow": null,
            "overflow_x": null,
            "overflow_y": null,
            "padding": null,
            "right": null,
            "top": null,
            "visibility": "hidden",
            "width": "100%"
          }
        },
        "6e6e1d13762e443eaacf6778dc514766": {
          "model_module": "@jupyter-widgets/base",
          "model_name": "LayoutModel",
          "model_module_version": "1.2.0",
          "state": {
            "_model_module": "@jupyter-widgets/base",
            "_model_module_version": "1.2.0",
            "_model_name": "LayoutModel",
            "_view_count": null,
            "_view_module": "@jupyter-widgets/base",
            "_view_module_version": "1.2.0",
            "_view_name": "LayoutView",
            "align_content": null,
            "align_items": null,
            "align_self": null,
            "border": null,
            "bottom": null,
            "display": null,
            "flex": null,
            "flex_flow": null,
            "grid_area": null,
            "grid_auto_columns": null,
            "grid_auto_flow": null,
            "grid_auto_rows": null,
            "grid_column": null,
            "grid_gap": null,
            "grid_row": null,
            "grid_template_areas": null,
            "grid_template_columns": null,
            "grid_template_rows": null,
            "height": null,
            "justify_content": null,
            "justify_items": null,
            "left": null,
            "margin": null,
            "max_height": null,
            "max_width": null,
            "min_height": null,
            "min_width": null,
            "object_fit": null,
            "object_position": null,
            "order": null,
            "overflow": null,
            "overflow_x": null,
            "overflow_y": null,
            "padding": null,
            "right": null,
            "top": null,
            "visibility": null,
            "width": null
          }
        },
        "77bebe82b8724ccdb7ec0157aa989071": {
          "model_module": "@jupyter-widgets/controls",
          "model_name": "DescriptionStyleModel",
          "model_module_version": "1.5.0",
          "state": {
            "_model_module": "@jupyter-widgets/controls",
            "_model_module_version": "1.5.0",
            "_model_name": "DescriptionStyleModel",
            "_view_count": null,
            "_view_module": "@jupyter-widgets/base",
            "_view_module_version": "1.2.0",
            "_view_name": "StyleView",
            "description_width": ""
          }
        },
        "91fb4739c2f84a4d89d775363c87dd7e": {
          "model_module": "@jupyter-widgets/base",
          "model_name": "LayoutModel",
          "model_module_version": "1.2.0",
          "state": {
            "_model_module": "@jupyter-widgets/base",
            "_model_module_version": "1.2.0",
            "_model_name": "LayoutModel",
            "_view_count": null,
            "_view_module": "@jupyter-widgets/base",
            "_view_module_version": "1.2.0",
            "_view_name": "LayoutView",
            "align_content": null,
            "align_items": null,
            "align_self": null,
            "border": null,
            "bottom": null,
            "display": null,
            "flex": "2",
            "flex_flow": null,
            "grid_area": null,
            "grid_auto_columns": null,
            "grid_auto_flow": null,
            "grid_auto_rows": null,
            "grid_column": null,
            "grid_gap": null,
            "grid_row": null,
            "grid_template_areas": null,
            "grid_template_columns": null,
            "grid_template_rows": null,
            "height": null,
            "justify_content": null,
            "justify_items": null,
            "left": null,
            "margin": null,
            "max_height": null,
            "max_width": null,
            "min_height": null,
            "min_width": null,
            "object_fit": null,
            "object_position": null,
            "order": null,
            "overflow": null,
            "overflow_x": null,
            "overflow_y": null,
            "padding": null,
            "right": null,
            "top": null,
            "visibility": null,
            "width": null
          }
        },
        "67d164782f5d4c31a7c3b0a89243906e": {
          "model_module": "@jupyter-widgets/controls",
          "model_name": "ProgressStyleModel",
          "model_module_version": "1.5.0",
          "state": {
            "_model_module": "@jupyter-widgets/controls",
            "_model_module_version": "1.5.0",
            "_model_name": "ProgressStyleModel",
            "_view_count": null,
            "_view_module": "@jupyter-widgets/base",
            "_view_module_version": "1.2.0",
            "_view_name": "StyleView",
            "bar_color": null,
            "description_width": ""
          }
        },
        "a5ffc1b9b5c2425b916705ac28c761a0": {
          "model_module": "@jupyter-widgets/base",
          "model_name": "LayoutModel",
          "model_module_version": "1.2.0",
          "state": {
            "_model_module": "@jupyter-widgets/base",
            "_model_module_version": "1.2.0",
            "_model_name": "LayoutModel",
            "_view_count": null,
            "_view_module": "@jupyter-widgets/base",
            "_view_module_version": "1.2.0",
            "_view_name": "LayoutView",
            "align_content": null,
            "align_items": null,
            "align_self": null,
            "border": null,
            "bottom": null,
            "display": null,
            "flex": null,
            "flex_flow": null,
            "grid_area": null,
            "grid_auto_columns": null,
            "grid_auto_flow": null,
            "grid_auto_rows": null,
            "grid_column": null,
            "grid_gap": null,
            "grid_row": null,
            "grid_template_areas": null,
            "grid_template_columns": null,
            "grid_template_rows": null,
            "height": null,
            "justify_content": null,
            "justify_items": null,
            "left": null,
            "margin": null,
            "max_height": null,
            "max_width": null,
            "min_height": null,
            "min_width": null,
            "object_fit": null,
            "object_position": null,
            "order": null,
            "overflow": null,
            "overflow_x": null,
            "overflow_y": null,
            "padding": null,
            "right": null,
            "top": null,
            "visibility": null,
            "width": null
          }
        },
        "e67d37283ec6445aa96c29d6809672ca": {
          "model_module": "@jupyter-widgets/controls",
          "model_name": "DescriptionStyleModel",
          "model_module_version": "1.5.0",
          "state": {
            "_model_module": "@jupyter-widgets/controls",
            "_model_module_version": "1.5.0",
            "_model_name": "DescriptionStyleModel",
            "_view_count": null,
            "_view_module": "@jupyter-widgets/base",
            "_view_module_version": "1.2.0",
            "_view_name": "StyleView",
            "description_width": ""
          }
        },
        "667302529ed645f69be11ae02e0d25c3": {
          "model_module": "@jupyter-widgets/controls",
          "model_name": "HBoxModel",
          "model_module_version": "1.5.0",
          "state": {
            "_dom_classes": [],
            "_model_module": "@jupyter-widgets/controls",
            "_model_module_version": "1.5.0",
            "_model_name": "HBoxModel",
            "_view_count": null,
            "_view_module": "@jupyter-widgets/controls",
            "_view_module_version": "1.5.0",
            "_view_name": "HBoxView",
            "box_style": "",
            "children": [
              "IPY_MODEL_5e6e8681f4b34d4b88aa47a784177df3",
              "IPY_MODEL_f21fc48e53c442d6af689b22cabba312",
              "IPY_MODEL_73bf4e732d524654a2461799f78434df"
            ],
            "layout": "IPY_MODEL_1d08cbbeccdb4e1cb05afaf281f79602"
          }
        },
        "5e6e8681f4b34d4b88aa47a784177df3": {
          "model_module": "@jupyter-widgets/controls",
          "model_name": "HTMLModel",
          "model_module_version": "1.5.0",
          "state": {
            "_dom_classes": [],
            "_model_module": "@jupyter-widgets/controls",
            "_model_module_version": "1.5.0",
            "_model_name": "HTMLModel",
            "_view_count": null,
            "_view_module": "@jupyter-widgets/controls",
            "_view_module_version": "1.5.0",
            "_view_name": "HTMLView",
            "description": "",
            "description_tooltip": null,
            "layout": "IPY_MODEL_ac9661b0e1a94f81ac9a05b87d8974a9",
            "placeholder": "​",
            "style": "IPY_MODEL_47c83fc3e4c749d7a0c6becd2293af22",
            "value": "Epoch 3: 100%"
          }
        },
        "f21fc48e53c442d6af689b22cabba312": {
          "model_module": "@jupyter-widgets/controls",
          "model_name": "FloatProgressModel",
          "model_module_version": "1.5.0",
          "state": {
            "_dom_classes": [],
            "_model_module": "@jupyter-widgets/controls",
            "_model_module_version": "1.5.0",
            "_model_name": "FloatProgressModel",
            "_view_count": null,
            "_view_module": "@jupyter-widgets/controls",
            "_view_module_version": "1.5.0",
            "_view_name": "ProgressView",
            "bar_style": "success",
            "description": "",
            "description_tooltip": null,
            "layout": "IPY_MODEL_ad670339a2a948bb8a89cfeab61d2c76",
            "max": 46,
            "min": 0,
            "orientation": "horizontal",
            "style": "IPY_MODEL_85915f0d20ec402ca1a751b79234b75d",
            "value": 46
          }
        },
        "73bf4e732d524654a2461799f78434df": {
          "model_module": "@jupyter-widgets/controls",
          "model_name": "HTMLModel",
          "model_module_version": "1.5.0",
          "state": {
            "_dom_classes": [],
            "_model_module": "@jupyter-widgets/controls",
            "_model_module_version": "1.5.0",
            "_model_name": "HTMLModel",
            "_view_count": null,
            "_view_module": "@jupyter-widgets/controls",
            "_view_module_version": "1.5.0",
            "_view_name": "HTMLView",
            "description": "",
            "description_tooltip": null,
            "layout": "IPY_MODEL_46335ff3882d4f619c9c67fff893df3c",
            "placeholder": "​",
            "style": "IPY_MODEL_9674419cc9634e398a4939e23b1e551f",
            "value": " 46/46 [00:01&lt;00:00, 32.26it/s, v_num=2]"
          }
        },
        "1d08cbbeccdb4e1cb05afaf281f79602": {
          "model_module": "@jupyter-widgets/base",
          "model_name": "LayoutModel",
          "model_module_version": "1.2.0",
          "state": {
            "_model_module": "@jupyter-widgets/base",
            "_model_module_version": "1.2.0",
            "_model_name": "LayoutModel",
            "_view_count": null,
            "_view_module": "@jupyter-widgets/base",
            "_view_module_version": "1.2.0",
            "_view_name": "LayoutView",
            "align_content": null,
            "align_items": null,
            "align_self": null,
            "border": null,
            "bottom": null,
            "display": "inline-flex",
            "flex": null,
            "flex_flow": "row wrap",
            "grid_area": null,
            "grid_auto_columns": null,
            "grid_auto_flow": null,
            "grid_auto_rows": null,
            "grid_column": null,
            "grid_gap": null,
            "grid_row": null,
            "grid_template_areas": null,
            "grid_template_columns": null,
            "grid_template_rows": null,
            "height": null,
            "justify_content": null,
            "justify_items": null,
            "left": null,
            "margin": null,
            "max_height": null,
            "max_width": null,
            "min_height": null,
            "min_width": null,
            "object_fit": null,
            "object_position": null,
            "order": null,
            "overflow": null,
            "overflow_x": null,
            "overflow_y": null,
            "padding": null,
            "right": null,
            "top": null,
            "visibility": null,
            "width": "100%"
          }
        },
        "ac9661b0e1a94f81ac9a05b87d8974a9": {
          "model_module": "@jupyter-widgets/base",
          "model_name": "LayoutModel",
          "model_module_version": "1.2.0",
          "state": {
            "_model_module": "@jupyter-widgets/base",
            "_model_module_version": "1.2.0",
            "_model_name": "LayoutModel",
            "_view_count": null,
            "_view_module": "@jupyter-widgets/base",
            "_view_module_version": "1.2.0",
            "_view_name": "LayoutView",
            "align_content": null,
            "align_items": null,
            "align_self": null,
            "border": null,
            "bottom": null,
            "display": null,
            "flex": null,
            "flex_flow": null,
            "grid_area": null,
            "grid_auto_columns": null,
            "grid_auto_flow": null,
            "grid_auto_rows": null,
            "grid_column": null,
            "grid_gap": null,
            "grid_row": null,
            "grid_template_areas": null,
            "grid_template_columns": null,
            "grid_template_rows": null,
            "height": null,
            "justify_content": null,
            "justify_items": null,
            "left": null,
            "margin": null,
            "max_height": null,
            "max_width": null,
            "min_height": null,
            "min_width": null,
            "object_fit": null,
            "object_position": null,
            "order": null,
            "overflow": null,
            "overflow_x": null,
            "overflow_y": null,
            "padding": null,
            "right": null,
            "top": null,
            "visibility": null,
            "width": null
          }
        },
        "47c83fc3e4c749d7a0c6becd2293af22": {
          "model_module": "@jupyter-widgets/controls",
          "model_name": "DescriptionStyleModel",
          "model_module_version": "1.5.0",
          "state": {
            "_model_module": "@jupyter-widgets/controls",
            "_model_module_version": "1.5.0",
            "_model_name": "DescriptionStyleModel",
            "_view_count": null,
            "_view_module": "@jupyter-widgets/base",
            "_view_module_version": "1.2.0",
            "_view_name": "StyleView",
            "description_width": ""
          }
        },
        "ad670339a2a948bb8a89cfeab61d2c76": {
          "model_module": "@jupyter-widgets/base",
          "model_name": "LayoutModel",
          "model_module_version": "1.2.0",
          "state": {
            "_model_module": "@jupyter-widgets/base",
            "_model_module_version": "1.2.0",
            "_model_name": "LayoutModel",
            "_view_count": null,
            "_view_module": "@jupyter-widgets/base",
            "_view_module_version": "1.2.0",
            "_view_name": "LayoutView",
            "align_content": null,
            "align_items": null,
            "align_self": null,
            "border": null,
            "bottom": null,
            "display": null,
            "flex": "2",
            "flex_flow": null,
            "grid_area": null,
            "grid_auto_columns": null,
            "grid_auto_flow": null,
            "grid_auto_rows": null,
            "grid_column": null,
            "grid_gap": null,
            "grid_row": null,
            "grid_template_areas": null,
            "grid_template_columns": null,
            "grid_template_rows": null,
            "height": null,
            "justify_content": null,
            "justify_items": null,
            "left": null,
            "margin": null,
            "max_height": null,
            "max_width": null,
            "min_height": null,
            "min_width": null,
            "object_fit": null,
            "object_position": null,
            "order": null,
            "overflow": null,
            "overflow_x": null,
            "overflow_y": null,
            "padding": null,
            "right": null,
            "top": null,
            "visibility": null,
            "width": null
          }
        },
        "85915f0d20ec402ca1a751b79234b75d": {
          "model_module": "@jupyter-widgets/controls",
          "model_name": "ProgressStyleModel",
          "model_module_version": "1.5.0",
          "state": {
            "_model_module": "@jupyter-widgets/controls",
            "_model_module_version": "1.5.0",
            "_model_name": "ProgressStyleModel",
            "_view_count": null,
            "_view_module": "@jupyter-widgets/base",
            "_view_module_version": "1.2.0",
            "_view_name": "StyleView",
            "bar_color": null,
            "description_width": ""
          }
        },
        "46335ff3882d4f619c9c67fff893df3c": {
          "model_module": "@jupyter-widgets/base",
          "model_name": "LayoutModel",
          "model_module_version": "1.2.0",
          "state": {
            "_model_module": "@jupyter-widgets/base",
            "_model_module_version": "1.2.0",
            "_model_name": "LayoutModel",
            "_view_count": null,
            "_view_module": "@jupyter-widgets/base",
            "_view_module_version": "1.2.0",
            "_view_name": "LayoutView",
            "align_content": null,
            "align_items": null,
            "align_self": null,
            "border": null,
            "bottom": null,
            "display": null,
            "flex": null,
            "flex_flow": null,
            "grid_area": null,
            "grid_auto_columns": null,
            "grid_auto_flow": null,
            "grid_auto_rows": null,
            "grid_column": null,
            "grid_gap": null,
            "grid_row": null,
            "grid_template_areas": null,
            "grid_template_columns": null,
            "grid_template_rows": null,
            "height": null,
            "justify_content": null,
            "justify_items": null,
            "left": null,
            "margin": null,
            "max_height": null,
            "max_width": null,
            "min_height": null,
            "min_width": null,
            "object_fit": null,
            "object_position": null,
            "order": null,
            "overflow": null,
            "overflow_x": null,
            "overflow_y": null,
            "padding": null,
            "right": null,
            "top": null,
            "visibility": null,
            "width": null
          }
        },
        "9674419cc9634e398a4939e23b1e551f": {
          "model_module": "@jupyter-widgets/controls",
          "model_name": "DescriptionStyleModel",
          "model_module_version": "1.5.0",
          "state": {
            "_model_module": "@jupyter-widgets/controls",
            "_model_module_version": "1.5.0",
            "_model_name": "DescriptionStyleModel",
            "_view_count": null,
            "_view_module": "@jupyter-widgets/base",
            "_view_module_version": "1.2.0",
            "_view_name": "StyleView",
            "description_width": ""
          }
        },
        "4b3fd33108cd417b808f59e52574813b": {
          "model_module": "@jupyter-widgets/controls",
          "model_name": "HBoxModel",
          "model_module_version": "1.5.0",
          "state": {
            "_dom_classes": [],
            "_model_module": "@jupyter-widgets/controls",
            "_model_module_version": "1.5.0",
            "_model_name": "HBoxModel",
            "_view_count": null,
            "_view_module": "@jupyter-widgets/controls",
            "_view_module_version": "1.5.0",
            "_view_name": "HBoxView",
            "box_style": "",
            "children": [
              "IPY_MODEL_a2a8f85b685d4ac8965b7ff27562a0ff",
              "IPY_MODEL_1fc78abd874f42e8a6bfc09417b54ac0",
              "IPY_MODEL_0a8f03b1540b461e83ce288c1e98376a"
            ],
            "layout": "IPY_MODEL_b396f001aedf4e9f898858cea923edf5"
          }
        },
        "a2a8f85b685d4ac8965b7ff27562a0ff": {
          "model_module": "@jupyter-widgets/controls",
          "model_name": "HTMLModel",
          "model_module_version": "1.5.0",
          "state": {
            "_dom_classes": [],
            "_model_module": "@jupyter-widgets/controls",
            "_model_module_version": "1.5.0",
            "_model_name": "HTMLModel",
            "_view_count": null,
            "_view_module": "@jupyter-widgets/controls",
            "_view_module_version": "1.5.0",
            "_view_name": "HTMLView",
            "description": "",
            "description_tooltip": null,
            "layout": "IPY_MODEL_7beecafa06e14312a82de535fd0f70f3",
            "placeholder": "​",
            "style": "IPY_MODEL_66916fe72b724c15873e04cee7798e6e",
            "value": "Validation DataLoader 0: 100%"
          }
        },
        "1fc78abd874f42e8a6bfc09417b54ac0": {
          "model_module": "@jupyter-widgets/controls",
          "model_name": "FloatProgressModel",
          "model_module_version": "1.5.0",
          "state": {
            "_dom_classes": [],
            "_model_module": "@jupyter-widgets/controls",
            "_model_module_version": "1.5.0",
            "_model_name": "FloatProgressModel",
            "_view_count": null,
            "_view_module": "@jupyter-widgets/controls",
            "_view_module_version": "1.5.0",
            "_view_name": "ProgressView",
            "bar_style": "",
            "description": "",
            "description_tooltip": null,
            "layout": "IPY_MODEL_399762d9a0164e128351567b56a1f4fd",
            "max": 12,
            "min": 0,
            "orientation": "horizontal",
            "style": "IPY_MODEL_d5d07e43067a43519e4f761611a99a11",
            "value": 12
          }
        },
        "0a8f03b1540b461e83ce288c1e98376a": {
          "model_module": "@jupyter-widgets/controls",
          "model_name": "HTMLModel",
          "model_module_version": "1.5.0",
          "state": {
            "_dom_classes": [],
            "_model_module": "@jupyter-widgets/controls",
            "_model_module_version": "1.5.0",
            "_model_name": "HTMLModel",
            "_view_count": null,
            "_view_module": "@jupyter-widgets/controls",
            "_view_module_version": "1.5.0",
            "_view_name": "HTMLView",
            "description": "",
            "description_tooltip": null,
            "layout": "IPY_MODEL_20b48099df014140bc67a6e7661fb6b0",
            "placeholder": "​",
            "style": "IPY_MODEL_036e98d27db54502aa06798705ece369",
            "value": " 12/12 [00:00&lt;00:00, 64.20it/s]"
          }
        },
        "b396f001aedf4e9f898858cea923edf5": {
          "model_module": "@jupyter-widgets/base",
          "model_name": "LayoutModel",
          "model_module_version": "1.2.0",
          "state": {
            "_model_module": "@jupyter-widgets/base",
            "_model_module_version": "1.2.0",
            "_model_name": "LayoutModel",
            "_view_count": null,
            "_view_module": "@jupyter-widgets/base",
            "_view_module_version": "1.2.0",
            "_view_name": "LayoutView",
            "align_content": null,
            "align_items": null,
            "align_self": null,
            "border": null,
            "bottom": null,
            "display": "inline-flex",
            "flex": null,
            "flex_flow": "row wrap",
            "grid_area": null,
            "grid_auto_columns": null,
            "grid_auto_flow": null,
            "grid_auto_rows": null,
            "grid_column": null,
            "grid_gap": null,
            "grid_row": null,
            "grid_template_areas": null,
            "grid_template_columns": null,
            "grid_template_rows": null,
            "height": null,
            "justify_content": null,
            "justify_items": null,
            "left": null,
            "margin": null,
            "max_height": null,
            "max_width": null,
            "min_height": null,
            "min_width": null,
            "object_fit": null,
            "object_position": null,
            "order": null,
            "overflow": null,
            "overflow_x": null,
            "overflow_y": null,
            "padding": null,
            "right": null,
            "top": null,
            "visibility": "hidden",
            "width": "100%"
          }
        },
        "7beecafa06e14312a82de535fd0f70f3": {
          "model_module": "@jupyter-widgets/base",
          "model_name": "LayoutModel",
          "model_module_version": "1.2.0",
          "state": {
            "_model_module": "@jupyter-widgets/base",
            "_model_module_version": "1.2.0",
            "_model_name": "LayoutModel",
            "_view_count": null,
            "_view_module": "@jupyter-widgets/base",
            "_view_module_version": "1.2.0",
            "_view_name": "LayoutView",
            "align_content": null,
            "align_items": null,
            "align_self": null,
            "border": null,
            "bottom": null,
            "display": null,
            "flex": null,
            "flex_flow": null,
            "grid_area": null,
            "grid_auto_columns": null,
            "grid_auto_flow": null,
            "grid_auto_rows": null,
            "grid_column": null,
            "grid_gap": null,
            "grid_row": null,
            "grid_template_areas": null,
            "grid_template_columns": null,
            "grid_template_rows": null,
            "height": null,
            "justify_content": null,
            "justify_items": null,
            "left": null,
            "margin": null,
            "max_height": null,
            "max_width": null,
            "min_height": null,
            "min_width": null,
            "object_fit": null,
            "object_position": null,
            "order": null,
            "overflow": null,
            "overflow_x": null,
            "overflow_y": null,
            "padding": null,
            "right": null,
            "top": null,
            "visibility": null,
            "width": null
          }
        },
        "66916fe72b724c15873e04cee7798e6e": {
          "model_module": "@jupyter-widgets/controls",
          "model_name": "DescriptionStyleModel",
          "model_module_version": "1.5.0",
          "state": {
            "_model_module": "@jupyter-widgets/controls",
            "_model_module_version": "1.5.0",
            "_model_name": "DescriptionStyleModel",
            "_view_count": null,
            "_view_module": "@jupyter-widgets/base",
            "_view_module_version": "1.2.0",
            "_view_name": "StyleView",
            "description_width": ""
          }
        },
        "399762d9a0164e128351567b56a1f4fd": {
          "model_module": "@jupyter-widgets/base",
          "model_name": "LayoutModel",
          "model_module_version": "1.2.0",
          "state": {
            "_model_module": "@jupyter-widgets/base",
            "_model_module_version": "1.2.0",
            "_model_name": "LayoutModel",
            "_view_count": null,
            "_view_module": "@jupyter-widgets/base",
            "_view_module_version": "1.2.0",
            "_view_name": "LayoutView",
            "align_content": null,
            "align_items": null,
            "align_self": null,
            "border": null,
            "bottom": null,
            "display": null,
            "flex": "2",
            "flex_flow": null,
            "grid_area": null,
            "grid_auto_columns": null,
            "grid_auto_flow": null,
            "grid_auto_rows": null,
            "grid_column": null,
            "grid_gap": null,
            "grid_row": null,
            "grid_template_areas": null,
            "grid_template_columns": null,
            "grid_template_rows": null,
            "height": null,
            "justify_content": null,
            "justify_items": null,
            "left": null,
            "margin": null,
            "max_height": null,
            "max_width": null,
            "min_height": null,
            "min_width": null,
            "object_fit": null,
            "object_position": null,
            "order": null,
            "overflow": null,
            "overflow_x": null,
            "overflow_y": null,
            "padding": null,
            "right": null,
            "top": null,
            "visibility": null,
            "width": null
          }
        },
        "d5d07e43067a43519e4f761611a99a11": {
          "model_module": "@jupyter-widgets/controls",
          "model_name": "ProgressStyleModel",
          "model_module_version": "1.5.0",
          "state": {
            "_model_module": "@jupyter-widgets/controls",
            "_model_module_version": "1.5.0",
            "_model_name": "ProgressStyleModel",
            "_view_count": null,
            "_view_module": "@jupyter-widgets/base",
            "_view_module_version": "1.2.0",
            "_view_name": "StyleView",
            "bar_color": null,
            "description_width": ""
          }
        },
        "20b48099df014140bc67a6e7661fb6b0": {
          "model_module": "@jupyter-widgets/base",
          "model_name": "LayoutModel",
          "model_module_version": "1.2.0",
          "state": {
            "_model_module": "@jupyter-widgets/base",
            "_model_module_version": "1.2.0",
            "_model_name": "LayoutModel",
            "_view_count": null,
            "_view_module": "@jupyter-widgets/base",
            "_view_module_version": "1.2.0",
            "_view_name": "LayoutView",
            "align_content": null,
            "align_items": null,
            "align_self": null,
            "border": null,
            "bottom": null,
            "display": null,
            "flex": null,
            "flex_flow": null,
            "grid_area": null,
            "grid_auto_columns": null,
            "grid_auto_flow": null,
            "grid_auto_rows": null,
            "grid_column": null,
            "grid_gap": null,
            "grid_row": null,
            "grid_template_areas": null,
            "grid_template_columns": null,
            "grid_template_rows": null,
            "height": null,
            "justify_content": null,
            "justify_items": null,
            "left": null,
            "margin": null,
            "max_height": null,
            "max_width": null,
            "min_height": null,
            "min_width": null,
            "object_fit": null,
            "object_position": null,
            "order": null,
            "overflow": null,
            "overflow_x": null,
            "overflow_y": null,
            "padding": null,
            "right": null,
            "top": null,
            "visibility": null,
            "width": null
          }
        },
        "036e98d27db54502aa06798705ece369": {
          "model_module": "@jupyter-widgets/controls",
          "model_name": "DescriptionStyleModel",
          "model_module_version": "1.5.0",
          "state": {
            "_model_module": "@jupyter-widgets/controls",
            "_model_module_version": "1.5.0",
            "_model_name": "DescriptionStyleModel",
            "_view_count": null,
            "_view_module": "@jupyter-widgets/base",
            "_view_module_version": "1.2.0",
            "_view_name": "StyleView",
            "description_width": ""
          }
        },
        "d98bf6d903084aa0bd9eaa654ef9f6f5": {
          "model_module": "@jupyter-widgets/controls",
          "model_name": "HBoxModel",
          "model_module_version": "1.5.0",
          "state": {
            "_dom_classes": [],
            "_model_module": "@jupyter-widgets/controls",
            "_model_module_version": "1.5.0",
            "_model_name": "HBoxModel",
            "_view_count": null,
            "_view_module": "@jupyter-widgets/controls",
            "_view_module_version": "1.5.0",
            "_view_name": "HBoxView",
            "box_style": "",
            "children": [
              "IPY_MODEL_9a23cdabcdfa48c0aa61f7f1742b924c",
              "IPY_MODEL_81410d1a7f7844a3bc69f0ec92d60933",
              "IPY_MODEL_88a202ac94ce464e983296090f05482a"
            ],
            "layout": "IPY_MODEL_6df213515c464d53b0786239ec6881b2"
          }
        },
        "9a23cdabcdfa48c0aa61f7f1742b924c": {
          "model_module": "@jupyter-widgets/controls",
          "model_name": "HTMLModel",
          "model_module_version": "1.5.0",
          "state": {
            "_dom_classes": [],
            "_model_module": "@jupyter-widgets/controls",
            "_model_module_version": "1.5.0",
            "_model_name": "HTMLModel",
            "_view_count": null,
            "_view_module": "@jupyter-widgets/controls",
            "_view_module_version": "1.5.0",
            "_view_name": "HTMLView",
            "description": "",
            "description_tooltip": null,
            "layout": "IPY_MODEL_a8f0755e4a704e44a2f3ef236abc70a9",
            "placeholder": "​",
            "style": "IPY_MODEL_4264b23f128e4611bde553dfb45c1e26",
            "value": "Validation DataLoader 0: 100%"
          }
        },
        "81410d1a7f7844a3bc69f0ec92d60933": {
          "model_module": "@jupyter-widgets/controls",
          "model_name": "FloatProgressModel",
          "model_module_version": "1.5.0",
          "state": {
            "_dom_classes": [],
            "_model_module": "@jupyter-widgets/controls",
            "_model_module_version": "1.5.0",
            "_model_name": "FloatProgressModel",
            "_view_count": null,
            "_view_module": "@jupyter-widgets/controls",
            "_view_module_version": "1.5.0",
            "_view_name": "ProgressView",
            "bar_style": "",
            "description": "",
            "description_tooltip": null,
            "layout": "IPY_MODEL_1ebd9e3ef2eb4625ba2763c0d6bc25a5",
            "max": 12,
            "min": 0,
            "orientation": "horizontal",
            "style": "IPY_MODEL_cd0d0e3c6e314588b91e343eab6650df",
            "value": 12
          }
        },
        "88a202ac94ce464e983296090f05482a": {
          "model_module": "@jupyter-widgets/controls",
          "model_name": "HTMLModel",
          "model_module_version": "1.5.0",
          "state": {
            "_dom_classes": [],
            "_model_module": "@jupyter-widgets/controls",
            "_model_module_version": "1.5.0",
            "_model_name": "HTMLModel",
            "_view_count": null,
            "_view_module": "@jupyter-widgets/controls",
            "_view_module_version": "1.5.0",
            "_view_name": "HTMLView",
            "description": "",
            "description_tooltip": null,
            "layout": "IPY_MODEL_6aedf9fb04d6481c970c0fe8f6ae0df5",
            "placeholder": "​",
            "style": "IPY_MODEL_707db9fd3da448e3893ca8440933cf83",
            "value": " 12/12 [00:00&lt;00:00, 62.33it/s]"
          }
        },
        "6df213515c464d53b0786239ec6881b2": {
          "model_module": "@jupyter-widgets/base",
          "model_name": "LayoutModel",
          "model_module_version": "1.2.0",
          "state": {
            "_model_module": "@jupyter-widgets/base",
            "_model_module_version": "1.2.0",
            "_model_name": "LayoutModel",
            "_view_count": null,
            "_view_module": "@jupyter-widgets/base",
            "_view_module_version": "1.2.0",
            "_view_name": "LayoutView",
            "align_content": null,
            "align_items": null,
            "align_self": null,
            "border": null,
            "bottom": null,
            "display": "inline-flex",
            "flex": null,
            "flex_flow": "row wrap",
            "grid_area": null,
            "grid_auto_columns": null,
            "grid_auto_flow": null,
            "grid_auto_rows": null,
            "grid_column": null,
            "grid_gap": null,
            "grid_row": null,
            "grid_template_areas": null,
            "grid_template_columns": null,
            "grid_template_rows": null,
            "height": null,
            "justify_content": null,
            "justify_items": null,
            "left": null,
            "margin": null,
            "max_height": null,
            "max_width": null,
            "min_height": null,
            "min_width": null,
            "object_fit": null,
            "object_position": null,
            "order": null,
            "overflow": null,
            "overflow_x": null,
            "overflow_y": null,
            "padding": null,
            "right": null,
            "top": null,
            "visibility": "hidden",
            "width": "100%"
          }
        },
        "a8f0755e4a704e44a2f3ef236abc70a9": {
          "model_module": "@jupyter-widgets/base",
          "model_name": "LayoutModel",
          "model_module_version": "1.2.0",
          "state": {
            "_model_module": "@jupyter-widgets/base",
            "_model_module_version": "1.2.0",
            "_model_name": "LayoutModel",
            "_view_count": null,
            "_view_module": "@jupyter-widgets/base",
            "_view_module_version": "1.2.0",
            "_view_name": "LayoutView",
            "align_content": null,
            "align_items": null,
            "align_self": null,
            "border": null,
            "bottom": null,
            "display": null,
            "flex": null,
            "flex_flow": null,
            "grid_area": null,
            "grid_auto_columns": null,
            "grid_auto_flow": null,
            "grid_auto_rows": null,
            "grid_column": null,
            "grid_gap": null,
            "grid_row": null,
            "grid_template_areas": null,
            "grid_template_columns": null,
            "grid_template_rows": null,
            "height": null,
            "justify_content": null,
            "justify_items": null,
            "left": null,
            "margin": null,
            "max_height": null,
            "max_width": null,
            "min_height": null,
            "min_width": null,
            "object_fit": null,
            "object_position": null,
            "order": null,
            "overflow": null,
            "overflow_x": null,
            "overflow_y": null,
            "padding": null,
            "right": null,
            "top": null,
            "visibility": null,
            "width": null
          }
        },
        "4264b23f128e4611bde553dfb45c1e26": {
          "model_module": "@jupyter-widgets/controls",
          "model_name": "DescriptionStyleModel",
          "model_module_version": "1.5.0",
          "state": {
            "_model_module": "@jupyter-widgets/controls",
            "_model_module_version": "1.5.0",
            "_model_name": "DescriptionStyleModel",
            "_view_count": null,
            "_view_module": "@jupyter-widgets/base",
            "_view_module_version": "1.2.0",
            "_view_name": "StyleView",
            "description_width": ""
          }
        },
        "1ebd9e3ef2eb4625ba2763c0d6bc25a5": {
          "model_module": "@jupyter-widgets/base",
          "model_name": "LayoutModel",
          "model_module_version": "1.2.0",
          "state": {
            "_model_module": "@jupyter-widgets/base",
            "_model_module_version": "1.2.0",
            "_model_name": "LayoutModel",
            "_view_count": null,
            "_view_module": "@jupyter-widgets/base",
            "_view_module_version": "1.2.0",
            "_view_name": "LayoutView",
            "align_content": null,
            "align_items": null,
            "align_self": null,
            "border": null,
            "bottom": null,
            "display": null,
            "flex": "2",
            "flex_flow": null,
            "grid_area": null,
            "grid_auto_columns": null,
            "grid_auto_flow": null,
            "grid_auto_rows": null,
            "grid_column": null,
            "grid_gap": null,
            "grid_row": null,
            "grid_template_areas": null,
            "grid_template_columns": null,
            "grid_template_rows": null,
            "height": null,
            "justify_content": null,
            "justify_items": null,
            "left": null,
            "margin": null,
            "max_height": null,
            "max_width": null,
            "min_height": null,
            "min_width": null,
            "object_fit": null,
            "object_position": null,
            "order": null,
            "overflow": null,
            "overflow_x": null,
            "overflow_y": null,
            "padding": null,
            "right": null,
            "top": null,
            "visibility": null,
            "width": null
          }
        },
        "cd0d0e3c6e314588b91e343eab6650df": {
          "model_module": "@jupyter-widgets/controls",
          "model_name": "ProgressStyleModel",
          "model_module_version": "1.5.0",
          "state": {
            "_model_module": "@jupyter-widgets/controls",
            "_model_module_version": "1.5.0",
            "_model_name": "ProgressStyleModel",
            "_view_count": null,
            "_view_module": "@jupyter-widgets/base",
            "_view_module_version": "1.2.0",
            "_view_name": "StyleView",
            "bar_color": null,
            "description_width": ""
          }
        },
        "6aedf9fb04d6481c970c0fe8f6ae0df5": {
          "model_module": "@jupyter-widgets/base",
          "model_name": "LayoutModel",
          "model_module_version": "1.2.0",
          "state": {
            "_model_module": "@jupyter-widgets/base",
            "_model_module_version": "1.2.0",
            "_model_name": "LayoutModel",
            "_view_count": null,
            "_view_module": "@jupyter-widgets/base",
            "_view_module_version": "1.2.0",
            "_view_name": "LayoutView",
            "align_content": null,
            "align_items": null,
            "align_self": null,
            "border": null,
            "bottom": null,
            "display": null,
            "flex": null,
            "flex_flow": null,
            "grid_area": null,
            "grid_auto_columns": null,
            "grid_auto_flow": null,
            "grid_auto_rows": null,
            "grid_column": null,
            "grid_gap": null,
            "grid_row": null,
            "grid_template_areas": null,
            "grid_template_columns": null,
            "grid_template_rows": null,
            "height": null,
            "justify_content": null,
            "justify_items": null,
            "left": null,
            "margin": null,
            "max_height": null,
            "max_width": null,
            "min_height": null,
            "min_width": null,
            "object_fit": null,
            "object_position": null,
            "order": null,
            "overflow": null,
            "overflow_x": null,
            "overflow_y": null,
            "padding": null,
            "right": null,
            "top": null,
            "visibility": null,
            "width": null
          }
        },
        "707db9fd3da448e3893ca8440933cf83": {
          "model_module": "@jupyter-widgets/controls",
          "model_name": "DescriptionStyleModel",
          "model_module_version": "1.5.0",
          "state": {
            "_model_module": "@jupyter-widgets/controls",
            "_model_module_version": "1.5.0",
            "_model_name": "DescriptionStyleModel",
            "_view_count": null,
            "_view_module": "@jupyter-widgets/base",
            "_view_module_version": "1.2.0",
            "_view_name": "StyleView",
            "description_width": ""
          }
        },
        "f3ca7cde1f6a471db4b5ebe17acaafcf": {
          "model_module": "@jupyter-widgets/controls",
          "model_name": "HBoxModel",
          "model_module_version": "1.5.0",
          "state": {
            "_dom_classes": [],
            "_model_module": "@jupyter-widgets/controls",
            "_model_module_version": "1.5.0",
            "_model_name": "HBoxModel",
            "_view_count": null,
            "_view_module": "@jupyter-widgets/controls",
            "_view_module_version": "1.5.0",
            "_view_name": "HBoxView",
            "box_style": "",
            "children": [
              "IPY_MODEL_9018c94fa363493bb51de21cd8707d69",
              "IPY_MODEL_5f7a9c214a18461cb24bc5c27a59483a",
              "IPY_MODEL_d3459c19135a4ceb9d99c9b8a5279a07"
            ],
            "layout": "IPY_MODEL_5f6ad417f5dd4d9e9eb517700ba1f02e"
          }
        },
        "9018c94fa363493bb51de21cd8707d69": {
          "model_module": "@jupyter-widgets/controls",
          "model_name": "HTMLModel",
          "model_module_version": "1.5.0",
          "state": {
            "_dom_classes": [],
            "_model_module": "@jupyter-widgets/controls",
            "_model_module_version": "1.5.0",
            "_model_name": "HTMLModel",
            "_view_count": null,
            "_view_module": "@jupyter-widgets/controls",
            "_view_module_version": "1.5.0",
            "_view_name": "HTMLView",
            "description": "",
            "description_tooltip": null,
            "layout": "IPY_MODEL_98c5d3ebf1f645f6ab5f63bd78a430a4",
            "placeholder": "​",
            "style": "IPY_MODEL_df932ae7d72044f098137a3a9b1de99d",
            "value": "Validation DataLoader 0: 100%"
          }
        },
        "5f7a9c214a18461cb24bc5c27a59483a": {
          "model_module": "@jupyter-widgets/controls",
          "model_name": "FloatProgressModel",
          "model_module_version": "1.5.0",
          "state": {
            "_dom_classes": [],
            "_model_module": "@jupyter-widgets/controls",
            "_model_module_version": "1.5.0",
            "_model_name": "FloatProgressModel",
            "_view_count": null,
            "_view_module": "@jupyter-widgets/controls",
            "_view_module_version": "1.5.0",
            "_view_name": "ProgressView",
            "bar_style": "",
            "description": "",
            "description_tooltip": null,
            "layout": "IPY_MODEL_0893f014faee4c938dc2ff01aebda1bc",
            "max": 12,
            "min": 0,
            "orientation": "horizontal",
            "style": "IPY_MODEL_307a3934d23749cd979b479fcf172cc3",
            "value": 12
          }
        },
        "d3459c19135a4ceb9d99c9b8a5279a07": {
          "model_module": "@jupyter-widgets/controls",
          "model_name": "HTMLModel",
          "model_module_version": "1.5.0",
          "state": {
            "_dom_classes": [],
            "_model_module": "@jupyter-widgets/controls",
            "_model_module_version": "1.5.0",
            "_model_name": "HTMLModel",
            "_view_count": null,
            "_view_module": "@jupyter-widgets/controls",
            "_view_module_version": "1.5.0",
            "_view_name": "HTMLView",
            "description": "",
            "description_tooltip": null,
            "layout": "IPY_MODEL_965b9e0f15e1400691f3a5e28a954134",
            "placeholder": "​",
            "style": "IPY_MODEL_024ac57f722344cba7199e421b3b4be1",
            "value": " 12/12 [00:00&lt;00:00, 49.01it/s]"
          }
        },
        "5f6ad417f5dd4d9e9eb517700ba1f02e": {
          "model_module": "@jupyter-widgets/base",
          "model_name": "LayoutModel",
          "model_module_version": "1.2.0",
          "state": {
            "_model_module": "@jupyter-widgets/base",
            "_model_module_version": "1.2.0",
            "_model_name": "LayoutModel",
            "_view_count": null,
            "_view_module": "@jupyter-widgets/base",
            "_view_module_version": "1.2.0",
            "_view_name": "LayoutView",
            "align_content": null,
            "align_items": null,
            "align_self": null,
            "border": null,
            "bottom": null,
            "display": "inline-flex",
            "flex": null,
            "flex_flow": "row wrap",
            "grid_area": null,
            "grid_auto_columns": null,
            "grid_auto_flow": null,
            "grid_auto_rows": null,
            "grid_column": null,
            "grid_gap": null,
            "grid_row": null,
            "grid_template_areas": null,
            "grid_template_columns": null,
            "grid_template_rows": null,
            "height": null,
            "justify_content": null,
            "justify_items": null,
            "left": null,
            "margin": null,
            "max_height": null,
            "max_width": null,
            "min_height": null,
            "min_width": null,
            "object_fit": null,
            "object_position": null,
            "order": null,
            "overflow": null,
            "overflow_x": null,
            "overflow_y": null,
            "padding": null,
            "right": null,
            "top": null,
            "visibility": "hidden",
            "width": "100%"
          }
        },
        "98c5d3ebf1f645f6ab5f63bd78a430a4": {
          "model_module": "@jupyter-widgets/base",
          "model_name": "LayoutModel",
          "model_module_version": "1.2.0",
          "state": {
            "_model_module": "@jupyter-widgets/base",
            "_model_module_version": "1.2.0",
            "_model_name": "LayoutModel",
            "_view_count": null,
            "_view_module": "@jupyter-widgets/base",
            "_view_module_version": "1.2.0",
            "_view_name": "LayoutView",
            "align_content": null,
            "align_items": null,
            "align_self": null,
            "border": null,
            "bottom": null,
            "display": null,
            "flex": null,
            "flex_flow": null,
            "grid_area": null,
            "grid_auto_columns": null,
            "grid_auto_flow": null,
            "grid_auto_rows": null,
            "grid_column": null,
            "grid_gap": null,
            "grid_row": null,
            "grid_template_areas": null,
            "grid_template_columns": null,
            "grid_template_rows": null,
            "height": null,
            "justify_content": null,
            "justify_items": null,
            "left": null,
            "margin": null,
            "max_height": null,
            "max_width": null,
            "min_height": null,
            "min_width": null,
            "object_fit": null,
            "object_position": null,
            "order": null,
            "overflow": null,
            "overflow_x": null,
            "overflow_y": null,
            "padding": null,
            "right": null,
            "top": null,
            "visibility": null,
            "width": null
          }
        },
        "df932ae7d72044f098137a3a9b1de99d": {
          "model_module": "@jupyter-widgets/controls",
          "model_name": "DescriptionStyleModel",
          "model_module_version": "1.5.0",
          "state": {
            "_model_module": "@jupyter-widgets/controls",
            "_model_module_version": "1.5.0",
            "_model_name": "DescriptionStyleModel",
            "_view_count": null,
            "_view_module": "@jupyter-widgets/base",
            "_view_module_version": "1.2.0",
            "_view_name": "StyleView",
            "description_width": ""
          }
        },
        "0893f014faee4c938dc2ff01aebda1bc": {
          "model_module": "@jupyter-widgets/base",
          "model_name": "LayoutModel",
          "model_module_version": "1.2.0",
          "state": {
            "_model_module": "@jupyter-widgets/base",
            "_model_module_version": "1.2.0",
            "_model_name": "LayoutModel",
            "_view_count": null,
            "_view_module": "@jupyter-widgets/base",
            "_view_module_version": "1.2.0",
            "_view_name": "LayoutView",
            "align_content": null,
            "align_items": null,
            "align_self": null,
            "border": null,
            "bottom": null,
            "display": null,
            "flex": "2",
            "flex_flow": null,
            "grid_area": null,
            "grid_auto_columns": null,
            "grid_auto_flow": null,
            "grid_auto_rows": null,
            "grid_column": null,
            "grid_gap": null,
            "grid_row": null,
            "grid_template_areas": null,
            "grid_template_columns": null,
            "grid_template_rows": null,
            "height": null,
            "justify_content": null,
            "justify_items": null,
            "left": null,
            "margin": null,
            "max_height": null,
            "max_width": null,
            "min_height": null,
            "min_width": null,
            "object_fit": null,
            "object_position": null,
            "order": null,
            "overflow": null,
            "overflow_x": null,
            "overflow_y": null,
            "padding": null,
            "right": null,
            "top": null,
            "visibility": null,
            "width": null
          }
        },
        "307a3934d23749cd979b479fcf172cc3": {
          "model_module": "@jupyter-widgets/controls",
          "model_name": "ProgressStyleModel",
          "model_module_version": "1.5.0",
          "state": {
            "_model_module": "@jupyter-widgets/controls",
            "_model_module_version": "1.5.0",
            "_model_name": "ProgressStyleModel",
            "_view_count": null,
            "_view_module": "@jupyter-widgets/base",
            "_view_module_version": "1.2.0",
            "_view_name": "StyleView",
            "bar_color": null,
            "description_width": ""
          }
        },
        "965b9e0f15e1400691f3a5e28a954134": {
          "model_module": "@jupyter-widgets/base",
          "model_name": "LayoutModel",
          "model_module_version": "1.2.0",
          "state": {
            "_model_module": "@jupyter-widgets/base",
            "_model_module_version": "1.2.0",
            "_model_name": "LayoutModel",
            "_view_count": null,
            "_view_module": "@jupyter-widgets/base",
            "_view_module_version": "1.2.0",
            "_view_name": "LayoutView",
            "align_content": null,
            "align_items": null,
            "align_self": null,
            "border": null,
            "bottom": null,
            "display": null,
            "flex": null,
            "flex_flow": null,
            "grid_area": null,
            "grid_auto_columns": null,
            "grid_auto_flow": null,
            "grid_auto_rows": null,
            "grid_column": null,
            "grid_gap": null,
            "grid_row": null,
            "grid_template_areas": null,
            "grid_template_columns": null,
            "grid_template_rows": null,
            "height": null,
            "justify_content": null,
            "justify_items": null,
            "left": null,
            "margin": null,
            "max_height": null,
            "max_width": null,
            "min_height": null,
            "min_width": null,
            "object_fit": null,
            "object_position": null,
            "order": null,
            "overflow": null,
            "overflow_x": null,
            "overflow_y": null,
            "padding": null,
            "right": null,
            "top": null,
            "visibility": null,
            "width": null
          }
        },
        "024ac57f722344cba7199e421b3b4be1": {
          "model_module": "@jupyter-widgets/controls",
          "model_name": "DescriptionStyleModel",
          "model_module_version": "1.5.0",
          "state": {
            "_model_module": "@jupyter-widgets/controls",
            "_model_module_version": "1.5.0",
            "_model_name": "DescriptionStyleModel",
            "_view_count": null,
            "_view_module": "@jupyter-widgets/base",
            "_view_module_version": "1.2.0",
            "_view_name": "StyleView",
            "description_width": ""
          }
        },
        "61333644231742749a0f811e372181c5": {
          "model_module": "@jupyter-widgets/controls",
          "model_name": "HBoxModel",
          "model_module_version": "1.5.0",
          "state": {
            "_dom_classes": [],
            "_model_module": "@jupyter-widgets/controls",
            "_model_module_version": "1.5.0",
            "_model_name": "HBoxModel",
            "_view_count": null,
            "_view_module": "@jupyter-widgets/controls",
            "_view_module_version": "1.5.0",
            "_view_name": "HBoxView",
            "box_style": "",
            "children": [
              "IPY_MODEL_0503faab39fa4ce986336f60c3b780e3",
              "IPY_MODEL_a7500df9a76546cc866c60b2df29862a",
              "IPY_MODEL_8cf9c8e2d42045ccb9511b70459a678f"
            ],
            "layout": "IPY_MODEL_85c935e5833e448e85d23f684aad6c79"
          }
        },
        "0503faab39fa4ce986336f60c3b780e3": {
          "model_module": "@jupyter-widgets/controls",
          "model_name": "HTMLModel",
          "model_module_version": "1.5.0",
          "state": {
            "_dom_classes": [],
            "_model_module": "@jupyter-widgets/controls",
            "_model_module_version": "1.5.0",
            "_model_name": "HTMLModel",
            "_view_count": null,
            "_view_module": "@jupyter-widgets/controls",
            "_view_module_version": "1.5.0",
            "_view_name": "HTMLView",
            "description": "",
            "description_tooltip": null,
            "layout": "IPY_MODEL_634637a793b944db8c98797c6d78490b",
            "placeholder": "​",
            "style": "IPY_MODEL_9cf744af5f784a93bd72f4750c85e108",
            "value": "Validation DataLoader 0: 100%"
          }
        },
        "a7500df9a76546cc866c60b2df29862a": {
          "model_module": "@jupyter-widgets/controls",
          "model_name": "FloatProgressModel",
          "model_module_version": "1.5.0",
          "state": {
            "_dom_classes": [],
            "_model_module": "@jupyter-widgets/controls",
            "_model_module_version": "1.5.0",
            "_model_name": "FloatProgressModel",
            "_view_count": null,
            "_view_module": "@jupyter-widgets/controls",
            "_view_module_version": "1.5.0",
            "_view_name": "ProgressView",
            "bar_style": "",
            "description": "",
            "description_tooltip": null,
            "layout": "IPY_MODEL_e6dab9209c15475887f310617b0fb43f",
            "max": 12,
            "min": 0,
            "orientation": "horizontal",
            "style": "IPY_MODEL_a32aeffb88cd4f90a71812be1e92bf16",
            "value": 12
          }
        },
        "8cf9c8e2d42045ccb9511b70459a678f": {
          "model_module": "@jupyter-widgets/controls",
          "model_name": "HTMLModel",
          "model_module_version": "1.5.0",
          "state": {
            "_dom_classes": [],
            "_model_module": "@jupyter-widgets/controls",
            "_model_module_version": "1.5.0",
            "_model_name": "HTMLModel",
            "_view_count": null,
            "_view_module": "@jupyter-widgets/controls",
            "_view_module_version": "1.5.0",
            "_view_name": "HTMLView",
            "description": "",
            "description_tooltip": null,
            "layout": "IPY_MODEL_a7749360e1974a0dbd51b23c3de33e99",
            "placeholder": "​",
            "style": "IPY_MODEL_e99f061613b4450ab45b33f1beb6b9ab",
            "value": " 12/12 [00:00&lt;00:00, 70.03it/s]"
          }
        },
        "85c935e5833e448e85d23f684aad6c79": {
          "model_module": "@jupyter-widgets/base",
          "model_name": "LayoutModel",
          "model_module_version": "1.2.0",
          "state": {
            "_model_module": "@jupyter-widgets/base",
            "_model_module_version": "1.2.0",
            "_model_name": "LayoutModel",
            "_view_count": null,
            "_view_module": "@jupyter-widgets/base",
            "_view_module_version": "1.2.0",
            "_view_name": "LayoutView",
            "align_content": null,
            "align_items": null,
            "align_self": null,
            "border": null,
            "bottom": null,
            "display": "inline-flex",
            "flex": null,
            "flex_flow": "row wrap",
            "grid_area": null,
            "grid_auto_columns": null,
            "grid_auto_flow": null,
            "grid_auto_rows": null,
            "grid_column": null,
            "grid_gap": null,
            "grid_row": null,
            "grid_template_areas": null,
            "grid_template_columns": null,
            "grid_template_rows": null,
            "height": null,
            "justify_content": null,
            "justify_items": null,
            "left": null,
            "margin": null,
            "max_height": null,
            "max_width": null,
            "min_height": null,
            "min_width": null,
            "object_fit": null,
            "object_position": null,
            "order": null,
            "overflow": null,
            "overflow_x": null,
            "overflow_y": null,
            "padding": null,
            "right": null,
            "top": null,
            "visibility": "hidden",
            "width": "100%"
          }
        },
        "634637a793b944db8c98797c6d78490b": {
          "model_module": "@jupyter-widgets/base",
          "model_name": "LayoutModel",
          "model_module_version": "1.2.0",
          "state": {
            "_model_module": "@jupyter-widgets/base",
            "_model_module_version": "1.2.0",
            "_model_name": "LayoutModel",
            "_view_count": null,
            "_view_module": "@jupyter-widgets/base",
            "_view_module_version": "1.2.0",
            "_view_name": "LayoutView",
            "align_content": null,
            "align_items": null,
            "align_self": null,
            "border": null,
            "bottom": null,
            "display": null,
            "flex": null,
            "flex_flow": null,
            "grid_area": null,
            "grid_auto_columns": null,
            "grid_auto_flow": null,
            "grid_auto_rows": null,
            "grid_column": null,
            "grid_gap": null,
            "grid_row": null,
            "grid_template_areas": null,
            "grid_template_columns": null,
            "grid_template_rows": null,
            "height": null,
            "justify_content": null,
            "justify_items": null,
            "left": null,
            "margin": null,
            "max_height": null,
            "max_width": null,
            "min_height": null,
            "min_width": null,
            "object_fit": null,
            "object_position": null,
            "order": null,
            "overflow": null,
            "overflow_x": null,
            "overflow_y": null,
            "padding": null,
            "right": null,
            "top": null,
            "visibility": null,
            "width": null
          }
        },
        "9cf744af5f784a93bd72f4750c85e108": {
          "model_module": "@jupyter-widgets/controls",
          "model_name": "DescriptionStyleModel",
          "model_module_version": "1.5.0",
          "state": {
            "_model_module": "@jupyter-widgets/controls",
            "_model_module_version": "1.5.0",
            "_model_name": "DescriptionStyleModel",
            "_view_count": null,
            "_view_module": "@jupyter-widgets/base",
            "_view_module_version": "1.2.0",
            "_view_name": "StyleView",
            "description_width": ""
          }
        },
        "e6dab9209c15475887f310617b0fb43f": {
          "model_module": "@jupyter-widgets/base",
          "model_name": "LayoutModel",
          "model_module_version": "1.2.0",
          "state": {
            "_model_module": "@jupyter-widgets/base",
            "_model_module_version": "1.2.0",
            "_model_name": "LayoutModel",
            "_view_count": null,
            "_view_module": "@jupyter-widgets/base",
            "_view_module_version": "1.2.0",
            "_view_name": "LayoutView",
            "align_content": null,
            "align_items": null,
            "align_self": null,
            "border": null,
            "bottom": null,
            "display": null,
            "flex": "2",
            "flex_flow": null,
            "grid_area": null,
            "grid_auto_columns": null,
            "grid_auto_flow": null,
            "grid_auto_rows": null,
            "grid_column": null,
            "grid_gap": null,
            "grid_row": null,
            "grid_template_areas": null,
            "grid_template_columns": null,
            "grid_template_rows": null,
            "height": null,
            "justify_content": null,
            "justify_items": null,
            "left": null,
            "margin": null,
            "max_height": null,
            "max_width": null,
            "min_height": null,
            "min_width": null,
            "object_fit": null,
            "object_position": null,
            "order": null,
            "overflow": null,
            "overflow_x": null,
            "overflow_y": null,
            "padding": null,
            "right": null,
            "top": null,
            "visibility": null,
            "width": null
          }
        },
        "a32aeffb88cd4f90a71812be1e92bf16": {
          "model_module": "@jupyter-widgets/controls",
          "model_name": "ProgressStyleModel",
          "model_module_version": "1.5.0",
          "state": {
            "_model_module": "@jupyter-widgets/controls",
            "_model_module_version": "1.5.0",
            "_model_name": "ProgressStyleModel",
            "_view_count": null,
            "_view_module": "@jupyter-widgets/base",
            "_view_module_version": "1.2.0",
            "_view_name": "StyleView",
            "bar_color": null,
            "description_width": ""
          }
        },
        "a7749360e1974a0dbd51b23c3de33e99": {
          "model_module": "@jupyter-widgets/base",
          "model_name": "LayoutModel",
          "model_module_version": "1.2.0",
          "state": {
            "_model_module": "@jupyter-widgets/base",
            "_model_module_version": "1.2.0",
            "_model_name": "LayoutModel",
            "_view_count": null,
            "_view_module": "@jupyter-widgets/base",
            "_view_module_version": "1.2.0",
            "_view_name": "LayoutView",
            "align_content": null,
            "align_items": null,
            "align_self": null,
            "border": null,
            "bottom": null,
            "display": null,
            "flex": null,
            "flex_flow": null,
            "grid_area": null,
            "grid_auto_columns": null,
            "grid_auto_flow": null,
            "grid_auto_rows": null,
            "grid_column": null,
            "grid_gap": null,
            "grid_row": null,
            "grid_template_areas": null,
            "grid_template_columns": null,
            "grid_template_rows": null,
            "height": null,
            "justify_content": null,
            "justify_items": null,
            "left": null,
            "margin": null,
            "max_height": null,
            "max_width": null,
            "min_height": null,
            "min_width": null,
            "object_fit": null,
            "object_position": null,
            "order": null,
            "overflow": null,
            "overflow_x": null,
            "overflow_y": null,
            "padding": null,
            "right": null,
            "top": null,
            "visibility": null,
            "width": null
          }
        },
        "e99f061613b4450ab45b33f1beb6b9ab": {
          "model_module": "@jupyter-widgets/controls",
          "model_name": "DescriptionStyleModel",
          "model_module_version": "1.5.0",
          "state": {
            "_model_module": "@jupyter-widgets/controls",
            "_model_module_version": "1.5.0",
            "_model_name": "DescriptionStyleModel",
            "_view_count": null,
            "_view_module": "@jupyter-widgets/base",
            "_view_module_version": "1.2.0",
            "_view_name": "StyleView",
            "description_width": ""
          }
        },
        "70474c5e4b1b4abe8fc078a0ebcdc974": {
          "model_module": "@jupyter-widgets/controls",
          "model_name": "VBoxModel",
          "model_module_version": "1.5.0",
          "state": {
            "_dom_classes": [],
            "_model_module": "@jupyter-widgets/controls",
            "_model_module_version": "1.5.0",
            "_model_name": "VBoxModel",
            "_view_count": null,
            "_view_module": "@jupyter-widgets/controls",
            "_view_module_version": "1.5.0",
            "_view_name": "VBoxView",
            "box_style": "",
            "children": [
              "IPY_MODEL_1bf0e04efa2a48ad97d7913c677457b3",
              "IPY_MODEL_82ab1272d04e4deab1d508e39f45ef0c"
            ],
            "layout": "IPY_MODEL_8090487d244643c89eac97f9735eef21"
          }
        },
        "1bf0e04efa2a48ad97d7913c677457b3": {
          "model_module": "@jupyter-widgets/controls",
          "model_name": "LabelModel",
          "model_module_version": "1.5.0",
          "state": {
            "_dom_classes": [],
            "_model_module": "@jupyter-widgets/controls",
            "_model_module_version": "1.5.0",
            "_model_name": "LabelModel",
            "_view_count": null,
            "_view_module": "@jupyter-widgets/controls",
            "_view_module_version": "1.5.0",
            "_view_name": "LabelView",
            "description": "",
            "description_tooltip": null,
            "layout": "IPY_MODEL_5789ded1903242e5976a1a6064734f39",
            "placeholder": "​",
            "style": "IPY_MODEL_715a9cb6caaf452bb4e5486e9a88fee5",
            "value": "0.013 MB of 0.013 MB uploaded\r"
          }
        },
        "82ab1272d04e4deab1d508e39f45ef0c": {
          "model_module": "@jupyter-widgets/controls",
          "model_name": "FloatProgressModel",
          "model_module_version": "1.5.0",
          "state": {
            "_dom_classes": [],
            "_model_module": "@jupyter-widgets/controls",
            "_model_module_version": "1.5.0",
            "_model_name": "FloatProgressModel",
            "_view_count": null,
            "_view_module": "@jupyter-widgets/controls",
            "_view_module_version": "1.5.0",
            "_view_name": "ProgressView",
            "bar_style": "",
            "description": "",
            "description_tooltip": null,
            "layout": "IPY_MODEL_b6489bd35c4b44ec849cef966c83a49e",
            "max": 1,
            "min": 0,
            "orientation": "horizontal",
            "style": "IPY_MODEL_a6e6b0b1f16f4528a7097c9a4ac4eb50",
            "value": 1
          }
        },
        "8090487d244643c89eac97f9735eef21": {
          "model_module": "@jupyter-widgets/base",
          "model_name": "LayoutModel",
          "model_module_version": "1.2.0",
          "state": {
            "_model_module": "@jupyter-widgets/base",
            "_model_module_version": "1.2.0",
            "_model_name": "LayoutModel",
            "_view_count": null,
            "_view_module": "@jupyter-widgets/base",
            "_view_module_version": "1.2.0",
            "_view_name": "LayoutView",
            "align_content": null,
            "align_items": null,
            "align_self": null,
            "border": null,
            "bottom": null,
            "display": null,
            "flex": null,
            "flex_flow": null,
            "grid_area": null,
            "grid_auto_columns": null,
            "grid_auto_flow": null,
            "grid_auto_rows": null,
            "grid_column": null,
            "grid_gap": null,
            "grid_row": null,
            "grid_template_areas": null,
            "grid_template_columns": null,
            "grid_template_rows": null,
            "height": null,
            "justify_content": null,
            "justify_items": null,
            "left": null,
            "margin": null,
            "max_height": null,
            "max_width": null,
            "min_height": null,
            "min_width": null,
            "object_fit": null,
            "object_position": null,
            "order": null,
            "overflow": null,
            "overflow_x": null,
            "overflow_y": null,
            "padding": null,
            "right": null,
            "top": null,
            "visibility": null,
            "width": null
          }
        },
        "5789ded1903242e5976a1a6064734f39": {
          "model_module": "@jupyter-widgets/base",
          "model_name": "LayoutModel",
          "model_module_version": "1.2.0",
          "state": {
            "_model_module": "@jupyter-widgets/base",
            "_model_module_version": "1.2.0",
            "_model_name": "LayoutModel",
            "_view_count": null,
            "_view_module": "@jupyter-widgets/base",
            "_view_module_version": "1.2.0",
            "_view_name": "LayoutView",
            "align_content": null,
            "align_items": null,
            "align_self": null,
            "border": null,
            "bottom": null,
            "display": null,
            "flex": null,
            "flex_flow": null,
            "grid_area": null,
            "grid_auto_columns": null,
            "grid_auto_flow": null,
            "grid_auto_rows": null,
            "grid_column": null,
            "grid_gap": null,
            "grid_row": null,
            "grid_template_areas": null,
            "grid_template_columns": null,
            "grid_template_rows": null,
            "height": null,
            "justify_content": null,
            "justify_items": null,
            "left": null,
            "margin": null,
            "max_height": null,
            "max_width": null,
            "min_height": null,
            "min_width": null,
            "object_fit": null,
            "object_position": null,
            "order": null,
            "overflow": null,
            "overflow_x": null,
            "overflow_y": null,
            "padding": null,
            "right": null,
            "top": null,
            "visibility": null,
            "width": null
          }
        },
        "715a9cb6caaf452bb4e5486e9a88fee5": {
          "model_module": "@jupyter-widgets/controls",
          "model_name": "DescriptionStyleModel",
          "model_module_version": "1.5.0",
          "state": {
            "_model_module": "@jupyter-widgets/controls",
            "_model_module_version": "1.5.0",
            "_model_name": "DescriptionStyleModel",
            "_view_count": null,
            "_view_module": "@jupyter-widgets/base",
            "_view_module_version": "1.2.0",
            "_view_name": "StyleView",
            "description_width": ""
          }
        },
        "b6489bd35c4b44ec849cef966c83a49e": {
          "model_module": "@jupyter-widgets/base",
          "model_name": "LayoutModel",
          "model_module_version": "1.2.0",
          "state": {
            "_model_module": "@jupyter-widgets/base",
            "_model_module_version": "1.2.0",
            "_model_name": "LayoutModel",
            "_view_count": null,
            "_view_module": "@jupyter-widgets/base",
            "_view_module_version": "1.2.0",
            "_view_name": "LayoutView",
            "align_content": null,
            "align_items": null,
            "align_self": null,
            "border": null,
            "bottom": null,
            "display": null,
            "flex": null,
            "flex_flow": null,
            "grid_area": null,
            "grid_auto_columns": null,
            "grid_auto_flow": null,
            "grid_auto_rows": null,
            "grid_column": null,
            "grid_gap": null,
            "grid_row": null,
            "grid_template_areas": null,
            "grid_template_columns": null,
            "grid_template_rows": null,
            "height": null,
            "justify_content": null,
            "justify_items": null,
            "left": null,
            "margin": null,
            "max_height": null,
            "max_width": null,
            "min_height": null,
            "min_width": null,
            "object_fit": null,
            "object_position": null,
            "order": null,
            "overflow": null,
            "overflow_x": null,
            "overflow_y": null,
            "padding": null,
            "right": null,
            "top": null,
            "visibility": null,
            "width": null
          }
        },
        "a6e6b0b1f16f4528a7097c9a4ac4eb50": {
          "model_module": "@jupyter-widgets/controls",
          "model_name": "ProgressStyleModel",
          "model_module_version": "1.5.0",
          "state": {
            "_model_module": "@jupyter-widgets/controls",
            "_model_module_version": "1.5.0",
            "_model_name": "ProgressStyleModel",
            "_view_count": null,
            "_view_module": "@jupyter-widgets/base",
            "_view_module_version": "1.2.0",
            "_view_name": "StyleView",
            "bar_color": null,
            "description_width": ""
          }
        },
        "9c51155edec041078f166e521f01f79d": {
          "model_module": "@jupyter-widgets/controls",
          "model_name": "HBoxModel",
          "model_module_version": "1.5.0",
          "state": {
            "_dom_classes": [],
            "_model_module": "@jupyter-widgets/controls",
            "_model_module_version": "1.5.0",
            "_model_name": "HBoxModel",
            "_view_count": null,
            "_view_module": "@jupyter-widgets/controls",
            "_view_module_version": "1.5.0",
            "_view_name": "HBoxView",
            "box_style": "",
            "children": [
              "IPY_MODEL_2f2c36aaad0c4dd8b5ead20215fb95b8",
              "IPY_MODEL_4ede8560b8a7425a97698a62dfc8d671",
              "IPY_MODEL_36a17bb6f391477e8c733a690baeee78"
            ],
            "layout": "IPY_MODEL_a68b35fbbf8445f49cd7e4e87bb8cacf"
          }
        },
        "2f2c36aaad0c4dd8b5ead20215fb95b8": {
          "model_module": "@jupyter-widgets/controls",
          "model_name": "HTMLModel",
          "model_module_version": "1.5.0",
          "state": {
            "_dom_classes": [],
            "_model_module": "@jupyter-widgets/controls",
            "_model_module_version": "1.5.0",
            "_model_name": "HTMLModel",
            "_view_count": null,
            "_view_module": "@jupyter-widgets/controls",
            "_view_module_version": "1.5.0",
            "_view_name": "HTMLView",
            "description": "",
            "description_tooltip": null,
            "layout": "IPY_MODEL_d5c9787fca2e469f82628b566469d4d3",
            "placeholder": "​",
            "style": "IPY_MODEL_97a0cd8805ec4bab8f0de15279c4ffa4",
            "value": "Sanity Checking DataLoader 0: 100%"
          }
        },
        "4ede8560b8a7425a97698a62dfc8d671": {
          "model_module": "@jupyter-widgets/controls",
          "model_name": "FloatProgressModel",
          "model_module_version": "1.5.0",
          "state": {
            "_dom_classes": [],
            "_model_module": "@jupyter-widgets/controls",
            "_model_module_version": "1.5.0",
            "_model_name": "FloatProgressModel",
            "_view_count": null,
            "_view_module": "@jupyter-widgets/controls",
            "_view_module_version": "1.5.0",
            "_view_name": "ProgressView",
            "bar_style": "",
            "description": "",
            "description_tooltip": null,
            "layout": "IPY_MODEL_5e8de12aa5534fa3a8261f9ceea0cbd6",
            "max": 2,
            "min": 0,
            "orientation": "horizontal",
            "style": "IPY_MODEL_1de568c2b56142a69f16f33842f2ee67",
            "value": 2
          }
        },
        "36a17bb6f391477e8c733a690baeee78": {
          "model_module": "@jupyter-widgets/controls",
          "model_name": "HTMLModel",
          "model_module_version": "1.5.0",
          "state": {
            "_dom_classes": [],
            "_model_module": "@jupyter-widgets/controls",
            "_model_module_version": "1.5.0",
            "_model_name": "HTMLModel",
            "_view_count": null,
            "_view_module": "@jupyter-widgets/controls",
            "_view_module_version": "1.5.0",
            "_view_name": "HTMLView",
            "description": "",
            "description_tooltip": null,
            "layout": "IPY_MODEL_28678ccc171143adb6d97da8ea42dd19",
            "placeholder": "​",
            "style": "IPY_MODEL_f5cd5787661147339559d3326bf8af5f",
            "value": " 2/2 [00:00&lt;00:00, 24.20it/s]"
          }
        },
        "a68b35fbbf8445f49cd7e4e87bb8cacf": {
          "model_module": "@jupyter-widgets/base",
          "model_name": "LayoutModel",
          "model_module_version": "1.2.0",
          "state": {
            "_model_module": "@jupyter-widgets/base",
            "_model_module_version": "1.2.0",
            "_model_name": "LayoutModel",
            "_view_count": null,
            "_view_module": "@jupyter-widgets/base",
            "_view_module_version": "1.2.0",
            "_view_name": "LayoutView",
            "align_content": null,
            "align_items": null,
            "align_self": null,
            "border": null,
            "bottom": null,
            "display": "inline-flex",
            "flex": null,
            "flex_flow": "row wrap",
            "grid_area": null,
            "grid_auto_columns": null,
            "grid_auto_flow": null,
            "grid_auto_rows": null,
            "grid_column": null,
            "grid_gap": null,
            "grid_row": null,
            "grid_template_areas": null,
            "grid_template_columns": null,
            "grid_template_rows": null,
            "height": null,
            "justify_content": null,
            "justify_items": null,
            "left": null,
            "margin": null,
            "max_height": null,
            "max_width": null,
            "min_height": null,
            "min_width": null,
            "object_fit": null,
            "object_position": null,
            "order": null,
            "overflow": null,
            "overflow_x": null,
            "overflow_y": null,
            "padding": null,
            "right": null,
            "top": null,
            "visibility": "hidden",
            "width": "100%"
          }
        },
        "d5c9787fca2e469f82628b566469d4d3": {
          "model_module": "@jupyter-widgets/base",
          "model_name": "LayoutModel",
          "model_module_version": "1.2.0",
          "state": {
            "_model_module": "@jupyter-widgets/base",
            "_model_module_version": "1.2.0",
            "_model_name": "LayoutModel",
            "_view_count": null,
            "_view_module": "@jupyter-widgets/base",
            "_view_module_version": "1.2.0",
            "_view_name": "LayoutView",
            "align_content": null,
            "align_items": null,
            "align_self": null,
            "border": null,
            "bottom": null,
            "display": null,
            "flex": null,
            "flex_flow": null,
            "grid_area": null,
            "grid_auto_columns": null,
            "grid_auto_flow": null,
            "grid_auto_rows": null,
            "grid_column": null,
            "grid_gap": null,
            "grid_row": null,
            "grid_template_areas": null,
            "grid_template_columns": null,
            "grid_template_rows": null,
            "height": null,
            "justify_content": null,
            "justify_items": null,
            "left": null,
            "margin": null,
            "max_height": null,
            "max_width": null,
            "min_height": null,
            "min_width": null,
            "object_fit": null,
            "object_position": null,
            "order": null,
            "overflow": null,
            "overflow_x": null,
            "overflow_y": null,
            "padding": null,
            "right": null,
            "top": null,
            "visibility": null,
            "width": null
          }
        },
        "97a0cd8805ec4bab8f0de15279c4ffa4": {
          "model_module": "@jupyter-widgets/controls",
          "model_name": "DescriptionStyleModel",
          "model_module_version": "1.5.0",
          "state": {
            "_model_module": "@jupyter-widgets/controls",
            "_model_module_version": "1.5.0",
            "_model_name": "DescriptionStyleModel",
            "_view_count": null,
            "_view_module": "@jupyter-widgets/base",
            "_view_module_version": "1.2.0",
            "_view_name": "StyleView",
            "description_width": ""
          }
        },
        "5e8de12aa5534fa3a8261f9ceea0cbd6": {
          "model_module": "@jupyter-widgets/base",
          "model_name": "LayoutModel",
          "model_module_version": "1.2.0",
          "state": {
            "_model_module": "@jupyter-widgets/base",
            "_model_module_version": "1.2.0",
            "_model_name": "LayoutModel",
            "_view_count": null,
            "_view_module": "@jupyter-widgets/base",
            "_view_module_version": "1.2.0",
            "_view_name": "LayoutView",
            "align_content": null,
            "align_items": null,
            "align_self": null,
            "border": null,
            "bottom": null,
            "display": null,
            "flex": "2",
            "flex_flow": null,
            "grid_area": null,
            "grid_auto_columns": null,
            "grid_auto_flow": null,
            "grid_auto_rows": null,
            "grid_column": null,
            "grid_gap": null,
            "grid_row": null,
            "grid_template_areas": null,
            "grid_template_columns": null,
            "grid_template_rows": null,
            "height": null,
            "justify_content": null,
            "justify_items": null,
            "left": null,
            "margin": null,
            "max_height": null,
            "max_width": null,
            "min_height": null,
            "min_width": null,
            "object_fit": null,
            "object_position": null,
            "order": null,
            "overflow": null,
            "overflow_x": null,
            "overflow_y": null,
            "padding": null,
            "right": null,
            "top": null,
            "visibility": null,
            "width": null
          }
        },
        "1de568c2b56142a69f16f33842f2ee67": {
          "model_module": "@jupyter-widgets/controls",
          "model_name": "ProgressStyleModel",
          "model_module_version": "1.5.0",
          "state": {
            "_model_module": "@jupyter-widgets/controls",
            "_model_module_version": "1.5.0",
            "_model_name": "ProgressStyleModel",
            "_view_count": null,
            "_view_module": "@jupyter-widgets/base",
            "_view_module_version": "1.2.0",
            "_view_name": "StyleView",
            "bar_color": null,
            "description_width": ""
          }
        },
        "28678ccc171143adb6d97da8ea42dd19": {
          "model_module": "@jupyter-widgets/base",
          "model_name": "LayoutModel",
          "model_module_version": "1.2.0",
          "state": {
            "_model_module": "@jupyter-widgets/base",
            "_model_module_version": "1.2.0",
            "_model_name": "LayoutModel",
            "_view_count": null,
            "_view_module": "@jupyter-widgets/base",
            "_view_module_version": "1.2.0",
            "_view_name": "LayoutView",
            "align_content": null,
            "align_items": null,
            "align_self": null,
            "border": null,
            "bottom": null,
            "display": null,
            "flex": null,
            "flex_flow": null,
            "grid_area": null,
            "grid_auto_columns": null,
            "grid_auto_flow": null,
            "grid_auto_rows": null,
            "grid_column": null,
            "grid_gap": null,
            "grid_row": null,
            "grid_template_areas": null,
            "grid_template_columns": null,
            "grid_template_rows": null,
            "height": null,
            "justify_content": null,
            "justify_items": null,
            "left": null,
            "margin": null,
            "max_height": null,
            "max_width": null,
            "min_height": null,
            "min_width": null,
            "object_fit": null,
            "object_position": null,
            "order": null,
            "overflow": null,
            "overflow_x": null,
            "overflow_y": null,
            "padding": null,
            "right": null,
            "top": null,
            "visibility": null,
            "width": null
          }
        },
        "f5cd5787661147339559d3326bf8af5f": {
          "model_module": "@jupyter-widgets/controls",
          "model_name": "DescriptionStyleModel",
          "model_module_version": "1.5.0",
          "state": {
            "_model_module": "@jupyter-widgets/controls",
            "_model_module_version": "1.5.0",
            "_model_name": "DescriptionStyleModel",
            "_view_count": null,
            "_view_module": "@jupyter-widgets/base",
            "_view_module_version": "1.2.0",
            "_view_name": "StyleView",
            "description_width": ""
          }
        },
        "93318c6664874f25a69adfb0cd09fdad": {
          "model_module": "@jupyter-widgets/controls",
          "model_name": "VBoxModel",
          "model_module_version": "1.5.0",
          "state": {
            "_dom_classes": [],
            "_model_module": "@jupyter-widgets/controls",
            "_model_module_version": "1.5.0",
            "_model_name": "VBoxModel",
            "_view_count": null,
            "_view_module": "@jupyter-widgets/controls",
            "_view_module_version": "1.5.0",
            "_view_name": "VBoxView",
            "box_style": "",
            "children": [
              "IPY_MODEL_361ca8c8e6254e5b923de9d8396515f1",
              "IPY_MODEL_ae6a28eacea14a1ca8b73f21636f7fec"
            ],
            "layout": "IPY_MODEL_2238dbf0685647aa86f2bcfc7a93d177"
          }
        },
        "361ca8c8e6254e5b923de9d8396515f1": {
          "model_module": "@jupyter-widgets/controls",
          "model_name": "LabelModel",
          "model_module_version": "1.5.0",
          "state": {
            "_dom_classes": [],
            "_model_module": "@jupyter-widgets/controls",
            "_model_module_version": "1.5.0",
            "_model_name": "LabelModel",
            "_view_count": null,
            "_view_module": "@jupyter-widgets/controls",
            "_view_module_version": "1.5.0",
            "_view_name": "LabelView",
            "description": "",
            "description_tooltip": null,
            "layout": "IPY_MODEL_1a6a6df6318e405fbafe592ac19a4123",
            "placeholder": "​",
            "style": "IPY_MODEL_4c927da00ea14746b77a72d0dd909170",
            "value": "0.012 MB of 0.012 MB uploaded\r"
          }
        },
        "ae6a28eacea14a1ca8b73f21636f7fec": {
          "model_module": "@jupyter-widgets/controls",
          "model_name": "FloatProgressModel",
          "model_module_version": "1.5.0",
          "state": {
            "_dom_classes": [],
            "_model_module": "@jupyter-widgets/controls",
            "_model_module_version": "1.5.0",
            "_model_name": "FloatProgressModel",
            "_view_count": null,
            "_view_module": "@jupyter-widgets/controls",
            "_view_module_version": "1.5.0",
            "_view_name": "ProgressView",
            "bar_style": "",
            "description": "",
            "description_tooltip": null,
            "layout": "IPY_MODEL_a61b81be639940adadcad3b2eaabb12a",
            "max": 1,
            "min": 0,
            "orientation": "horizontal",
            "style": "IPY_MODEL_88f5091153534a5aa1e97dad90f809f4",
            "value": 1
          }
        },
        "2238dbf0685647aa86f2bcfc7a93d177": {
          "model_module": "@jupyter-widgets/base",
          "model_name": "LayoutModel",
          "model_module_version": "1.2.0",
          "state": {
            "_model_module": "@jupyter-widgets/base",
            "_model_module_version": "1.2.0",
            "_model_name": "LayoutModel",
            "_view_count": null,
            "_view_module": "@jupyter-widgets/base",
            "_view_module_version": "1.2.0",
            "_view_name": "LayoutView",
            "align_content": null,
            "align_items": null,
            "align_self": null,
            "border": null,
            "bottom": null,
            "display": null,
            "flex": null,
            "flex_flow": null,
            "grid_area": null,
            "grid_auto_columns": null,
            "grid_auto_flow": null,
            "grid_auto_rows": null,
            "grid_column": null,
            "grid_gap": null,
            "grid_row": null,
            "grid_template_areas": null,
            "grid_template_columns": null,
            "grid_template_rows": null,
            "height": null,
            "justify_content": null,
            "justify_items": null,
            "left": null,
            "margin": null,
            "max_height": null,
            "max_width": null,
            "min_height": null,
            "min_width": null,
            "object_fit": null,
            "object_position": null,
            "order": null,
            "overflow": null,
            "overflow_x": null,
            "overflow_y": null,
            "padding": null,
            "right": null,
            "top": null,
            "visibility": null,
            "width": null
          }
        },
        "1a6a6df6318e405fbafe592ac19a4123": {
          "model_module": "@jupyter-widgets/base",
          "model_name": "LayoutModel",
          "model_module_version": "1.2.0",
          "state": {
            "_model_module": "@jupyter-widgets/base",
            "_model_module_version": "1.2.0",
            "_model_name": "LayoutModel",
            "_view_count": null,
            "_view_module": "@jupyter-widgets/base",
            "_view_module_version": "1.2.0",
            "_view_name": "LayoutView",
            "align_content": null,
            "align_items": null,
            "align_self": null,
            "border": null,
            "bottom": null,
            "display": null,
            "flex": null,
            "flex_flow": null,
            "grid_area": null,
            "grid_auto_columns": null,
            "grid_auto_flow": null,
            "grid_auto_rows": null,
            "grid_column": null,
            "grid_gap": null,
            "grid_row": null,
            "grid_template_areas": null,
            "grid_template_columns": null,
            "grid_template_rows": null,
            "height": null,
            "justify_content": null,
            "justify_items": null,
            "left": null,
            "margin": null,
            "max_height": null,
            "max_width": null,
            "min_height": null,
            "min_width": null,
            "object_fit": null,
            "object_position": null,
            "order": null,
            "overflow": null,
            "overflow_x": null,
            "overflow_y": null,
            "padding": null,
            "right": null,
            "top": null,
            "visibility": null,
            "width": null
          }
        },
        "4c927da00ea14746b77a72d0dd909170": {
          "model_module": "@jupyter-widgets/controls",
          "model_name": "DescriptionStyleModel",
          "model_module_version": "1.5.0",
          "state": {
            "_model_module": "@jupyter-widgets/controls",
            "_model_module_version": "1.5.0",
            "_model_name": "DescriptionStyleModel",
            "_view_count": null,
            "_view_module": "@jupyter-widgets/base",
            "_view_module_version": "1.2.0",
            "_view_name": "StyleView",
            "description_width": ""
          }
        },
        "a61b81be639940adadcad3b2eaabb12a": {
          "model_module": "@jupyter-widgets/base",
          "model_name": "LayoutModel",
          "model_module_version": "1.2.0",
          "state": {
            "_model_module": "@jupyter-widgets/base",
            "_model_module_version": "1.2.0",
            "_model_name": "LayoutModel",
            "_view_count": null,
            "_view_module": "@jupyter-widgets/base",
            "_view_module_version": "1.2.0",
            "_view_name": "LayoutView",
            "align_content": null,
            "align_items": null,
            "align_self": null,
            "border": null,
            "bottom": null,
            "display": null,
            "flex": null,
            "flex_flow": null,
            "grid_area": null,
            "grid_auto_columns": null,
            "grid_auto_flow": null,
            "grid_auto_rows": null,
            "grid_column": null,
            "grid_gap": null,
            "grid_row": null,
            "grid_template_areas": null,
            "grid_template_columns": null,
            "grid_template_rows": null,
            "height": null,
            "justify_content": null,
            "justify_items": null,
            "left": null,
            "margin": null,
            "max_height": null,
            "max_width": null,
            "min_height": null,
            "min_width": null,
            "object_fit": null,
            "object_position": null,
            "order": null,
            "overflow": null,
            "overflow_x": null,
            "overflow_y": null,
            "padding": null,
            "right": null,
            "top": null,
            "visibility": null,
            "width": null
          }
        },
        "88f5091153534a5aa1e97dad90f809f4": {
          "model_module": "@jupyter-widgets/controls",
          "model_name": "ProgressStyleModel",
          "model_module_version": "1.5.0",
          "state": {
            "_model_module": "@jupyter-widgets/controls",
            "_model_module_version": "1.5.0",
            "_model_name": "ProgressStyleModel",
            "_view_count": null,
            "_view_module": "@jupyter-widgets/base",
            "_view_module_version": "1.2.0",
            "_view_name": "StyleView",
            "bar_color": null,
            "description_width": ""
          }
        },
        "bd578a51b7be4fd5b6208066aec8c971": {
          "model_module": "@jupyter-widgets/controls",
          "model_name": "HBoxModel",
          "model_module_version": "1.5.0",
          "state": {
            "_dom_classes": [],
            "_model_module": "@jupyter-widgets/controls",
            "_model_module_version": "1.5.0",
            "_model_name": "HBoxModel",
            "_view_count": null,
            "_view_module": "@jupyter-widgets/controls",
            "_view_module_version": "1.5.0",
            "_view_name": "HBoxView",
            "box_style": "",
            "children": [
              "IPY_MODEL_9e32e64e9d08405dad788f2ccaeafa53",
              "IPY_MODEL_0fd0490377a541139e24ea20ab74004b",
              "IPY_MODEL_85435d92d92e4660a392f145013477fe"
            ],
            "layout": "IPY_MODEL_8814279b23084142a3501381651bfc8d"
          }
        },
        "9e32e64e9d08405dad788f2ccaeafa53": {
          "model_module": "@jupyter-widgets/controls",
          "model_name": "HTMLModel",
          "model_module_version": "1.5.0",
          "state": {
            "_dom_classes": [],
            "_model_module": "@jupyter-widgets/controls",
            "_model_module_version": "1.5.0",
            "_model_name": "HTMLModel",
            "_view_count": null,
            "_view_module": "@jupyter-widgets/controls",
            "_view_module_version": "1.5.0",
            "_view_name": "HTMLView",
            "description": "",
            "description_tooltip": null,
            "layout": "IPY_MODEL_1117094dc8734c15bda99d05470b2017",
            "placeholder": "​",
            "style": "IPY_MODEL_52f9184ff2124b24a8bfec4aea20d491",
            "value": "Sanity Checking DataLoader 0: 100%"
          }
        },
        "0fd0490377a541139e24ea20ab74004b": {
          "model_module": "@jupyter-widgets/controls",
          "model_name": "FloatProgressModel",
          "model_module_version": "1.5.0",
          "state": {
            "_dom_classes": [],
            "_model_module": "@jupyter-widgets/controls",
            "_model_module_version": "1.5.0",
            "_model_name": "FloatProgressModel",
            "_view_count": null,
            "_view_module": "@jupyter-widgets/controls",
            "_view_module_version": "1.5.0",
            "_view_name": "ProgressView",
            "bar_style": "",
            "description": "",
            "description_tooltip": null,
            "layout": "IPY_MODEL_2bfb3fb109214a71a5057688b470f513",
            "max": 2,
            "min": 0,
            "orientation": "horizontal",
            "style": "IPY_MODEL_65cbc43bae354e21bdc62c1bf357be50",
            "value": 2
          }
        },
        "85435d92d92e4660a392f145013477fe": {
          "model_module": "@jupyter-widgets/controls",
          "model_name": "HTMLModel",
          "model_module_version": "1.5.0",
          "state": {
            "_dom_classes": [],
            "_model_module": "@jupyter-widgets/controls",
            "_model_module_version": "1.5.0",
            "_model_name": "HTMLModel",
            "_view_count": null,
            "_view_module": "@jupyter-widgets/controls",
            "_view_module_version": "1.5.0",
            "_view_name": "HTMLView",
            "description": "",
            "description_tooltip": null,
            "layout": "IPY_MODEL_07f5d879314141fb8ee2ad82aaee3ab7",
            "placeholder": "​",
            "style": "IPY_MODEL_363efeed99d54b91bd181390df6d04d4",
            "value": " 2/2 [00:00&lt;00:00, 60.93it/s]"
          }
        },
        "8814279b23084142a3501381651bfc8d": {
          "model_module": "@jupyter-widgets/base",
          "model_name": "LayoutModel",
          "model_module_version": "1.2.0",
          "state": {
            "_model_module": "@jupyter-widgets/base",
            "_model_module_version": "1.2.0",
            "_model_name": "LayoutModel",
            "_view_count": null,
            "_view_module": "@jupyter-widgets/base",
            "_view_module_version": "1.2.0",
            "_view_name": "LayoutView",
            "align_content": null,
            "align_items": null,
            "align_self": null,
            "border": null,
            "bottom": null,
            "display": "inline-flex",
            "flex": null,
            "flex_flow": "row wrap",
            "grid_area": null,
            "grid_auto_columns": null,
            "grid_auto_flow": null,
            "grid_auto_rows": null,
            "grid_column": null,
            "grid_gap": null,
            "grid_row": null,
            "grid_template_areas": null,
            "grid_template_columns": null,
            "grid_template_rows": null,
            "height": null,
            "justify_content": null,
            "justify_items": null,
            "left": null,
            "margin": null,
            "max_height": null,
            "max_width": null,
            "min_height": null,
            "min_width": null,
            "object_fit": null,
            "object_position": null,
            "order": null,
            "overflow": null,
            "overflow_x": null,
            "overflow_y": null,
            "padding": null,
            "right": null,
            "top": null,
            "visibility": "hidden",
            "width": "100%"
          }
        },
        "1117094dc8734c15bda99d05470b2017": {
          "model_module": "@jupyter-widgets/base",
          "model_name": "LayoutModel",
          "model_module_version": "1.2.0",
          "state": {
            "_model_module": "@jupyter-widgets/base",
            "_model_module_version": "1.2.0",
            "_model_name": "LayoutModel",
            "_view_count": null,
            "_view_module": "@jupyter-widgets/base",
            "_view_module_version": "1.2.0",
            "_view_name": "LayoutView",
            "align_content": null,
            "align_items": null,
            "align_self": null,
            "border": null,
            "bottom": null,
            "display": null,
            "flex": null,
            "flex_flow": null,
            "grid_area": null,
            "grid_auto_columns": null,
            "grid_auto_flow": null,
            "grid_auto_rows": null,
            "grid_column": null,
            "grid_gap": null,
            "grid_row": null,
            "grid_template_areas": null,
            "grid_template_columns": null,
            "grid_template_rows": null,
            "height": null,
            "justify_content": null,
            "justify_items": null,
            "left": null,
            "margin": null,
            "max_height": null,
            "max_width": null,
            "min_height": null,
            "min_width": null,
            "object_fit": null,
            "object_position": null,
            "order": null,
            "overflow": null,
            "overflow_x": null,
            "overflow_y": null,
            "padding": null,
            "right": null,
            "top": null,
            "visibility": null,
            "width": null
          }
        },
        "52f9184ff2124b24a8bfec4aea20d491": {
          "model_module": "@jupyter-widgets/controls",
          "model_name": "DescriptionStyleModel",
          "model_module_version": "1.5.0",
          "state": {
            "_model_module": "@jupyter-widgets/controls",
            "_model_module_version": "1.5.0",
            "_model_name": "DescriptionStyleModel",
            "_view_count": null,
            "_view_module": "@jupyter-widgets/base",
            "_view_module_version": "1.2.0",
            "_view_name": "StyleView",
            "description_width": ""
          }
        },
        "2bfb3fb109214a71a5057688b470f513": {
          "model_module": "@jupyter-widgets/base",
          "model_name": "LayoutModel",
          "model_module_version": "1.2.0",
          "state": {
            "_model_module": "@jupyter-widgets/base",
            "_model_module_version": "1.2.0",
            "_model_name": "LayoutModel",
            "_view_count": null,
            "_view_module": "@jupyter-widgets/base",
            "_view_module_version": "1.2.0",
            "_view_name": "LayoutView",
            "align_content": null,
            "align_items": null,
            "align_self": null,
            "border": null,
            "bottom": null,
            "display": null,
            "flex": "2",
            "flex_flow": null,
            "grid_area": null,
            "grid_auto_columns": null,
            "grid_auto_flow": null,
            "grid_auto_rows": null,
            "grid_column": null,
            "grid_gap": null,
            "grid_row": null,
            "grid_template_areas": null,
            "grid_template_columns": null,
            "grid_template_rows": null,
            "height": null,
            "justify_content": null,
            "justify_items": null,
            "left": null,
            "margin": null,
            "max_height": null,
            "max_width": null,
            "min_height": null,
            "min_width": null,
            "object_fit": null,
            "object_position": null,
            "order": null,
            "overflow": null,
            "overflow_x": null,
            "overflow_y": null,
            "padding": null,
            "right": null,
            "top": null,
            "visibility": null,
            "width": null
          }
        },
        "65cbc43bae354e21bdc62c1bf357be50": {
          "model_module": "@jupyter-widgets/controls",
          "model_name": "ProgressStyleModel",
          "model_module_version": "1.5.0",
          "state": {
            "_model_module": "@jupyter-widgets/controls",
            "_model_module_version": "1.5.0",
            "_model_name": "ProgressStyleModel",
            "_view_count": null,
            "_view_module": "@jupyter-widgets/base",
            "_view_module_version": "1.2.0",
            "_view_name": "StyleView",
            "bar_color": null,
            "description_width": ""
          }
        },
        "07f5d879314141fb8ee2ad82aaee3ab7": {
          "model_module": "@jupyter-widgets/base",
          "model_name": "LayoutModel",
          "model_module_version": "1.2.0",
          "state": {
            "_model_module": "@jupyter-widgets/base",
            "_model_module_version": "1.2.0",
            "_model_name": "LayoutModel",
            "_view_count": null,
            "_view_module": "@jupyter-widgets/base",
            "_view_module_version": "1.2.0",
            "_view_name": "LayoutView",
            "align_content": null,
            "align_items": null,
            "align_self": null,
            "border": null,
            "bottom": null,
            "display": null,
            "flex": null,
            "flex_flow": null,
            "grid_area": null,
            "grid_auto_columns": null,
            "grid_auto_flow": null,
            "grid_auto_rows": null,
            "grid_column": null,
            "grid_gap": null,
            "grid_row": null,
            "grid_template_areas": null,
            "grid_template_columns": null,
            "grid_template_rows": null,
            "height": null,
            "justify_content": null,
            "justify_items": null,
            "left": null,
            "margin": null,
            "max_height": null,
            "max_width": null,
            "min_height": null,
            "min_width": null,
            "object_fit": null,
            "object_position": null,
            "order": null,
            "overflow": null,
            "overflow_x": null,
            "overflow_y": null,
            "padding": null,
            "right": null,
            "top": null,
            "visibility": null,
            "width": null
          }
        },
        "363efeed99d54b91bd181390df6d04d4": {
          "model_module": "@jupyter-widgets/controls",
          "model_name": "DescriptionStyleModel",
          "model_module_version": "1.5.0",
          "state": {
            "_model_module": "@jupyter-widgets/controls",
            "_model_module_version": "1.5.0",
            "_model_name": "DescriptionStyleModel",
            "_view_count": null,
            "_view_module": "@jupyter-widgets/base",
            "_view_module_version": "1.2.0",
            "_view_name": "StyleView",
            "description_width": ""
          }
        },
        "7705876105a7435fb981de7544228ce4": {
          "model_module": "@jupyter-widgets/controls",
          "model_name": "VBoxModel",
          "model_module_version": "1.5.0",
          "state": {
            "_dom_classes": [],
            "_model_module": "@jupyter-widgets/controls",
            "_model_module_version": "1.5.0",
            "_model_name": "VBoxModel",
            "_view_count": null,
            "_view_module": "@jupyter-widgets/controls",
            "_view_module_version": "1.5.0",
            "_view_name": "VBoxView",
            "box_style": "",
            "children": [
              "IPY_MODEL_1b878049b5e74f0b9dc637cf6dc9abf3",
              "IPY_MODEL_c09c5ee5f45045e1b03b262ad0774b4e"
            ],
            "layout": "IPY_MODEL_04fb689397564671b36a02415c472d20"
          }
        },
        "1b878049b5e74f0b9dc637cf6dc9abf3": {
          "model_module": "@jupyter-widgets/controls",
          "model_name": "LabelModel",
          "model_module_version": "1.5.0",
          "state": {
            "_dom_classes": [],
            "_model_module": "@jupyter-widgets/controls",
            "_model_module_version": "1.5.0",
            "_model_name": "LabelModel",
            "_view_count": null,
            "_view_module": "@jupyter-widgets/controls",
            "_view_module_version": "1.5.0",
            "_view_name": "LabelView",
            "description": "",
            "description_tooltip": null,
            "layout": "IPY_MODEL_212f757f7c4e44f2ad5d3dcc45567c54",
            "placeholder": "​",
            "style": "IPY_MODEL_1d31178bd8914010852d4942f1917173",
            "value": "0.012 MB of 0.012 MB uploaded\r"
          }
        },
        "c09c5ee5f45045e1b03b262ad0774b4e": {
          "model_module": "@jupyter-widgets/controls",
          "model_name": "FloatProgressModel",
          "model_module_version": "1.5.0",
          "state": {
            "_dom_classes": [],
            "_model_module": "@jupyter-widgets/controls",
            "_model_module_version": "1.5.0",
            "_model_name": "FloatProgressModel",
            "_view_count": null,
            "_view_module": "@jupyter-widgets/controls",
            "_view_module_version": "1.5.0",
            "_view_name": "ProgressView",
            "bar_style": "",
            "description": "",
            "description_tooltip": null,
            "layout": "IPY_MODEL_ac9f70a5a861489a916b01d45793a6ac",
            "max": 1,
            "min": 0,
            "orientation": "horizontal",
            "style": "IPY_MODEL_a2854a2231174fd7b312ed4d5a74b3d0",
            "value": 1
          }
        },
        "04fb689397564671b36a02415c472d20": {
          "model_module": "@jupyter-widgets/base",
          "model_name": "LayoutModel",
          "model_module_version": "1.2.0",
          "state": {
            "_model_module": "@jupyter-widgets/base",
            "_model_module_version": "1.2.0",
            "_model_name": "LayoutModel",
            "_view_count": null,
            "_view_module": "@jupyter-widgets/base",
            "_view_module_version": "1.2.0",
            "_view_name": "LayoutView",
            "align_content": null,
            "align_items": null,
            "align_self": null,
            "border": null,
            "bottom": null,
            "display": null,
            "flex": null,
            "flex_flow": null,
            "grid_area": null,
            "grid_auto_columns": null,
            "grid_auto_flow": null,
            "grid_auto_rows": null,
            "grid_column": null,
            "grid_gap": null,
            "grid_row": null,
            "grid_template_areas": null,
            "grid_template_columns": null,
            "grid_template_rows": null,
            "height": null,
            "justify_content": null,
            "justify_items": null,
            "left": null,
            "margin": null,
            "max_height": null,
            "max_width": null,
            "min_height": null,
            "min_width": null,
            "object_fit": null,
            "object_position": null,
            "order": null,
            "overflow": null,
            "overflow_x": null,
            "overflow_y": null,
            "padding": null,
            "right": null,
            "top": null,
            "visibility": null,
            "width": null
          }
        },
        "212f757f7c4e44f2ad5d3dcc45567c54": {
          "model_module": "@jupyter-widgets/base",
          "model_name": "LayoutModel",
          "model_module_version": "1.2.0",
          "state": {
            "_model_module": "@jupyter-widgets/base",
            "_model_module_version": "1.2.0",
            "_model_name": "LayoutModel",
            "_view_count": null,
            "_view_module": "@jupyter-widgets/base",
            "_view_module_version": "1.2.0",
            "_view_name": "LayoutView",
            "align_content": null,
            "align_items": null,
            "align_self": null,
            "border": null,
            "bottom": null,
            "display": null,
            "flex": null,
            "flex_flow": null,
            "grid_area": null,
            "grid_auto_columns": null,
            "grid_auto_flow": null,
            "grid_auto_rows": null,
            "grid_column": null,
            "grid_gap": null,
            "grid_row": null,
            "grid_template_areas": null,
            "grid_template_columns": null,
            "grid_template_rows": null,
            "height": null,
            "justify_content": null,
            "justify_items": null,
            "left": null,
            "margin": null,
            "max_height": null,
            "max_width": null,
            "min_height": null,
            "min_width": null,
            "object_fit": null,
            "object_position": null,
            "order": null,
            "overflow": null,
            "overflow_x": null,
            "overflow_y": null,
            "padding": null,
            "right": null,
            "top": null,
            "visibility": null,
            "width": null
          }
        },
        "1d31178bd8914010852d4942f1917173": {
          "model_module": "@jupyter-widgets/controls",
          "model_name": "DescriptionStyleModel",
          "model_module_version": "1.5.0",
          "state": {
            "_model_module": "@jupyter-widgets/controls",
            "_model_module_version": "1.5.0",
            "_model_name": "DescriptionStyleModel",
            "_view_count": null,
            "_view_module": "@jupyter-widgets/base",
            "_view_module_version": "1.2.0",
            "_view_name": "StyleView",
            "description_width": ""
          }
        },
        "ac9f70a5a861489a916b01d45793a6ac": {
          "model_module": "@jupyter-widgets/base",
          "model_name": "LayoutModel",
          "model_module_version": "1.2.0",
          "state": {
            "_model_module": "@jupyter-widgets/base",
            "_model_module_version": "1.2.0",
            "_model_name": "LayoutModel",
            "_view_count": null,
            "_view_module": "@jupyter-widgets/base",
            "_view_module_version": "1.2.0",
            "_view_name": "LayoutView",
            "align_content": null,
            "align_items": null,
            "align_self": null,
            "border": null,
            "bottom": null,
            "display": null,
            "flex": null,
            "flex_flow": null,
            "grid_area": null,
            "grid_auto_columns": null,
            "grid_auto_flow": null,
            "grid_auto_rows": null,
            "grid_column": null,
            "grid_gap": null,
            "grid_row": null,
            "grid_template_areas": null,
            "grid_template_columns": null,
            "grid_template_rows": null,
            "height": null,
            "justify_content": null,
            "justify_items": null,
            "left": null,
            "margin": null,
            "max_height": null,
            "max_width": null,
            "min_height": null,
            "min_width": null,
            "object_fit": null,
            "object_position": null,
            "order": null,
            "overflow": null,
            "overflow_x": null,
            "overflow_y": null,
            "padding": null,
            "right": null,
            "top": null,
            "visibility": null,
            "width": null
          }
        },
        "a2854a2231174fd7b312ed4d5a74b3d0": {
          "model_module": "@jupyter-widgets/controls",
          "model_name": "ProgressStyleModel",
          "model_module_version": "1.5.0",
          "state": {
            "_model_module": "@jupyter-widgets/controls",
            "_model_module_version": "1.5.0",
            "_model_name": "ProgressStyleModel",
            "_view_count": null,
            "_view_module": "@jupyter-widgets/base",
            "_view_module_version": "1.2.0",
            "_view_name": "StyleView",
            "bar_color": null,
            "description_width": ""
          }
        },
        "d95e89c5d289417eb30625d731b1242c": {
          "model_module": "@jupyter-widgets/controls",
          "model_name": "HBoxModel",
          "model_module_version": "1.5.0",
          "state": {
            "_dom_classes": [],
            "_model_module": "@jupyter-widgets/controls",
            "_model_module_version": "1.5.0",
            "_model_name": "HBoxModel",
            "_view_count": null,
            "_view_module": "@jupyter-widgets/controls",
            "_view_module_version": "1.5.0",
            "_view_name": "HBoxView",
            "box_style": "",
            "children": [
              "IPY_MODEL_bee3e2810fad41e8822d81f5b2cb0310",
              "IPY_MODEL_05a28119658c496b9365ed80509d842e",
              "IPY_MODEL_4b3478d9ade142b29b3414c5f85cbbfa"
            ],
            "layout": "IPY_MODEL_43a5657ba6a24db788b46aed3a022448"
          }
        },
        "bee3e2810fad41e8822d81f5b2cb0310": {
          "model_module": "@jupyter-widgets/controls",
          "model_name": "HTMLModel",
          "model_module_version": "1.5.0",
          "state": {
            "_dom_classes": [],
            "_model_module": "@jupyter-widgets/controls",
            "_model_module_version": "1.5.0",
            "_model_name": "HTMLModel",
            "_view_count": null,
            "_view_module": "@jupyter-widgets/controls",
            "_view_module_version": "1.5.0",
            "_view_name": "HTMLView",
            "description": "",
            "description_tooltip": null,
            "layout": "IPY_MODEL_4783049863d54d2c949d96b29a409d4f",
            "placeholder": "​",
            "style": "IPY_MODEL_8c10572ccdd144289c25644e0a7d3e68",
            "value": "Sanity Checking DataLoader 0: 100%"
          }
        },
        "05a28119658c496b9365ed80509d842e": {
          "model_module": "@jupyter-widgets/controls",
          "model_name": "FloatProgressModel",
          "model_module_version": "1.5.0",
          "state": {
            "_dom_classes": [],
            "_model_module": "@jupyter-widgets/controls",
            "_model_module_version": "1.5.0",
            "_model_name": "FloatProgressModel",
            "_view_count": null,
            "_view_module": "@jupyter-widgets/controls",
            "_view_module_version": "1.5.0",
            "_view_name": "ProgressView",
            "bar_style": "",
            "description": "",
            "description_tooltip": null,
            "layout": "IPY_MODEL_0c4a224cc2f74e7f91d5c56679fd72ce",
            "max": 2,
            "min": 0,
            "orientation": "horizontal",
            "style": "IPY_MODEL_71c00d99e44b4243b1dec31e7066596b",
            "value": 2
          }
        },
        "4b3478d9ade142b29b3414c5f85cbbfa": {
          "model_module": "@jupyter-widgets/controls",
          "model_name": "HTMLModel",
          "model_module_version": "1.5.0",
          "state": {
            "_dom_classes": [],
            "_model_module": "@jupyter-widgets/controls",
            "_model_module_version": "1.5.0",
            "_model_name": "HTMLModel",
            "_view_count": null,
            "_view_module": "@jupyter-widgets/controls",
            "_view_module_version": "1.5.0",
            "_view_name": "HTMLView",
            "description": "",
            "description_tooltip": null,
            "layout": "IPY_MODEL_f586be2a5af14e31befa4a2452b424e1",
            "placeholder": "​",
            "style": "IPY_MODEL_fd0d8c23d764450fadc3d8ce4c1a22d6",
            "value": " 2/2 [00:00&lt;00:00, 19.92it/s]"
          }
        },
        "43a5657ba6a24db788b46aed3a022448": {
          "model_module": "@jupyter-widgets/base",
          "model_name": "LayoutModel",
          "model_module_version": "1.2.0",
          "state": {
            "_model_module": "@jupyter-widgets/base",
            "_model_module_version": "1.2.0",
            "_model_name": "LayoutModel",
            "_view_count": null,
            "_view_module": "@jupyter-widgets/base",
            "_view_module_version": "1.2.0",
            "_view_name": "LayoutView",
            "align_content": null,
            "align_items": null,
            "align_self": null,
            "border": null,
            "bottom": null,
            "display": "inline-flex",
            "flex": null,
            "flex_flow": "row wrap",
            "grid_area": null,
            "grid_auto_columns": null,
            "grid_auto_flow": null,
            "grid_auto_rows": null,
            "grid_column": null,
            "grid_gap": null,
            "grid_row": null,
            "grid_template_areas": null,
            "grid_template_columns": null,
            "grid_template_rows": null,
            "height": null,
            "justify_content": null,
            "justify_items": null,
            "left": null,
            "margin": null,
            "max_height": null,
            "max_width": null,
            "min_height": null,
            "min_width": null,
            "object_fit": null,
            "object_position": null,
            "order": null,
            "overflow": null,
            "overflow_x": null,
            "overflow_y": null,
            "padding": null,
            "right": null,
            "top": null,
            "visibility": "hidden",
            "width": "100%"
          }
        },
        "4783049863d54d2c949d96b29a409d4f": {
          "model_module": "@jupyter-widgets/base",
          "model_name": "LayoutModel",
          "model_module_version": "1.2.0",
          "state": {
            "_model_module": "@jupyter-widgets/base",
            "_model_module_version": "1.2.0",
            "_model_name": "LayoutModel",
            "_view_count": null,
            "_view_module": "@jupyter-widgets/base",
            "_view_module_version": "1.2.0",
            "_view_name": "LayoutView",
            "align_content": null,
            "align_items": null,
            "align_self": null,
            "border": null,
            "bottom": null,
            "display": null,
            "flex": null,
            "flex_flow": null,
            "grid_area": null,
            "grid_auto_columns": null,
            "grid_auto_flow": null,
            "grid_auto_rows": null,
            "grid_column": null,
            "grid_gap": null,
            "grid_row": null,
            "grid_template_areas": null,
            "grid_template_columns": null,
            "grid_template_rows": null,
            "height": null,
            "justify_content": null,
            "justify_items": null,
            "left": null,
            "margin": null,
            "max_height": null,
            "max_width": null,
            "min_height": null,
            "min_width": null,
            "object_fit": null,
            "object_position": null,
            "order": null,
            "overflow": null,
            "overflow_x": null,
            "overflow_y": null,
            "padding": null,
            "right": null,
            "top": null,
            "visibility": null,
            "width": null
          }
        },
        "8c10572ccdd144289c25644e0a7d3e68": {
          "model_module": "@jupyter-widgets/controls",
          "model_name": "DescriptionStyleModel",
          "model_module_version": "1.5.0",
          "state": {
            "_model_module": "@jupyter-widgets/controls",
            "_model_module_version": "1.5.0",
            "_model_name": "DescriptionStyleModel",
            "_view_count": null,
            "_view_module": "@jupyter-widgets/base",
            "_view_module_version": "1.2.0",
            "_view_name": "StyleView",
            "description_width": ""
          }
        },
        "0c4a224cc2f74e7f91d5c56679fd72ce": {
          "model_module": "@jupyter-widgets/base",
          "model_name": "LayoutModel",
          "model_module_version": "1.2.0",
          "state": {
            "_model_module": "@jupyter-widgets/base",
            "_model_module_version": "1.2.0",
            "_model_name": "LayoutModel",
            "_view_count": null,
            "_view_module": "@jupyter-widgets/base",
            "_view_module_version": "1.2.0",
            "_view_name": "LayoutView",
            "align_content": null,
            "align_items": null,
            "align_self": null,
            "border": null,
            "bottom": null,
            "display": null,
            "flex": "2",
            "flex_flow": null,
            "grid_area": null,
            "grid_auto_columns": null,
            "grid_auto_flow": null,
            "grid_auto_rows": null,
            "grid_column": null,
            "grid_gap": null,
            "grid_row": null,
            "grid_template_areas": null,
            "grid_template_columns": null,
            "grid_template_rows": null,
            "height": null,
            "justify_content": null,
            "justify_items": null,
            "left": null,
            "margin": null,
            "max_height": null,
            "max_width": null,
            "min_height": null,
            "min_width": null,
            "object_fit": null,
            "object_position": null,
            "order": null,
            "overflow": null,
            "overflow_x": null,
            "overflow_y": null,
            "padding": null,
            "right": null,
            "top": null,
            "visibility": null,
            "width": null
          }
        },
        "71c00d99e44b4243b1dec31e7066596b": {
          "model_module": "@jupyter-widgets/controls",
          "model_name": "ProgressStyleModel",
          "model_module_version": "1.5.0",
          "state": {
            "_model_module": "@jupyter-widgets/controls",
            "_model_module_version": "1.5.0",
            "_model_name": "ProgressStyleModel",
            "_view_count": null,
            "_view_module": "@jupyter-widgets/base",
            "_view_module_version": "1.2.0",
            "_view_name": "StyleView",
            "bar_color": null,
            "description_width": ""
          }
        },
        "f586be2a5af14e31befa4a2452b424e1": {
          "model_module": "@jupyter-widgets/base",
          "model_name": "LayoutModel",
          "model_module_version": "1.2.0",
          "state": {
            "_model_module": "@jupyter-widgets/base",
            "_model_module_version": "1.2.0",
            "_model_name": "LayoutModel",
            "_view_count": null,
            "_view_module": "@jupyter-widgets/base",
            "_view_module_version": "1.2.0",
            "_view_name": "LayoutView",
            "align_content": null,
            "align_items": null,
            "align_self": null,
            "border": null,
            "bottom": null,
            "display": null,
            "flex": null,
            "flex_flow": null,
            "grid_area": null,
            "grid_auto_columns": null,
            "grid_auto_flow": null,
            "grid_auto_rows": null,
            "grid_column": null,
            "grid_gap": null,
            "grid_row": null,
            "grid_template_areas": null,
            "grid_template_columns": null,
            "grid_template_rows": null,
            "height": null,
            "justify_content": null,
            "justify_items": null,
            "left": null,
            "margin": null,
            "max_height": null,
            "max_width": null,
            "min_height": null,
            "min_width": null,
            "object_fit": null,
            "object_position": null,
            "order": null,
            "overflow": null,
            "overflow_x": null,
            "overflow_y": null,
            "padding": null,
            "right": null,
            "top": null,
            "visibility": null,
            "width": null
          }
        },
        "fd0d8c23d764450fadc3d8ce4c1a22d6": {
          "model_module": "@jupyter-widgets/controls",
          "model_name": "DescriptionStyleModel",
          "model_module_version": "1.5.0",
          "state": {
            "_model_module": "@jupyter-widgets/controls",
            "_model_module_version": "1.5.0",
            "_model_name": "DescriptionStyleModel",
            "_view_count": null,
            "_view_module": "@jupyter-widgets/base",
            "_view_module_version": "1.2.0",
            "_view_name": "StyleView",
            "description_width": ""
          }
        },
        "b239d8165beb44c68374616d4486729d": {
          "model_module": "@jupyter-widgets/controls",
          "model_name": "VBoxModel",
          "model_module_version": "1.5.0",
          "state": {
            "_dom_classes": [],
            "_model_module": "@jupyter-widgets/controls",
            "_model_module_version": "1.5.0",
            "_model_name": "VBoxModel",
            "_view_count": null,
            "_view_module": "@jupyter-widgets/controls",
            "_view_module_version": "1.5.0",
            "_view_name": "VBoxView",
            "box_style": "",
            "children": [
              "IPY_MODEL_05cbc88264be4487872754bc914aa7c5",
              "IPY_MODEL_f3577489bc9a4dda9411a5343d98b09e"
            ],
            "layout": "IPY_MODEL_6da3547e18f746e998c5a194abb619f6"
          }
        },
        "05cbc88264be4487872754bc914aa7c5": {
          "model_module": "@jupyter-widgets/controls",
          "model_name": "LabelModel",
          "model_module_version": "1.5.0",
          "state": {
            "_dom_classes": [],
            "_model_module": "@jupyter-widgets/controls",
            "_model_module_version": "1.5.0",
            "_model_name": "LabelModel",
            "_view_count": null,
            "_view_module": "@jupyter-widgets/controls",
            "_view_module_version": "1.5.0",
            "_view_name": "LabelView",
            "description": "",
            "description_tooltip": null,
            "layout": "IPY_MODEL_202496c4a3d145dd8b43042e377a46e1",
            "placeholder": "​",
            "style": "IPY_MODEL_5d4c6e6dce8343f1b96995c2c9bd4a00",
            "value": "0.012 MB of 0.012 MB uploaded\r"
          }
        },
        "f3577489bc9a4dda9411a5343d98b09e": {
          "model_module": "@jupyter-widgets/controls",
          "model_name": "FloatProgressModel",
          "model_module_version": "1.5.0",
          "state": {
            "_dom_classes": [],
            "_model_module": "@jupyter-widgets/controls",
            "_model_module_version": "1.5.0",
            "_model_name": "FloatProgressModel",
            "_view_count": null,
            "_view_module": "@jupyter-widgets/controls",
            "_view_module_version": "1.5.0",
            "_view_name": "ProgressView",
            "bar_style": "",
            "description": "",
            "description_tooltip": null,
            "layout": "IPY_MODEL_16d2aa43618b4a6f8931642c6c18f399",
            "max": 1,
            "min": 0,
            "orientation": "horizontal",
            "style": "IPY_MODEL_86885f7c44804cbc86e14b398f54f5fe",
            "value": 1
          }
        },
        "6da3547e18f746e998c5a194abb619f6": {
          "model_module": "@jupyter-widgets/base",
          "model_name": "LayoutModel",
          "model_module_version": "1.2.0",
          "state": {
            "_model_module": "@jupyter-widgets/base",
            "_model_module_version": "1.2.0",
            "_model_name": "LayoutModel",
            "_view_count": null,
            "_view_module": "@jupyter-widgets/base",
            "_view_module_version": "1.2.0",
            "_view_name": "LayoutView",
            "align_content": null,
            "align_items": null,
            "align_self": null,
            "border": null,
            "bottom": null,
            "display": null,
            "flex": null,
            "flex_flow": null,
            "grid_area": null,
            "grid_auto_columns": null,
            "grid_auto_flow": null,
            "grid_auto_rows": null,
            "grid_column": null,
            "grid_gap": null,
            "grid_row": null,
            "grid_template_areas": null,
            "grid_template_columns": null,
            "grid_template_rows": null,
            "height": null,
            "justify_content": null,
            "justify_items": null,
            "left": null,
            "margin": null,
            "max_height": null,
            "max_width": null,
            "min_height": null,
            "min_width": null,
            "object_fit": null,
            "object_position": null,
            "order": null,
            "overflow": null,
            "overflow_x": null,
            "overflow_y": null,
            "padding": null,
            "right": null,
            "top": null,
            "visibility": null,
            "width": null
          }
        },
        "202496c4a3d145dd8b43042e377a46e1": {
          "model_module": "@jupyter-widgets/base",
          "model_name": "LayoutModel",
          "model_module_version": "1.2.0",
          "state": {
            "_model_module": "@jupyter-widgets/base",
            "_model_module_version": "1.2.0",
            "_model_name": "LayoutModel",
            "_view_count": null,
            "_view_module": "@jupyter-widgets/base",
            "_view_module_version": "1.2.0",
            "_view_name": "LayoutView",
            "align_content": null,
            "align_items": null,
            "align_self": null,
            "border": null,
            "bottom": null,
            "display": null,
            "flex": null,
            "flex_flow": null,
            "grid_area": null,
            "grid_auto_columns": null,
            "grid_auto_flow": null,
            "grid_auto_rows": null,
            "grid_column": null,
            "grid_gap": null,
            "grid_row": null,
            "grid_template_areas": null,
            "grid_template_columns": null,
            "grid_template_rows": null,
            "height": null,
            "justify_content": null,
            "justify_items": null,
            "left": null,
            "margin": null,
            "max_height": null,
            "max_width": null,
            "min_height": null,
            "min_width": null,
            "object_fit": null,
            "object_position": null,
            "order": null,
            "overflow": null,
            "overflow_x": null,
            "overflow_y": null,
            "padding": null,
            "right": null,
            "top": null,
            "visibility": null,
            "width": null
          }
        },
        "5d4c6e6dce8343f1b96995c2c9bd4a00": {
          "model_module": "@jupyter-widgets/controls",
          "model_name": "DescriptionStyleModel",
          "model_module_version": "1.5.0",
          "state": {
            "_model_module": "@jupyter-widgets/controls",
            "_model_module_version": "1.5.0",
            "_model_name": "DescriptionStyleModel",
            "_view_count": null,
            "_view_module": "@jupyter-widgets/base",
            "_view_module_version": "1.2.0",
            "_view_name": "StyleView",
            "description_width": ""
          }
        },
        "16d2aa43618b4a6f8931642c6c18f399": {
          "model_module": "@jupyter-widgets/base",
          "model_name": "LayoutModel",
          "model_module_version": "1.2.0",
          "state": {
            "_model_module": "@jupyter-widgets/base",
            "_model_module_version": "1.2.0",
            "_model_name": "LayoutModel",
            "_view_count": null,
            "_view_module": "@jupyter-widgets/base",
            "_view_module_version": "1.2.0",
            "_view_name": "LayoutView",
            "align_content": null,
            "align_items": null,
            "align_self": null,
            "border": null,
            "bottom": null,
            "display": null,
            "flex": null,
            "flex_flow": null,
            "grid_area": null,
            "grid_auto_columns": null,
            "grid_auto_flow": null,
            "grid_auto_rows": null,
            "grid_column": null,
            "grid_gap": null,
            "grid_row": null,
            "grid_template_areas": null,
            "grid_template_columns": null,
            "grid_template_rows": null,
            "height": null,
            "justify_content": null,
            "justify_items": null,
            "left": null,
            "margin": null,
            "max_height": null,
            "max_width": null,
            "min_height": null,
            "min_width": null,
            "object_fit": null,
            "object_position": null,
            "order": null,
            "overflow": null,
            "overflow_x": null,
            "overflow_y": null,
            "padding": null,
            "right": null,
            "top": null,
            "visibility": null,
            "width": null
          }
        },
        "86885f7c44804cbc86e14b398f54f5fe": {
          "model_module": "@jupyter-widgets/controls",
          "model_name": "ProgressStyleModel",
          "model_module_version": "1.5.0",
          "state": {
            "_model_module": "@jupyter-widgets/controls",
            "_model_module_version": "1.5.0",
            "_model_name": "ProgressStyleModel",
            "_view_count": null,
            "_view_module": "@jupyter-widgets/base",
            "_view_module_version": "1.2.0",
            "_view_name": "StyleView",
            "bar_color": null,
            "description_width": ""
          }
        },
        "6ffad2c101fd43099d07b11c387b390a": {
          "model_module": "@jupyter-widgets/controls",
          "model_name": "HBoxModel",
          "model_module_version": "1.5.0",
          "state": {
            "_dom_classes": [],
            "_model_module": "@jupyter-widgets/controls",
            "_model_module_version": "1.5.0",
            "_model_name": "HBoxModel",
            "_view_count": null,
            "_view_module": "@jupyter-widgets/controls",
            "_view_module_version": "1.5.0",
            "_view_name": "HBoxView",
            "box_style": "",
            "children": [
              "IPY_MODEL_181b2abbab444cbbbc7a282f41189224",
              "IPY_MODEL_528b8b08a3d54cc0a32bf82bd5bd5871",
              "IPY_MODEL_c96839130b11454797c94ba40db83202"
            ],
            "layout": "IPY_MODEL_273b1f0134714b9797bf24786c9f6b54"
          }
        },
        "181b2abbab444cbbbc7a282f41189224": {
          "model_module": "@jupyter-widgets/controls",
          "model_name": "HTMLModel",
          "model_module_version": "1.5.0",
          "state": {
            "_dom_classes": [],
            "_model_module": "@jupyter-widgets/controls",
            "_model_module_version": "1.5.0",
            "_model_name": "HTMLModel",
            "_view_count": null,
            "_view_module": "@jupyter-widgets/controls",
            "_view_module_version": "1.5.0",
            "_view_name": "HTMLView",
            "description": "",
            "description_tooltip": null,
            "layout": "IPY_MODEL_a8b1e06171aa45cfa1a3e152e9ced126",
            "placeholder": "​",
            "style": "IPY_MODEL_29d46807f06044649cfa023fc81e81ee",
            "value": "Sanity Checking DataLoader 0: 100%"
          }
        },
        "528b8b08a3d54cc0a32bf82bd5bd5871": {
          "model_module": "@jupyter-widgets/controls",
          "model_name": "FloatProgressModel",
          "model_module_version": "1.5.0",
          "state": {
            "_dom_classes": [],
            "_model_module": "@jupyter-widgets/controls",
            "_model_module_version": "1.5.0",
            "_model_name": "FloatProgressModel",
            "_view_count": null,
            "_view_module": "@jupyter-widgets/controls",
            "_view_module_version": "1.5.0",
            "_view_name": "ProgressView",
            "bar_style": "",
            "description": "",
            "description_tooltip": null,
            "layout": "IPY_MODEL_953309590cde4c0d810aa78ff717bb8b",
            "max": 2,
            "min": 0,
            "orientation": "horizontal",
            "style": "IPY_MODEL_751cc29026f34369b4eabf6649af585c",
            "value": 2
          }
        },
        "c96839130b11454797c94ba40db83202": {
          "model_module": "@jupyter-widgets/controls",
          "model_name": "HTMLModel",
          "model_module_version": "1.5.0",
          "state": {
            "_dom_classes": [],
            "_model_module": "@jupyter-widgets/controls",
            "_model_module_version": "1.5.0",
            "_model_name": "HTMLModel",
            "_view_count": null,
            "_view_module": "@jupyter-widgets/controls",
            "_view_module_version": "1.5.0",
            "_view_name": "HTMLView",
            "description": "",
            "description_tooltip": null,
            "layout": "IPY_MODEL_41feb0eb503c4bbeacb094f7aa308c5d",
            "placeholder": "​",
            "style": "IPY_MODEL_784ef6e3db8a4af58b403a43e5d351d9",
            "value": " 2/2 [00:00&lt;00:00, 72.01it/s]"
          }
        },
        "273b1f0134714b9797bf24786c9f6b54": {
          "model_module": "@jupyter-widgets/base",
          "model_name": "LayoutModel",
          "model_module_version": "1.2.0",
          "state": {
            "_model_module": "@jupyter-widgets/base",
            "_model_module_version": "1.2.0",
            "_model_name": "LayoutModel",
            "_view_count": null,
            "_view_module": "@jupyter-widgets/base",
            "_view_module_version": "1.2.0",
            "_view_name": "LayoutView",
            "align_content": null,
            "align_items": null,
            "align_self": null,
            "border": null,
            "bottom": null,
            "display": "inline-flex",
            "flex": null,
            "flex_flow": "row wrap",
            "grid_area": null,
            "grid_auto_columns": null,
            "grid_auto_flow": null,
            "grid_auto_rows": null,
            "grid_column": null,
            "grid_gap": null,
            "grid_row": null,
            "grid_template_areas": null,
            "grid_template_columns": null,
            "grid_template_rows": null,
            "height": null,
            "justify_content": null,
            "justify_items": null,
            "left": null,
            "margin": null,
            "max_height": null,
            "max_width": null,
            "min_height": null,
            "min_width": null,
            "object_fit": null,
            "object_position": null,
            "order": null,
            "overflow": null,
            "overflow_x": null,
            "overflow_y": null,
            "padding": null,
            "right": null,
            "top": null,
            "visibility": "hidden",
            "width": "100%"
          }
        },
        "a8b1e06171aa45cfa1a3e152e9ced126": {
          "model_module": "@jupyter-widgets/base",
          "model_name": "LayoutModel",
          "model_module_version": "1.2.0",
          "state": {
            "_model_module": "@jupyter-widgets/base",
            "_model_module_version": "1.2.0",
            "_model_name": "LayoutModel",
            "_view_count": null,
            "_view_module": "@jupyter-widgets/base",
            "_view_module_version": "1.2.0",
            "_view_name": "LayoutView",
            "align_content": null,
            "align_items": null,
            "align_self": null,
            "border": null,
            "bottom": null,
            "display": null,
            "flex": null,
            "flex_flow": null,
            "grid_area": null,
            "grid_auto_columns": null,
            "grid_auto_flow": null,
            "grid_auto_rows": null,
            "grid_column": null,
            "grid_gap": null,
            "grid_row": null,
            "grid_template_areas": null,
            "grid_template_columns": null,
            "grid_template_rows": null,
            "height": null,
            "justify_content": null,
            "justify_items": null,
            "left": null,
            "margin": null,
            "max_height": null,
            "max_width": null,
            "min_height": null,
            "min_width": null,
            "object_fit": null,
            "object_position": null,
            "order": null,
            "overflow": null,
            "overflow_x": null,
            "overflow_y": null,
            "padding": null,
            "right": null,
            "top": null,
            "visibility": null,
            "width": null
          }
        },
        "29d46807f06044649cfa023fc81e81ee": {
          "model_module": "@jupyter-widgets/controls",
          "model_name": "DescriptionStyleModel",
          "model_module_version": "1.5.0",
          "state": {
            "_model_module": "@jupyter-widgets/controls",
            "_model_module_version": "1.5.0",
            "_model_name": "DescriptionStyleModel",
            "_view_count": null,
            "_view_module": "@jupyter-widgets/base",
            "_view_module_version": "1.2.0",
            "_view_name": "StyleView",
            "description_width": ""
          }
        },
        "953309590cde4c0d810aa78ff717bb8b": {
          "model_module": "@jupyter-widgets/base",
          "model_name": "LayoutModel",
          "model_module_version": "1.2.0",
          "state": {
            "_model_module": "@jupyter-widgets/base",
            "_model_module_version": "1.2.0",
            "_model_name": "LayoutModel",
            "_view_count": null,
            "_view_module": "@jupyter-widgets/base",
            "_view_module_version": "1.2.0",
            "_view_name": "LayoutView",
            "align_content": null,
            "align_items": null,
            "align_self": null,
            "border": null,
            "bottom": null,
            "display": null,
            "flex": "2",
            "flex_flow": null,
            "grid_area": null,
            "grid_auto_columns": null,
            "grid_auto_flow": null,
            "grid_auto_rows": null,
            "grid_column": null,
            "grid_gap": null,
            "grid_row": null,
            "grid_template_areas": null,
            "grid_template_columns": null,
            "grid_template_rows": null,
            "height": null,
            "justify_content": null,
            "justify_items": null,
            "left": null,
            "margin": null,
            "max_height": null,
            "max_width": null,
            "min_height": null,
            "min_width": null,
            "object_fit": null,
            "object_position": null,
            "order": null,
            "overflow": null,
            "overflow_x": null,
            "overflow_y": null,
            "padding": null,
            "right": null,
            "top": null,
            "visibility": null,
            "width": null
          }
        },
        "751cc29026f34369b4eabf6649af585c": {
          "model_module": "@jupyter-widgets/controls",
          "model_name": "ProgressStyleModel",
          "model_module_version": "1.5.0",
          "state": {
            "_model_module": "@jupyter-widgets/controls",
            "_model_module_version": "1.5.0",
            "_model_name": "ProgressStyleModel",
            "_view_count": null,
            "_view_module": "@jupyter-widgets/base",
            "_view_module_version": "1.2.0",
            "_view_name": "StyleView",
            "bar_color": null,
            "description_width": ""
          }
        },
        "41feb0eb503c4bbeacb094f7aa308c5d": {
          "model_module": "@jupyter-widgets/base",
          "model_name": "LayoutModel",
          "model_module_version": "1.2.0",
          "state": {
            "_model_module": "@jupyter-widgets/base",
            "_model_module_version": "1.2.0",
            "_model_name": "LayoutModel",
            "_view_count": null,
            "_view_module": "@jupyter-widgets/base",
            "_view_module_version": "1.2.0",
            "_view_name": "LayoutView",
            "align_content": null,
            "align_items": null,
            "align_self": null,
            "border": null,
            "bottom": null,
            "display": null,
            "flex": null,
            "flex_flow": null,
            "grid_area": null,
            "grid_auto_columns": null,
            "grid_auto_flow": null,
            "grid_auto_rows": null,
            "grid_column": null,
            "grid_gap": null,
            "grid_row": null,
            "grid_template_areas": null,
            "grid_template_columns": null,
            "grid_template_rows": null,
            "height": null,
            "justify_content": null,
            "justify_items": null,
            "left": null,
            "margin": null,
            "max_height": null,
            "max_width": null,
            "min_height": null,
            "min_width": null,
            "object_fit": null,
            "object_position": null,
            "order": null,
            "overflow": null,
            "overflow_x": null,
            "overflow_y": null,
            "padding": null,
            "right": null,
            "top": null,
            "visibility": null,
            "width": null
          }
        },
        "784ef6e3db8a4af58b403a43e5d351d9": {
          "model_module": "@jupyter-widgets/controls",
          "model_name": "DescriptionStyleModel",
          "model_module_version": "1.5.0",
          "state": {
            "_model_module": "@jupyter-widgets/controls",
            "_model_module_version": "1.5.0",
            "_model_name": "DescriptionStyleModel",
            "_view_count": null,
            "_view_module": "@jupyter-widgets/base",
            "_view_module_version": "1.2.0",
            "_view_name": "StyleView",
            "description_width": ""
          }
        },
        "bb17685f8a9a4993a2cbc297af111d8a": {
          "model_module": "@jupyter-widgets/controls",
          "model_name": "VBoxModel",
          "model_module_version": "1.5.0",
          "state": {
            "_dom_classes": [],
            "_model_module": "@jupyter-widgets/controls",
            "_model_module_version": "1.5.0",
            "_model_name": "VBoxModel",
            "_view_count": null,
            "_view_module": "@jupyter-widgets/controls",
            "_view_module_version": "1.5.0",
            "_view_name": "VBoxView",
            "box_style": "",
            "children": [
              "IPY_MODEL_0a0eb28336d14088afd99f325ca6f2d8",
              "IPY_MODEL_7d29c32d6f6849af81f53d891a2eefac"
            ],
            "layout": "IPY_MODEL_413f1a1ad6ac471dba4eb5c0ab11b70e"
          }
        },
        "0a0eb28336d14088afd99f325ca6f2d8": {
          "model_module": "@jupyter-widgets/controls",
          "model_name": "LabelModel",
          "model_module_version": "1.5.0",
          "state": {
            "_dom_classes": [],
            "_model_module": "@jupyter-widgets/controls",
            "_model_module_version": "1.5.0",
            "_model_name": "LabelModel",
            "_view_count": null,
            "_view_module": "@jupyter-widgets/controls",
            "_view_module_version": "1.5.0",
            "_view_name": "LabelView",
            "description": "",
            "description_tooltip": null,
            "layout": "IPY_MODEL_a0808732a12b4f00b5064a442a18eb7c",
            "placeholder": "​",
            "style": "IPY_MODEL_a6aa73e7fd75440caa1fc37a21553fa2",
            "value": "0.012 MB of 0.012 MB uploaded\r"
          }
        },
        "7d29c32d6f6849af81f53d891a2eefac": {
          "model_module": "@jupyter-widgets/controls",
          "model_name": "FloatProgressModel",
          "model_module_version": "1.5.0",
          "state": {
            "_dom_classes": [],
            "_model_module": "@jupyter-widgets/controls",
            "_model_module_version": "1.5.0",
            "_model_name": "FloatProgressModel",
            "_view_count": null,
            "_view_module": "@jupyter-widgets/controls",
            "_view_module_version": "1.5.0",
            "_view_name": "ProgressView",
            "bar_style": "",
            "description": "",
            "description_tooltip": null,
            "layout": "IPY_MODEL_669d9285d7354b51a94fbe2a8c46a432",
            "max": 1,
            "min": 0,
            "orientation": "horizontal",
            "style": "IPY_MODEL_dd665f1bc1264fc5ae42a04f18fe652e",
            "value": 1
          }
        },
        "413f1a1ad6ac471dba4eb5c0ab11b70e": {
          "model_module": "@jupyter-widgets/base",
          "model_name": "LayoutModel",
          "model_module_version": "1.2.0",
          "state": {
            "_model_module": "@jupyter-widgets/base",
            "_model_module_version": "1.2.0",
            "_model_name": "LayoutModel",
            "_view_count": null,
            "_view_module": "@jupyter-widgets/base",
            "_view_module_version": "1.2.0",
            "_view_name": "LayoutView",
            "align_content": null,
            "align_items": null,
            "align_self": null,
            "border": null,
            "bottom": null,
            "display": null,
            "flex": null,
            "flex_flow": null,
            "grid_area": null,
            "grid_auto_columns": null,
            "grid_auto_flow": null,
            "grid_auto_rows": null,
            "grid_column": null,
            "grid_gap": null,
            "grid_row": null,
            "grid_template_areas": null,
            "grid_template_columns": null,
            "grid_template_rows": null,
            "height": null,
            "justify_content": null,
            "justify_items": null,
            "left": null,
            "margin": null,
            "max_height": null,
            "max_width": null,
            "min_height": null,
            "min_width": null,
            "object_fit": null,
            "object_position": null,
            "order": null,
            "overflow": null,
            "overflow_x": null,
            "overflow_y": null,
            "padding": null,
            "right": null,
            "top": null,
            "visibility": null,
            "width": null
          }
        },
        "a0808732a12b4f00b5064a442a18eb7c": {
          "model_module": "@jupyter-widgets/base",
          "model_name": "LayoutModel",
          "model_module_version": "1.2.0",
          "state": {
            "_model_module": "@jupyter-widgets/base",
            "_model_module_version": "1.2.0",
            "_model_name": "LayoutModel",
            "_view_count": null,
            "_view_module": "@jupyter-widgets/base",
            "_view_module_version": "1.2.0",
            "_view_name": "LayoutView",
            "align_content": null,
            "align_items": null,
            "align_self": null,
            "border": null,
            "bottom": null,
            "display": null,
            "flex": null,
            "flex_flow": null,
            "grid_area": null,
            "grid_auto_columns": null,
            "grid_auto_flow": null,
            "grid_auto_rows": null,
            "grid_column": null,
            "grid_gap": null,
            "grid_row": null,
            "grid_template_areas": null,
            "grid_template_columns": null,
            "grid_template_rows": null,
            "height": null,
            "justify_content": null,
            "justify_items": null,
            "left": null,
            "margin": null,
            "max_height": null,
            "max_width": null,
            "min_height": null,
            "min_width": null,
            "object_fit": null,
            "object_position": null,
            "order": null,
            "overflow": null,
            "overflow_x": null,
            "overflow_y": null,
            "padding": null,
            "right": null,
            "top": null,
            "visibility": null,
            "width": null
          }
        },
        "a6aa73e7fd75440caa1fc37a21553fa2": {
          "model_module": "@jupyter-widgets/controls",
          "model_name": "DescriptionStyleModel",
          "model_module_version": "1.5.0",
          "state": {
            "_model_module": "@jupyter-widgets/controls",
            "_model_module_version": "1.5.0",
            "_model_name": "DescriptionStyleModel",
            "_view_count": null,
            "_view_module": "@jupyter-widgets/base",
            "_view_module_version": "1.2.0",
            "_view_name": "StyleView",
            "description_width": ""
          }
        },
        "669d9285d7354b51a94fbe2a8c46a432": {
          "model_module": "@jupyter-widgets/base",
          "model_name": "LayoutModel",
          "model_module_version": "1.2.0",
          "state": {
            "_model_module": "@jupyter-widgets/base",
            "_model_module_version": "1.2.0",
            "_model_name": "LayoutModel",
            "_view_count": null,
            "_view_module": "@jupyter-widgets/base",
            "_view_module_version": "1.2.0",
            "_view_name": "LayoutView",
            "align_content": null,
            "align_items": null,
            "align_self": null,
            "border": null,
            "bottom": null,
            "display": null,
            "flex": null,
            "flex_flow": null,
            "grid_area": null,
            "grid_auto_columns": null,
            "grid_auto_flow": null,
            "grid_auto_rows": null,
            "grid_column": null,
            "grid_gap": null,
            "grid_row": null,
            "grid_template_areas": null,
            "grid_template_columns": null,
            "grid_template_rows": null,
            "height": null,
            "justify_content": null,
            "justify_items": null,
            "left": null,
            "margin": null,
            "max_height": null,
            "max_width": null,
            "min_height": null,
            "min_width": null,
            "object_fit": null,
            "object_position": null,
            "order": null,
            "overflow": null,
            "overflow_x": null,
            "overflow_y": null,
            "padding": null,
            "right": null,
            "top": null,
            "visibility": null,
            "width": null
          }
        },
        "dd665f1bc1264fc5ae42a04f18fe652e": {
          "model_module": "@jupyter-widgets/controls",
          "model_name": "ProgressStyleModel",
          "model_module_version": "1.5.0",
          "state": {
            "_model_module": "@jupyter-widgets/controls",
            "_model_module_version": "1.5.0",
            "_model_name": "ProgressStyleModel",
            "_view_count": null,
            "_view_module": "@jupyter-widgets/base",
            "_view_module_version": "1.2.0",
            "_view_name": "StyleView",
            "bar_color": null,
            "description_width": ""
          }
        },
        "7ea91e87185f4bdd9d0fe59c1903d357": {
          "model_module": "@jupyter-widgets/controls",
          "model_name": "HBoxModel",
          "model_module_version": "1.5.0",
          "state": {
            "_dom_classes": [],
            "_model_module": "@jupyter-widgets/controls",
            "_model_module_version": "1.5.0",
            "_model_name": "HBoxModel",
            "_view_count": null,
            "_view_module": "@jupyter-widgets/controls",
            "_view_module_version": "1.5.0",
            "_view_name": "HBoxView",
            "box_style": "",
            "children": [
              "IPY_MODEL_a37d31961de64294a3a1d9cc25fa4c2b",
              "IPY_MODEL_26f6ac4cd4874ea691195be7ce74464e",
              "IPY_MODEL_3baf0fa3569b4fa2b11d419a340917d1"
            ],
            "layout": "IPY_MODEL_3bd313beb7d246058495ef47bf5069f7"
          }
        },
        "a37d31961de64294a3a1d9cc25fa4c2b": {
          "model_module": "@jupyter-widgets/controls",
          "model_name": "HTMLModel",
          "model_module_version": "1.5.0",
          "state": {
            "_dom_classes": [],
            "_model_module": "@jupyter-widgets/controls",
            "_model_module_version": "1.5.0",
            "_model_name": "HTMLModel",
            "_view_count": null,
            "_view_module": "@jupyter-widgets/controls",
            "_view_module_version": "1.5.0",
            "_view_name": "HTMLView",
            "description": "",
            "description_tooltip": null,
            "layout": "IPY_MODEL_f36b7f4ad04d4be88b2e11de2e906fbc",
            "placeholder": "​",
            "style": "IPY_MODEL_bc4bed7ea7094700b719c4cbc8260a26",
            "value": "Sanity Checking DataLoader 0: 100%"
          }
        },
        "26f6ac4cd4874ea691195be7ce74464e": {
          "model_module": "@jupyter-widgets/controls",
          "model_name": "FloatProgressModel",
          "model_module_version": "1.5.0",
          "state": {
            "_dom_classes": [],
            "_model_module": "@jupyter-widgets/controls",
            "_model_module_version": "1.5.0",
            "_model_name": "FloatProgressModel",
            "_view_count": null,
            "_view_module": "@jupyter-widgets/controls",
            "_view_module_version": "1.5.0",
            "_view_name": "ProgressView",
            "bar_style": "",
            "description": "",
            "description_tooltip": null,
            "layout": "IPY_MODEL_e2e5e3b306e446c2935beba1e51cc5a2",
            "max": 2,
            "min": 0,
            "orientation": "horizontal",
            "style": "IPY_MODEL_72ec44b469c9403d944bce4d6945f1d1",
            "value": 2
          }
        },
        "3baf0fa3569b4fa2b11d419a340917d1": {
          "model_module": "@jupyter-widgets/controls",
          "model_name": "HTMLModel",
          "model_module_version": "1.5.0",
          "state": {
            "_dom_classes": [],
            "_model_module": "@jupyter-widgets/controls",
            "_model_module_version": "1.5.0",
            "_model_name": "HTMLModel",
            "_view_count": null,
            "_view_module": "@jupyter-widgets/controls",
            "_view_module_version": "1.5.0",
            "_view_name": "HTMLView",
            "description": "",
            "description_tooltip": null,
            "layout": "IPY_MODEL_dccd6347da1446be99a7925fc1785123",
            "placeholder": "​",
            "style": "IPY_MODEL_0d07202daa034f6d97226dc1754254ec",
            "value": " 2/2 [00:00&lt;00:00, 25.94it/s]"
          }
        },
        "3bd313beb7d246058495ef47bf5069f7": {
          "model_module": "@jupyter-widgets/base",
          "model_name": "LayoutModel",
          "model_module_version": "1.2.0",
          "state": {
            "_model_module": "@jupyter-widgets/base",
            "_model_module_version": "1.2.0",
            "_model_name": "LayoutModel",
            "_view_count": null,
            "_view_module": "@jupyter-widgets/base",
            "_view_module_version": "1.2.0",
            "_view_name": "LayoutView",
            "align_content": null,
            "align_items": null,
            "align_self": null,
            "border": null,
            "bottom": null,
            "display": "inline-flex",
            "flex": null,
            "flex_flow": "row wrap",
            "grid_area": null,
            "grid_auto_columns": null,
            "grid_auto_flow": null,
            "grid_auto_rows": null,
            "grid_column": null,
            "grid_gap": null,
            "grid_row": null,
            "grid_template_areas": null,
            "grid_template_columns": null,
            "grid_template_rows": null,
            "height": null,
            "justify_content": null,
            "justify_items": null,
            "left": null,
            "margin": null,
            "max_height": null,
            "max_width": null,
            "min_height": null,
            "min_width": null,
            "object_fit": null,
            "object_position": null,
            "order": null,
            "overflow": null,
            "overflow_x": null,
            "overflow_y": null,
            "padding": null,
            "right": null,
            "top": null,
            "visibility": "hidden",
            "width": "100%"
          }
        },
        "f36b7f4ad04d4be88b2e11de2e906fbc": {
          "model_module": "@jupyter-widgets/base",
          "model_name": "LayoutModel",
          "model_module_version": "1.2.0",
          "state": {
            "_model_module": "@jupyter-widgets/base",
            "_model_module_version": "1.2.0",
            "_model_name": "LayoutModel",
            "_view_count": null,
            "_view_module": "@jupyter-widgets/base",
            "_view_module_version": "1.2.0",
            "_view_name": "LayoutView",
            "align_content": null,
            "align_items": null,
            "align_self": null,
            "border": null,
            "bottom": null,
            "display": null,
            "flex": null,
            "flex_flow": null,
            "grid_area": null,
            "grid_auto_columns": null,
            "grid_auto_flow": null,
            "grid_auto_rows": null,
            "grid_column": null,
            "grid_gap": null,
            "grid_row": null,
            "grid_template_areas": null,
            "grid_template_columns": null,
            "grid_template_rows": null,
            "height": null,
            "justify_content": null,
            "justify_items": null,
            "left": null,
            "margin": null,
            "max_height": null,
            "max_width": null,
            "min_height": null,
            "min_width": null,
            "object_fit": null,
            "object_position": null,
            "order": null,
            "overflow": null,
            "overflow_x": null,
            "overflow_y": null,
            "padding": null,
            "right": null,
            "top": null,
            "visibility": null,
            "width": null
          }
        },
        "bc4bed7ea7094700b719c4cbc8260a26": {
          "model_module": "@jupyter-widgets/controls",
          "model_name": "DescriptionStyleModel",
          "model_module_version": "1.5.0",
          "state": {
            "_model_module": "@jupyter-widgets/controls",
            "_model_module_version": "1.5.0",
            "_model_name": "DescriptionStyleModel",
            "_view_count": null,
            "_view_module": "@jupyter-widgets/base",
            "_view_module_version": "1.2.0",
            "_view_name": "StyleView",
            "description_width": ""
          }
        },
        "e2e5e3b306e446c2935beba1e51cc5a2": {
          "model_module": "@jupyter-widgets/base",
          "model_name": "LayoutModel",
          "model_module_version": "1.2.0",
          "state": {
            "_model_module": "@jupyter-widgets/base",
            "_model_module_version": "1.2.0",
            "_model_name": "LayoutModel",
            "_view_count": null,
            "_view_module": "@jupyter-widgets/base",
            "_view_module_version": "1.2.0",
            "_view_name": "LayoutView",
            "align_content": null,
            "align_items": null,
            "align_self": null,
            "border": null,
            "bottom": null,
            "display": null,
            "flex": "2",
            "flex_flow": null,
            "grid_area": null,
            "grid_auto_columns": null,
            "grid_auto_flow": null,
            "grid_auto_rows": null,
            "grid_column": null,
            "grid_gap": null,
            "grid_row": null,
            "grid_template_areas": null,
            "grid_template_columns": null,
            "grid_template_rows": null,
            "height": null,
            "justify_content": null,
            "justify_items": null,
            "left": null,
            "margin": null,
            "max_height": null,
            "max_width": null,
            "min_height": null,
            "min_width": null,
            "object_fit": null,
            "object_position": null,
            "order": null,
            "overflow": null,
            "overflow_x": null,
            "overflow_y": null,
            "padding": null,
            "right": null,
            "top": null,
            "visibility": null,
            "width": null
          }
        },
        "72ec44b469c9403d944bce4d6945f1d1": {
          "model_module": "@jupyter-widgets/controls",
          "model_name": "ProgressStyleModel",
          "model_module_version": "1.5.0",
          "state": {
            "_model_module": "@jupyter-widgets/controls",
            "_model_module_version": "1.5.0",
            "_model_name": "ProgressStyleModel",
            "_view_count": null,
            "_view_module": "@jupyter-widgets/base",
            "_view_module_version": "1.2.0",
            "_view_name": "StyleView",
            "bar_color": null,
            "description_width": ""
          }
        },
        "dccd6347da1446be99a7925fc1785123": {
          "model_module": "@jupyter-widgets/base",
          "model_name": "LayoutModel",
          "model_module_version": "1.2.0",
          "state": {
            "_model_module": "@jupyter-widgets/base",
            "_model_module_version": "1.2.0",
            "_model_name": "LayoutModel",
            "_view_count": null,
            "_view_module": "@jupyter-widgets/base",
            "_view_module_version": "1.2.0",
            "_view_name": "LayoutView",
            "align_content": null,
            "align_items": null,
            "align_self": null,
            "border": null,
            "bottom": null,
            "display": null,
            "flex": null,
            "flex_flow": null,
            "grid_area": null,
            "grid_auto_columns": null,
            "grid_auto_flow": null,
            "grid_auto_rows": null,
            "grid_column": null,
            "grid_gap": null,
            "grid_row": null,
            "grid_template_areas": null,
            "grid_template_columns": null,
            "grid_template_rows": null,
            "height": null,
            "justify_content": null,
            "justify_items": null,
            "left": null,
            "margin": null,
            "max_height": null,
            "max_width": null,
            "min_height": null,
            "min_width": null,
            "object_fit": null,
            "object_position": null,
            "order": null,
            "overflow": null,
            "overflow_x": null,
            "overflow_y": null,
            "padding": null,
            "right": null,
            "top": null,
            "visibility": null,
            "width": null
          }
        },
        "0d07202daa034f6d97226dc1754254ec": {
          "model_module": "@jupyter-widgets/controls",
          "model_name": "DescriptionStyleModel",
          "model_module_version": "1.5.0",
          "state": {
            "_model_module": "@jupyter-widgets/controls",
            "_model_module_version": "1.5.0",
            "_model_name": "DescriptionStyleModel",
            "_view_count": null,
            "_view_module": "@jupyter-widgets/base",
            "_view_module_version": "1.2.0",
            "_view_name": "StyleView",
            "description_width": ""
          }
        },
        "a21b56f522be4271bb816972d9c57c4d": {
          "model_module": "@jupyter-widgets/controls",
          "model_name": "VBoxModel",
          "model_module_version": "1.5.0",
          "state": {
            "_dom_classes": [],
            "_model_module": "@jupyter-widgets/controls",
            "_model_module_version": "1.5.0",
            "_model_name": "VBoxModel",
            "_view_count": null,
            "_view_module": "@jupyter-widgets/controls",
            "_view_module_version": "1.5.0",
            "_view_name": "VBoxView",
            "box_style": "",
            "children": [
              "IPY_MODEL_672d86841b4a4a19b52a9182e97390ac",
              "IPY_MODEL_71d8f9e397ed4d28a39622056d448b32"
            ],
            "layout": "IPY_MODEL_bee28a976f3e4400af7e71c80941af52"
          }
        },
        "672d86841b4a4a19b52a9182e97390ac": {
          "model_module": "@jupyter-widgets/controls",
          "model_name": "LabelModel",
          "model_module_version": "1.5.0",
          "state": {
            "_dom_classes": [],
            "_model_module": "@jupyter-widgets/controls",
            "_model_module_version": "1.5.0",
            "_model_name": "LabelModel",
            "_view_count": null,
            "_view_module": "@jupyter-widgets/controls",
            "_view_module_version": "1.5.0",
            "_view_name": "LabelView",
            "description": "",
            "description_tooltip": null,
            "layout": "IPY_MODEL_ac77232d09be4680b86471573a822707",
            "placeholder": "​",
            "style": "IPY_MODEL_d8b394326244404ea9118c479ed818e8",
            "value": "0.012 MB of 0.012 MB uploaded\r"
          }
        },
        "71d8f9e397ed4d28a39622056d448b32": {
          "model_module": "@jupyter-widgets/controls",
          "model_name": "FloatProgressModel",
          "model_module_version": "1.5.0",
          "state": {
            "_dom_classes": [],
            "_model_module": "@jupyter-widgets/controls",
            "_model_module_version": "1.5.0",
            "_model_name": "FloatProgressModel",
            "_view_count": null,
            "_view_module": "@jupyter-widgets/controls",
            "_view_module_version": "1.5.0",
            "_view_name": "ProgressView",
            "bar_style": "",
            "description": "",
            "description_tooltip": null,
            "layout": "IPY_MODEL_8fe2a5d3e9f84b7bae1c5924c6846006",
            "max": 1,
            "min": 0,
            "orientation": "horizontal",
            "style": "IPY_MODEL_87fd3645e0cb4d5db9a42901592fd8ce",
            "value": 1
          }
        },
        "bee28a976f3e4400af7e71c80941af52": {
          "model_module": "@jupyter-widgets/base",
          "model_name": "LayoutModel",
          "model_module_version": "1.2.0",
          "state": {
            "_model_module": "@jupyter-widgets/base",
            "_model_module_version": "1.2.0",
            "_model_name": "LayoutModel",
            "_view_count": null,
            "_view_module": "@jupyter-widgets/base",
            "_view_module_version": "1.2.0",
            "_view_name": "LayoutView",
            "align_content": null,
            "align_items": null,
            "align_self": null,
            "border": null,
            "bottom": null,
            "display": null,
            "flex": null,
            "flex_flow": null,
            "grid_area": null,
            "grid_auto_columns": null,
            "grid_auto_flow": null,
            "grid_auto_rows": null,
            "grid_column": null,
            "grid_gap": null,
            "grid_row": null,
            "grid_template_areas": null,
            "grid_template_columns": null,
            "grid_template_rows": null,
            "height": null,
            "justify_content": null,
            "justify_items": null,
            "left": null,
            "margin": null,
            "max_height": null,
            "max_width": null,
            "min_height": null,
            "min_width": null,
            "object_fit": null,
            "object_position": null,
            "order": null,
            "overflow": null,
            "overflow_x": null,
            "overflow_y": null,
            "padding": null,
            "right": null,
            "top": null,
            "visibility": null,
            "width": null
          }
        },
        "ac77232d09be4680b86471573a822707": {
          "model_module": "@jupyter-widgets/base",
          "model_name": "LayoutModel",
          "model_module_version": "1.2.0",
          "state": {
            "_model_module": "@jupyter-widgets/base",
            "_model_module_version": "1.2.0",
            "_model_name": "LayoutModel",
            "_view_count": null,
            "_view_module": "@jupyter-widgets/base",
            "_view_module_version": "1.2.0",
            "_view_name": "LayoutView",
            "align_content": null,
            "align_items": null,
            "align_self": null,
            "border": null,
            "bottom": null,
            "display": null,
            "flex": null,
            "flex_flow": null,
            "grid_area": null,
            "grid_auto_columns": null,
            "grid_auto_flow": null,
            "grid_auto_rows": null,
            "grid_column": null,
            "grid_gap": null,
            "grid_row": null,
            "grid_template_areas": null,
            "grid_template_columns": null,
            "grid_template_rows": null,
            "height": null,
            "justify_content": null,
            "justify_items": null,
            "left": null,
            "margin": null,
            "max_height": null,
            "max_width": null,
            "min_height": null,
            "min_width": null,
            "object_fit": null,
            "object_position": null,
            "order": null,
            "overflow": null,
            "overflow_x": null,
            "overflow_y": null,
            "padding": null,
            "right": null,
            "top": null,
            "visibility": null,
            "width": null
          }
        },
        "d8b394326244404ea9118c479ed818e8": {
          "model_module": "@jupyter-widgets/controls",
          "model_name": "DescriptionStyleModel",
          "model_module_version": "1.5.0",
          "state": {
            "_model_module": "@jupyter-widgets/controls",
            "_model_module_version": "1.5.0",
            "_model_name": "DescriptionStyleModel",
            "_view_count": null,
            "_view_module": "@jupyter-widgets/base",
            "_view_module_version": "1.2.0",
            "_view_name": "StyleView",
            "description_width": ""
          }
        },
        "8fe2a5d3e9f84b7bae1c5924c6846006": {
          "model_module": "@jupyter-widgets/base",
          "model_name": "LayoutModel",
          "model_module_version": "1.2.0",
          "state": {
            "_model_module": "@jupyter-widgets/base",
            "_model_module_version": "1.2.0",
            "_model_name": "LayoutModel",
            "_view_count": null,
            "_view_module": "@jupyter-widgets/base",
            "_view_module_version": "1.2.0",
            "_view_name": "LayoutView",
            "align_content": null,
            "align_items": null,
            "align_self": null,
            "border": null,
            "bottom": null,
            "display": null,
            "flex": null,
            "flex_flow": null,
            "grid_area": null,
            "grid_auto_columns": null,
            "grid_auto_flow": null,
            "grid_auto_rows": null,
            "grid_column": null,
            "grid_gap": null,
            "grid_row": null,
            "grid_template_areas": null,
            "grid_template_columns": null,
            "grid_template_rows": null,
            "height": null,
            "justify_content": null,
            "justify_items": null,
            "left": null,
            "margin": null,
            "max_height": null,
            "max_width": null,
            "min_height": null,
            "min_width": null,
            "object_fit": null,
            "object_position": null,
            "order": null,
            "overflow": null,
            "overflow_x": null,
            "overflow_y": null,
            "padding": null,
            "right": null,
            "top": null,
            "visibility": null,
            "width": null
          }
        },
        "87fd3645e0cb4d5db9a42901592fd8ce": {
          "model_module": "@jupyter-widgets/controls",
          "model_name": "ProgressStyleModel",
          "model_module_version": "1.5.0",
          "state": {
            "_model_module": "@jupyter-widgets/controls",
            "_model_module_version": "1.5.0",
            "_model_name": "ProgressStyleModel",
            "_view_count": null,
            "_view_module": "@jupyter-widgets/base",
            "_view_module_version": "1.2.0",
            "_view_name": "StyleView",
            "bar_color": null,
            "description_width": ""
          }
        },
        "a78817c116d24c5ea27bfc34ebadd7a9": {
          "model_module": "@jupyter-widgets/controls",
          "model_name": "HBoxModel",
          "model_module_version": "1.5.0",
          "state": {
            "_dom_classes": [],
            "_model_module": "@jupyter-widgets/controls",
            "_model_module_version": "1.5.0",
            "_model_name": "HBoxModel",
            "_view_count": null,
            "_view_module": "@jupyter-widgets/controls",
            "_view_module_version": "1.5.0",
            "_view_name": "HBoxView",
            "box_style": "",
            "children": [
              "IPY_MODEL_fa779df905f54cb79ccffe02302db22e",
              "IPY_MODEL_584aa806809b4e77917773806d3d70e8",
              "IPY_MODEL_5a4ad75a0b154dd496359166fd65438c"
            ],
            "layout": "IPY_MODEL_7b0fb539210b45ef807dd24f0e413676"
          }
        },
        "fa779df905f54cb79ccffe02302db22e": {
          "model_module": "@jupyter-widgets/controls",
          "model_name": "HTMLModel",
          "model_module_version": "1.5.0",
          "state": {
            "_dom_classes": [],
            "_model_module": "@jupyter-widgets/controls",
            "_model_module_version": "1.5.0",
            "_model_name": "HTMLModel",
            "_view_count": null,
            "_view_module": "@jupyter-widgets/controls",
            "_view_module_version": "1.5.0",
            "_view_name": "HTMLView",
            "description": "",
            "description_tooltip": null,
            "layout": "IPY_MODEL_85f08537b5f144c3b8cbedf4e5ddcfd6",
            "placeholder": "​",
            "style": "IPY_MODEL_5163e13034944845a4268fa43bb57e94",
            "value": "Sanity Checking DataLoader 0: 100%"
          }
        },
        "584aa806809b4e77917773806d3d70e8": {
          "model_module": "@jupyter-widgets/controls",
          "model_name": "FloatProgressModel",
          "model_module_version": "1.5.0",
          "state": {
            "_dom_classes": [],
            "_model_module": "@jupyter-widgets/controls",
            "_model_module_version": "1.5.0",
            "_model_name": "FloatProgressModel",
            "_view_count": null,
            "_view_module": "@jupyter-widgets/controls",
            "_view_module_version": "1.5.0",
            "_view_name": "ProgressView",
            "bar_style": "",
            "description": "",
            "description_tooltip": null,
            "layout": "IPY_MODEL_fddf1647d1b54d3d9b7b64bb8e8a814f",
            "max": 2,
            "min": 0,
            "orientation": "horizontal",
            "style": "IPY_MODEL_c96ee24889a342c3ab9088e1469dd308",
            "value": 2
          }
        },
        "5a4ad75a0b154dd496359166fd65438c": {
          "model_module": "@jupyter-widgets/controls",
          "model_name": "HTMLModel",
          "model_module_version": "1.5.0",
          "state": {
            "_dom_classes": [],
            "_model_module": "@jupyter-widgets/controls",
            "_model_module_version": "1.5.0",
            "_model_name": "HTMLModel",
            "_view_count": null,
            "_view_module": "@jupyter-widgets/controls",
            "_view_module_version": "1.5.0",
            "_view_name": "HTMLView",
            "description": "",
            "description_tooltip": null,
            "layout": "IPY_MODEL_aa59b8c11c4d443f9cea8fe20bbca783",
            "placeholder": "​",
            "style": "IPY_MODEL_702f457520cd47b29095f549605b17d9",
            "value": " 2/2 [00:00&lt;00:00, 60.16it/s]"
          }
        },
        "7b0fb539210b45ef807dd24f0e413676": {
          "model_module": "@jupyter-widgets/base",
          "model_name": "LayoutModel",
          "model_module_version": "1.2.0",
          "state": {
            "_model_module": "@jupyter-widgets/base",
            "_model_module_version": "1.2.0",
            "_model_name": "LayoutModel",
            "_view_count": null,
            "_view_module": "@jupyter-widgets/base",
            "_view_module_version": "1.2.0",
            "_view_name": "LayoutView",
            "align_content": null,
            "align_items": null,
            "align_self": null,
            "border": null,
            "bottom": null,
            "display": "inline-flex",
            "flex": null,
            "flex_flow": "row wrap",
            "grid_area": null,
            "grid_auto_columns": null,
            "grid_auto_flow": null,
            "grid_auto_rows": null,
            "grid_column": null,
            "grid_gap": null,
            "grid_row": null,
            "grid_template_areas": null,
            "grid_template_columns": null,
            "grid_template_rows": null,
            "height": null,
            "justify_content": null,
            "justify_items": null,
            "left": null,
            "margin": null,
            "max_height": null,
            "max_width": null,
            "min_height": null,
            "min_width": null,
            "object_fit": null,
            "object_position": null,
            "order": null,
            "overflow": null,
            "overflow_x": null,
            "overflow_y": null,
            "padding": null,
            "right": null,
            "top": null,
            "visibility": "hidden",
            "width": "100%"
          }
        },
        "85f08537b5f144c3b8cbedf4e5ddcfd6": {
          "model_module": "@jupyter-widgets/base",
          "model_name": "LayoutModel",
          "model_module_version": "1.2.0",
          "state": {
            "_model_module": "@jupyter-widgets/base",
            "_model_module_version": "1.2.0",
            "_model_name": "LayoutModel",
            "_view_count": null,
            "_view_module": "@jupyter-widgets/base",
            "_view_module_version": "1.2.0",
            "_view_name": "LayoutView",
            "align_content": null,
            "align_items": null,
            "align_self": null,
            "border": null,
            "bottom": null,
            "display": null,
            "flex": null,
            "flex_flow": null,
            "grid_area": null,
            "grid_auto_columns": null,
            "grid_auto_flow": null,
            "grid_auto_rows": null,
            "grid_column": null,
            "grid_gap": null,
            "grid_row": null,
            "grid_template_areas": null,
            "grid_template_columns": null,
            "grid_template_rows": null,
            "height": null,
            "justify_content": null,
            "justify_items": null,
            "left": null,
            "margin": null,
            "max_height": null,
            "max_width": null,
            "min_height": null,
            "min_width": null,
            "object_fit": null,
            "object_position": null,
            "order": null,
            "overflow": null,
            "overflow_x": null,
            "overflow_y": null,
            "padding": null,
            "right": null,
            "top": null,
            "visibility": null,
            "width": null
          }
        },
        "5163e13034944845a4268fa43bb57e94": {
          "model_module": "@jupyter-widgets/controls",
          "model_name": "DescriptionStyleModel",
          "model_module_version": "1.5.0",
          "state": {
            "_model_module": "@jupyter-widgets/controls",
            "_model_module_version": "1.5.0",
            "_model_name": "DescriptionStyleModel",
            "_view_count": null,
            "_view_module": "@jupyter-widgets/base",
            "_view_module_version": "1.2.0",
            "_view_name": "StyleView",
            "description_width": ""
          }
        },
        "fddf1647d1b54d3d9b7b64bb8e8a814f": {
          "model_module": "@jupyter-widgets/base",
          "model_name": "LayoutModel",
          "model_module_version": "1.2.0",
          "state": {
            "_model_module": "@jupyter-widgets/base",
            "_model_module_version": "1.2.0",
            "_model_name": "LayoutModel",
            "_view_count": null,
            "_view_module": "@jupyter-widgets/base",
            "_view_module_version": "1.2.0",
            "_view_name": "LayoutView",
            "align_content": null,
            "align_items": null,
            "align_self": null,
            "border": null,
            "bottom": null,
            "display": null,
            "flex": "2",
            "flex_flow": null,
            "grid_area": null,
            "grid_auto_columns": null,
            "grid_auto_flow": null,
            "grid_auto_rows": null,
            "grid_column": null,
            "grid_gap": null,
            "grid_row": null,
            "grid_template_areas": null,
            "grid_template_columns": null,
            "grid_template_rows": null,
            "height": null,
            "justify_content": null,
            "justify_items": null,
            "left": null,
            "margin": null,
            "max_height": null,
            "max_width": null,
            "min_height": null,
            "min_width": null,
            "object_fit": null,
            "object_position": null,
            "order": null,
            "overflow": null,
            "overflow_x": null,
            "overflow_y": null,
            "padding": null,
            "right": null,
            "top": null,
            "visibility": null,
            "width": null
          }
        },
        "c96ee24889a342c3ab9088e1469dd308": {
          "model_module": "@jupyter-widgets/controls",
          "model_name": "ProgressStyleModel",
          "model_module_version": "1.5.0",
          "state": {
            "_model_module": "@jupyter-widgets/controls",
            "_model_module_version": "1.5.0",
            "_model_name": "ProgressStyleModel",
            "_view_count": null,
            "_view_module": "@jupyter-widgets/base",
            "_view_module_version": "1.2.0",
            "_view_name": "StyleView",
            "bar_color": null,
            "description_width": ""
          }
        },
        "aa59b8c11c4d443f9cea8fe20bbca783": {
          "model_module": "@jupyter-widgets/base",
          "model_name": "LayoutModel",
          "model_module_version": "1.2.0",
          "state": {
            "_model_module": "@jupyter-widgets/base",
            "_model_module_version": "1.2.0",
            "_model_name": "LayoutModel",
            "_view_count": null,
            "_view_module": "@jupyter-widgets/base",
            "_view_module_version": "1.2.0",
            "_view_name": "LayoutView",
            "align_content": null,
            "align_items": null,
            "align_self": null,
            "border": null,
            "bottom": null,
            "display": null,
            "flex": null,
            "flex_flow": null,
            "grid_area": null,
            "grid_auto_columns": null,
            "grid_auto_flow": null,
            "grid_auto_rows": null,
            "grid_column": null,
            "grid_gap": null,
            "grid_row": null,
            "grid_template_areas": null,
            "grid_template_columns": null,
            "grid_template_rows": null,
            "height": null,
            "justify_content": null,
            "justify_items": null,
            "left": null,
            "margin": null,
            "max_height": null,
            "max_width": null,
            "min_height": null,
            "min_width": null,
            "object_fit": null,
            "object_position": null,
            "order": null,
            "overflow": null,
            "overflow_x": null,
            "overflow_y": null,
            "padding": null,
            "right": null,
            "top": null,
            "visibility": null,
            "width": null
          }
        },
        "702f457520cd47b29095f549605b17d9": {
          "model_module": "@jupyter-widgets/controls",
          "model_name": "DescriptionStyleModel",
          "model_module_version": "1.5.0",
          "state": {
            "_model_module": "@jupyter-widgets/controls",
            "_model_module_version": "1.5.0",
            "_model_name": "DescriptionStyleModel",
            "_view_count": null,
            "_view_module": "@jupyter-widgets/base",
            "_view_module_version": "1.2.0",
            "_view_name": "StyleView",
            "description_width": ""
          }
        },
        "0cb8d3244192485ea265464f5091aacf": {
          "model_module": "@jupyter-widgets/controls",
          "model_name": "VBoxModel",
          "model_module_version": "1.5.0",
          "state": {
            "_dom_classes": [],
            "_model_module": "@jupyter-widgets/controls",
            "_model_module_version": "1.5.0",
            "_model_name": "VBoxModel",
            "_view_count": null,
            "_view_module": "@jupyter-widgets/controls",
            "_view_module_version": "1.5.0",
            "_view_name": "VBoxView",
            "box_style": "",
            "children": [
              "IPY_MODEL_e15dd6e4070149638f9d7d456f15134b",
              "IPY_MODEL_4379bea5c5b640be87b26b48aed4865e"
            ],
            "layout": "IPY_MODEL_a3c49c69acc64c9097ffa9add284ff93"
          }
        },
        "e15dd6e4070149638f9d7d456f15134b": {
          "model_module": "@jupyter-widgets/controls",
          "model_name": "LabelModel",
          "model_module_version": "1.5.0",
          "state": {
            "_dom_classes": [],
            "_model_module": "@jupyter-widgets/controls",
            "_model_module_version": "1.5.0",
            "_model_name": "LabelModel",
            "_view_count": null,
            "_view_module": "@jupyter-widgets/controls",
            "_view_module_version": "1.5.0",
            "_view_name": "LabelView",
            "description": "",
            "description_tooltip": null,
            "layout": "IPY_MODEL_1c2f53aa958a456db27c1d067e0ffa03",
            "placeholder": "​",
            "style": "IPY_MODEL_ac7c29b636dc46f58767de2d4a22a094",
            "value": "0.012 MB of 0.012 MB uploaded\r"
          }
        },
        "4379bea5c5b640be87b26b48aed4865e": {
          "model_module": "@jupyter-widgets/controls",
          "model_name": "FloatProgressModel",
          "model_module_version": "1.5.0",
          "state": {
            "_dom_classes": [],
            "_model_module": "@jupyter-widgets/controls",
            "_model_module_version": "1.5.0",
            "_model_name": "FloatProgressModel",
            "_view_count": null,
            "_view_module": "@jupyter-widgets/controls",
            "_view_module_version": "1.5.0",
            "_view_name": "ProgressView",
            "bar_style": "",
            "description": "",
            "description_tooltip": null,
            "layout": "IPY_MODEL_9aa430109a5f4984842a7dee75b562f1",
            "max": 1,
            "min": 0,
            "orientation": "horizontal",
            "style": "IPY_MODEL_87589f35b0a841c38885308ccc6de272",
            "value": 1
          }
        },
        "a3c49c69acc64c9097ffa9add284ff93": {
          "model_module": "@jupyter-widgets/base",
          "model_name": "LayoutModel",
          "model_module_version": "1.2.0",
          "state": {
            "_model_module": "@jupyter-widgets/base",
            "_model_module_version": "1.2.0",
            "_model_name": "LayoutModel",
            "_view_count": null,
            "_view_module": "@jupyter-widgets/base",
            "_view_module_version": "1.2.0",
            "_view_name": "LayoutView",
            "align_content": null,
            "align_items": null,
            "align_self": null,
            "border": null,
            "bottom": null,
            "display": null,
            "flex": null,
            "flex_flow": null,
            "grid_area": null,
            "grid_auto_columns": null,
            "grid_auto_flow": null,
            "grid_auto_rows": null,
            "grid_column": null,
            "grid_gap": null,
            "grid_row": null,
            "grid_template_areas": null,
            "grid_template_columns": null,
            "grid_template_rows": null,
            "height": null,
            "justify_content": null,
            "justify_items": null,
            "left": null,
            "margin": null,
            "max_height": null,
            "max_width": null,
            "min_height": null,
            "min_width": null,
            "object_fit": null,
            "object_position": null,
            "order": null,
            "overflow": null,
            "overflow_x": null,
            "overflow_y": null,
            "padding": null,
            "right": null,
            "top": null,
            "visibility": null,
            "width": null
          }
        },
        "1c2f53aa958a456db27c1d067e0ffa03": {
          "model_module": "@jupyter-widgets/base",
          "model_name": "LayoutModel",
          "model_module_version": "1.2.0",
          "state": {
            "_model_module": "@jupyter-widgets/base",
            "_model_module_version": "1.2.0",
            "_model_name": "LayoutModel",
            "_view_count": null,
            "_view_module": "@jupyter-widgets/base",
            "_view_module_version": "1.2.0",
            "_view_name": "LayoutView",
            "align_content": null,
            "align_items": null,
            "align_self": null,
            "border": null,
            "bottom": null,
            "display": null,
            "flex": null,
            "flex_flow": null,
            "grid_area": null,
            "grid_auto_columns": null,
            "grid_auto_flow": null,
            "grid_auto_rows": null,
            "grid_column": null,
            "grid_gap": null,
            "grid_row": null,
            "grid_template_areas": null,
            "grid_template_columns": null,
            "grid_template_rows": null,
            "height": null,
            "justify_content": null,
            "justify_items": null,
            "left": null,
            "margin": null,
            "max_height": null,
            "max_width": null,
            "min_height": null,
            "min_width": null,
            "object_fit": null,
            "object_position": null,
            "order": null,
            "overflow": null,
            "overflow_x": null,
            "overflow_y": null,
            "padding": null,
            "right": null,
            "top": null,
            "visibility": null,
            "width": null
          }
        },
        "ac7c29b636dc46f58767de2d4a22a094": {
          "model_module": "@jupyter-widgets/controls",
          "model_name": "DescriptionStyleModel",
          "model_module_version": "1.5.0",
          "state": {
            "_model_module": "@jupyter-widgets/controls",
            "_model_module_version": "1.5.0",
            "_model_name": "DescriptionStyleModel",
            "_view_count": null,
            "_view_module": "@jupyter-widgets/base",
            "_view_module_version": "1.2.0",
            "_view_name": "StyleView",
            "description_width": ""
          }
        },
        "9aa430109a5f4984842a7dee75b562f1": {
          "model_module": "@jupyter-widgets/base",
          "model_name": "LayoutModel",
          "model_module_version": "1.2.0",
          "state": {
            "_model_module": "@jupyter-widgets/base",
            "_model_module_version": "1.2.0",
            "_model_name": "LayoutModel",
            "_view_count": null,
            "_view_module": "@jupyter-widgets/base",
            "_view_module_version": "1.2.0",
            "_view_name": "LayoutView",
            "align_content": null,
            "align_items": null,
            "align_self": null,
            "border": null,
            "bottom": null,
            "display": null,
            "flex": null,
            "flex_flow": null,
            "grid_area": null,
            "grid_auto_columns": null,
            "grid_auto_flow": null,
            "grid_auto_rows": null,
            "grid_column": null,
            "grid_gap": null,
            "grid_row": null,
            "grid_template_areas": null,
            "grid_template_columns": null,
            "grid_template_rows": null,
            "height": null,
            "justify_content": null,
            "justify_items": null,
            "left": null,
            "margin": null,
            "max_height": null,
            "max_width": null,
            "min_height": null,
            "min_width": null,
            "object_fit": null,
            "object_position": null,
            "order": null,
            "overflow": null,
            "overflow_x": null,
            "overflow_y": null,
            "padding": null,
            "right": null,
            "top": null,
            "visibility": null,
            "width": null
          }
        },
        "87589f35b0a841c38885308ccc6de272": {
          "model_module": "@jupyter-widgets/controls",
          "model_name": "ProgressStyleModel",
          "model_module_version": "1.5.0",
          "state": {
            "_model_module": "@jupyter-widgets/controls",
            "_model_module_version": "1.5.0",
            "_model_name": "ProgressStyleModel",
            "_view_count": null,
            "_view_module": "@jupyter-widgets/base",
            "_view_module_version": "1.2.0",
            "_view_name": "StyleView",
            "bar_color": null,
            "description_width": ""
          }
        },
        "4d3148e303e84ee0abf36a531aaad65d": {
          "model_module": "@jupyter-widgets/controls",
          "model_name": "HBoxModel",
          "model_module_version": "1.5.0",
          "state": {
            "_dom_classes": [],
            "_model_module": "@jupyter-widgets/controls",
            "_model_module_version": "1.5.0",
            "_model_name": "HBoxModel",
            "_view_count": null,
            "_view_module": "@jupyter-widgets/controls",
            "_view_module_version": "1.5.0",
            "_view_name": "HBoxView",
            "box_style": "",
            "children": [
              "IPY_MODEL_333a4e4e160147b1a4683a67fcd187bb",
              "IPY_MODEL_e7be0eb758494b0d8f0674961d77775d",
              "IPY_MODEL_d6a9a7c497434e5197ca78fd002f2acd"
            ],
            "layout": "IPY_MODEL_525c2c92f70f42e6a11b98eb3522ab0c"
          }
        },
        "333a4e4e160147b1a4683a67fcd187bb": {
          "model_module": "@jupyter-widgets/controls",
          "model_name": "HTMLModel",
          "model_module_version": "1.5.0",
          "state": {
            "_dom_classes": [],
            "_model_module": "@jupyter-widgets/controls",
            "_model_module_version": "1.5.0",
            "_model_name": "HTMLModel",
            "_view_count": null,
            "_view_module": "@jupyter-widgets/controls",
            "_view_module_version": "1.5.0",
            "_view_name": "HTMLView",
            "description": "",
            "description_tooltip": null,
            "layout": "IPY_MODEL_317d2339eadc46059bc58b2bdfd2308f",
            "placeholder": "​",
            "style": "IPY_MODEL_6313b09cbc554ccf9d8fe0e6102ecfb2",
            "value": "Sanity Checking DataLoader 0: 100%"
          }
        },
        "e7be0eb758494b0d8f0674961d77775d": {
          "model_module": "@jupyter-widgets/controls",
          "model_name": "FloatProgressModel",
          "model_module_version": "1.5.0",
          "state": {
            "_dom_classes": [],
            "_model_module": "@jupyter-widgets/controls",
            "_model_module_version": "1.5.0",
            "_model_name": "FloatProgressModel",
            "_view_count": null,
            "_view_module": "@jupyter-widgets/controls",
            "_view_module_version": "1.5.0",
            "_view_name": "ProgressView",
            "bar_style": "",
            "description": "",
            "description_tooltip": null,
            "layout": "IPY_MODEL_277b60e9508f4a17a93a95cda274a407",
            "max": 2,
            "min": 0,
            "orientation": "horizontal",
            "style": "IPY_MODEL_b6ff5a7413344f1abef3cc6ded228026",
            "value": 2
          }
        },
        "d6a9a7c497434e5197ca78fd002f2acd": {
          "model_module": "@jupyter-widgets/controls",
          "model_name": "HTMLModel",
          "model_module_version": "1.5.0",
          "state": {
            "_dom_classes": [],
            "_model_module": "@jupyter-widgets/controls",
            "_model_module_version": "1.5.0",
            "_model_name": "HTMLModel",
            "_view_count": null,
            "_view_module": "@jupyter-widgets/controls",
            "_view_module_version": "1.5.0",
            "_view_name": "HTMLView",
            "description": "",
            "description_tooltip": null,
            "layout": "IPY_MODEL_95bb4e39769f4ddaa383af27ea460e41",
            "placeholder": "​",
            "style": "IPY_MODEL_5605602febd94012a8f69b6cc7c306c6",
            "value": " 2/2 [00:00&lt;00:00, 21.93it/s]"
          }
        },
        "525c2c92f70f42e6a11b98eb3522ab0c": {
          "model_module": "@jupyter-widgets/base",
          "model_name": "LayoutModel",
          "model_module_version": "1.2.0",
          "state": {
            "_model_module": "@jupyter-widgets/base",
            "_model_module_version": "1.2.0",
            "_model_name": "LayoutModel",
            "_view_count": null,
            "_view_module": "@jupyter-widgets/base",
            "_view_module_version": "1.2.0",
            "_view_name": "LayoutView",
            "align_content": null,
            "align_items": null,
            "align_self": null,
            "border": null,
            "bottom": null,
            "display": "inline-flex",
            "flex": null,
            "flex_flow": "row wrap",
            "grid_area": null,
            "grid_auto_columns": null,
            "grid_auto_flow": null,
            "grid_auto_rows": null,
            "grid_column": null,
            "grid_gap": null,
            "grid_row": null,
            "grid_template_areas": null,
            "grid_template_columns": null,
            "grid_template_rows": null,
            "height": null,
            "justify_content": null,
            "justify_items": null,
            "left": null,
            "margin": null,
            "max_height": null,
            "max_width": null,
            "min_height": null,
            "min_width": null,
            "object_fit": null,
            "object_position": null,
            "order": null,
            "overflow": null,
            "overflow_x": null,
            "overflow_y": null,
            "padding": null,
            "right": null,
            "top": null,
            "visibility": "hidden",
            "width": "100%"
          }
        },
        "317d2339eadc46059bc58b2bdfd2308f": {
          "model_module": "@jupyter-widgets/base",
          "model_name": "LayoutModel",
          "model_module_version": "1.2.0",
          "state": {
            "_model_module": "@jupyter-widgets/base",
            "_model_module_version": "1.2.0",
            "_model_name": "LayoutModel",
            "_view_count": null,
            "_view_module": "@jupyter-widgets/base",
            "_view_module_version": "1.2.0",
            "_view_name": "LayoutView",
            "align_content": null,
            "align_items": null,
            "align_self": null,
            "border": null,
            "bottom": null,
            "display": null,
            "flex": null,
            "flex_flow": null,
            "grid_area": null,
            "grid_auto_columns": null,
            "grid_auto_flow": null,
            "grid_auto_rows": null,
            "grid_column": null,
            "grid_gap": null,
            "grid_row": null,
            "grid_template_areas": null,
            "grid_template_columns": null,
            "grid_template_rows": null,
            "height": null,
            "justify_content": null,
            "justify_items": null,
            "left": null,
            "margin": null,
            "max_height": null,
            "max_width": null,
            "min_height": null,
            "min_width": null,
            "object_fit": null,
            "object_position": null,
            "order": null,
            "overflow": null,
            "overflow_x": null,
            "overflow_y": null,
            "padding": null,
            "right": null,
            "top": null,
            "visibility": null,
            "width": null
          }
        },
        "6313b09cbc554ccf9d8fe0e6102ecfb2": {
          "model_module": "@jupyter-widgets/controls",
          "model_name": "DescriptionStyleModel",
          "model_module_version": "1.5.0",
          "state": {
            "_model_module": "@jupyter-widgets/controls",
            "_model_module_version": "1.5.0",
            "_model_name": "DescriptionStyleModel",
            "_view_count": null,
            "_view_module": "@jupyter-widgets/base",
            "_view_module_version": "1.2.0",
            "_view_name": "StyleView",
            "description_width": ""
          }
        },
        "277b60e9508f4a17a93a95cda274a407": {
          "model_module": "@jupyter-widgets/base",
          "model_name": "LayoutModel",
          "model_module_version": "1.2.0",
          "state": {
            "_model_module": "@jupyter-widgets/base",
            "_model_module_version": "1.2.0",
            "_model_name": "LayoutModel",
            "_view_count": null,
            "_view_module": "@jupyter-widgets/base",
            "_view_module_version": "1.2.0",
            "_view_name": "LayoutView",
            "align_content": null,
            "align_items": null,
            "align_self": null,
            "border": null,
            "bottom": null,
            "display": null,
            "flex": "2",
            "flex_flow": null,
            "grid_area": null,
            "grid_auto_columns": null,
            "grid_auto_flow": null,
            "grid_auto_rows": null,
            "grid_column": null,
            "grid_gap": null,
            "grid_row": null,
            "grid_template_areas": null,
            "grid_template_columns": null,
            "grid_template_rows": null,
            "height": null,
            "justify_content": null,
            "justify_items": null,
            "left": null,
            "margin": null,
            "max_height": null,
            "max_width": null,
            "min_height": null,
            "min_width": null,
            "object_fit": null,
            "object_position": null,
            "order": null,
            "overflow": null,
            "overflow_x": null,
            "overflow_y": null,
            "padding": null,
            "right": null,
            "top": null,
            "visibility": null,
            "width": null
          }
        },
        "b6ff5a7413344f1abef3cc6ded228026": {
          "model_module": "@jupyter-widgets/controls",
          "model_name": "ProgressStyleModel",
          "model_module_version": "1.5.0",
          "state": {
            "_model_module": "@jupyter-widgets/controls",
            "_model_module_version": "1.5.0",
            "_model_name": "ProgressStyleModel",
            "_view_count": null,
            "_view_module": "@jupyter-widgets/base",
            "_view_module_version": "1.2.0",
            "_view_name": "StyleView",
            "bar_color": null,
            "description_width": ""
          }
        },
        "95bb4e39769f4ddaa383af27ea460e41": {
          "model_module": "@jupyter-widgets/base",
          "model_name": "LayoutModel",
          "model_module_version": "1.2.0",
          "state": {
            "_model_module": "@jupyter-widgets/base",
            "_model_module_version": "1.2.0",
            "_model_name": "LayoutModel",
            "_view_count": null,
            "_view_module": "@jupyter-widgets/base",
            "_view_module_version": "1.2.0",
            "_view_name": "LayoutView",
            "align_content": null,
            "align_items": null,
            "align_self": null,
            "border": null,
            "bottom": null,
            "display": null,
            "flex": null,
            "flex_flow": null,
            "grid_area": null,
            "grid_auto_columns": null,
            "grid_auto_flow": null,
            "grid_auto_rows": null,
            "grid_column": null,
            "grid_gap": null,
            "grid_row": null,
            "grid_template_areas": null,
            "grid_template_columns": null,
            "grid_template_rows": null,
            "height": null,
            "justify_content": null,
            "justify_items": null,
            "left": null,
            "margin": null,
            "max_height": null,
            "max_width": null,
            "min_height": null,
            "min_width": null,
            "object_fit": null,
            "object_position": null,
            "order": null,
            "overflow": null,
            "overflow_x": null,
            "overflow_y": null,
            "padding": null,
            "right": null,
            "top": null,
            "visibility": null,
            "width": null
          }
        },
        "5605602febd94012a8f69b6cc7c306c6": {
          "model_module": "@jupyter-widgets/controls",
          "model_name": "DescriptionStyleModel",
          "model_module_version": "1.5.0",
          "state": {
            "_model_module": "@jupyter-widgets/controls",
            "_model_module_version": "1.5.0",
            "_model_name": "DescriptionStyleModel",
            "_view_count": null,
            "_view_module": "@jupyter-widgets/base",
            "_view_module_version": "1.2.0",
            "_view_name": "StyleView",
            "description_width": ""
          }
        },
        "475c0535cbe34bbbb4d29523e8bb7519": {
          "model_module": "@jupyter-widgets/controls",
          "model_name": "VBoxModel",
          "model_module_version": "1.5.0",
          "state": {
            "_dom_classes": [],
            "_model_module": "@jupyter-widgets/controls",
            "_model_module_version": "1.5.0",
            "_model_name": "VBoxModel",
            "_view_count": null,
            "_view_module": "@jupyter-widgets/controls",
            "_view_module_version": "1.5.0",
            "_view_name": "VBoxView",
            "box_style": "",
            "children": [
              "IPY_MODEL_389104a479f54b75ab174a6fb09cd562",
              "IPY_MODEL_5217ccfd88fc4330ada79118468d6341"
            ],
            "layout": "IPY_MODEL_24b4b3fff05643f0a37b394eb3ba9716"
          }
        },
        "389104a479f54b75ab174a6fb09cd562": {
          "model_module": "@jupyter-widgets/controls",
          "model_name": "LabelModel",
          "model_module_version": "1.5.0",
          "state": {
            "_dom_classes": [],
            "_model_module": "@jupyter-widgets/controls",
            "_model_module_version": "1.5.0",
            "_model_name": "LabelModel",
            "_view_count": null,
            "_view_module": "@jupyter-widgets/controls",
            "_view_module_version": "1.5.0",
            "_view_name": "LabelView",
            "description": "",
            "description_tooltip": null,
            "layout": "IPY_MODEL_44e9db102a484f478fe2ea48373d3e24",
            "placeholder": "​",
            "style": "IPY_MODEL_43a18b38a72e4fc4b8e210879a549a5f",
            "value": "0.012 MB of 0.012 MB uploaded\r"
          }
        },
        "5217ccfd88fc4330ada79118468d6341": {
          "model_module": "@jupyter-widgets/controls",
          "model_name": "FloatProgressModel",
          "model_module_version": "1.5.0",
          "state": {
            "_dom_classes": [],
            "_model_module": "@jupyter-widgets/controls",
            "_model_module_version": "1.5.0",
            "_model_name": "FloatProgressModel",
            "_view_count": null,
            "_view_module": "@jupyter-widgets/controls",
            "_view_module_version": "1.5.0",
            "_view_name": "ProgressView",
            "bar_style": "",
            "description": "",
            "description_tooltip": null,
            "layout": "IPY_MODEL_c66ae2dd5fbd4d88b6efce7f723ad5e0",
            "max": 1,
            "min": 0,
            "orientation": "horizontal",
            "style": "IPY_MODEL_65ee50e16fbe4089a815eebd623816e0",
            "value": 1
          }
        },
        "24b4b3fff05643f0a37b394eb3ba9716": {
          "model_module": "@jupyter-widgets/base",
          "model_name": "LayoutModel",
          "model_module_version": "1.2.0",
          "state": {
            "_model_module": "@jupyter-widgets/base",
            "_model_module_version": "1.2.0",
            "_model_name": "LayoutModel",
            "_view_count": null,
            "_view_module": "@jupyter-widgets/base",
            "_view_module_version": "1.2.0",
            "_view_name": "LayoutView",
            "align_content": null,
            "align_items": null,
            "align_self": null,
            "border": null,
            "bottom": null,
            "display": null,
            "flex": null,
            "flex_flow": null,
            "grid_area": null,
            "grid_auto_columns": null,
            "grid_auto_flow": null,
            "grid_auto_rows": null,
            "grid_column": null,
            "grid_gap": null,
            "grid_row": null,
            "grid_template_areas": null,
            "grid_template_columns": null,
            "grid_template_rows": null,
            "height": null,
            "justify_content": null,
            "justify_items": null,
            "left": null,
            "margin": null,
            "max_height": null,
            "max_width": null,
            "min_height": null,
            "min_width": null,
            "object_fit": null,
            "object_position": null,
            "order": null,
            "overflow": null,
            "overflow_x": null,
            "overflow_y": null,
            "padding": null,
            "right": null,
            "top": null,
            "visibility": null,
            "width": null
          }
        },
        "44e9db102a484f478fe2ea48373d3e24": {
          "model_module": "@jupyter-widgets/base",
          "model_name": "LayoutModel",
          "model_module_version": "1.2.0",
          "state": {
            "_model_module": "@jupyter-widgets/base",
            "_model_module_version": "1.2.0",
            "_model_name": "LayoutModel",
            "_view_count": null,
            "_view_module": "@jupyter-widgets/base",
            "_view_module_version": "1.2.0",
            "_view_name": "LayoutView",
            "align_content": null,
            "align_items": null,
            "align_self": null,
            "border": null,
            "bottom": null,
            "display": null,
            "flex": null,
            "flex_flow": null,
            "grid_area": null,
            "grid_auto_columns": null,
            "grid_auto_flow": null,
            "grid_auto_rows": null,
            "grid_column": null,
            "grid_gap": null,
            "grid_row": null,
            "grid_template_areas": null,
            "grid_template_columns": null,
            "grid_template_rows": null,
            "height": null,
            "justify_content": null,
            "justify_items": null,
            "left": null,
            "margin": null,
            "max_height": null,
            "max_width": null,
            "min_height": null,
            "min_width": null,
            "object_fit": null,
            "object_position": null,
            "order": null,
            "overflow": null,
            "overflow_x": null,
            "overflow_y": null,
            "padding": null,
            "right": null,
            "top": null,
            "visibility": null,
            "width": null
          }
        },
        "43a18b38a72e4fc4b8e210879a549a5f": {
          "model_module": "@jupyter-widgets/controls",
          "model_name": "DescriptionStyleModel",
          "model_module_version": "1.5.0",
          "state": {
            "_model_module": "@jupyter-widgets/controls",
            "_model_module_version": "1.5.0",
            "_model_name": "DescriptionStyleModel",
            "_view_count": null,
            "_view_module": "@jupyter-widgets/base",
            "_view_module_version": "1.2.0",
            "_view_name": "StyleView",
            "description_width": ""
          }
        },
        "c66ae2dd5fbd4d88b6efce7f723ad5e0": {
          "model_module": "@jupyter-widgets/base",
          "model_name": "LayoutModel",
          "model_module_version": "1.2.0",
          "state": {
            "_model_module": "@jupyter-widgets/base",
            "_model_module_version": "1.2.0",
            "_model_name": "LayoutModel",
            "_view_count": null,
            "_view_module": "@jupyter-widgets/base",
            "_view_module_version": "1.2.0",
            "_view_name": "LayoutView",
            "align_content": null,
            "align_items": null,
            "align_self": null,
            "border": null,
            "bottom": null,
            "display": null,
            "flex": null,
            "flex_flow": null,
            "grid_area": null,
            "grid_auto_columns": null,
            "grid_auto_flow": null,
            "grid_auto_rows": null,
            "grid_column": null,
            "grid_gap": null,
            "grid_row": null,
            "grid_template_areas": null,
            "grid_template_columns": null,
            "grid_template_rows": null,
            "height": null,
            "justify_content": null,
            "justify_items": null,
            "left": null,
            "margin": null,
            "max_height": null,
            "max_width": null,
            "min_height": null,
            "min_width": null,
            "object_fit": null,
            "object_position": null,
            "order": null,
            "overflow": null,
            "overflow_x": null,
            "overflow_y": null,
            "padding": null,
            "right": null,
            "top": null,
            "visibility": null,
            "width": null
          }
        },
        "65ee50e16fbe4089a815eebd623816e0": {
          "model_module": "@jupyter-widgets/controls",
          "model_name": "ProgressStyleModel",
          "model_module_version": "1.5.0",
          "state": {
            "_model_module": "@jupyter-widgets/controls",
            "_model_module_version": "1.5.0",
            "_model_name": "ProgressStyleModel",
            "_view_count": null,
            "_view_module": "@jupyter-widgets/base",
            "_view_module_version": "1.2.0",
            "_view_name": "StyleView",
            "bar_color": null,
            "description_width": ""
          }
        },
        "87c8dbd58edb4f33ad708c5963a7fc29": {
          "model_module": "@jupyter-widgets/controls",
          "model_name": "VBoxModel",
          "model_module_version": "1.5.0",
          "state": {
            "_dom_classes": [],
            "_model_module": "@jupyter-widgets/controls",
            "_model_module_version": "1.5.0",
            "_model_name": "VBoxModel",
            "_view_count": null,
            "_view_module": "@jupyter-widgets/controls",
            "_view_module_version": "1.5.0",
            "_view_name": "VBoxView",
            "box_style": "",
            "children": [
              "IPY_MODEL_900ba453164c440587dc7988c6294fe3",
              "IPY_MODEL_752b685ca22c4e8d87829bd52ad77881"
            ],
            "layout": "IPY_MODEL_843a7b77d4a44eae9f8ea849bef4561e"
          }
        },
        "900ba453164c440587dc7988c6294fe3": {
          "model_module": "@jupyter-widgets/controls",
          "model_name": "LabelModel",
          "model_module_version": "1.5.0",
          "state": {
            "_dom_classes": [],
            "_model_module": "@jupyter-widgets/controls",
            "_model_module_version": "1.5.0",
            "_model_name": "LabelModel",
            "_view_count": null,
            "_view_module": "@jupyter-widgets/controls",
            "_view_module_version": "1.5.0",
            "_view_name": "LabelView",
            "description": "",
            "description_tooltip": null,
            "layout": "IPY_MODEL_03bd0b54b04043d095291cb46a914ea9",
            "placeholder": "​",
            "style": "IPY_MODEL_480b87b7b643453bad37b29f05a59881",
            "value": "Waiting for wandb.init()...\r"
          }
        },
        "752b685ca22c4e8d87829bd52ad77881": {
          "model_module": "@jupyter-widgets/controls",
          "model_name": "FloatProgressModel",
          "model_module_version": "1.5.0",
          "state": {
            "_dom_classes": [],
            "_model_module": "@jupyter-widgets/controls",
            "_model_module_version": "1.5.0",
            "_model_name": "FloatProgressModel",
            "_view_count": null,
            "_view_module": "@jupyter-widgets/controls",
            "_view_module_version": "1.5.0",
            "_view_name": "ProgressView",
            "bar_style": "",
            "description": "",
            "description_tooltip": null,
            "layout": "IPY_MODEL_3dec286918244de2b8b64c0a25072b8e",
            "max": 1,
            "min": 0,
            "orientation": "horizontal",
            "style": "IPY_MODEL_f42e80454849490a8c10afab4029abdc",
            "value": 1
          }
        },
        "843a7b77d4a44eae9f8ea849bef4561e": {
          "model_module": "@jupyter-widgets/base",
          "model_name": "LayoutModel",
          "model_module_version": "1.2.0",
          "state": {
            "_model_module": "@jupyter-widgets/base",
            "_model_module_version": "1.2.0",
            "_model_name": "LayoutModel",
            "_view_count": null,
            "_view_module": "@jupyter-widgets/base",
            "_view_module_version": "1.2.0",
            "_view_name": "LayoutView",
            "align_content": null,
            "align_items": null,
            "align_self": null,
            "border": null,
            "bottom": null,
            "display": null,
            "flex": null,
            "flex_flow": null,
            "grid_area": null,
            "grid_auto_columns": null,
            "grid_auto_flow": null,
            "grid_auto_rows": null,
            "grid_column": null,
            "grid_gap": null,
            "grid_row": null,
            "grid_template_areas": null,
            "grid_template_columns": null,
            "grid_template_rows": null,
            "height": null,
            "justify_content": null,
            "justify_items": null,
            "left": null,
            "margin": null,
            "max_height": null,
            "max_width": null,
            "min_height": null,
            "min_width": null,
            "object_fit": null,
            "object_position": null,
            "order": null,
            "overflow": null,
            "overflow_x": null,
            "overflow_y": null,
            "padding": null,
            "right": null,
            "top": null,
            "visibility": null,
            "width": null
          }
        },
        "03bd0b54b04043d095291cb46a914ea9": {
          "model_module": "@jupyter-widgets/base",
          "model_name": "LayoutModel",
          "model_module_version": "1.2.0",
          "state": {
            "_model_module": "@jupyter-widgets/base",
            "_model_module_version": "1.2.0",
            "_model_name": "LayoutModel",
            "_view_count": null,
            "_view_module": "@jupyter-widgets/base",
            "_view_module_version": "1.2.0",
            "_view_name": "LayoutView",
            "align_content": null,
            "align_items": null,
            "align_self": null,
            "border": null,
            "bottom": null,
            "display": null,
            "flex": null,
            "flex_flow": null,
            "grid_area": null,
            "grid_auto_columns": null,
            "grid_auto_flow": null,
            "grid_auto_rows": null,
            "grid_column": null,
            "grid_gap": null,
            "grid_row": null,
            "grid_template_areas": null,
            "grid_template_columns": null,
            "grid_template_rows": null,
            "height": null,
            "justify_content": null,
            "justify_items": null,
            "left": null,
            "margin": null,
            "max_height": null,
            "max_width": null,
            "min_height": null,
            "min_width": null,
            "object_fit": null,
            "object_position": null,
            "order": null,
            "overflow": null,
            "overflow_x": null,
            "overflow_y": null,
            "padding": null,
            "right": null,
            "top": null,
            "visibility": null,
            "width": null
          }
        },
        "480b87b7b643453bad37b29f05a59881": {
          "model_module": "@jupyter-widgets/controls",
          "model_name": "DescriptionStyleModel",
          "model_module_version": "1.5.0",
          "state": {
            "_model_module": "@jupyter-widgets/controls",
            "_model_module_version": "1.5.0",
            "_model_name": "DescriptionStyleModel",
            "_view_count": null,
            "_view_module": "@jupyter-widgets/base",
            "_view_module_version": "1.2.0",
            "_view_name": "StyleView",
            "description_width": ""
          }
        },
        "3dec286918244de2b8b64c0a25072b8e": {
          "model_module": "@jupyter-widgets/base",
          "model_name": "LayoutModel",
          "model_module_version": "1.2.0",
          "state": {
            "_model_module": "@jupyter-widgets/base",
            "_model_module_version": "1.2.0",
            "_model_name": "LayoutModel",
            "_view_count": null,
            "_view_module": "@jupyter-widgets/base",
            "_view_module_version": "1.2.0",
            "_view_name": "LayoutView",
            "align_content": null,
            "align_items": null,
            "align_self": null,
            "border": null,
            "bottom": null,
            "display": null,
            "flex": null,
            "flex_flow": null,
            "grid_area": null,
            "grid_auto_columns": null,
            "grid_auto_flow": null,
            "grid_auto_rows": null,
            "grid_column": null,
            "grid_gap": null,
            "grid_row": null,
            "grid_template_areas": null,
            "grid_template_columns": null,
            "grid_template_rows": null,
            "height": null,
            "justify_content": null,
            "justify_items": null,
            "left": null,
            "margin": null,
            "max_height": null,
            "max_width": null,
            "min_height": null,
            "min_width": null,
            "object_fit": null,
            "object_position": null,
            "order": null,
            "overflow": null,
            "overflow_x": null,
            "overflow_y": null,
            "padding": null,
            "right": null,
            "top": null,
            "visibility": null,
            "width": null
          }
        },
        "f42e80454849490a8c10afab4029abdc": {
          "model_module": "@jupyter-widgets/controls",
          "model_name": "ProgressStyleModel",
          "model_module_version": "1.5.0",
          "state": {
            "_model_module": "@jupyter-widgets/controls",
            "_model_module_version": "1.5.0",
            "_model_name": "ProgressStyleModel",
            "_view_count": null,
            "_view_module": "@jupyter-widgets/base",
            "_view_module_version": "1.2.0",
            "_view_name": "StyleView",
            "bar_color": null,
            "description_width": ""
          }
        },
        "0e97271e2f524f75b1342e5f9d79157e": {
          "model_module": "@jupyter-widgets/controls",
          "model_name": "HBoxModel",
          "model_module_version": "1.5.0",
          "state": {
            "_dom_classes": [],
            "_model_module": "@jupyter-widgets/controls",
            "_model_module_version": "1.5.0",
            "_model_name": "HBoxModel",
            "_view_count": null,
            "_view_module": "@jupyter-widgets/controls",
            "_view_module_version": "1.5.0",
            "_view_name": "HBoxView",
            "box_style": "",
            "children": [
              "IPY_MODEL_b3b84e9e347346f4a726999fbccf98f9",
              "IPY_MODEL_ba3342b4870041768e990d434aa5adfd",
              "IPY_MODEL_b2327bd44d544c20bd1b2070835a8bf1"
            ],
            "layout": "IPY_MODEL_fc4fbaa7c4cb4578a0dbdcf51f19ffa1"
          }
        },
        "b3b84e9e347346f4a726999fbccf98f9": {
          "model_module": "@jupyter-widgets/controls",
          "model_name": "HTMLModel",
          "model_module_version": "1.5.0",
          "state": {
            "_dom_classes": [],
            "_model_module": "@jupyter-widgets/controls",
            "_model_module_version": "1.5.0",
            "_model_name": "HTMLModel",
            "_view_count": null,
            "_view_module": "@jupyter-widgets/controls",
            "_view_module_version": "1.5.0",
            "_view_name": "HTMLView",
            "description": "",
            "description_tooltip": null,
            "layout": "IPY_MODEL_e0c128fd1df9433b88fb416ddaee9d14",
            "placeholder": "​",
            "style": "IPY_MODEL_a2aa5e7b91764788a376d13bf9443693",
            "value": "Sanity Checking DataLoader 0: 100%"
          }
        },
        "ba3342b4870041768e990d434aa5adfd": {
          "model_module": "@jupyter-widgets/controls",
          "model_name": "FloatProgressModel",
          "model_module_version": "1.5.0",
          "state": {
            "_dom_classes": [],
            "_model_module": "@jupyter-widgets/controls",
            "_model_module_version": "1.5.0",
            "_model_name": "FloatProgressModel",
            "_view_count": null,
            "_view_module": "@jupyter-widgets/controls",
            "_view_module_version": "1.5.0",
            "_view_name": "ProgressView",
            "bar_style": "",
            "description": "",
            "description_tooltip": null,
            "layout": "IPY_MODEL_10c07f897e8f4d72b4351cabcc2b1bbd",
            "max": 2,
            "min": 0,
            "orientation": "horizontal",
            "style": "IPY_MODEL_061e64f0091746b4b09c0702c92b9758",
            "value": 2
          }
        },
        "b2327bd44d544c20bd1b2070835a8bf1": {
          "model_module": "@jupyter-widgets/controls",
          "model_name": "HTMLModel",
          "model_module_version": "1.5.0",
          "state": {
            "_dom_classes": [],
            "_model_module": "@jupyter-widgets/controls",
            "_model_module_version": "1.5.0",
            "_model_name": "HTMLModel",
            "_view_count": null,
            "_view_module": "@jupyter-widgets/controls",
            "_view_module_version": "1.5.0",
            "_view_name": "HTMLView",
            "description": "",
            "description_tooltip": null,
            "layout": "IPY_MODEL_feb9610f71514072a786b4518fa415cc",
            "placeholder": "​",
            "style": "IPY_MODEL_daea52be29984cb99cbb0a4b78f9c078",
            "value": " 2/2 [00:00&lt;00:00, 26.97it/s]"
          }
        },
        "fc4fbaa7c4cb4578a0dbdcf51f19ffa1": {
          "model_module": "@jupyter-widgets/base",
          "model_name": "LayoutModel",
          "model_module_version": "1.2.0",
          "state": {
            "_model_module": "@jupyter-widgets/base",
            "_model_module_version": "1.2.0",
            "_model_name": "LayoutModel",
            "_view_count": null,
            "_view_module": "@jupyter-widgets/base",
            "_view_module_version": "1.2.0",
            "_view_name": "LayoutView",
            "align_content": null,
            "align_items": null,
            "align_self": null,
            "border": null,
            "bottom": null,
            "display": "inline-flex",
            "flex": null,
            "flex_flow": "row wrap",
            "grid_area": null,
            "grid_auto_columns": null,
            "grid_auto_flow": null,
            "grid_auto_rows": null,
            "grid_column": null,
            "grid_gap": null,
            "grid_row": null,
            "grid_template_areas": null,
            "grid_template_columns": null,
            "grid_template_rows": null,
            "height": null,
            "justify_content": null,
            "justify_items": null,
            "left": null,
            "margin": null,
            "max_height": null,
            "max_width": null,
            "min_height": null,
            "min_width": null,
            "object_fit": null,
            "object_position": null,
            "order": null,
            "overflow": null,
            "overflow_x": null,
            "overflow_y": null,
            "padding": null,
            "right": null,
            "top": null,
            "visibility": "hidden",
            "width": "100%"
          }
        },
        "e0c128fd1df9433b88fb416ddaee9d14": {
          "model_module": "@jupyter-widgets/base",
          "model_name": "LayoutModel",
          "model_module_version": "1.2.0",
          "state": {
            "_model_module": "@jupyter-widgets/base",
            "_model_module_version": "1.2.0",
            "_model_name": "LayoutModel",
            "_view_count": null,
            "_view_module": "@jupyter-widgets/base",
            "_view_module_version": "1.2.0",
            "_view_name": "LayoutView",
            "align_content": null,
            "align_items": null,
            "align_self": null,
            "border": null,
            "bottom": null,
            "display": null,
            "flex": null,
            "flex_flow": null,
            "grid_area": null,
            "grid_auto_columns": null,
            "grid_auto_flow": null,
            "grid_auto_rows": null,
            "grid_column": null,
            "grid_gap": null,
            "grid_row": null,
            "grid_template_areas": null,
            "grid_template_columns": null,
            "grid_template_rows": null,
            "height": null,
            "justify_content": null,
            "justify_items": null,
            "left": null,
            "margin": null,
            "max_height": null,
            "max_width": null,
            "min_height": null,
            "min_width": null,
            "object_fit": null,
            "object_position": null,
            "order": null,
            "overflow": null,
            "overflow_x": null,
            "overflow_y": null,
            "padding": null,
            "right": null,
            "top": null,
            "visibility": null,
            "width": null
          }
        },
        "a2aa5e7b91764788a376d13bf9443693": {
          "model_module": "@jupyter-widgets/controls",
          "model_name": "DescriptionStyleModel",
          "model_module_version": "1.5.0",
          "state": {
            "_model_module": "@jupyter-widgets/controls",
            "_model_module_version": "1.5.0",
            "_model_name": "DescriptionStyleModel",
            "_view_count": null,
            "_view_module": "@jupyter-widgets/base",
            "_view_module_version": "1.2.0",
            "_view_name": "StyleView",
            "description_width": ""
          }
        },
        "10c07f897e8f4d72b4351cabcc2b1bbd": {
          "model_module": "@jupyter-widgets/base",
          "model_name": "LayoutModel",
          "model_module_version": "1.2.0",
          "state": {
            "_model_module": "@jupyter-widgets/base",
            "_model_module_version": "1.2.0",
            "_model_name": "LayoutModel",
            "_view_count": null,
            "_view_module": "@jupyter-widgets/base",
            "_view_module_version": "1.2.0",
            "_view_name": "LayoutView",
            "align_content": null,
            "align_items": null,
            "align_self": null,
            "border": null,
            "bottom": null,
            "display": null,
            "flex": "2",
            "flex_flow": null,
            "grid_area": null,
            "grid_auto_columns": null,
            "grid_auto_flow": null,
            "grid_auto_rows": null,
            "grid_column": null,
            "grid_gap": null,
            "grid_row": null,
            "grid_template_areas": null,
            "grid_template_columns": null,
            "grid_template_rows": null,
            "height": null,
            "justify_content": null,
            "justify_items": null,
            "left": null,
            "margin": null,
            "max_height": null,
            "max_width": null,
            "min_height": null,
            "min_width": null,
            "object_fit": null,
            "object_position": null,
            "order": null,
            "overflow": null,
            "overflow_x": null,
            "overflow_y": null,
            "padding": null,
            "right": null,
            "top": null,
            "visibility": null,
            "width": null
          }
        },
        "061e64f0091746b4b09c0702c92b9758": {
          "model_module": "@jupyter-widgets/controls",
          "model_name": "ProgressStyleModel",
          "model_module_version": "1.5.0",
          "state": {
            "_model_module": "@jupyter-widgets/controls",
            "_model_module_version": "1.5.0",
            "_model_name": "ProgressStyleModel",
            "_view_count": null,
            "_view_module": "@jupyter-widgets/base",
            "_view_module_version": "1.2.0",
            "_view_name": "StyleView",
            "bar_color": null,
            "description_width": ""
          }
        },
        "feb9610f71514072a786b4518fa415cc": {
          "model_module": "@jupyter-widgets/base",
          "model_name": "LayoutModel",
          "model_module_version": "1.2.0",
          "state": {
            "_model_module": "@jupyter-widgets/base",
            "_model_module_version": "1.2.0",
            "_model_name": "LayoutModel",
            "_view_count": null,
            "_view_module": "@jupyter-widgets/base",
            "_view_module_version": "1.2.0",
            "_view_name": "LayoutView",
            "align_content": null,
            "align_items": null,
            "align_self": null,
            "border": null,
            "bottom": null,
            "display": null,
            "flex": null,
            "flex_flow": null,
            "grid_area": null,
            "grid_auto_columns": null,
            "grid_auto_flow": null,
            "grid_auto_rows": null,
            "grid_column": null,
            "grid_gap": null,
            "grid_row": null,
            "grid_template_areas": null,
            "grid_template_columns": null,
            "grid_template_rows": null,
            "height": null,
            "justify_content": null,
            "justify_items": null,
            "left": null,
            "margin": null,
            "max_height": null,
            "max_width": null,
            "min_height": null,
            "min_width": null,
            "object_fit": null,
            "object_position": null,
            "order": null,
            "overflow": null,
            "overflow_x": null,
            "overflow_y": null,
            "padding": null,
            "right": null,
            "top": null,
            "visibility": null,
            "width": null
          }
        },
        "daea52be29984cb99cbb0a4b78f9c078": {
          "model_module": "@jupyter-widgets/controls",
          "model_name": "DescriptionStyleModel",
          "model_module_version": "1.5.0",
          "state": {
            "_model_module": "@jupyter-widgets/controls",
            "_model_module_version": "1.5.0",
            "_model_name": "DescriptionStyleModel",
            "_view_count": null,
            "_view_module": "@jupyter-widgets/base",
            "_view_module_version": "1.2.0",
            "_view_name": "StyleView",
            "description_width": ""
          }
        },
        "eb34b6c4dd194e52a063ee94da317fec": {
          "model_module": "@jupyter-widgets/controls",
          "model_name": "VBoxModel",
          "model_module_version": "1.5.0",
          "state": {
            "_dom_classes": [],
            "_model_module": "@jupyter-widgets/controls",
            "_model_module_version": "1.5.0",
            "_model_name": "VBoxModel",
            "_view_count": null,
            "_view_module": "@jupyter-widgets/controls",
            "_view_module_version": "1.5.0",
            "_view_name": "VBoxView",
            "box_style": "",
            "children": [
              "IPY_MODEL_aaee83b3b0bc40e19861a27d852549a6",
              "IPY_MODEL_8be941cbb750496290ef2891950deebd"
            ],
            "layout": "IPY_MODEL_f2f2cf71239a41ae80e87ee3a4464485"
          }
        },
        "aaee83b3b0bc40e19861a27d852549a6": {
          "model_module": "@jupyter-widgets/controls",
          "model_name": "LabelModel",
          "model_module_version": "1.5.0",
          "state": {
            "_dom_classes": [],
            "_model_module": "@jupyter-widgets/controls",
            "_model_module_version": "1.5.0",
            "_model_name": "LabelModel",
            "_view_count": null,
            "_view_module": "@jupyter-widgets/controls",
            "_view_module_version": "1.5.0",
            "_view_name": "LabelView",
            "description": "",
            "description_tooltip": null,
            "layout": "IPY_MODEL_e291b0b232bb4f0ab122f3d225166e68",
            "placeholder": "​",
            "style": "IPY_MODEL_1d63d9897372470e95151c93a434563d",
            "value": "0.012 MB of 0.012 MB uploaded\r"
          }
        },
        "8be941cbb750496290ef2891950deebd": {
          "model_module": "@jupyter-widgets/controls",
          "model_name": "FloatProgressModel",
          "model_module_version": "1.5.0",
          "state": {
            "_dom_classes": [],
            "_model_module": "@jupyter-widgets/controls",
            "_model_module_version": "1.5.0",
            "_model_name": "FloatProgressModel",
            "_view_count": null,
            "_view_module": "@jupyter-widgets/controls",
            "_view_module_version": "1.5.0",
            "_view_name": "ProgressView",
            "bar_style": "",
            "description": "",
            "description_tooltip": null,
            "layout": "IPY_MODEL_199dcef164844ac5a5b1c4cd750fc297",
            "max": 1,
            "min": 0,
            "orientation": "horizontal",
            "style": "IPY_MODEL_e29f8ad0b7b84d13b0db281bec40c7a9",
            "value": 1
          }
        },
        "f2f2cf71239a41ae80e87ee3a4464485": {
          "model_module": "@jupyter-widgets/base",
          "model_name": "LayoutModel",
          "model_module_version": "1.2.0",
          "state": {
            "_model_module": "@jupyter-widgets/base",
            "_model_module_version": "1.2.0",
            "_model_name": "LayoutModel",
            "_view_count": null,
            "_view_module": "@jupyter-widgets/base",
            "_view_module_version": "1.2.0",
            "_view_name": "LayoutView",
            "align_content": null,
            "align_items": null,
            "align_self": null,
            "border": null,
            "bottom": null,
            "display": null,
            "flex": null,
            "flex_flow": null,
            "grid_area": null,
            "grid_auto_columns": null,
            "grid_auto_flow": null,
            "grid_auto_rows": null,
            "grid_column": null,
            "grid_gap": null,
            "grid_row": null,
            "grid_template_areas": null,
            "grid_template_columns": null,
            "grid_template_rows": null,
            "height": null,
            "justify_content": null,
            "justify_items": null,
            "left": null,
            "margin": null,
            "max_height": null,
            "max_width": null,
            "min_height": null,
            "min_width": null,
            "object_fit": null,
            "object_position": null,
            "order": null,
            "overflow": null,
            "overflow_x": null,
            "overflow_y": null,
            "padding": null,
            "right": null,
            "top": null,
            "visibility": null,
            "width": null
          }
        },
        "e291b0b232bb4f0ab122f3d225166e68": {
          "model_module": "@jupyter-widgets/base",
          "model_name": "LayoutModel",
          "model_module_version": "1.2.0",
          "state": {
            "_model_module": "@jupyter-widgets/base",
            "_model_module_version": "1.2.0",
            "_model_name": "LayoutModel",
            "_view_count": null,
            "_view_module": "@jupyter-widgets/base",
            "_view_module_version": "1.2.0",
            "_view_name": "LayoutView",
            "align_content": null,
            "align_items": null,
            "align_self": null,
            "border": null,
            "bottom": null,
            "display": null,
            "flex": null,
            "flex_flow": null,
            "grid_area": null,
            "grid_auto_columns": null,
            "grid_auto_flow": null,
            "grid_auto_rows": null,
            "grid_column": null,
            "grid_gap": null,
            "grid_row": null,
            "grid_template_areas": null,
            "grid_template_columns": null,
            "grid_template_rows": null,
            "height": null,
            "justify_content": null,
            "justify_items": null,
            "left": null,
            "margin": null,
            "max_height": null,
            "max_width": null,
            "min_height": null,
            "min_width": null,
            "object_fit": null,
            "object_position": null,
            "order": null,
            "overflow": null,
            "overflow_x": null,
            "overflow_y": null,
            "padding": null,
            "right": null,
            "top": null,
            "visibility": null,
            "width": null
          }
        },
        "1d63d9897372470e95151c93a434563d": {
          "model_module": "@jupyter-widgets/controls",
          "model_name": "DescriptionStyleModel",
          "model_module_version": "1.5.0",
          "state": {
            "_model_module": "@jupyter-widgets/controls",
            "_model_module_version": "1.5.0",
            "_model_name": "DescriptionStyleModel",
            "_view_count": null,
            "_view_module": "@jupyter-widgets/base",
            "_view_module_version": "1.2.0",
            "_view_name": "StyleView",
            "description_width": ""
          }
        },
        "199dcef164844ac5a5b1c4cd750fc297": {
          "model_module": "@jupyter-widgets/base",
          "model_name": "LayoutModel",
          "model_module_version": "1.2.0",
          "state": {
            "_model_module": "@jupyter-widgets/base",
            "_model_module_version": "1.2.0",
            "_model_name": "LayoutModel",
            "_view_count": null,
            "_view_module": "@jupyter-widgets/base",
            "_view_module_version": "1.2.0",
            "_view_name": "LayoutView",
            "align_content": null,
            "align_items": null,
            "align_self": null,
            "border": null,
            "bottom": null,
            "display": null,
            "flex": null,
            "flex_flow": null,
            "grid_area": null,
            "grid_auto_columns": null,
            "grid_auto_flow": null,
            "grid_auto_rows": null,
            "grid_column": null,
            "grid_gap": null,
            "grid_row": null,
            "grid_template_areas": null,
            "grid_template_columns": null,
            "grid_template_rows": null,
            "height": null,
            "justify_content": null,
            "justify_items": null,
            "left": null,
            "margin": null,
            "max_height": null,
            "max_width": null,
            "min_height": null,
            "min_width": null,
            "object_fit": null,
            "object_position": null,
            "order": null,
            "overflow": null,
            "overflow_x": null,
            "overflow_y": null,
            "padding": null,
            "right": null,
            "top": null,
            "visibility": null,
            "width": null
          }
        },
        "e29f8ad0b7b84d13b0db281bec40c7a9": {
          "model_module": "@jupyter-widgets/controls",
          "model_name": "ProgressStyleModel",
          "model_module_version": "1.5.0",
          "state": {
            "_model_module": "@jupyter-widgets/controls",
            "_model_module_version": "1.5.0",
            "_model_name": "ProgressStyleModel",
            "_view_count": null,
            "_view_module": "@jupyter-widgets/base",
            "_view_module_version": "1.2.0",
            "_view_name": "StyleView",
            "bar_color": null,
            "description_width": ""
          }
        },
        "3216ce27740448ad8e1d09fc8a464bb2": {
          "model_module": "@jupyter-widgets/controls",
          "model_name": "HBoxModel",
          "model_module_version": "1.5.0",
          "state": {
            "_dom_classes": [],
            "_model_module": "@jupyter-widgets/controls",
            "_model_module_version": "1.5.0",
            "_model_name": "HBoxModel",
            "_view_count": null,
            "_view_module": "@jupyter-widgets/controls",
            "_view_module_version": "1.5.0",
            "_view_name": "HBoxView",
            "box_style": "",
            "children": [
              "IPY_MODEL_e5be871665824223964a0fa31d7aa85e",
              "IPY_MODEL_16cb8819bfdc4bb3b2baa55557be9593",
              "IPY_MODEL_9a25fde7169d45e3962f75487fe8c073"
            ],
            "layout": "IPY_MODEL_ed8f07867c144a4e80cf2d9b0deb00b1"
          }
        },
        "e5be871665824223964a0fa31d7aa85e": {
          "model_module": "@jupyter-widgets/controls",
          "model_name": "HTMLModel",
          "model_module_version": "1.5.0",
          "state": {
            "_dom_classes": [],
            "_model_module": "@jupyter-widgets/controls",
            "_model_module_version": "1.5.0",
            "_model_name": "HTMLModel",
            "_view_count": null,
            "_view_module": "@jupyter-widgets/controls",
            "_view_module_version": "1.5.0",
            "_view_name": "HTMLView",
            "description": "",
            "description_tooltip": null,
            "layout": "IPY_MODEL_8133d454950a42d7b1afca41ef2bfc48",
            "placeholder": "​",
            "style": "IPY_MODEL_2607ceed2f2d4d5e95722dd7ba5be0c9",
            "value": "Sanity Checking DataLoader 0: 100%"
          }
        },
        "16cb8819bfdc4bb3b2baa55557be9593": {
          "model_module": "@jupyter-widgets/controls",
          "model_name": "FloatProgressModel",
          "model_module_version": "1.5.0",
          "state": {
            "_dom_classes": [],
            "_model_module": "@jupyter-widgets/controls",
            "_model_module_version": "1.5.0",
            "_model_name": "FloatProgressModel",
            "_view_count": null,
            "_view_module": "@jupyter-widgets/controls",
            "_view_module_version": "1.5.0",
            "_view_name": "ProgressView",
            "bar_style": "",
            "description": "",
            "description_tooltip": null,
            "layout": "IPY_MODEL_512dde3219de4d33833ed9f36e1fe2fd",
            "max": 2,
            "min": 0,
            "orientation": "horizontal",
            "style": "IPY_MODEL_25b62d94877e4428ad3f4dabd7153a22",
            "value": 2
          }
        },
        "9a25fde7169d45e3962f75487fe8c073": {
          "model_module": "@jupyter-widgets/controls",
          "model_name": "HTMLModel",
          "model_module_version": "1.5.0",
          "state": {
            "_dom_classes": [],
            "_model_module": "@jupyter-widgets/controls",
            "_model_module_version": "1.5.0",
            "_model_name": "HTMLModel",
            "_view_count": null,
            "_view_module": "@jupyter-widgets/controls",
            "_view_module_version": "1.5.0",
            "_view_name": "HTMLView",
            "description": "",
            "description_tooltip": null,
            "layout": "IPY_MODEL_caeca83b9fad4909977ad3b1af871b8f",
            "placeholder": "​",
            "style": "IPY_MODEL_ba545336d0b04985ad1a161880e65f54",
            "value": " 2/2 [00:00&lt;00:00, 50.01it/s]"
          }
        },
        "ed8f07867c144a4e80cf2d9b0deb00b1": {
          "model_module": "@jupyter-widgets/base",
          "model_name": "LayoutModel",
          "model_module_version": "1.2.0",
          "state": {
            "_model_module": "@jupyter-widgets/base",
            "_model_module_version": "1.2.0",
            "_model_name": "LayoutModel",
            "_view_count": null,
            "_view_module": "@jupyter-widgets/base",
            "_view_module_version": "1.2.0",
            "_view_name": "LayoutView",
            "align_content": null,
            "align_items": null,
            "align_self": null,
            "border": null,
            "bottom": null,
            "display": "inline-flex",
            "flex": null,
            "flex_flow": "row wrap",
            "grid_area": null,
            "grid_auto_columns": null,
            "grid_auto_flow": null,
            "grid_auto_rows": null,
            "grid_column": null,
            "grid_gap": null,
            "grid_row": null,
            "grid_template_areas": null,
            "grid_template_columns": null,
            "grid_template_rows": null,
            "height": null,
            "justify_content": null,
            "justify_items": null,
            "left": null,
            "margin": null,
            "max_height": null,
            "max_width": null,
            "min_height": null,
            "min_width": null,
            "object_fit": null,
            "object_position": null,
            "order": null,
            "overflow": null,
            "overflow_x": null,
            "overflow_y": null,
            "padding": null,
            "right": null,
            "top": null,
            "visibility": "hidden",
            "width": "100%"
          }
        },
        "8133d454950a42d7b1afca41ef2bfc48": {
          "model_module": "@jupyter-widgets/base",
          "model_name": "LayoutModel",
          "model_module_version": "1.2.0",
          "state": {
            "_model_module": "@jupyter-widgets/base",
            "_model_module_version": "1.2.0",
            "_model_name": "LayoutModel",
            "_view_count": null,
            "_view_module": "@jupyter-widgets/base",
            "_view_module_version": "1.2.0",
            "_view_name": "LayoutView",
            "align_content": null,
            "align_items": null,
            "align_self": null,
            "border": null,
            "bottom": null,
            "display": null,
            "flex": null,
            "flex_flow": null,
            "grid_area": null,
            "grid_auto_columns": null,
            "grid_auto_flow": null,
            "grid_auto_rows": null,
            "grid_column": null,
            "grid_gap": null,
            "grid_row": null,
            "grid_template_areas": null,
            "grid_template_columns": null,
            "grid_template_rows": null,
            "height": null,
            "justify_content": null,
            "justify_items": null,
            "left": null,
            "margin": null,
            "max_height": null,
            "max_width": null,
            "min_height": null,
            "min_width": null,
            "object_fit": null,
            "object_position": null,
            "order": null,
            "overflow": null,
            "overflow_x": null,
            "overflow_y": null,
            "padding": null,
            "right": null,
            "top": null,
            "visibility": null,
            "width": null
          }
        },
        "2607ceed2f2d4d5e95722dd7ba5be0c9": {
          "model_module": "@jupyter-widgets/controls",
          "model_name": "DescriptionStyleModel",
          "model_module_version": "1.5.0",
          "state": {
            "_model_module": "@jupyter-widgets/controls",
            "_model_module_version": "1.5.0",
            "_model_name": "DescriptionStyleModel",
            "_view_count": null,
            "_view_module": "@jupyter-widgets/base",
            "_view_module_version": "1.2.0",
            "_view_name": "StyleView",
            "description_width": ""
          }
        },
        "512dde3219de4d33833ed9f36e1fe2fd": {
          "model_module": "@jupyter-widgets/base",
          "model_name": "LayoutModel",
          "model_module_version": "1.2.0",
          "state": {
            "_model_module": "@jupyter-widgets/base",
            "_model_module_version": "1.2.0",
            "_model_name": "LayoutModel",
            "_view_count": null,
            "_view_module": "@jupyter-widgets/base",
            "_view_module_version": "1.2.0",
            "_view_name": "LayoutView",
            "align_content": null,
            "align_items": null,
            "align_self": null,
            "border": null,
            "bottom": null,
            "display": null,
            "flex": "2",
            "flex_flow": null,
            "grid_area": null,
            "grid_auto_columns": null,
            "grid_auto_flow": null,
            "grid_auto_rows": null,
            "grid_column": null,
            "grid_gap": null,
            "grid_row": null,
            "grid_template_areas": null,
            "grid_template_columns": null,
            "grid_template_rows": null,
            "height": null,
            "justify_content": null,
            "justify_items": null,
            "left": null,
            "margin": null,
            "max_height": null,
            "max_width": null,
            "min_height": null,
            "min_width": null,
            "object_fit": null,
            "object_position": null,
            "order": null,
            "overflow": null,
            "overflow_x": null,
            "overflow_y": null,
            "padding": null,
            "right": null,
            "top": null,
            "visibility": null,
            "width": null
          }
        },
        "25b62d94877e4428ad3f4dabd7153a22": {
          "model_module": "@jupyter-widgets/controls",
          "model_name": "ProgressStyleModel",
          "model_module_version": "1.5.0",
          "state": {
            "_model_module": "@jupyter-widgets/controls",
            "_model_module_version": "1.5.0",
            "_model_name": "ProgressStyleModel",
            "_view_count": null,
            "_view_module": "@jupyter-widgets/base",
            "_view_module_version": "1.2.0",
            "_view_name": "StyleView",
            "bar_color": null,
            "description_width": ""
          }
        },
        "caeca83b9fad4909977ad3b1af871b8f": {
          "model_module": "@jupyter-widgets/base",
          "model_name": "LayoutModel",
          "model_module_version": "1.2.0",
          "state": {
            "_model_module": "@jupyter-widgets/base",
            "_model_module_version": "1.2.0",
            "_model_name": "LayoutModel",
            "_view_count": null,
            "_view_module": "@jupyter-widgets/base",
            "_view_module_version": "1.2.0",
            "_view_name": "LayoutView",
            "align_content": null,
            "align_items": null,
            "align_self": null,
            "border": null,
            "bottom": null,
            "display": null,
            "flex": null,
            "flex_flow": null,
            "grid_area": null,
            "grid_auto_columns": null,
            "grid_auto_flow": null,
            "grid_auto_rows": null,
            "grid_column": null,
            "grid_gap": null,
            "grid_row": null,
            "grid_template_areas": null,
            "grid_template_columns": null,
            "grid_template_rows": null,
            "height": null,
            "justify_content": null,
            "justify_items": null,
            "left": null,
            "margin": null,
            "max_height": null,
            "max_width": null,
            "min_height": null,
            "min_width": null,
            "object_fit": null,
            "object_position": null,
            "order": null,
            "overflow": null,
            "overflow_x": null,
            "overflow_y": null,
            "padding": null,
            "right": null,
            "top": null,
            "visibility": null,
            "width": null
          }
        },
        "ba545336d0b04985ad1a161880e65f54": {
          "model_module": "@jupyter-widgets/controls",
          "model_name": "DescriptionStyleModel",
          "model_module_version": "1.5.0",
          "state": {
            "_model_module": "@jupyter-widgets/controls",
            "_model_module_version": "1.5.0",
            "_model_name": "DescriptionStyleModel",
            "_view_count": null,
            "_view_module": "@jupyter-widgets/base",
            "_view_module_version": "1.2.0",
            "_view_name": "StyleView",
            "description_width": ""
          }
        },
        "ee36048bf6f84060bcb131acd7461349": {
          "model_module": "@jupyter-widgets/controls",
          "model_name": "VBoxModel",
          "model_module_version": "1.5.0",
          "state": {
            "_dom_classes": [],
            "_model_module": "@jupyter-widgets/controls",
            "_model_module_version": "1.5.0",
            "_model_name": "VBoxModel",
            "_view_count": null,
            "_view_module": "@jupyter-widgets/controls",
            "_view_module_version": "1.5.0",
            "_view_name": "VBoxView",
            "box_style": "",
            "children": [
              "IPY_MODEL_157ad9a13a8e4c9eb31a36f902ca80d4",
              "IPY_MODEL_108000ef559c4bfd9db57db79c13dbab"
            ],
            "layout": "IPY_MODEL_46ee0b99ec03433280e59b534ae2e797"
          }
        },
        "157ad9a13a8e4c9eb31a36f902ca80d4": {
          "model_module": "@jupyter-widgets/controls",
          "model_name": "LabelModel",
          "model_module_version": "1.5.0",
          "state": {
            "_dom_classes": [],
            "_model_module": "@jupyter-widgets/controls",
            "_model_module_version": "1.5.0",
            "_model_name": "LabelModel",
            "_view_count": null,
            "_view_module": "@jupyter-widgets/controls",
            "_view_module_version": "1.5.0",
            "_view_name": "LabelView",
            "description": "",
            "description_tooltip": null,
            "layout": "IPY_MODEL_289f0bc72b964a32bdde5272689dd54a",
            "placeholder": "​",
            "style": "IPY_MODEL_aa2d61e28cf0481b9ba2844e93b71862",
            "value": "0.012 MB of 0.012 MB uploaded\r"
          }
        },
        "108000ef559c4bfd9db57db79c13dbab": {
          "model_module": "@jupyter-widgets/controls",
          "model_name": "FloatProgressModel",
          "model_module_version": "1.5.0",
          "state": {
            "_dom_classes": [],
            "_model_module": "@jupyter-widgets/controls",
            "_model_module_version": "1.5.0",
            "_model_name": "FloatProgressModel",
            "_view_count": null,
            "_view_module": "@jupyter-widgets/controls",
            "_view_module_version": "1.5.0",
            "_view_name": "ProgressView",
            "bar_style": "",
            "description": "",
            "description_tooltip": null,
            "layout": "IPY_MODEL_65100a4fcd1d49d6b5b2d771ebd3578d",
            "max": 1,
            "min": 0,
            "orientation": "horizontal",
            "style": "IPY_MODEL_64a5989c74c04b50b81e82acc049890c",
            "value": 1
          }
        },
        "46ee0b99ec03433280e59b534ae2e797": {
          "model_module": "@jupyter-widgets/base",
          "model_name": "LayoutModel",
          "model_module_version": "1.2.0",
          "state": {
            "_model_module": "@jupyter-widgets/base",
            "_model_module_version": "1.2.0",
            "_model_name": "LayoutModel",
            "_view_count": null,
            "_view_module": "@jupyter-widgets/base",
            "_view_module_version": "1.2.0",
            "_view_name": "LayoutView",
            "align_content": null,
            "align_items": null,
            "align_self": null,
            "border": null,
            "bottom": null,
            "display": null,
            "flex": null,
            "flex_flow": null,
            "grid_area": null,
            "grid_auto_columns": null,
            "grid_auto_flow": null,
            "grid_auto_rows": null,
            "grid_column": null,
            "grid_gap": null,
            "grid_row": null,
            "grid_template_areas": null,
            "grid_template_columns": null,
            "grid_template_rows": null,
            "height": null,
            "justify_content": null,
            "justify_items": null,
            "left": null,
            "margin": null,
            "max_height": null,
            "max_width": null,
            "min_height": null,
            "min_width": null,
            "object_fit": null,
            "object_position": null,
            "order": null,
            "overflow": null,
            "overflow_x": null,
            "overflow_y": null,
            "padding": null,
            "right": null,
            "top": null,
            "visibility": null,
            "width": null
          }
        },
        "289f0bc72b964a32bdde5272689dd54a": {
          "model_module": "@jupyter-widgets/base",
          "model_name": "LayoutModel",
          "model_module_version": "1.2.0",
          "state": {
            "_model_module": "@jupyter-widgets/base",
            "_model_module_version": "1.2.0",
            "_model_name": "LayoutModel",
            "_view_count": null,
            "_view_module": "@jupyter-widgets/base",
            "_view_module_version": "1.2.0",
            "_view_name": "LayoutView",
            "align_content": null,
            "align_items": null,
            "align_self": null,
            "border": null,
            "bottom": null,
            "display": null,
            "flex": null,
            "flex_flow": null,
            "grid_area": null,
            "grid_auto_columns": null,
            "grid_auto_flow": null,
            "grid_auto_rows": null,
            "grid_column": null,
            "grid_gap": null,
            "grid_row": null,
            "grid_template_areas": null,
            "grid_template_columns": null,
            "grid_template_rows": null,
            "height": null,
            "justify_content": null,
            "justify_items": null,
            "left": null,
            "margin": null,
            "max_height": null,
            "max_width": null,
            "min_height": null,
            "min_width": null,
            "object_fit": null,
            "object_position": null,
            "order": null,
            "overflow": null,
            "overflow_x": null,
            "overflow_y": null,
            "padding": null,
            "right": null,
            "top": null,
            "visibility": null,
            "width": null
          }
        },
        "aa2d61e28cf0481b9ba2844e93b71862": {
          "model_module": "@jupyter-widgets/controls",
          "model_name": "DescriptionStyleModel",
          "model_module_version": "1.5.0",
          "state": {
            "_model_module": "@jupyter-widgets/controls",
            "_model_module_version": "1.5.0",
            "_model_name": "DescriptionStyleModel",
            "_view_count": null,
            "_view_module": "@jupyter-widgets/base",
            "_view_module_version": "1.2.0",
            "_view_name": "StyleView",
            "description_width": ""
          }
        },
        "65100a4fcd1d49d6b5b2d771ebd3578d": {
          "model_module": "@jupyter-widgets/base",
          "model_name": "LayoutModel",
          "model_module_version": "1.2.0",
          "state": {
            "_model_module": "@jupyter-widgets/base",
            "_model_module_version": "1.2.0",
            "_model_name": "LayoutModel",
            "_view_count": null,
            "_view_module": "@jupyter-widgets/base",
            "_view_module_version": "1.2.0",
            "_view_name": "LayoutView",
            "align_content": null,
            "align_items": null,
            "align_self": null,
            "border": null,
            "bottom": null,
            "display": null,
            "flex": null,
            "flex_flow": null,
            "grid_area": null,
            "grid_auto_columns": null,
            "grid_auto_flow": null,
            "grid_auto_rows": null,
            "grid_column": null,
            "grid_gap": null,
            "grid_row": null,
            "grid_template_areas": null,
            "grid_template_columns": null,
            "grid_template_rows": null,
            "height": null,
            "justify_content": null,
            "justify_items": null,
            "left": null,
            "margin": null,
            "max_height": null,
            "max_width": null,
            "min_height": null,
            "min_width": null,
            "object_fit": null,
            "object_position": null,
            "order": null,
            "overflow": null,
            "overflow_x": null,
            "overflow_y": null,
            "padding": null,
            "right": null,
            "top": null,
            "visibility": null,
            "width": null
          }
        },
        "64a5989c74c04b50b81e82acc049890c": {
          "model_module": "@jupyter-widgets/controls",
          "model_name": "ProgressStyleModel",
          "model_module_version": "1.5.0",
          "state": {
            "_model_module": "@jupyter-widgets/controls",
            "_model_module_version": "1.5.0",
            "_model_name": "ProgressStyleModel",
            "_view_count": null,
            "_view_module": "@jupyter-widgets/base",
            "_view_module_version": "1.2.0",
            "_view_name": "StyleView",
            "bar_color": null,
            "description_width": ""
          }
        }
      }
    }
  },
  "nbformat": 4,
  "nbformat_minor": 5
}